{
  "cells": [
    {
      "cell_type": "markdown",
      "source": [
        "# Automated ML\n",
        "\n",
        "TODO: Import Dependencies. In the cell below, import all the dependencies that you will need to complete the project."
      ],
      "metadata": {}
    },
    {
      "cell_type": "code",
      "source": [
        "import logging\n",
        "import os\n",
        "import csv\n",
        "import joblib \n",
        "\n",
        "from matplotlib import pyplot as plt\n",
        "import numpy as np\n",
        "import pandas as pd\n",
        "from azureml.data.datapath import DataPath\n",
        "from sklearn import datasets\n",
        "import pkg_resources\n",
        "\n",
        "import azureml.core\n",
        "from azureml.core.experiment import Experiment\n",
        "from azureml.core.workspace import Workspace\n",
        "from azureml.train.automl import AutoMLConfig\n",
        "from azureml.core.dataset import Dataset\n",
        "from azureml.data.dataset_factory import TabularDatasetFactory\n",
        "from sklearn.model_selection import train_test_split\n",
        "from azureml.pipeline.steps import AutoMLStep\n",
        "from azureml.widgets import RunDetails\n",
        "\n",
        "# Check core SDK version number\n",
        "print(\"SDK version:\", azureml.core.VERSION)"
      ],
      "outputs": [
        {
          "output_type": "stream",
          "name": "stdout",
          "text": [
            "SDK version: 1.20.0\n"
          ]
        }
      ],
      "execution_count": 1,
      "metadata": {
        "gather": {
          "logged": 1613667993547
        },
        "jupyter": {
          "outputs_hidden": false,
          "source_hidden": false
        },
        "nteract": {
          "transient": {
            "deleting": false
          }
        }
      }
    },
    {
      "cell_type": "code",
      "source": [
        "#import pandas as pd\n",
        "#import numpy as np\n",
        "\n",
        "#https://github.com/Azure/MachineLearningNotebooks/blob/master/how-to-use-azureml/automated-machine-learning/classification-bank-marketing-all-features/auto-ml-classification-bank-marketing-all-features.ipynb"
      ],
      "outputs": [],
      "execution_count": 2,
      "metadata": {
        "gather": {
          "logged": 1613667994599
        }
      }
    },
    {
      "cell_type": "markdown",
      "source": [
        "## Dataset\n",
        "\n",
        "### Overview\n",
        "TODO: In this markdown cell, give an overview of the dataset you are using. Also mention the task you will be performing.\n",
        "\n",
        "In the Automated ML run a classification task ............ is done using the .........dataset.\n",
        "\n",
        "\n",
        "TODO: Get data. In the cell below, write code to access the data you will be using in this project. Remember that the dataset needs to be external."
      ],
      "metadata": {}
    },
    {
      "cell_type": "code",
      "source": [
        "ws = Workspace.from_config()\n",
        "print(ws.name, ws.resource_group, ws.location, ws.subscription_id, sep = '\\n')\n",
        "\n",
        "# choose a name for experiment\n",
        "experiment_name = 'capstone-automl-exp'\n",
        "project_folder = './pipeline-project'  #kann vielleicht entfallen\n",
        "\n",
        "experiment=Experiment(ws, experiment_name)\n",
        "experiment"
      ],
      "outputs": [
        {
          "output_type": "stream",
          "name": "stdout",
          "text": [
            "Performing interactive authentication. Please follow the instructions on the terminal.\n",
            "To sign in, use a web browser to open the page https://microsoft.com/devicelogin and enter the code AU2VUGVT6 to authenticate.\n",
            "You have logged in. Now let us find all the subscriptions to which you have access...\n",
            "Interactive authentication successfully completed.\n",
            "quick-starts-ws-139132\n",
            "aml-quickstarts-139132\n",
            "southcentralus\n",
            "3d1a56d2-7c81-4118-9790-f85d1acf0c77\n"
          ]
        },
        {
          "output_type": "execute_result",
          "execution_count": 3,
          "data": {
            "text/plain": "Experiment(Name: capstone-automl-exp,\nWorkspace: quick-starts-ws-139132)",
            "text/html": "<table style=\"width:100%\"><tr><th>Name</th><th>Workspace</th><th>Report Page</th><th>Docs Page</th></tr><tr><td>capstone-automl-exp</td><td>quick-starts-ws-139132</td><td><a href=\"https://ml.azure.com/experiments/capstone-automl-exp?wsid=/subscriptions/3d1a56d2-7c81-4118-9790-f85d1acf0c77/resourcegroups/aml-quickstarts-139132/workspaces/quick-starts-ws-139132\" target=\"_blank\" rel=\"noopener\">Link to Azure Machine Learning studio</a></td><td><a href=\"https://docs.microsoft.com/en-us/python/api/azureml-core/azureml.core.experiment.Experiment?view=azure-ml-py\" target=\"_blank\" rel=\"noopener\">Link to Documentation</a></td></tr></table>"
          },
          "metadata": {}
        }
      ],
      "execution_count": 3,
      "metadata": {
        "gather": {
          "logged": 1613668046078
        },
        "jupyter": {
          "outputs_hidden": false,
          "source_hidden": false
        },
        "nteract": {
          "transient": {
            "deleting": false
          }
        }
      }
    },
    {
      "cell_type": "markdown",
      "source": [
        "Create compute cluster"
      ],
      "metadata": {}
    },
    {
      "cell_type": "code",
      "source": [
        "from azureml.core.compute import AmlCompute\n",
        "from azureml.core.compute import ComputeTarget\n",
        "from azureml.core.compute_target import ComputeTargetException\n",
        "\n",
        "amlcompute_cluster_name = \"cluster-automl\"\n",
        "\n",
        "try:\n",
        "    compute_target = ComputeTarget(workspace=ws, name=amlcompute_cluster_name)\n",
        "    print('Found existing cluster, use it.')\n",
        "except ComputeTargetException:\n",
        "    compute_config = AmlCompute.provisioning_configuration(vm_size='STANDARD_D2_V2',# for GPU, use \"STANDARD_NC6\"\n",
        "                                                           #vm_priority = 'lowpriority', # optional\n",
        "                                                           max_nodes=4,\n",
        "                                                           min_nodes=1)\n",
        "    compute_target = ComputeTarget.create(ws, amlcompute_cluster_name, compute_config)\n",
        "\n",
        "compute_target.wait_for_completion(show_output=True, min_node_count = 1, timeout_in_minutes = 5) #timeout_in_minutes = 10"
      ],
      "outputs": [
        {
          "output_type": "stream",
          "name": "stdout",
          "text": [
            "Creating\n",
            "Succeeded......................\n",
            "AmlCompute wait for completion finished\n",
            "\n",
            "Minimum number of nodes requested have been provisioned\n"
          ]
        }
      ],
      "execution_count": 4,
      "metadata": {
        "gather": {
          "logged": 1613668186480
        }
      }
    },
    {
      "cell_type": "markdown",
      "source": [
        "Embed the dataset"
      ],
      "metadata": {}
    },
    {
      "cell_type": "code",
      "source": [
        "found = False\n",
        "key = \"heart-db\" #rename->chose dataset\n",
        "description_text = \"Kaggle heard data database\" #rename\n",
        "\n",
        "if key in ws.datasets.keys(): \n",
        "        found = True\n",
        "        dataset = ws.datasets[key] \n",
        "        #print(\"found!\")\n",
        "\n",
        "if not found: \n",
        "        # Create AML Dataset and register it into Workspace\n",
        "        #print(\"not found!\") #\n",
        "        example_data = 'https://raw.githubusercontent.com/Daniel-car1/nd00333-capstone/main/heart.csv'  \n",
        "        dataset = Dataset.Tabular.from_delimited_files(example_data, header=True)        \n",
        "        #Register Dataset in Workspace\n",
        "        dataset = dataset.register(workspace=ws,\n",
        "                                   name=key,\n",
        "                                   description=description_text)\n",
        "\n",
        "\n",
        "df = dataset.to_pandas_dataframe()\n",
        "df.describe()"
      ],
      "outputs": [
        {
          "output_type": "execute_result",
          "execution_count": 5,
          "data": {
            "text/plain": "              age         sex          cp    trestbps        chol         fbs  \\\ncount  303.000000  303.000000  303.000000  303.000000  303.000000  303.000000   \nmean    54.366337    0.683168    0.966997  131.623762  246.264026    0.148515   \nstd      9.082101    0.466011    1.032052   17.538143   51.830751    0.356198   \nmin     29.000000    0.000000    0.000000   94.000000  126.000000    0.000000   \n25%     47.500000    0.000000    0.000000  120.000000  211.000000    0.000000   \n50%     55.000000    1.000000    1.000000  130.000000  240.000000    0.000000   \n75%     61.000000    1.000000    2.000000  140.000000  274.500000    0.000000   \nmax     77.000000    1.000000    3.000000  200.000000  564.000000    1.000000   \n\n          restecg     thalach       exang     oldpeak       slope          ca  \\\ncount  303.000000  303.000000  303.000000  303.000000  303.000000  303.000000   \nmean     0.528053  149.646865    0.326733    1.039604    1.399340    0.729373   \nstd      0.525860   22.905161    0.469794    1.161075    0.616226    1.022606   \nmin      0.000000   71.000000    0.000000    0.000000    0.000000    0.000000   \n25%      0.000000  133.500000    0.000000    0.000000    1.000000    0.000000   \n50%      1.000000  153.000000    0.000000    0.800000    1.000000    0.000000   \n75%      1.000000  166.000000    1.000000    1.600000    2.000000    1.000000   \nmax      2.000000  202.000000    1.000000    6.200000    2.000000    4.000000   \n\n             thal      target  \ncount  303.000000  303.000000  \nmean     2.313531    0.544554  \nstd      0.612277    0.498835  \nmin      0.000000    0.000000  \n25%      2.000000    0.000000  \n50%      2.000000    1.000000  \n75%      3.000000    1.000000  \nmax      3.000000    1.000000  ",
            "text/html": "<div>\n<style scoped>\n    .dataframe tbody tr th:only-of-type {\n        vertical-align: middle;\n    }\n\n    .dataframe tbody tr th {\n        vertical-align: top;\n    }\n\n    .dataframe thead th {\n        text-align: right;\n    }\n</style>\n<table border=\"1\" class=\"dataframe\">\n  <thead>\n    <tr style=\"text-align: right;\">\n      <th></th>\n      <th>age</th>\n      <th>sex</th>\n      <th>cp</th>\n      <th>trestbps</th>\n      <th>chol</th>\n      <th>fbs</th>\n      <th>restecg</th>\n      <th>thalach</th>\n      <th>exang</th>\n      <th>oldpeak</th>\n      <th>slope</th>\n      <th>ca</th>\n      <th>thal</th>\n      <th>target</th>\n    </tr>\n  </thead>\n  <tbody>\n    <tr>\n      <th>count</th>\n      <td>303.000000</td>\n      <td>303.000000</td>\n      <td>303.000000</td>\n      <td>303.000000</td>\n      <td>303.000000</td>\n      <td>303.000000</td>\n      <td>303.000000</td>\n      <td>303.000000</td>\n      <td>303.000000</td>\n      <td>303.000000</td>\n      <td>303.000000</td>\n      <td>303.000000</td>\n      <td>303.000000</td>\n      <td>303.000000</td>\n    </tr>\n    <tr>\n      <th>mean</th>\n      <td>54.366337</td>\n      <td>0.683168</td>\n      <td>0.966997</td>\n      <td>131.623762</td>\n      <td>246.264026</td>\n      <td>0.148515</td>\n      <td>0.528053</td>\n      <td>149.646865</td>\n      <td>0.326733</td>\n      <td>1.039604</td>\n      <td>1.399340</td>\n      <td>0.729373</td>\n      <td>2.313531</td>\n      <td>0.544554</td>\n    </tr>\n    <tr>\n      <th>std</th>\n      <td>9.082101</td>\n      <td>0.466011</td>\n      <td>1.032052</td>\n      <td>17.538143</td>\n      <td>51.830751</td>\n      <td>0.356198</td>\n      <td>0.525860</td>\n      <td>22.905161</td>\n      <td>0.469794</td>\n      <td>1.161075</td>\n      <td>0.616226</td>\n      <td>1.022606</td>\n      <td>0.612277</td>\n      <td>0.498835</td>\n    </tr>\n    <tr>\n      <th>min</th>\n      <td>29.000000</td>\n      <td>0.000000</td>\n      <td>0.000000</td>\n      <td>94.000000</td>\n      <td>126.000000</td>\n      <td>0.000000</td>\n      <td>0.000000</td>\n      <td>71.000000</td>\n      <td>0.000000</td>\n      <td>0.000000</td>\n      <td>0.000000</td>\n      <td>0.000000</td>\n      <td>0.000000</td>\n      <td>0.000000</td>\n    </tr>\n    <tr>\n      <th>25%</th>\n      <td>47.500000</td>\n      <td>0.000000</td>\n      <td>0.000000</td>\n      <td>120.000000</td>\n      <td>211.000000</td>\n      <td>0.000000</td>\n      <td>0.000000</td>\n      <td>133.500000</td>\n      <td>0.000000</td>\n      <td>0.000000</td>\n      <td>1.000000</td>\n      <td>0.000000</td>\n      <td>2.000000</td>\n      <td>0.000000</td>\n    </tr>\n    <tr>\n      <th>50%</th>\n      <td>55.000000</td>\n      <td>1.000000</td>\n      <td>1.000000</td>\n      <td>130.000000</td>\n      <td>240.000000</td>\n      <td>0.000000</td>\n      <td>1.000000</td>\n      <td>153.000000</td>\n      <td>0.000000</td>\n      <td>0.800000</td>\n      <td>1.000000</td>\n      <td>0.000000</td>\n      <td>2.000000</td>\n      <td>1.000000</td>\n    </tr>\n    <tr>\n      <th>75%</th>\n      <td>61.000000</td>\n      <td>1.000000</td>\n      <td>2.000000</td>\n      <td>140.000000</td>\n      <td>274.500000</td>\n      <td>0.000000</td>\n      <td>1.000000</td>\n      <td>166.000000</td>\n      <td>1.000000</td>\n      <td>1.600000</td>\n      <td>2.000000</td>\n      <td>1.000000</td>\n      <td>3.000000</td>\n      <td>1.000000</td>\n    </tr>\n    <tr>\n      <th>max</th>\n      <td>77.000000</td>\n      <td>1.000000</td>\n      <td>3.000000</td>\n      <td>200.000000</td>\n      <td>564.000000</td>\n      <td>1.000000</td>\n      <td>2.000000</td>\n      <td>202.000000</td>\n      <td>1.000000</td>\n      <td>6.200000</td>\n      <td>2.000000</td>\n      <td>4.000000</td>\n      <td>3.000000</td>\n      <td>1.000000</td>\n    </tr>\n  </tbody>\n</table>\n</div>"
          },
          "metadata": {}
        }
      ],
      "execution_count": 5,
      "metadata": {
        "gather": {
          "logged": 1613668194694
        }
      }
    },
    {
      "cell_type": "code",
      "source": [
        "dataset.take(5).to_pandas_dataframe()"
      ],
      "outputs": [
        {
          "output_type": "execute_result",
          "execution_count": 6,
          "data": {
            "text/plain": "   age  sex  cp  trestbps  chol  fbs  restecg  thalach  exang  oldpeak  slope  \\\n0   63    1   3       145   233    1        0      150      0      2.3      0   \n1   37    1   2       130   250    0        1      187      0      3.5      0   \n2   41    0   1       130   204    0        0      172      0      1.4      2   \n3   56    1   1       120   236    0        1      178      0      0.8      2   \n4   57    0   0       120   354    0        1      163      1      0.6      2   \n\n   ca  thal  target  \n0   0     1       1  \n1   0     2       1  \n2   0     2       1  \n3   0     2       1  \n4   0     2       1  ",
            "text/html": "<div>\n<style scoped>\n    .dataframe tbody tr th:only-of-type {\n        vertical-align: middle;\n    }\n\n    .dataframe tbody tr th {\n        vertical-align: top;\n    }\n\n    .dataframe thead th {\n        text-align: right;\n    }\n</style>\n<table border=\"1\" class=\"dataframe\">\n  <thead>\n    <tr style=\"text-align: right;\">\n      <th></th>\n      <th>age</th>\n      <th>sex</th>\n      <th>cp</th>\n      <th>trestbps</th>\n      <th>chol</th>\n      <th>fbs</th>\n      <th>restecg</th>\n      <th>thalach</th>\n      <th>exang</th>\n      <th>oldpeak</th>\n      <th>slope</th>\n      <th>ca</th>\n      <th>thal</th>\n      <th>target</th>\n    </tr>\n  </thead>\n  <tbody>\n    <tr>\n      <th>0</th>\n      <td>63</td>\n      <td>1</td>\n      <td>3</td>\n      <td>145</td>\n      <td>233</td>\n      <td>1</td>\n      <td>0</td>\n      <td>150</td>\n      <td>0</td>\n      <td>2.3</td>\n      <td>0</td>\n      <td>0</td>\n      <td>1</td>\n      <td>1</td>\n    </tr>\n    <tr>\n      <th>1</th>\n      <td>37</td>\n      <td>1</td>\n      <td>2</td>\n      <td>130</td>\n      <td>250</td>\n      <td>0</td>\n      <td>1</td>\n      <td>187</td>\n      <td>0</td>\n      <td>3.5</td>\n      <td>0</td>\n      <td>0</td>\n      <td>2</td>\n      <td>1</td>\n    </tr>\n    <tr>\n      <th>2</th>\n      <td>41</td>\n      <td>0</td>\n      <td>1</td>\n      <td>130</td>\n      <td>204</td>\n      <td>0</td>\n      <td>0</td>\n      <td>172</td>\n      <td>0</td>\n      <td>1.4</td>\n      <td>2</td>\n      <td>0</td>\n      <td>2</td>\n      <td>1</td>\n    </tr>\n    <tr>\n      <th>3</th>\n      <td>56</td>\n      <td>1</td>\n      <td>1</td>\n      <td>120</td>\n      <td>236</td>\n      <td>0</td>\n      <td>1</td>\n      <td>178</td>\n      <td>0</td>\n      <td>0.8</td>\n      <td>2</td>\n      <td>0</td>\n      <td>2</td>\n      <td>1</td>\n    </tr>\n    <tr>\n      <th>4</th>\n      <td>57</td>\n      <td>0</td>\n      <td>0</td>\n      <td>120</td>\n      <td>354</td>\n      <td>0</td>\n      <td>1</td>\n      <td>163</td>\n      <td>1</td>\n      <td>0.6</td>\n      <td>2</td>\n      <td>0</td>\n      <td>2</td>\n      <td>1</td>\n    </tr>\n  </tbody>\n</table>\n</div>"
          },
          "metadata": {}
        }
      ],
      "execution_count": 6,
      "metadata": {
        "gather": {
          "logged": 1613668195203
        }
      }
    },
    {
      "cell_type": "code",
      "source": [
        "train, test = train_test_split(df, test_size=0.2, random_state=1 )"
      ],
      "outputs": [],
      "execution_count": 7,
      "metadata": {
        "gather": {
          "logged": 1613668195529
        }
      }
    },
    {
      "cell_type": "code",
      "source": [
        "if \"training\" not in os.listdir():\n",
        "    os.mkdir(\"./training\")\n",
        "\n",
        "if \"models\" not in os.listdir():\n",
        "    os.mkdir(\"./models\")\n",
        "if \"outputs\" not in os.listdir():\n",
        "    os.mkdir(\"./outputs\")\n",
        "\n",
        "train.to_csv(\"training/train_data.csv\", index = False)"
      ],
      "outputs": [],
      "execution_count": 8,
      "metadata": {
        "gather": {
          "logged": 1613668195970
        }
      }
    },
    {
      "cell_type": "code",
      "source": [
        "data_store = ws.get_default_datastore()\n",
        "data_store.upload(src_dir = \"./training\", target_path = 'udacity-project', overwrite = True,  show_progress = True)"
      ],
      "outputs": [
        {
          "output_type": "stream",
          "name": "stdout",
          "text": [
            "Uploading an estimated of 1 files\n",
            "Uploading ./training/train_data.csv\n",
            "Uploaded ./training/train_data.csv, 1 files out of an estimated total of 1\n",
            "Uploaded 1 files\n"
          ]
        },
        {
          "output_type": "execute_result",
          "execution_count": 9,
          "data": {
            "text/plain": "$AZUREML_DATAREFERENCE_814a633315d0463a89e7da17c867c8cf"
          },
          "metadata": {}
        }
      ],
      "execution_count": 9,
      "metadata": {
        "gather": {
          "logged": 1613668196393
        }
      }
    },
    {
      "cell_type": "code",
      "source": [
        "train_data = Dataset.Tabular.from_delimited_files(path=data_store.path(\"udacity-project/train_data.csv\"))"
      ],
      "outputs": [],
      "execution_count": 10,
      "metadata": {
        "gather": {
          "logged": 1613668197669
        }
      }
    },
    {
      "cell_type": "markdown",
      "source": [
        "## AutoML Configuration\n",
        "\n",
        "TODO: Explain why you chose the automl settings and cofiguration you used below."
      ],
      "metadata": {}
    },
    {
      "cell_type": "code",
      "source": [
        "# TODO: Put your automl settings here\n",
        "automl_settings = {\n",
        "    \"experiment_timeout_minutes\": 20,\n",
        "    \"n_cross_validations\": 3,\n",
        "    \"max_concurrent_iterations\": 5,\n",
        "    \"primary_metric\" : 'AUC_weighted'\n",
        "}\n",
        "\n",
        "# TODO: Put your automl config here\n",
        "automl_config = AutoMLConfig(compute_target=compute_target,\n",
        "                             task = \"classification\",\n",
        "                             training_data=dataset,\n",
        "                             label_column_name=\"target\",    \n",
        "                             path = project_folder,\n",
        "                             enable_onnx_compatible_models=True,\n",
        "                             enable_early_stopping= True,\n",
        "                             featurization= 'auto',\n",
        "                             debug_log = \"automl_errors.log\",\n",
        "                             **automl_settings\n",
        "                            )"
      ],
      "outputs": [],
      "execution_count": 11,
      "metadata": {
        "gather": {
          "logged": 1613668197971
        },
        "jupyter": {
          "outputs_hidden": false,
          "source_hidden": false
        },
        "nteract": {
          "transient": {
            "deleting": false
          }
        }
      }
    },
    {
      "cell_type": "code",
      "source": [
        "# TODO: Submit your experiment\n",
        "remote_run = experiment.submit(automl_config, show_output= True)"
      ],
      "outputs": [
        {
          "output_type": "stream",
          "name": "stdout",
          "text": [
            "Running on remote.\n",
            "No run_configuration provided, running on cluster-automl with default configuration\n",
            "Running on remote compute: cluster-automl\n",
            "Parent Run ID: AutoML_3c71c4ea-e591-4b72-8a0a-c6e0139a277c\n",
            "\n",
            "Current status: FeaturesGeneration. Generating features for the dataset.\n",
            "Current status: DatasetFeaturization. Beginning to fit featurizers and featurize the dataset.\n",
            "Current status: DatasetCrossValidationSplit. Generating individually featurized CV splits.\n",
            "Current status: ModelSelection. Beginning model selection.\n",
            "\n",
            "****************************************************************************************************\n",
            "DATA GUARDRAILS: \n",
            "\n",
            "TYPE:         Class balancing detection\n",
            "STATUS:       PASSED\n",
            "DESCRIPTION:  Your inputs were analyzed, and all classes are balanced in your training data.\n",
            "              Learn more about imbalanced data: https://aka.ms/AutomatedMLImbalancedData\n",
            "\n",
            "****************************************************************************************************\n",
            "\n",
            "TYPE:         Missing feature values imputation\n",
            "STATUS:       PASSED\n",
            "DESCRIPTION:  No feature missing values were detected in the training data.\n",
            "              Learn more about missing value imputation: https://aka.ms/AutomatedMLFeaturization\n",
            "\n",
            "****************************************************************************************************\n",
            "\n",
            "TYPE:         High cardinality feature detection\n",
            "STATUS:       PASSED\n",
            "DESCRIPTION:  Your inputs were analyzed, and no high cardinality features were detected.\n",
            "              Learn more about high cardinality feature handling: https://aka.ms/AutomatedMLFeaturization\n",
            "\n",
            "****************************************************************************************************\n",
            "\n",
            "****************************************************************************************************\n",
            "ITERATION: The iteration being evaluated.\n",
            "PIPELINE: A summary description of the pipeline being evaluated.\n",
            "DURATION: Time taken for the current iteration.\n",
            "METRIC: The result of computing score on the fitted pipeline.\n",
            "BEST: The best observed score thus far.\n",
            "****************************************************************************************************\n",
            "\n",
            " ITERATION   PIPELINE                                       DURATION      METRIC      BEST\n",
            "         3   MaxAbsScaler RandomForest                      0:00:54       0.8996    0.8996\n",
            "         2   MaxAbsScaler RandomForest                      0:00:56       0.9042    0.9042\n",
            "         1   MaxAbsScaler XGBoostClassifier                 0:00:53       0.8852    0.9042\n",
            "         0   MaxAbsScaler LightGBM                          0:00:58       0.8800    0.9042\n",
            "         7   MaxAbsScaler ExtremeRandomTrees                0:00:50       0.9141    0.9141\n",
            "         8   MaxAbsScaler RandomForest                      0:00:53       0.9013    0.9141\n",
            "         9   MaxAbsScaler ExtremeRandomTrees                0:00:55       0.9204    0.9204\n",
            "         6   MaxAbsScaler ExtremeRandomTrees                0:04:03       0.9137    0.9204\n",
            "         4   MaxAbsScaler RandomForest                      0:04:37       0.8936    0.9204\n",
            "        10   MaxAbsScaler RandomForest                      0:01:13       0.8926    0.9204\n",
            "        11   MaxAbsScaler RandomForest                      0:00:54       0.8764    0.9204\n",
            "         5   MaxAbsScaler ExtremeRandomTrees                0:05:18       0.8858    0.9204\n",
            "        12   MaxAbsScaler RandomForest                      0:01:05       0.9135    0.9204\n",
            "        13   StandardScalerWrapper XGBoostClassifier        0:00:52       0.8901    0.9204\n",
            "        14   MaxAbsScaler RandomForest                      0:01:05       0.8864    0.9204\n",
            "        15   StandardScalerWrapper ExtremeRandomTrees       0:00:52       0.8754    0.9204\n",
            "        16   MaxAbsScaler ExtremeRandomTrees                0:00:59       0.8900    0.9204\n",
            "        17   MaxAbsScaler ExtremeRandomTrees                0:01:03       0.9235    0.9235\n",
            "        18   MaxAbsScaler RandomForest                      0:00:54       0.8965    0.9235\n",
            "        19   StandardScalerWrapper LogisticRegression       0:00:49       0.8972    0.9235\n",
            "        20   SparseNormalizer XGBoostClassifier             0:00:55       0.8905    0.9235\n",
            "        21   MaxAbsScaler LightGBM                          0:00:52       0.9069    0.9235\n",
            "        22   MaxAbsScaler LightGBM                          0:00:52       0.9117    0.9235\n",
            "        23   MaxAbsScaler LightGBM                          0:00:48       0.9055    0.9235\n",
            "        24   MaxAbsScaler LightGBM                          0:00:53       0.9010    0.9235\n",
            "        25   MaxAbsScaler ExtremeRandomTrees                0:00:53       0.8696    0.9235\n",
            "        26   MaxAbsScaler ExtremeRandomTrees                0:00:54       0.9078    0.9235\n",
            "        28   StandardScalerWrapper ExtremeRandomTrees       0:00:55       0.8940    0.9235\n",
            "        27   MaxAbsScaler ExtremeRandomTrees                0:00:52       0.9051    0.9235\n",
            "        29   StandardScalerWrapper LogisticRegression       0:00:52       0.9183    0.9235\n",
            "        30   TruncatedSVDWrapper ExtremeRandomTrees         0:00:57       0.7660    0.9235\n",
            "        31   StandardScalerWrapper XGBoostClassifier        0:00:50       0.8940    0.9235\n",
            "        32   SparseNormalizer XGBoostClassifier             0:00:54       0.8932    0.9235\n",
            "        33   TruncatedSVDWrapper XGBoostClassifier          0:01:00       0.8802    0.9235\n",
            "        34   TruncatedSVDWrapper XGBoostClassifier          0:00:41       0.8766    0.9235\n",
            "        35                                                  0:00:21          nan    0.9235\n",
            "        36                                                  0:00:22          nan    0.9235\n",
            "        37    VotingEnsemble                                0:01:36       0.9237    0.9237\n"
          ]
        }
      ],
      "execution_count": 12,
      "metadata": {
        "gather": {
          "logged": 1613669597344
        },
        "jupyter": {
          "outputs_hidden": false,
          "source_hidden": false
        },
        "nteract": {
          "transient": {
            "deleting": false
          }
        }
      }
    },
    {
      "cell_type": "code",
      "source": [
        "from azureml.widgets import RunDetails\n",
        "RunDetails(remote_run).show()\n",
        "remote_run.wait_for_completion(show_output=True)"
      ],
      "outputs": [
        {
          "output_type": "display_data",
          "data": {
            "text/plain": "_AutoMLWidget(widget_settings={'childWidgetDisplay': 'popup', 'send_telemetry': False, 'log_level': 'INFO', 's…",
            "application/vnd.jupyter.widget-view+json": {
              "version_major": 2,
              "version_minor": 0,
              "model_id": "d6e2bf1751b842959d645e9a719598b0"
            }
          },
          "metadata": {}
        },
        {
          "output_type": "display_data",
          "data": {
            "application/aml.mini.widget.v1": "{\"status\": \"Completed\", \"workbench_run_details_uri\": \"https://ml.azure.com/experiments/capstone-automl-exp/runs/AutoML_3c71c4ea-e591-4b72-8a0a-c6e0139a277c?wsid=/subscriptions/3d1a56d2-7c81-4118-9790-f85d1acf0c77/resourcegroups/aml-quickstarts-139132/workspaces/quick-starts-ws-139132\", \"run_id\": \"AutoML_3c71c4ea-e591-4b72-8a0a-c6e0139a277c\", \"run_properties\": {\"run_id\": \"AutoML_3c71c4ea-e591-4b72-8a0a-c6e0139a277c\", \"created_utc\": \"2021-02-18T17:09:59.76209Z\", \"properties\": {\"num_iterations\": \"1000\", \"training_type\": \"TrainFull\", \"acquisition_function\": \"EI\", \"primary_metric\": \"AUC_weighted\", \"train_split\": \"0\", \"acquisition_parameter\": \"0\", \"num_cross_validation\": \"3\", \"target\": \"cluster-automl\", \"AMLSettingsJsonString\": \"{\\\"path\\\":null,\\\"name\\\":\\\"capstone-automl-exp\\\",\\\"subscription_id\\\":\\\"3d1a56d2-7c81-4118-9790-f85d1acf0c77\\\",\\\"resource_group\\\":\\\"aml-quickstarts-139132\\\",\\\"workspace_name\\\":\\\"quick-starts-ws-139132\\\",\\\"region\\\":\\\"southcentralus\\\",\\\"compute_target\\\":\\\"cluster-automl\\\",\\\"spark_service\\\":null,\\\"azure_service\\\":\\\"remote\\\",\\\"many_models\\\":false,\\\"pipeline_fetch_max_batch_size\\\":1,\\\"iterations\\\":1000,\\\"primary_metric\\\":\\\"AUC_weighted\\\",\\\"task_type\\\":\\\"classification\\\",\\\"data_script\\\":null,\\\"validation_size\\\":0.0,\\\"n_cross_validations\\\":3,\\\"y_min\\\":null,\\\"y_max\\\":null,\\\"num_classes\\\":null,\\\"featurization\\\":\\\"auto\\\",\\\"_ignore_package_version_incompatibilities\\\":false,\\\"is_timeseries\\\":false,\\\"max_cores_per_iteration\\\":1,\\\"max_concurrent_iterations\\\":5,\\\"iteration_timeout_minutes\\\":null,\\\"mem_in_mb\\\":null,\\\"enforce_time_on_windows\\\":false,\\\"experiment_timeout_minutes\\\":20,\\\"experiment_exit_score\\\":null,\\\"whitelist_models\\\":null,\\\"blacklist_algos\\\":[\\\"TensorFlowLinearClassifier\\\",\\\"TensorFlowDNN\\\"],\\\"supported_models\\\":[\\\"SGD\\\",\\\"LogisticRegression\\\",\\\"SVM\\\",\\\"LightGBM\\\",\\\"TensorFlowDNN\\\",\\\"LinearSVM\\\",\\\"TensorFlowLinearClassifier\\\",\\\"GradientBoosting\\\",\\\"BernoulliNaiveBayes\\\",\\\"XGBoostClassifier\\\",\\\"RandomForest\\\",\\\"ExtremeRandomTrees\\\",\\\"AveragedPerceptronClassifier\\\",\\\"DecisionTree\\\",\\\"KNN\\\",\\\"MultinomialNaiveBayes\\\"],\\\"auto_blacklist\\\":true,\\\"blacklist_samples_reached\\\":false,\\\"exclude_nan_labels\\\":true,\\\"verbosity\\\":20,\\\"_debug_log\\\":\\\"azureml_automl.log\\\",\\\"show_warnings\\\":false,\\\"model_explainability\\\":true,\\\"service_url\\\":null,\\\"sdk_url\\\":null,\\\"sdk_packages\\\":null,\\\"enable_onnx_compatible_models\\\":true,\\\"enable_split_onnx_featurizer_estimator_models\\\":false,\\\"vm_type\\\":\\\"STANDARD_D2_V2\\\",\\\"telemetry_verbosity\\\":20,\\\"send_telemetry\\\":true,\\\"enable_dnn\\\":false,\\\"scenario\\\":\\\"SDK-1.13.0\\\",\\\"environment_label\\\":null,\\\"force_text_dnn\\\":false,\\\"enable_feature_sweeping\\\":false,\\\"enable_early_stopping\\\":true,\\\"early_stopping_n_iters\\\":10,\\\"metrics\\\":null,\\\"enable_ensembling\\\":true,\\\"enable_stack_ensembling\\\":false,\\\"ensemble_iterations\\\":15,\\\"enable_tf\\\":false,\\\"enable_subsampling\\\":null,\\\"subsample_seed\\\":null,\\\"enable_nimbusml\\\":false,\\\"enable_streaming\\\":false,\\\"force_streaming\\\":false,\\\"track_child_runs\\\":true,\\\"allowed_private_models\\\":[],\\\"label_column_name\\\":\\\"target\\\",\\\"weight_column_name\\\":null,\\\"cv_split_column_names\\\":null,\\\"enable_local_managed\\\":false,\\\"_local_managed_run_id\\\":null,\\\"cost_mode\\\":1,\\\"lag_length\\\":0,\\\"metric_operation\\\":\\\"maximize\\\",\\\"preprocess\\\":true}\", \"DataPrepJsonString\": \"{\\\\\\\"training_data\\\\\\\": \\\\\\\"{\\\\\\\\\\\\\\\"blocks\\\\\\\\\\\\\\\": [{\\\\\\\\\\\\\\\"id\\\\\\\\\\\\\\\": \\\\\\\\\\\\\\\"b27b4ab2-689b-4fad-8d4d-1aeebacbfeb3\\\\\\\\\\\\\\\", \\\\\\\\\\\\\\\"type\\\\\\\\\\\\\\\": \\\\\\\\\\\\\\\"Microsoft.DPrep.GetFilesBlock\\\\\\\\\\\\\\\", \\\\\\\\\\\\\\\"arguments\\\\\\\\\\\\\\\": {\\\\\\\\\\\\\\\"isArchive\\\\\\\\\\\\\\\": false, \\\\\\\\\\\\\\\"path\\\\\\\\\\\\\\\": {\\\\\\\\\\\\\\\"target\\\\\\\\\\\\\\\": 4, \\\\\\\\\\\\\\\"resourceDetails\\\\\\\\\\\\\\\": [{\\\\\\\\\\\\\\\"path\\\\\\\\\\\\\\\": \\\\\\\\\\\\\\\"https://raw.githubusercontent.com/Daniel-car1/nd00333-capstone/main/heart.csv\\\\\\\\\\\\\\\"}]}}, \\\\\\\\\\\\\\\"localData\\\\\\\\\\\\\\\": {}, \\\\\\\\\\\\\\\"isEnabled\\\\\\\\\\\\\\\": true, \\\\\\\\\\\\\\\"name\\\\\\\\\\\\\\\": null, \\\\\\\\\\\\\\\"annotation\\\\\\\\\\\\\\\": null}, {\\\\\\\\\\\\\\\"id\\\\\\\\\\\\\\\": \\\\\\\\\\\\\\\"f1b5af16-6b1e-44cb-802c-d090cbb77428\\\\\\\\\\\\\\\", \\\\\\\\\\\\\\\"type\\\\\\\\\\\\\\\": \\\\\\\\\\\\\\\"Microsoft.DPrep.ParseDelimitedBlock\\\\\\\\\\\\\\\", \\\\\\\\\\\\\\\"arguments\\\\\\\\\\\\\\\": {\\\\\\\\\\\\\\\"columnHeadersMode\\\\\\\\\\\\\\\": 3, \\\\\\\\\\\\\\\"fileEncoding\\\\\\\\\\\\\\\": 0, \\\\\\\\\\\\\\\"handleQuotedLineBreaks\\\\\\\\\\\\\\\": false, \\\\\\\\\\\\\\\"preview\\\\\\\\\\\\\\\": false, \\\\\\\\\\\\\\\"separator\\\\\\\\\\\\\\\": \\\\\\\\\\\\\\\",\\\\\\\\\\\\\\\", \\\\\\\\\\\\\\\"skipRows\\\\\\\\\\\\\\\": 0, \\\\\\\\\\\\\\\"skipRowsMode\\\\\\\\\\\\\\\": 0}, \\\\\\\\\\\\\\\"localData\\\\\\\\\\\\\\\": {}, \\\\\\\\\\\\\\\"isEnabled\\\\\\\\\\\\\\\": true, \\\\\\\\\\\\\\\"name\\\\\\\\\\\\\\\": null, \\\\\\\\\\\\\\\"annotation\\\\\\\\\\\\\\\": null}, {\\\\\\\\\\\\\\\"id\\\\\\\\\\\\\\\": \\\\\\\\\\\\\\\"b5a3cbb4-e893-4b63-8af1-c11d0f6f263e\\\\\\\\\\\\\\\", \\\\\\\\\\\\\\\"type\\\\\\\\\\\\\\\": \\\\\\\\\\\\\\\"Microsoft.DPrep.DropColumnsBlock\\\\\\\\\\\\\\\", \\\\\\\\\\\\\\\"arguments\\\\\\\\\\\\\\\": {\\\\\\\\\\\\\\\"columns\\\\\\\\\\\\\\\": {\\\\\\\\\\\\\\\"type\\\\\\\\\\\\\\\": 0, \\\\\\\\\\\\\\\"details\\\\\\\\\\\\\\\": {\\\\\\\\\\\\\\\"selectedColumns\\\\\\\\\\\\\\\": [\\\\\\\\\\\\\\\"Path\\\\\\\\\\\\\\\"]}}}, \\\\\\\\\\\\\\\"localData\\\\\\\\\\\\\\\": {}, \\\\\\\\\\\\\\\"isEnabled\\\\\\\\\\\\\\\": true, \\\\\\\\\\\\\\\"name\\\\\\\\\\\\\\\": null, \\\\\\\\\\\\\\\"annotation\\\\\\\\\\\\\\\": null}, {\\\\\\\\\\\\\\\"id\\\\\\\\\\\\\\\": \\\\\\\\\\\\\\\"637d64b8-118c-4120-8b5b-49f7b3bb8b04\\\\\\\\\\\\\\\", \\\\\\\\\\\\\\\"type\\\\\\\\\\\\\\\": \\\\\\\\\\\\\\\"Microsoft.DPrep.SetColumnTypesBlock\\\\\\\\\\\\\\\", \\\\\\\\\\\\\\\"arguments\\\\\\\\\\\\\\\": {\\\\\\\\\\\\\\\"columnConversion\\\\\\\\\\\\\\\": [{\\\\\\\\\\\\\\\"column\\\\\\\\\\\\\\\": {\\\\\\\\\\\\\\\"type\\\\\\\\\\\\\\\": 2, \\\\\\\\\\\\\\\"details\\\\\\\\\\\\\\\": {\\\\\\\\\\\\\\\"selectedColumn\\\\\\\\\\\\\\\": \\\\\\\\\\\\\\\"age\\\\\\\\\\\\\\\"}}, \\\\\\\\\\\\\\\"typeProperty\\\\\\\\\\\\\\\": 2}, {\\\\\\\\\\\\\\\"column\\\\\\\\\\\\\\\": {\\\\\\\\\\\\\\\"type\\\\\\\\\\\\\\\": 2, \\\\\\\\\\\\\\\"details\\\\\\\\\\\\\\\": {\\\\\\\\\\\\\\\"selectedColumn\\\\\\\\\\\\\\\": \\\\\\\\\\\\\\\"sex\\\\\\\\\\\\\\\"}}, \\\\\\\\\\\\\\\"typeProperty\\\\\\\\\\\\\\\": 2}, {\\\\\\\\\\\\\\\"column\\\\\\\\\\\\\\\": {\\\\\\\\\\\\\\\"type\\\\\\\\\\\\\\\": 2, \\\\\\\\\\\\\\\"details\\\\\\\\\\\\\\\": {\\\\\\\\\\\\\\\"selectedColumn\\\\\\\\\\\\\\\": \\\\\\\\\\\\\\\"cp\\\\\\\\\\\\\\\"}}, \\\\\\\\\\\\\\\"typeProperty\\\\\\\\\\\\\\\": 2}, {\\\\\\\\\\\\\\\"column\\\\\\\\\\\\\\\": {\\\\\\\\\\\\\\\"type\\\\\\\\\\\\\\\": 2, \\\\\\\\\\\\\\\"details\\\\\\\\\\\\\\\": {\\\\\\\\\\\\\\\"selectedColumn\\\\\\\\\\\\\\\": \\\\\\\\\\\\\\\"trestbps\\\\\\\\\\\\\\\"}}, \\\\\\\\\\\\\\\"typeProperty\\\\\\\\\\\\\\\": 2}, {\\\\\\\\\\\\\\\"column\\\\\\\\\\\\\\\": {\\\\\\\\\\\\\\\"type\\\\\\\\\\\\\\\": 2, \\\\\\\\\\\\\\\"details\\\\\\\\\\\\\\\": {\\\\\\\\\\\\\\\"selectedColumn\\\\\\\\\\\\\\\": \\\\\\\\\\\\\\\"chol\\\\\\\\\\\\\\\"}}, \\\\\\\\\\\\\\\"typeProperty\\\\\\\\\\\\\\\": 2}, {\\\\\\\\\\\\\\\"column\\\\\\\\\\\\\\\": {\\\\\\\\\\\\\\\"type\\\\\\\\\\\\\\\": 2, \\\\\\\\\\\\\\\"details\\\\\\\\\\\\\\\": {\\\\\\\\\\\\\\\"selectedColumn\\\\\\\\\\\\\\\": \\\\\\\\\\\\\\\"fbs\\\\\\\\\\\\\\\"}}, \\\\\\\\\\\\\\\"typeProperty\\\\\\\\\\\\\\\": 2}, {\\\\\\\\\\\\\\\"column\\\\\\\\\\\\\\\": {\\\\\\\\\\\\\\\"type\\\\\\\\\\\\\\\": 2, \\\\\\\\\\\\\\\"details\\\\\\\\\\\\\\\": {\\\\\\\\\\\\\\\"selectedColumn\\\\\\\\\\\\\\\": \\\\\\\\\\\\\\\"restecg\\\\\\\\\\\\\\\"}}, \\\\\\\\\\\\\\\"typeProperty\\\\\\\\\\\\\\\": 2}, {\\\\\\\\\\\\\\\"column\\\\\\\\\\\\\\\": {\\\\\\\\\\\\\\\"type\\\\\\\\\\\\\\\": 2, \\\\\\\\\\\\\\\"details\\\\\\\\\\\\\\\": {\\\\\\\\\\\\\\\"selectedColumn\\\\\\\\\\\\\\\": \\\\\\\\\\\\\\\"thalach\\\\\\\\\\\\\\\"}}, \\\\\\\\\\\\\\\"typeProperty\\\\\\\\\\\\\\\": 2}, {\\\\\\\\\\\\\\\"column\\\\\\\\\\\\\\\": {\\\\\\\\\\\\\\\"type\\\\\\\\\\\\\\\": 2, \\\\\\\\\\\\\\\"details\\\\\\\\\\\\\\\": {\\\\\\\\\\\\\\\"selectedColumn\\\\\\\\\\\\\\\": \\\\\\\\\\\\\\\"exang\\\\\\\\\\\\\\\"}}, \\\\\\\\\\\\\\\"typeProperty\\\\\\\\\\\\\\\": 2}, {\\\\\\\\\\\\\\\"column\\\\\\\\\\\\\\\": {\\\\\\\\\\\\\\\"type\\\\\\\\\\\\\\\": 2, \\\\\\\\\\\\\\\"details\\\\\\\\\\\\\\\": {\\\\\\\\\\\\\\\"selectedColumn\\\\\\\\\\\\\\\": \\\\\\\\\\\\\\\"oldpeak\\\\\\\\\\\\\\\"}}, \\\\\\\\\\\\\\\"typeProperty\\\\\\\\\\\\\\\": 3}, {\\\\\\\\\\\\\\\"column\\\\\\\\\\\\\\\": {\\\\\\\\\\\\\\\"type\\\\\\\\\\\\\\\": 2, \\\\\\\\\\\\\\\"details\\\\\\\\\\\\\\\": {\\\\\\\\\\\\\\\"selectedColumn\\\\\\\\\\\\\\\": \\\\\\\\\\\\\\\"slope\\\\\\\\\\\\\\\"}}, \\\\\\\\\\\\\\\"typeProperty\\\\\\\\\\\\\\\": 2}, {\\\\\\\\\\\\\\\"column\\\\\\\\\\\\\\\": {\\\\\\\\\\\\\\\"type\\\\\\\\\\\\\\\": 2, \\\\\\\\\\\\\\\"details\\\\\\\\\\\\\\\": {\\\\\\\\\\\\\\\"selectedColumn\\\\\\\\\\\\\\\": \\\\\\\\\\\\\\\"ca\\\\\\\\\\\\\\\"}}, \\\\\\\\\\\\\\\"typeProperty\\\\\\\\\\\\\\\": 2}, {\\\\\\\\\\\\\\\"column\\\\\\\\\\\\\\\": {\\\\\\\\\\\\\\\"type\\\\\\\\\\\\\\\": 2, \\\\\\\\\\\\\\\"details\\\\\\\\\\\\\\\": {\\\\\\\\\\\\\\\"selectedColumn\\\\\\\\\\\\\\\": \\\\\\\\\\\\\\\"thal\\\\\\\\\\\\\\\"}}, \\\\\\\\\\\\\\\"typeProperty\\\\\\\\\\\\\\\": 2}, {\\\\\\\\\\\\\\\"column\\\\\\\\\\\\\\\": {\\\\\\\\\\\\\\\"type\\\\\\\\\\\\\\\": 2, \\\\\\\\\\\\\\\"details\\\\\\\\\\\\\\\": {\\\\\\\\\\\\\\\"selectedColumn\\\\\\\\\\\\\\\": \\\\\\\\\\\\\\\"target\\\\\\\\\\\\\\\"}}, \\\\\\\\\\\\\\\"typeProperty\\\\\\\\\\\\\\\": 2}]}, \\\\\\\\\\\\\\\"localData\\\\\\\\\\\\\\\": {}, \\\\\\\\\\\\\\\"isEnabled\\\\\\\\\\\\\\\": true, \\\\\\\\\\\\\\\"name\\\\\\\\\\\\\\\": null, \\\\\\\\\\\\\\\"annotation\\\\\\\\\\\\\\\": null}], \\\\\\\\\\\\\\\"inspectors\\\\\\\\\\\\\\\": [], \\\\\\\\\\\\\\\"meta\\\\\\\\\\\\\\\": {\\\\\\\\\\\\\\\"savedDatasetId\\\\\\\\\\\\\\\": \\\\\\\\\\\\\\\"8e1c8737-43f2-45b9-a03d-fa3d90a99f42\\\\\\\\\\\\\\\", \\\\\\\\\\\\\\\"datasetType\\\\\\\\\\\\\\\": \\\\\\\\\\\\\\\"tabular\\\\\\\\\\\\\\\", \\\\\\\\\\\\\\\"subscriptionId\\\\\\\\\\\\\\\": \\\\\\\\\\\\\\\"3d1a56d2-7c81-4118-9790-f85d1acf0c77\\\\\\\\\\\\\\\", \\\\\\\\\\\\\\\"workspaceId\\\\\\\\\\\\\\\": \\\\\\\\\\\\\\\"1121b8e1-460e-4393-8db8-5a81d1ee4256\\\\\\\\\\\\\\\", \\\\\\\\\\\\\\\"workspaceLocation\\\\\\\\\\\\\\\": \\\\\\\\\\\\\\\"southcentralus\\\\\\\\\\\\\\\"}}\\\\\\\", \\\\\\\"activities\\\\\\\": 0}\", \"EnableSubsampling\": null, \"runTemplate\": \"AutoML\", \"azureml.runsource\": \"automl\", \"display_task_type\": \"classification\", \"dependencies_versions\": \"{\\\"azureml-widgets\\\": \\\"1.20.0\\\", \\\"azureml-train\\\": \\\"1.20.0\\\", \\\"azureml-train-restclients-hyperdrive\\\": \\\"1.20.0\\\", \\\"azureml-train-core\\\": \\\"1.20.0\\\", \\\"azureml-train-automl\\\": \\\"1.20.0\\\", \\\"azureml-train-automl-runtime\\\": \\\"1.20.0\\\", \\\"azureml-train-automl-client\\\": \\\"1.20.0\\\", \\\"azureml-tensorboard\\\": \\\"1.20.0\\\", \\\"azureml-telemetry\\\": \\\"1.20.0\\\", \\\"azureml-sdk\\\": \\\"1.20.0\\\", \\\"azureml-samples\\\": \\\"0+unknown\\\", \\\"azureml-pipeline\\\": \\\"1.20.0\\\", \\\"azureml-pipeline-steps\\\": \\\"1.20.0\\\", \\\"azureml-pipeline-core\\\": \\\"1.20.0\\\", \\\"azureml-opendatasets\\\": \\\"1.20.0\\\", \\\"azureml-model-management-sdk\\\": \\\"1.0.1b6.post1\\\", \\\"azureml-mlflow\\\": \\\"1.20.0.post1\\\", \\\"azureml-interpret\\\": \\\"1.20.0\\\", \\\"azureml-explain-model\\\": \\\"1.20.0\\\", \\\"azureml-defaults\\\": \\\"1.20.0\\\", \\\"azureml-dataset-runtime\\\": \\\"1.20.0\\\", \\\"azureml-dataprep\\\": \\\"2.7.3\\\", \\\"azureml-dataprep-rslex\\\": \\\"1.5.0\\\", \\\"azureml-dataprep-native\\\": \\\"27.0.0\\\", \\\"azureml-datadrift\\\": \\\"1.20.0\\\", \\\"azureml-core\\\": \\\"1.20.0\\\", \\\"azureml-contrib-services\\\": \\\"1.20.0\\\", \\\"azureml-contrib-server\\\": \\\"1.20.0\\\", \\\"azureml-contrib-reinforcementlearning\\\": \\\"1.20.0\\\", \\\"azureml-contrib-pipeline-steps\\\": \\\"1.20.0\\\", \\\"azureml-contrib-notebook\\\": \\\"1.20.0\\\", \\\"azureml-contrib-interpret\\\": \\\"1.20.0\\\", \\\"azureml-contrib-gbdt\\\": \\\"1.20.0\\\", \\\"azureml-contrib-fairness\\\": \\\"1.20.0\\\", \\\"azureml-contrib-dataset\\\": \\\"1.20.0\\\", \\\"azureml-cli-common\\\": \\\"1.20.0\\\", \\\"azureml-automl-runtime\\\": \\\"1.20.0\\\", \\\"azureml-automl-core\\\": \\\"1.20.0\\\", \\\"azureml-accel-models\\\": \\\"1.20.0\\\"}\", \"_aml_system_scenario_identification\": \"Remote.Parent\", \"ClientType\": \"SDK\", \"environment_cpu_name\": \"AzureML-AutoML\", \"environment_cpu_label\": \"prod\", \"environment_gpu_name\": \"AzureML-AutoML-GPU\", \"environment_gpu_label\": \"prod\", \"root_attribution\": \"automl\", \"attribution\": \"AutoML\", \"Orchestrator\": \"AutoML\", \"CancelUri\": \"https://southcentralus.experiments.azureml.net/jasmine/v1.0/subscriptions/3d1a56d2-7c81-4118-9790-f85d1acf0c77/resourceGroups/aml-quickstarts-139132/providers/Microsoft.MachineLearningServices/workspaces/quick-starts-ws-139132/experimentids/2c841029-109f-4303-97a4-04cf255a8b73/cancel/AutoML_3c71c4ea-e591-4b72-8a0a-c6e0139a277c\", \"ClientSdkVersion\": \"1.21.0\", \"snapshotId\": \"00000000-0000-0000-0000-000000000000\", \"SetupRunId\": \"AutoML_3c71c4ea-e591-4b72-8a0a-c6e0139a277c_setup\", \"SetupRunContainerId\": \"dcid.AutoML_3c71c4ea-e591-4b72-8a0a-c6e0139a277c_setup\", \"FeaturizationRunJsonPath\": \"featurizer_container.json\", \"FeaturizationRunId\": \"AutoML_3c71c4ea-e591-4b72-8a0a-c6e0139a277c_featurize\", \"ProblemInfoJsonString\": \"{\\\"dataset_num_categorical\\\": 0, \\\"is_sparse\\\": true, \\\"subsampling\\\": false, \\\"dataset_classes\\\": 2, \\\"dataset_features\\\": 27, \\\"dataset_samples\\\": 303, \\\"single_frequency_class_detected\\\": false}\", \"ModelExplainRunId\": \"AutoML_3c71c4ea-e591-4b72-8a0a-c6e0139a277c_ModelExplain\"}, \"tags\": {\"model_explain_run\": \"best_run\", \"_aml_system_azureml.automlComponent\": \"AutoML\", \"pipeline_id\": \"\", \"score\": \"\", \"predicted_cost\": \"\", \"fit_time\": \"\", \"training_percent\": \"\", \"iteration\": \"\", \"run_preprocessor\": \"\", \"run_algorithm\": \"\", \"dynamic_whitelisting_iterations\": \"<25>;<30>;<35>;\", \"automl_best_child_run_id\": \"AutoML_3c71c4ea-e591-4b72-8a0a-c6e0139a277c_37\", \"model_explain_best_run_child_id\": \"AutoML_3c71c4ea-e591-4b72-8a0a-c6e0139a277c_37\"}, \"end_time_utc\": \"2021-02-18T17:33:04.441136Z\", \"status\": \"Completed\", \"log_files\": {}, \"log_groups\": [], \"run_duration\": \"0:23:04\"}, \"child_runs\": [{\"run_id\": \"AutoML_3c71c4ea-e591-4b72-8a0a-c6e0139a277c_0\", \"run_number\": 5, \"metric\": null, \"status\": \"Completed\", \"run_type\": \"azureml.scriptrun\", \"training_percent\": \"100\", \"start_time\": \"2021-02-18T17:18:59.622888Z\", \"end_time\": \"2021-02-18T17:19:57.872827Z\", \"created_time\": \"2021-02-18T17:15:52.073347Z\", \"created_time_dt\": \"2021-02-18T17:15:52.073347Z\", \"duration\": \"0:04:05\", \"iteration\": \"0\", \"goal\": \"AUC_weighted_max\", \"run_name\": \"MaxAbsScaler, LightGBM\", \"run_properties\": \"copy=True\", \"primary_metric\": 0.88003099, \"best_metric\": 0.88003099}, {\"run_id\": \"AutoML_3c71c4ea-e591-4b72-8a0a-c6e0139a277c_4\", \"run_number\": 6, \"metric\": null, \"status\": \"Completed\", \"run_type\": \"azureml.scriptrun\", \"training_percent\": \"100\", \"start_time\": \"2021-02-18T17:19:21.338331Z\", \"end_time\": \"2021-02-18T17:23:58.28963Z\", \"created_time\": \"2021-02-18T17:15:52.139542Z\", \"created_time_dt\": \"2021-02-18T17:15:52.139542Z\", \"duration\": \"0:08:06\", \"iteration\": \"4\", \"goal\": \"AUC_weighted_max\", \"run_name\": \"MaxAbsScaler, RandomForest\", \"run_properties\": \"copy=True\", \"primary_metric\": 0.8935953, \"best_metric\": 0.9041646}, {\"run_id\": \"AutoML_3c71c4ea-e591-4b72-8a0a-c6e0139a277c_2\", \"run_number\": 7, \"metric\": null, \"status\": \"Completed\", \"run_type\": \"azureml.scriptrun\", \"training_percent\": \"100\", \"start_time\": \"2021-02-18T17:17:01.318079Z\", \"end_time\": \"2021-02-18T17:17:57.763259Z\", \"created_time\": \"2021-02-18T17:15:52.150827Z\", \"created_time_dt\": \"2021-02-18T17:15:52.150827Z\", \"duration\": \"0:02:05\", \"iteration\": \"2\", \"goal\": \"AUC_weighted_max\", \"run_name\": \"MaxAbsScaler, RandomForest\", \"run_properties\": \"copy=True\", \"primary_metric\": 0.9041646, \"best_metric\": 0.9041646}, {\"run_id\": \"AutoML_3c71c4ea-e591-4b72-8a0a-c6e0139a277c_1\", \"run_number\": 8, \"metric\": null, \"status\": \"Completed\", \"run_type\": \"azureml.scriptrun\", \"training_percent\": \"100\", \"start_time\": \"2021-02-18T17:17:58.902342Z\", \"end_time\": \"2021-02-18T17:18:51.648407Z\", \"created_time\": \"2021-02-18T17:15:52.161216Z\", \"created_time_dt\": \"2021-02-18T17:15:52.161216Z\", \"duration\": \"0:02:59\", \"iteration\": \"1\", \"goal\": \"AUC_weighted_max\", \"run_name\": \"MaxAbsScaler, XGBoostClassifier\", \"run_properties\": \"copy=True\", \"primary_metric\": 0.88519249, \"best_metric\": 0.88519249}, {\"run_id\": \"AutoML_3c71c4ea-e591-4b72-8a0a-c6e0139a277c_3\", \"run_number\": 9, \"metric\": null, \"status\": \"Completed\", \"run_type\": \"azureml.scriptrun\", \"training_percent\": \"100\", \"start_time\": \"2021-02-18T17:16:05.223472Z\", \"end_time\": \"2021-02-18T17:16:59.103959Z\", \"created_time\": \"2021-02-18T17:15:52.172752Z\", \"created_time_dt\": \"2021-02-18T17:15:52.172752Z\", \"duration\": \"0:01:06\", \"iteration\": \"3\", \"goal\": \"AUC_weighted_max\", \"run_name\": \"MaxAbsScaler, RandomForest\", \"run_properties\": \"copy=True\", \"primary_metric\": 0.8995669, \"best_metric\": 0.9041646}, {\"run_id\": \"AutoML_3c71c4ea-e591-4b72-8a0a-c6e0139a277c_5\", \"run_number\": 10, \"metric\": null, \"status\": \"Completed\", \"run_type\": \"azureml.scriptrun\", \"training_percent\": \"100\", \"start_time\": \"2021-02-18T17:19:25.521669Z\", \"end_time\": \"2021-02-18T17:24:43.684884Z\", \"created_time\": \"2021-02-18T17:17:02.169502Z\", \"created_time_dt\": \"2021-02-18T17:17:02.169502Z\", \"duration\": \"0:07:41\", \"iteration\": \"5\", \"goal\": \"AUC_weighted_max\", \"run_name\": \"MaxAbsScaler, ExtremeRandomTrees\", \"run_properties\": \"copy=True\", \"primary_metric\": 0.8857702, \"best_metric\": 0.9041646}, {\"run_id\": \"AutoML_3c71c4ea-e591-4b72-8a0a-c6e0139a277c_6\", \"run_number\": 11, \"metric\": null, \"status\": \"Completed\", \"run_type\": \"azureml.scriptrun\", \"training_percent\": \"100\", \"start_time\": \"2021-02-18T17:19:22.687902Z\", \"end_time\": \"2021-02-18T17:23:25.685199Z\", \"created_time\": \"2021-02-18T17:18:00.896437Z\", \"created_time_dt\": \"2021-02-18T17:18:00.896437Z\", \"duration\": \"0:05:24\", \"iteration\": \"6\", \"goal\": \"AUC_weighted_max\", \"run_name\": \"MaxAbsScaler, ExtremeRandomTrees\", \"run_properties\": \"copy=True\", \"primary_metric\": 0.91369572, \"best_metric\": 0.91369572}, {\"run_id\": \"AutoML_3c71c4ea-e591-4b72-8a0a-c6e0139a277c_7\", \"run_number\": 12, \"metric\": null, \"status\": \"Completed\", \"run_type\": \"azureml.scriptrun\", \"training_percent\": \"100\", \"start_time\": \"2021-02-18T17:19:59.275891Z\", \"end_time\": \"2021-02-18T17:20:49.560409Z\", \"created_time\": \"2021-02-18T17:18:55.044066Z\", \"created_time_dt\": \"2021-02-18T17:18:55.044066Z\", \"duration\": \"0:01:54\", \"iteration\": \"7\", \"goal\": \"AUC_weighted_max\", \"run_name\": \"MaxAbsScaler, ExtremeRandomTrees\", \"run_properties\": \"copy=True\", \"primary_metric\": 0.91408633, \"best_metric\": 0.91408633}, {\"run_id\": \"AutoML_3c71c4ea-e591-4b72-8a0a-c6e0139a277c_8\", \"run_number\": 13, \"metric\": null, \"status\": \"Completed\", \"run_type\": \"azureml.scriptrun\", \"training_percent\": \"100\", \"start_time\": \"2021-02-18T17:20:57.155213Z\", \"end_time\": \"2021-02-18T17:21:50.135582Z\", \"created_time\": \"2021-02-18T17:20:01.678354Z\", \"created_time_dt\": \"2021-02-18T17:20:01.678354Z\", \"duration\": \"0:01:48\", \"iteration\": \"8\", \"goal\": \"AUC_weighted_max\", \"run_name\": \"MaxAbsScaler, RandomForest\", \"run_properties\": \"copy=True\", \"primary_metric\": 0.9012624, \"best_metric\": 0.91408633}, {\"run_id\": \"AutoML_3c71c4ea-e591-4b72-8a0a-c6e0139a277c_9\", \"run_number\": 14, \"metric\": null, \"status\": \"Completed\", \"run_type\": \"azureml.scriptrun\", \"training_percent\": \"100\", \"start_time\": \"2021-02-18T17:21:54.562375Z\", \"end_time\": \"2021-02-18T17:22:49.25422Z\", \"created_time\": \"2021-02-18T17:20:52.633182Z\", \"created_time_dt\": \"2021-02-18T17:20:52.633182Z\", \"duration\": \"0:01:56\", \"iteration\": \"9\", \"goal\": \"AUC_weighted_max\", \"run_name\": \"MaxAbsScaler, ExtremeRandomTrees\", \"run_properties\": \"copy=True\", \"primary_metric\": 0.92039901, \"best_metric\": 0.92039901}, {\"run_id\": \"AutoML_3c71c4ea-e591-4b72-8a0a-c6e0139a277c_10\", \"run_number\": 15, \"metric\": null, \"status\": \"Completed\", \"run_type\": \"azureml.scriptrun\", \"training_percent\": \"100\", \"start_time\": \"2021-02-18T17:22:54.087786Z\", \"end_time\": \"2021-02-18T17:24:07.390632Z\", \"created_time\": \"2021-02-18T17:21:53.434238Z\", \"created_time_dt\": \"2021-02-18T17:21:53.434238Z\", \"duration\": \"0:02:13\", \"iteration\": \"10\", \"goal\": \"AUC_weighted_max\", \"run_name\": \"MaxAbsScaler, RandomForest\", \"run_properties\": \"copy=True\", \"primary_metric\": 0.89256842, \"best_metric\": 0.92039901}, {\"run_id\": \"AutoML_3c71c4ea-e591-4b72-8a0a-c6e0139a277c_11\", \"run_number\": 16, \"metric\": null, \"status\": \"Completed\", \"run_type\": \"azureml.scriptrun\", \"training_percent\": \"100\", \"start_time\": \"2021-02-18T17:23:25.017015Z\", \"end_time\": \"2021-02-18T17:24:18.649989Z\", \"created_time\": \"2021-02-18T17:22:52.584787Z\", \"created_time_dt\": \"2021-02-18T17:22:52.584787Z\", \"duration\": \"0:01:26\", \"iteration\": \"11\", \"goal\": \"AUC_weighted_max\", \"run_name\": \"MaxAbsScaler, RandomForest\", \"run_properties\": \"copy=True\", \"primary_metric\": 0.87640602, \"best_metric\": 0.92039901}, {\"run_id\": \"AutoML_3c71c4ea-e591-4b72-8a0a-c6e0139a277c_12\", \"run_number\": 17, \"metric\": null, \"status\": \"Completed\", \"run_type\": \"azureml.scriptrun\", \"training_percent\": \"100\", \"start_time\": \"2021-02-18T17:23:57.450323Z\", \"end_time\": \"2021-02-18T17:25:02.948902Z\", \"created_time\": \"2021-02-18T17:23:28.651183Z\", \"created_time_dt\": \"2021-02-18T17:23:28.651183Z\", \"duration\": \"0:01:34\", \"iteration\": \"12\", \"goal\": \"AUC_weighted_max\", \"run_name\": \"MaxAbsScaler, RandomForest\", \"run_properties\": \"copy=True\", \"primary_metric\": 0.91351228, \"best_metric\": 0.92039901}, {\"run_id\": \"AutoML_3c71c4ea-e591-4b72-8a0a-c6e0139a277c_13\", \"run_number\": 18, \"metric\": null, \"status\": \"Completed\", \"run_type\": \"azureml.scriptrun\", \"training_percent\": \"100\", \"start_time\": \"2021-02-18T17:24:14.295364Z\", \"end_time\": \"2021-02-18T17:25:06.542282Z\", \"created_time\": \"2021-02-18T17:24:01.229138Z\", \"created_time_dt\": \"2021-02-18T17:24:01.229138Z\", \"duration\": \"0:01:05\", \"iteration\": \"13\", \"goal\": \"AUC_weighted_max\", \"run_name\": \"StandardScalerWrapper, XGBoostClassifier\", \"run_properties\": \"<azureml.automl.runtime.shared.model_wrappers.StandardScalerWrapper object at 0x7fa2515e4c18\", \"primary_metric\": 0.89014187, \"best_metric\": 0.92039901}, {\"run_id\": \"AutoML_3c71c4ea-e591-4b72-8a0a-c6e0139a277c_14\", \"run_number\": 19, \"metric\": null, \"status\": \"Completed\", \"run_type\": \"azureml.scriptrun\", \"training_percent\": \"100\", \"start_time\": \"2021-02-18T17:24:35.594281Z\", \"end_time\": \"2021-02-18T17:25:40.925821Z\", \"created_time\": \"2021-02-18T17:24:10.170132Z\", \"created_time_dt\": \"2021-02-18T17:24:10.170132Z\", \"duration\": \"0:01:30\", \"iteration\": \"14\", \"goal\": \"AUC_weighted_max\", \"run_name\": \"MaxAbsScaler, RandomForest\", \"run_properties\": \"copy=True\", \"primary_metric\": 0.88638997, \"best_metric\": 0.92039901}, {\"run_id\": \"AutoML_3c71c4ea-e591-4b72-8a0a-c6e0139a277c_15\", \"run_number\": 20, \"metric\": null, \"status\": \"Completed\", \"run_type\": \"azureml.scriptrun\", \"training_percent\": \"100\", \"start_time\": \"2021-02-18T17:24:57.885262Z\", \"end_time\": \"2021-02-18T17:25:50.369732Z\", \"created_time\": \"2021-02-18T17:24:27.364187Z\", \"created_time_dt\": \"2021-02-18T17:24:27.364187Z\", \"duration\": \"0:01:23\", \"iteration\": \"15\", \"goal\": \"AUC_weighted_max\", \"run_name\": \"StandardScalerWrapper, ExtremeRandomTrees\", \"run_properties\": \"<azureml.automl.runtime.shared.model_wrappers.StandardScalerWrapper object at 0x7f34b823ac88\", \"primary_metric\": 0.87541215, \"best_metric\": 0.92039901}, {\"run_id\": \"AutoML_3c71c4ea-e591-4b72-8a0a-c6e0139a277c_16\", \"run_number\": 21, \"metric\": null, \"status\": \"Completed\", \"run_type\": \"azureml.scriptrun\", \"training_percent\": \"100\", \"start_time\": \"2021-02-18T17:25:05.600067Z\", \"end_time\": \"2021-02-18T17:26:04.534463Z\", \"created_time\": \"2021-02-18T17:24:49.99508Z\", \"created_time_dt\": \"2021-02-18T17:24:49.99508Z\", \"duration\": \"0:01:14\", \"iteration\": \"16\", \"goal\": \"AUC_weighted_max\", \"run_name\": \"MaxAbsScaler, ExtremeRandomTrees\", \"run_properties\": \"copy=True\", \"primary_metric\": 0.89004427, \"best_metric\": 0.92039901}, {\"run_id\": \"AutoML_3c71c4ea-e591-4b72-8a0a-c6e0139a277c_17\", \"run_number\": 22, \"metric\": null, \"status\": \"Completed\", \"run_type\": \"azureml.scriptrun\", \"training_percent\": \"100\", \"start_time\": \"2021-02-18T17:25:21.133865Z\", \"end_time\": \"2021-02-18T17:26:24.158715Z\", \"created_time\": \"2021-02-18T17:25:09.364616Z\", \"created_time_dt\": \"2021-02-18T17:25:09.364616Z\", \"duration\": \"0:01:14\", \"iteration\": \"17\", \"goal\": \"AUC_weighted_max\", \"run_name\": \"MaxAbsScaler, ExtremeRandomTrees\", \"run_properties\": \"copy=True\", \"primary_metric\": 0.92354421, \"best_metric\": 0.92354421}, {\"run_id\": \"AutoML_3c71c4ea-e591-4b72-8a0a-c6e0139a277c_18\", \"run_number\": 23, \"metric\": null, \"status\": \"Completed\", \"run_type\": \"azureml.scriptrun\", \"training_percent\": \"100\", \"start_time\": \"2021-02-18T17:25:44.913654Z\", \"end_time\": \"2021-02-18T17:26:38.900343Z\", \"created_time\": \"2021-02-18T17:25:15.046669Z\", \"created_time_dt\": \"2021-02-18T17:25:15.046669Z\", \"duration\": \"0:01:23\", \"iteration\": \"18\", \"goal\": \"AUC_weighted_max\", \"run_name\": \"MaxAbsScaler, RandomForest\", \"run_properties\": \"copy=True\", \"primary_metric\": 0.89649351, \"best_metric\": 0.92354421}, {\"run_id\": \"AutoML_3c71c4ea-e591-4b72-8a0a-c6e0139a277c_19\", \"run_number\": 24, \"metric\": null, \"status\": \"Completed\", \"run_type\": \"azureml.scriptrun\", \"training_percent\": \"100\", \"start_time\": \"2021-02-18T17:25:56.839073Z\", \"end_time\": \"2021-02-18T17:26:46.249492Z\", \"created_time\": \"2021-02-18T17:25:44.050135Z\", \"created_time_dt\": \"2021-02-18T17:25:44.050135Z\", \"duration\": \"0:01:02\", \"iteration\": \"19\", \"goal\": \"AUC_weighted_max\", \"run_name\": \"StandardScalerWrapper, LogisticRegression\", \"run_properties\": \"<azureml.automl.runtime.shared.model_wrappers.StandardScalerWrapper object at 0x7f9f877b9da0\", \"primary_metric\": 0.89717495, \"best_metric\": 0.92354421}, {\"run_id\": \"AutoML_3c71c4ea-e591-4b72-8a0a-c6e0139a277c_20\", \"run_number\": 25, \"metric\": null, \"status\": \"Completed\", \"run_type\": \"azureml.scriptrun\", \"training_percent\": \"100\", \"start_time\": \"2021-02-18T17:26:10.156778Z\", \"end_time\": \"2021-02-18T17:27:05.252547Z\", \"created_time\": \"2021-02-18T17:25:54.547579Z\", \"created_time_dt\": \"2021-02-18T17:25:54.547579Z\", \"duration\": \"0:01:10\", \"iteration\": \"20\", \"goal\": \"AUC_weighted_max\", \"run_name\": \"SparseNormalizer, XGBoostClassifier\", \"run_properties\": \"<azureml.automl.runtime.shared.model_wrappers.SparseNormalizer object at 0x7f2522a86198\", \"primary_metric\": 0.89046539, \"best_metric\": 0.92354421}, {\"run_id\": \"AutoML_3c71c4ea-e591-4b72-8a0a-c6e0139a277c_21\", \"run_number\": 26, \"metric\": null, \"status\": \"Completed\", \"run_type\": \"azureml.scriptrun\", \"training_percent\": \"100\", \"start_time\": \"2021-02-18T17:26:33.45434Z\", \"end_time\": \"2021-02-18T17:27:25.453062Z\", \"created_time\": \"2021-02-18T17:26:08.155364Z\", \"created_time_dt\": \"2021-02-18T17:26:08.155364Z\", \"duration\": \"0:01:17\", \"iteration\": \"21\", \"goal\": \"AUC_weighted_max\", \"run_name\": \"MaxAbsScaler, LightGBM\", \"run_properties\": \"copy=True\", \"primary_metric\": 0.90693849, \"best_metric\": 0.92354421}, {\"run_id\": \"AutoML_3c71c4ea-e591-4b72-8a0a-c6e0139a277c_22\", \"run_number\": 27, \"metric\": null, \"status\": \"Completed\", \"run_type\": \"azureml.scriptrun\", \"training_percent\": \"100\", \"start_time\": \"2021-02-18T17:27:11.570123Z\", \"end_time\": \"2021-02-18T17:28:03.630626Z\", \"created_time\": \"2021-02-18T17:26:27.203193Z\", \"created_time_dt\": \"2021-02-18T17:26:27.203193Z\", \"duration\": \"0:01:36\", \"iteration\": \"22\", \"goal\": \"AUC_weighted_max\", \"run_name\": \"MaxAbsScaler, LightGBM\", \"run_properties\": \"copy=True\", \"primary_metric\": 0.9116671, \"best_metric\": 0.92354421}, {\"run_id\": \"AutoML_3c71c4ea-e591-4b72-8a0a-c6e0139a277c_24\", \"run_number\": 28, \"metric\": null, \"status\": \"Completed\", \"run_type\": \"azureml.scriptrun\", \"training_percent\": \"100\", \"start_time\": \"2021-02-18T17:27:26.776776Z\", \"end_time\": \"2021-02-18T17:28:19.511979Z\", \"created_time\": \"2021-02-18T17:27:03.52821Z\", \"created_time_dt\": \"2021-02-18T17:27:03.52821Z\", \"duration\": \"0:01:15\", \"iteration\": \"24\", \"goal\": \"AUC_weighted_max\", \"run_name\": \"MaxAbsScaler, LightGBM\", \"run_properties\": \"copy=True\", \"primary_metric\": 0.90103731, \"best_metric\": 0.92354421}, {\"run_id\": \"AutoML_3c71c4ea-e591-4b72-8a0a-c6e0139a277c_23\", \"run_number\": 29, \"metric\": null, \"status\": \"Completed\", \"run_type\": \"azureml.scriptrun\", \"training_percent\": \"100\", \"start_time\": \"2021-02-18T17:27:15.20609Z\", \"end_time\": \"2021-02-18T17:28:03.619313Z\", \"created_time\": \"2021-02-18T17:27:03.803222Z\", \"created_time_dt\": \"2021-02-18T17:27:03.803222Z\", \"duration\": \"0:00:59\", \"iteration\": \"23\", \"goal\": \"AUC_weighted_max\", \"run_name\": \"MaxAbsScaler, LightGBM\", \"run_properties\": \"copy=True\", \"primary_metric\": 0.90550556, \"best_metric\": 0.92354421}, {\"run_id\": \"AutoML_3c71c4ea-e591-4b72-8a0a-c6e0139a277c_25\", \"run_number\": 30, \"metric\": null, \"status\": \"Completed\", \"run_type\": \"azureml.scriptrun\", \"training_percent\": \"100\", \"start_time\": \"2021-02-18T17:27:33.52967Z\", \"end_time\": \"2021-02-18T17:28:26.159809Z\", \"created_time\": \"2021-02-18T17:27:18.59242Z\", \"created_time_dt\": \"2021-02-18T17:27:18.59242Z\", \"duration\": \"0:01:07\", \"iteration\": \"25\", \"goal\": \"AUC_weighted_max\", \"run_name\": \"MaxAbsScaler, ExtremeRandomTrees\", \"run_properties\": \"copy=True\", \"primary_metric\": 0.86959861, \"best_metric\": 0.92354421}, {\"run_id\": \"AutoML_3c71c4ea-e591-4b72-8a0a-c6e0139a277c_26\", \"run_number\": 31, \"metric\": null, \"status\": \"Completed\", \"run_type\": \"azureml.scriptrun\", \"training_percent\": \"100\", \"start_time\": \"2021-02-18T17:28:07.509092Z\", \"end_time\": \"2021-02-18T17:29:01.344601Z\", \"created_time\": \"2021-02-18T17:27:28.802039Z\", \"created_time_dt\": \"2021-02-18T17:27:28.802039Z\", \"duration\": \"0:01:32\", \"iteration\": \"26\", \"goal\": \"AUC_weighted_max\", \"run_name\": \"MaxAbsScaler, ExtremeRandomTrees\", \"run_properties\": \"copy=True\", \"primary_metric\": 0.907762, \"best_metric\": 0.92354421}, {\"run_id\": \"AutoML_3c71c4ea-e591-4b72-8a0a-c6e0139a277c_28\", \"run_number\": 32, \"metric\": null, \"status\": \"Completed\", \"run_type\": \"azureml.scriptrun\", \"training_percent\": \"100\", \"start_time\": \"2021-02-18T17:28:21.189099Z\", \"end_time\": \"2021-02-18T17:29:16.423209Z\", \"created_time\": \"2021-02-18T17:28:07.642563Z\", \"created_time_dt\": \"2021-02-18T17:28:07.642563Z\", \"duration\": \"0:01:08\", \"iteration\": \"28\", \"goal\": \"AUC_weighted_max\", \"run_name\": \"StandardScalerWrapper, ExtremeRandomTrees\", \"run_properties\": \"<azureml.automl.runtime.shared.model_wrappers.StandardScalerWrapper object at 0x7f6dba2c89b0\", \"primary_metric\": 0.89398838, \"best_metric\": 0.92354421}, {\"run_id\": \"AutoML_3c71c4ea-e591-4b72-8a0a-c6e0139a277c_27\", \"run_number\": 33, \"metric\": null, \"status\": \"Completed\", \"run_type\": \"azureml.scriptrun\", \"training_percent\": \"100\", \"start_time\": \"2021-02-18T17:28:26.774083Z\", \"end_time\": \"2021-02-18T17:29:18.556448Z\", \"created_time\": \"2021-02-18T17:28:07.951455Z\", \"created_time_dt\": \"2021-02-18T17:28:07.951455Z\", \"duration\": \"0:01:10\", \"iteration\": \"27\", \"goal\": \"AUC_weighted_max\", \"run_name\": \"MaxAbsScaler, ExtremeRandomTrees\", \"run_properties\": \"copy=True\", \"primary_metric\": 0.90512612, \"best_metric\": 0.92354421}, {\"run_id\": \"AutoML_3c71c4ea-e591-4b72-8a0a-c6e0139a277c_29\", \"run_number\": 34, \"metric\": null, \"status\": \"Completed\", \"run_type\": \"azureml.scriptrun\", \"training_percent\": \"100\", \"start_time\": \"2021-02-18T17:28:39.021834Z\", \"end_time\": \"2021-02-18T17:29:30.758217Z\", \"created_time\": \"2021-02-18T17:28:22.098013Z\", \"created_time_dt\": \"2021-02-18T17:28:22.098013Z\", \"duration\": \"0:01:08\", \"iteration\": \"29\", \"goal\": \"AUC_weighted_max\", \"run_name\": \"StandardScalerWrapper, LogisticRegression\", \"run_properties\": \"<azureml.automl.runtime.shared.model_wrappers.StandardScalerWrapper object at 0x7fa8c9eb33c8\", \"primary_metric\": 0.91827803, \"best_metric\": 0.92354421}, {\"run_id\": \"AutoML_3c71c4ea-e591-4b72-8a0a-c6e0139a277c_30\", \"run_number\": 35, \"metric\": null, \"status\": \"Completed\", \"run_type\": \"azureml.scriptrun\", \"training_percent\": \"100\", \"start_time\": \"2021-02-18T17:29:05.407162Z\", \"end_time\": \"2021-02-18T17:30:01.949879Z\", \"created_time\": \"2021-02-18T17:28:31.836896Z\", \"created_time_dt\": \"2021-02-18T17:28:31.836896Z\", \"duration\": \"0:01:30\", \"iteration\": \"30\", \"goal\": \"AUC_weighted_max\", \"run_name\": \"TruncatedSVDWrapper, ExtremeRandomTrees\", \"run_properties\": \"n_components=0.20789473684210527, random_state=None\", \"primary_metric\": 0.76597009, \"best_metric\": 0.92354421}, {\"run_id\": \"AutoML_3c71c4ea-e591-4b72-8a0a-c6e0139a277c_31\", \"run_number\": 36, \"metric\": null, \"status\": \"Completed\", \"run_type\": \"azureml.scriptrun\", \"training_percent\": \"100\", \"start_time\": \"2021-02-18T17:29:22.605159Z\", \"end_time\": \"2021-02-18T17:30:12.885859Z\", \"created_time\": \"2021-02-18T17:29:03.312437Z\", \"created_time_dt\": \"2021-02-18T17:29:03.312437Z\", \"duration\": \"0:01:09\", \"iteration\": \"31\", \"goal\": \"AUC_weighted_max\", \"run_name\": \"StandardScalerWrapper, XGBoostClassifier\", \"run_properties\": \"<azureml.automl.runtime.shared.model_wrappers.StandardScalerWrapper object at 0x7f9c270e7470\", \"primary_metric\": 0.89401725, \"best_metric\": 0.92354421}, {\"run_id\": \"AutoML_3c71c4ea-e591-4b72-8a0a-c6e0139a277c_32\", \"run_number\": 37, \"metric\": null, \"status\": \"Completed\", \"run_type\": \"azureml.scriptrun\", \"training_percent\": \"100\", \"start_time\": \"2021-02-18T17:29:30.334465Z\", \"end_time\": \"2021-02-18T17:30:24.117233Z\", \"created_time\": \"2021-02-18T17:29:18.248642Z\", \"created_time_dt\": \"2021-02-18T17:29:18.248642Z\", \"duration\": \"0:01:05\", \"iteration\": \"32\", \"goal\": \"AUC_weighted_max\", \"run_name\": \"SparseNormalizer, XGBoostClassifier\", \"run_properties\": \"<azureml.automl.runtime.shared.model_wrappers.SparseNormalizer object at 0x7f6177035128\", \"primary_metric\": 0.89324076, \"best_metric\": 0.92354421}, {\"run_id\": \"AutoML_3c71c4ea-e591-4b72-8a0a-c6e0139a277c_33\", \"run_number\": 38, \"metric\": null, \"status\": \"Completed\", \"run_type\": \"azureml.scriptrun\", \"training_percent\": \"100\", \"start_time\": \"2021-02-18T17:29:38.615873Z\", \"end_time\": \"2021-02-18T17:30:38.742255Z\", \"created_time\": \"2021-02-18T17:29:21.887059Z\", \"created_time_dt\": \"2021-02-18T17:29:21.887059Z\", \"duration\": \"0:01:16\", \"iteration\": \"33\", \"goal\": \"AUC_weighted_max\", \"run_name\": \"TruncatedSVDWrapper, XGBoostClassifier\", \"run_properties\": \"n_components=0.6036842105263158, random_state=None\", \"primary_metric\": 0.88023095, \"best_metric\": 0.92354421}, {\"run_id\": \"AutoML_3c71c4ea-e591-4b72-8a0a-c6e0139a277c_34\", \"run_number\": 39, \"metric\": null, \"status\": \"Canceled\", \"run_type\": \"azureml.scriptrun\", \"training_percent\": \"100\", \"start_time\": \"2021-02-18T17:30:05.155361Z\", \"end_time\": \"2021-02-18T17:30:46.106563Z\", \"created_time\": \"2021-02-18T17:29:33.479917Z\", \"created_time_dt\": \"2021-02-18T17:29:33.479917Z\", \"duration\": \"0:01:12\", \"iteration\": \"34\", \"goal\": \"AUC_weighted_max\", \"run_name\": \"TruncatedSVDWrapper, XGBoostClassifier\", \"run_properties\": \"n_components=0.8015789473684211, random_state=None\", \"primary_metric\": 0.87662868, \"best_metric\": 0.92354421}, {\"run_id\": \"AutoML_3c71c4ea-e591-4b72-8a0a-c6e0139a277c_35\", \"run_number\": 40, \"metric\": null, \"status\": \"Canceled\", \"run_type\": \"azureml.scriptrun\", \"training_percent\": \"100\", \"start_time\": \"2021-02-18T17:30:25.05875Z\", \"end_time\": \"2021-02-18T17:30:46.287665Z\", \"created_time\": \"2021-02-18T17:30:04.812261Z\", \"created_time_dt\": \"2021-02-18T17:30:04.812261Z\", \"duration\": \"0:00:41\", \"iteration\": \"35\", \"goal\": null, \"run_name\": \"Canceled\", \"run_properties\": null}, {\"run_id\": \"AutoML_3c71c4ea-e591-4b72-8a0a-c6e0139a277c_36\", \"run_number\": 41, \"metric\": null, \"status\": \"Canceled\", \"run_type\": \"azureml.scriptrun\", \"training_percent\": \"100\", \"start_time\": \"2021-02-18T17:30:19.243795Z\", \"end_time\": \"2021-02-18T17:30:41.379684Z\", \"created_time\": \"2021-02-18T17:30:19.243795Z\", \"created_time_dt\": \"2021-02-18T17:30:19.243795Z\", \"duration\": \"0:00:22\", \"iteration\": \"36\", \"goal\": null, \"run_name\": \"Canceled\", \"run_properties\": null}, {\"run_id\": \"AutoML_3c71c4ea-e591-4b72-8a0a-c6e0139a277c_37\", \"run_number\": 42, \"metric\": null, \"status\": \"Completed\", \"run_type\": \"azureml.scriptrun\", \"training_percent\": \"100\", \"start_time\": \"2021-02-18T17:31:18.295661Z\", \"end_time\": \"2021-02-18T17:32:54.535617Z\", \"created_time\": \"2021-02-18T17:30:46.944383Z\", \"created_time_dt\": \"2021-02-18T17:30:46.944383Z\", \"duration\": \"0:02:07\", \"iteration\": \"37\", \"goal\": \"AUC_weighted_max\", \"run_name\": \"VotingEnsemble\", \"run_properties\": \"classification_labels=None,\\n                              estimators=[('17',\\n                                           Pipeline(memory=None,\\n                                                    steps=[('maxabsscaler',\\n                                                            MaxAbsScaler(copy=True\", \"primary_metric\": 0.92369494, \"best_metric\": 0.92369494}], \"children_metrics\": {\"categories\": [0], \"series\": {\"log_loss\": [{\"categories\": [\"0\", \"1\", \"2\", \"3\", \"4\", \"5\", \"6\", \"7\", \"8\", \"9\", \"10\", \"11\", \"12\", \"13\", \"14\", \"15\", \"16\", \"17\", \"18\", \"19\", \"20\", \"21\", \"22\", \"23\", \"24\", \"25\", \"26\", \"27\", \"28\", \"29\", \"30\", \"31\", \"32\", \"33\", \"34\", \"37\"], \"mode\": \"markers\", \"name\": \"log_loss\", \"stepped\": false, \"type\": \"scatter\", \"data\": [0.5029439143396193, 0.45385613120295426, 0.39928677048576094, 0.4045800088852041, 0.4218542573584461, 0.43819121394099364, 0.38706483439136136, 0.40075442650293347, 0.502707061671813, 0.47161121425150254, 0.45344301498802214, 0.4562772058561677, 0.5374083929172998, 0.5073053929991816, 0.42881418271027033, 0.4152947499447066, 0.43190357726352313, 0.382087426072427, 0.4543789669849437, 0.4271199842030861, 0.47941721622037053, 0.37699779662317123, 0.37234328571376435, 0.38142258657406, 0.3908953855526967, 0.515399210659453, 0.4863165191557606, 0.5256316029777602, 0.4559242306482167, 0.6082057296292698, 0.6466540895964409, 0.4180683734398669, 0.41099112386819714, 0.43020287354393894, 0.4707971409996241, 0.4842443804841232]}, {\"categories\": [\"0\", \"1\", \"2\", \"3\", \"4\", \"5\", \"6\", \"7\", \"8\", \"9\", \"10\", \"11\", \"12\", \"13\", \"14\", \"15\", \"16\", \"17\", \"18\", \"19\", \"20\", \"21\", \"22\", \"23\", \"24\", \"25\", \"26\", \"27\", \"28\", \"29\", \"30\", \"31\", \"32\", \"33\", \"34\", \"37\"], \"mode\": \"lines\", \"name\": \"log_loss_min\", \"stepped\": true, \"type\": \"scatter\", \"data\": [0.5029439143396193, 0.45385613120295426, 0.39928677048576094, 0.39928677048576094, 0.39928677048576094, 0.39928677048576094, 0.38706483439136136, 0.38706483439136136, 0.38706483439136136, 0.38706483439136136, 0.38706483439136136, 0.38706483439136136, 0.38706483439136136, 0.38706483439136136, 0.38706483439136136, 0.38706483439136136, 0.38706483439136136, 0.382087426072427, 0.382087426072427, 0.382087426072427, 0.382087426072427, 0.37699779662317123, 0.37234328571376435, 0.37234328571376435, 0.37234328571376435, 0.37234328571376435, 0.37234328571376435, 0.37234328571376435, 0.37234328571376435, 0.37234328571376435, 0.37234328571376435, 0.37234328571376435, 0.37234328571376435, 0.37234328571376435, 0.37234328571376435, 0.37234328571376435]}], \"f1_score_micro\": [{\"categories\": [\"0\", \"1\", \"2\", \"3\", \"4\", \"5\", \"6\", \"7\", \"8\", \"9\", \"10\", \"11\", \"12\", \"13\", \"14\", \"15\", \"16\", \"17\", \"18\", \"19\", \"20\", \"21\", \"22\", \"23\", \"24\", \"25\", \"26\", \"27\", \"28\", \"29\", \"30\", \"31\", \"32\", \"33\", \"34\", \"37\"], \"mode\": \"markers\", \"name\": \"f1_score_micro\", \"stepped\": false, \"type\": \"scatter\", \"data\": [0.811881188118812, 0.8151815181518153, 0.834983498349835, 0.8250825082508251, 0.8118811881188118, 0.8151815181518152, 0.834983498349835, 0.8448844884488449, 0.8151815181518152, 0.8547854785478548, 0.8151815181518152, 0.7755775577557755, 0.8382838283828384, 0.8085808580858087, 0.792079207920792, 0.8151815181518152, 0.8250825082508251, 0.8448844884488449, 0.8283828382838285, 0.821782178217822, 0.7953795379537953, 0.8184818481848186, 0.8283828382838285, 0.8184818481848186, 0.8316831683168316, 0.7491749174917492, 0.821782178217822, 0.8415841584158416, 0.8019801980198021, 0.8415841584158416, 0.6567656765676567, 0.8283828382838285, 0.811881188118812, 0.811881188118812, 0.8085808580858087, 0.8514851485148515]}, {\"categories\": [\"0\", \"1\", \"2\", \"3\", \"4\", \"5\", \"6\", \"7\", \"8\", \"9\", \"10\", \"11\", \"12\", \"13\", \"14\", \"15\", \"16\", \"17\", \"18\", \"19\", \"20\", \"21\", \"22\", \"23\", \"24\", \"25\", \"26\", \"27\", \"28\", \"29\", \"30\", \"31\", \"32\", \"33\", \"34\", \"37\"], \"mode\": \"lines\", \"name\": \"f1_score_micro_max\", \"stepped\": true, \"type\": \"scatter\", \"data\": [0.811881188118812, 0.8151815181518153, 0.834983498349835, 0.834983498349835, 0.834983498349835, 0.834983498349835, 0.834983498349835, 0.8448844884488449, 0.8448844884488449, 0.8547854785478548, 0.8547854785478548, 0.8547854785478548, 0.8547854785478548, 0.8547854785478548, 0.8547854785478548, 0.8547854785478548, 0.8547854785478548, 0.8547854785478548, 0.8547854785478548, 0.8547854785478548, 0.8547854785478548, 0.8547854785478548, 0.8547854785478548, 0.8547854785478548, 0.8547854785478548, 0.8547854785478548, 0.8547854785478548, 0.8547854785478548, 0.8547854785478548, 0.8547854785478548, 0.8547854785478548, 0.8547854785478548, 0.8547854785478548, 0.8547854785478548, 0.8547854785478548, 0.8547854785478548]}], \"matthews_correlation\": [{\"categories\": [\"0\", \"1\", \"2\", \"3\", \"4\", \"5\", \"6\", \"7\", \"8\", \"9\", \"10\", \"11\", \"12\", \"13\", \"14\", \"15\", \"16\", \"17\", \"18\", \"19\", \"20\", \"21\", \"22\", \"23\", \"24\", \"25\", \"26\", \"27\", \"28\", \"29\", \"30\", \"31\", \"32\", \"33\", \"34\", \"37\"], \"mode\": \"markers\", \"name\": \"matthews_correlation\", \"stepped\": false, \"type\": \"scatter\", \"data\": [0.6202554372428003, 0.6269161627226858, 0.6671872447737561, 0.646818478460648, 0.6204452573436071, 0.6273527911725795, 0.6671193049371791, 0.6888729012542775, 0.6264721955133243, 0.7070498352930974, 0.630532766402471, 0.5482411829965481, 0.6734535039190885, 0.6136152895279162, 0.5793692278657357, 0.6287609696256161, 0.6487694939128069, 0.6870835627328439, 0.6555780815895224, 0.6400390136567032, 0.5868641546110123, 0.6332057978560126, 0.6530260689785917, 0.6333590291779607, 0.6595679406816202, 0.4970897818486734, 0.6453803005606964, 0.6804181275804918, 0.606412800935829, 0.6811231708000755, 0.33402455461754915, 0.6537082286028112, 0.6203405111397523, 0.6208558632658537, 0.6149127483752558, 0.7003408073900205]}, {\"categories\": [\"0\", \"1\", \"2\", \"3\", \"4\", \"5\", \"6\", \"7\", \"8\", \"9\", \"10\", \"11\", \"12\", \"13\", \"14\", \"15\", \"16\", \"17\", \"18\", \"19\", \"20\", \"21\", \"22\", \"23\", \"24\", \"25\", \"26\", \"27\", \"28\", \"29\", \"30\", \"31\", \"32\", \"33\", \"34\", \"37\"], \"mode\": \"lines\", \"name\": \"matthews_correlation_max\", \"stepped\": true, \"type\": \"scatter\", \"data\": [0.6202554372428003, 0.6269161627226858, 0.6671872447737561, 0.6671872447737561, 0.6671872447737561, 0.6671872447737561, 0.6671872447737561, 0.6888729012542775, 0.6888729012542775, 0.7070498352930974, 0.7070498352930974, 0.7070498352930974, 0.7070498352930974, 0.7070498352930974, 0.7070498352930974, 0.7070498352930974, 0.7070498352930974, 0.7070498352930974, 0.7070498352930974, 0.7070498352930974, 0.7070498352930974, 0.7070498352930974, 0.7070498352930974, 0.7070498352930974, 0.7070498352930974, 0.7070498352930974, 0.7070498352930974, 0.7070498352930974, 0.7070498352930974, 0.7070498352930974, 0.7070498352930974, 0.7070498352930974, 0.7070498352930974, 0.7070498352930974, 0.7070498352930974, 0.7070498352930974]}], \"weighted_accuracy\": [{\"categories\": [\"0\", \"1\", \"2\", \"3\", \"4\", \"5\", \"6\", \"7\", \"8\", \"9\", \"10\", \"11\", \"12\", \"13\", \"14\", \"15\", \"16\", \"17\", \"18\", \"19\", \"20\", \"21\", \"22\", \"23\", \"24\", \"25\", \"26\", \"27\", \"28\", \"29\", \"30\", \"31\", \"32\", \"33\", \"34\", \"37\"], \"mode\": \"markers\", \"name\": \"weighted_accuracy\", \"stepped\": false, \"type\": \"scatter\", \"data\": [0.8173025598569671, 0.8182552835669781, 0.8402543459536295, 0.8294848260893853, 0.8154182766819785, 0.8212476071697336, 0.8377060998147215, 0.8493873409336975, 0.8195715218330228, 0.8572950357237387, 0.8152845441506282, 0.7790630214390912, 0.8404049562912995, 0.8107823346371004, 0.7979741749593717, 0.8229906000257072, 0.8252077393106814, 0.8465677519929056, 0.8281853523753374, 0.8252194921584879, 0.7981353515569426, 0.8218993241499368, 0.831609570803281, 0.822130911715872, 0.8353466150611837, 0.7491869642831599, 0.8195913447665221, 0.8433398997399748, 0.8005760745745043, 0.8432363768953565, 0.6786668366535588, 0.8318586578425147, 0.8138361052956126, 0.8169939445575517, 0.8137288361501681, 0.8537271401715225]}, {\"categories\": [\"0\", \"1\", \"2\", \"3\", \"4\", \"5\", \"6\", \"7\", \"8\", \"9\", \"10\", \"11\", \"12\", \"13\", \"14\", \"15\", \"16\", \"17\", \"18\", \"19\", \"20\", \"21\", \"22\", \"23\", \"24\", \"25\", \"26\", \"27\", \"28\", \"29\", \"30\", \"31\", \"32\", \"33\", \"34\", \"37\"], \"mode\": \"lines\", \"name\": \"weighted_accuracy_max\", \"stepped\": true, \"type\": \"scatter\", \"data\": [0.8173025598569671, 0.8182552835669781, 0.8402543459536295, 0.8402543459536295, 0.8402543459536295, 0.8402543459536295, 0.8402543459536295, 0.8493873409336975, 0.8493873409336975, 0.8572950357237387, 0.8572950357237387, 0.8572950357237387, 0.8572950357237387, 0.8572950357237387, 0.8572950357237387, 0.8572950357237387, 0.8572950357237387, 0.8572950357237387, 0.8572950357237387, 0.8572950357237387, 0.8572950357237387, 0.8572950357237387, 0.8572950357237387, 0.8572950357237387, 0.8572950357237387, 0.8572950357237387, 0.8572950357237387, 0.8572950357237387, 0.8572950357237387, 0.8572950357237387, 0.8572950357237387, 0.8572950357237387, 0.8572950357237387, 0.8572950357237387, 0.8572950357237387, 0.8572950357237387]}], \"recall_score_macro\": [{\"categories\": [\"0\", \"1\", \"2\", \"3\", \"4\", \"5\", \"6\", \"7\", \"8\", \"9\", \"10\", \"11\", \"12\", \"13\", \"14\", \"15\", \"16\", \"17\", \"18\", \"19\", \"20\", \"21\", \"22\", \"23\", \"24\", \"25\", \"26\", \"27\", \"28\", \"29\", \"30\", \"31\", \"32\", \"33\", \"34\", \"37\"], \"mode\": \"markers\", \"name\": \"recall_score_macro\", \"stepped\": false, \"type\": \"scatter\", \"data\": [0.8063610997275813, 0.812058602707693, 0.8296038479741842, 0.8205880238296211, 0.8082845473070573, 0.8089909453847165, 0.8322041854457827, 0.8402807793957963, 0.8107138055295625, 0.8522227806455374, 0.8150867235857984, 0.7720367763653302, 0.8361249215203888, 0.8063365862047638, 0.7860643922893383, 0.8072161826478816, 0.8249474670496871, 0.8431664337307261, 0.8285773928735692, 0.8182744882714047, 0.7925766612129547, 0.8150049642571998, 0.8250943257071842, 0.8147601071282847, 0.82794605193233, 0.7491676192493338, 0.8240137580524568, 0.839798911245103, 0.8034144452468533, 0.8398892694028371, 0.6345160987583128, 0.824851793488087, 0.8098846896642148, 0.8066618158739652, 0.8033163040178151, 0.8491959037981239]}, {\"categories\": [\"0\", \"1\", \"2\", \"3\", \"4\", \"5\", \"6\", \"7\", \"8\", \"9\", \"10\", \"11\", \"12\", \"13\", \"14\", \"15\", \"16\", \"17\", \"18\", \"19\", \"20\", \"21\", \"22\", \"23\", \"24\", \"25\", \"26\", \"27\", \"28\", \"29\", \"30\", \"31\", \"32\", \"33\", \"34\", \"37\"], \"mode\": \"lines\", \"name\": \"recall_score_macro_max\", \"stepped\": true, \"type\": \"scatter\", \"data\": [0.8063610997275813, 0.812058602707693, 0.8296038479741842, 0.8296038479741842, 0.8296038479741842, 0.8296038479741842, 0.8322041854457827, 0.8402807793957963, 0.8402807793957963, 0.8522227806455374, 0.8522227806455374, 0.8522227806455374, 0.8522227806455374, 0.8522227806455374, 0.8522227806455374, 0.8522227806455374, 0.8522227806455374, 0.8522227806455374, 0.8522227806455374, 0.8522227806455374, 0.8522227806455374, 0.8522227806455374, 0.8522227806455374, 0.8522227806455374, 0.8522227806455374, 0.8522227806455374, 0.8522227806455374, 0.8522227806455374, 0.8522227806455374, 0.8522227806455374, 0.8522227806455374, 0.8522227806455374, 0.8522227806455374, 0.8522227806455374, 0.8522227806455374, 0.8522227806455374]}], \"AUC_micro\": [{\"categories\": [\"0\", \"1\", \"2\", \"3\", \"4\", \"5\", \"6\", \"7\", \"8\", \"9\", \"10\", \"11\", \"12\", \"13\", \"14\", \"15\", \"16\", \"17\", \"18\", \"19\", \"20\", \"21\", \"22\", \"23\", \"24\", \"25\", \"26\", \"27\", \"28\", \"29\", \"30\", \"31\", \"32\", \"33\", \"34\", \"37\"], \"mode\": \"markers\", \"name\": \"AUC_micro\", \"stepped\": false, \"type\": \"scatter\", \"data\": [0.8837695650753195, 0.8851746560794694, 0.9081789367055517, 0.9044864882527858, 0.8946181746887559, 0.8918079926804561, 0.9151063621213607, 0.9155311570761037, 0.9013822174296638, 0.9203346077181975, 0.8945201450838152, 0.8799464104826326, 0.9158579224259059, 0.8922654641701794, 0.8909257262359899, 0.8834754762604974, 0.8910564323759109, 0.925072705290331, 0.8960232656929059, 0.8994869784008103, 0.8913178446557527, 0.9104336176191877, 0.9152370682612815, 0.9087997908701761, 0.9056955200470541, 0.8631179949678137, 0.9030813972486357, 0.9085710551253143, 0.8866451001535798, 0.9200731954383556, 0.7216939515733752, 0.8960886187628664, 0.8938992909191908, 0.8805672646472568, 0.8771362284743326, 0.9235695846812403]}, {\"categories\": [\"0\", \"1\", \"2\", \"3\", \"4\", \"5\", \"6\", \"7\", \"8\", \"9\", \"10\", \"11\", \"12\", \"13\", \"14\", \"15\", \"16\", \"17\", \"18\", \"19\", \"20\", \"21\", \"22\", \"23\", \"24\", \"25\", \"26\", \"27\", \"28\", \"29\", \"30\", \"31\", \"32\", \"33\", \"34\", \"37\"], \"mode\": \"lines\", \"name\": \"AUC_micro_max\", \"stepped\": true, \"type\": \"scatter\", \"data\": [0.8837695650753195, 0.8851746560794694, 0.9081789367055517, 0.9081789367055517, 0.9081789367055517, 0.9081789367055517, 0.9151063621213607, 0.9155311570761037, 0.9155311570761037, 0.9203346077181975, 0.9203346077181975, 0.9203346077181975, 0.9203346077181975, 0.9203346077181975, 0.9203346077181975, 0.9203346077181975, 0.9203346077181975, 0.925072705290331, 0.925072705290331, 0.925072705290331, 0.925072705290331, 0.925072705290331, 0.925072705290331, 0.925072705290331, 0.925072705290331, 0.925072705290331, 0.925072705290331, 0.925072705290331, 0.925072705290331, 0.925072705290331, 0.925072705290331, 0.925072705290331, 0.925072705290331, 0.925072705290331, 0.925072705290331, 0.925072705290331]}], \"AUC_weighted\": [{\"categories\": [\"0\", \"1\", \"2\", \"3\", \"4\", \"5\", \"6\", \"7\", \"8\", \"9\", \"10\", \"11\", \"12\", \"13\", \"14\", \"15\", \"16\", \"17\", \"18\", \"19\", \"20\", \"21\", \"22\", \"23\", \"24\", \"25\", \"26\", \"27\", \"28\", \"29\", \"30\", \"31\", \"32\", \"33\", \"34\", \"37\"], \"mode\": \"markers\", \"name\": \"AUC_weighted\", \"stepped\": false, \"type\": \"scatter\", \"data\": [0.8800309936063867, 0.8851924936337517, 0.9041646031701536, 0.8995669030436222, 0.8935952961623638, 0.8857702003516065, 0.9136957211425297, 0.9140863319478799, 0.9012623963672376, 0.9203990145942043, 0.8925684220588629, 0.8764060179493421, 0.9135122794543085, 0.8901418651071751, 0.8863899705096129, 0.8754121523740702, 0.8900442652446969, 0.9235442134069949, 0.8964935094598986, 0.8971749527639136, 0.8904653853929215, 0.9069384912662741, 0.9116671019847091, 0.905505564432484, 0.9010373065337604, 0.8695986115505079, 0.9077619950885446, 0.9051261183854461, 0.8939883839051278, 0.9182780294019887, 0.765970089200894, 0.8940172506083699, 0.8932407641010788, 0.880230954390683, 0.8766286753412871, 0.9236949432061983]}, {\"categories\": [\"0\", \"1\", \"2\", \"3\", \"4\", \"5\", \"6\", \"7\", \"8\", \"9\", \"10\", \"11\", \"12\", \"13\", \"14\", \"15\", \"16\", \"17\", \"18\", \"19\", \"20\", \"21\", \"22\", \"23\", \"24\", \"25\", \"26\", \"27\", \"28\", \"29\", \"30\", \"31\", \"32\", \"33\", \"34\", \"37\"], \"mode\": \"lines\", \"name\": \"AUC_weighted_max\", \"stepped\": true, \"type\": \"scatter\", \"data\": [0.8800309936063867, 0.8851924936337517, 0.9041646031701536, 0.9041646031701536, 0.9041646031701536, 0.9041646031701536, 0.9136957211425297, 0.9140863319478799, 0.9140863319478799, 0.9203990145942043, 0.9203990145942043, 0.9203990145942043, 0.9203990145942043, 0.9203990145942043, 0.9203990145942043, 0.9203990145942043, 0.9203990145942043, 0.9235442134069949, 0.9235442134069949, 0.9235442134069949, 0.9235442134069949, 0.9235442134069949, 0.9235442134069949, 0.9235442134069949, 0.9235442134069949, 0.9235442134069949, 0.9235442134069949, 0.9235442134069949, 0.9235442134069949, 0.9235442134069949, 0.9235442134069949, 0.9235442134069949, 0.9235442134069949, 0.9235442134069949, 0.9235442134069949, 0.9236949432061983]}], \"AUC_macro\": [{\"categories\": [\"0\", \"1\", \"2\", \"3\", \"4\", \"5\", \"6\", \"7\", \"8\", \"9\", \"10\", \"11\", \"12\", \"13\", \"14\", \"15\", \"16\", \"17\", \"18\", \"19\", \"20\", \"21\", \"22\", \"23\", \"24\", \"25\", \"26\", \"27\", \"28\", \"29\", \"30\", \"31\", \"32\", \"33\", \"34\", \"37\"], \"mode\": \"markers\", \"name\": \"AUC_macro\", \"stepped\": false, \"type\": \"scatter\", \"data\": [0.8800309936063867, 0.8851924936337517, 0.9041646031701536, 0.8995669030436222, 0.8935952961623636, 0.8857702003516065, 0.9136957211425297, 0.9140863319478799, 0.9012623963672376, 0.9203990145942041, 0.8925684220588631, 0.8764060179493421, 0.9135122794543085, 0.8901418651071751, 0.8863899705096129, 0.8754121523740702, 0.8900442652446969, 0.9235442134069949, 0.8964935094598987, 0.8971749527639137, 0.8904653853929215, 0.9069384912662741, 0.9116671019847091, 0.905505564432484, 0.9010373065337604, 0.8695986115505079, 0.9077619950885446, 0.9051261183854461, 0.8939883839051278, 0.9182780294019887, 0.765970089200894, 0.8940172506083699, 0.8932407641010786, 0.880230954390683, 0.8766286753412871, 0.9236949432061982]}, {\"categories\": [\"0\", \"1\", \"2\", \"3\", \"4\", \"5\", \"6\", \"7\", \"8\", \"9\", \"10\", \"11\", \"12\", \"13\", \"14\", \"15\", \"16\", \"17\", \"18\", \"19\", \"20\", \"21\", \"22\", \"23\", \"24\", \"25\", \"26\", \"27\", \"28\", \"29\", \"30\", \"31\", \"32\", \"33\", \"34\", \"37\"], \"mode\": \"lines\", \"name\": \"AUC_macro_max\", \"stepped\": true, \"type\": \"scatter\", \"data\": [0.8800309936063867, 0.8851924936337517, 0.9041646031701536, 0.9041646031701536, 0.9041646031701536, 0.9041646031701536, 0.9136957211425297, 0.9140863319478799, 0.9140863319478799, 0.9203990145942041, 0.9203990145942041, 0.9203990145942041, 0.9203990145942041, 0.9203990145942041, 0.9203990145942041, 0.9203990145942041, 0.9203990145942041, 0.9235442134069949, 0.9235442134069949, 0.9235442134069949, 0.9235442134069949, 0.9235442134069949, 0.9235442134069949, 0.9235442134069949, 0.9235442134069949, 0.9235442134069949, 0.9235442134069949, 0.9235442134069949, 0.9235442134069949, 0.9235442134069949, 0.9235442134069949, 0.9235442134069949, 0.9235442134069949, 0.9235442134069949, 0.9235442134069949, 0.9236949432061982]}], \"precision_score_micro\": [{\"categories\": [\"0\", \"1\", \"2\", \"3\", \"4\", \"5\", \"6\", \"7\", \"8\", \"9\", \"10\", \"11\", \"12\", \"13\", \"14\", \"15\", \"16\", \"17\", \"18\", \"19\", \"20\", \"21\", \"22\", \"23\", \"24\", \"25\", \"26\", \"27\", \"28\", \"29\", \"30\", \"31\", \"32\", \"33\", \"34\", \"37\"], \"mode\": \"markers\", \"name\": \"precision_score_micro\", \"stepped\": false, \"type\": \"scatter\", \"data\": [0.811881188118812, 0.8151815181518153, 0.834983498349835, 0.8250825082508251, 0.8118811881188118, 0.8151815181518152, 0.834983498349835, 0.8448844884488449, 0.8151815181518152, 0.8547854785478548, 0.8151815181518152, 0.7755775577557755, 0.8382838283828384, 0.8085808580858087, 0.7920792079207922, 0.8151815181518152, 0.8250825082508251, 0.8448844884488449, 0.8283828382838285, 0.821782178217822, 0.7953795379537955, 0.8184818481848186, 0.8283828382838285, 0.8184818481848186, 0.8316831683168316, 0.7491749174917492, 0.821782178217822, 0.8415841584158416, 0.8019801980198021, 0.8415841584158416, 0.6567656765676567, 0.8283828382838285, 0.811881188118812, 0.811881188118812, 0.8085808580858087, 0.8514851485148515]}, {\"categories\": [\"0\", \"1\", \"2\", \"3\", \"4\", \"5\", \"6\", \"7\", \"8\", \"9\", \"10\", \"11\", \"12\", \"13\", \"14\", \"15\", \"16\", \"17\", \"18\", \"19\", \"20\", \"21\", \"22\", \"23\", \"24\", \"25\", \"26\", \"27\", \"28\", \"29\", \"30\", \"31\", \"32\", \"33\", \"34\", \"37\"], \"mode\": \"lines\", \"name\": \"precision_score_micro_max\", \"stepped\": true, \"type\": \"scatter\", \"data\": [0.811881188118812, 0.8151815181518153, 0.834983498349835, 0.834983498349835, 0.834983498349835, 0.834983498349835, 0.834983498349835, 0.8448844884488449, 0.8448844884488449, 0.8547854785478548, 0.8547854785478548, 0.8547854785478548, 0.8547854785478548, 0.8547854785478548, 0.8547854785478548, 0.8547854785478548, 0.8547854785478548, 0.8547854785478548, 0.8547854785478548, 0.8547854785478548, 0.8547854785478548, 0.8547854785478548, 0.8547854785478548, 0.8547854785478548, 0.8547854785478548, 0.8547854785478548, 0.8547854785478548, 0.8547854785478548, 0.8547854785478548, 0.8547854785478548, 0.8547854785478548, 0.8547854785478548, 0.8547854785478548, 0.8547854785478548, 0.8547854785478548, 0.8547854785478548]}], \"recall_score_micro\": [{\"categories\": [\"0\", \"1\", \"2\", \"3\", \"4\", \"5\", \"6\", \"7\", \"8\", \"9\", \"10\", \"11\", \"12\", \"13\", \"14\", \"15\", \"16\", \"17\", \"18\", \"19\", \"20\", \"21\", \"22\", \"23\", \"24\", \"25\", \"26\", \"27\", \"28\", \"29\", \"30\", \"31\", \"32\", \"33\", \"34\", \"37\"], \"mode\": \"markers\", \"name\": \"recall_score_micro\", \"stepped\": false, \"type\": \"scatter\", \"data\": [0.811881188118812, 0.8151815181518153, 0.834983498349835, 0.8250825082508251, 0.8118811881188118, 0.8151815181518152, 0.834983498349835, 0.8448844884488449, 0.8151815181518152, 0.8547854785478548, 0.8151815181518152, 0.7755775577557755, 0.8382838283828384, 0.8085808580858087, 0.7920792079207922, 0.8151815181518152, 0.8250825082508251, 0.8448844884488449, 0.8283828382838285, 0.821782178217822, 0.7953795379537955, 0.8184818481848186, 0.8283828382838285, 0.8184818481848186, 0.8316831683168316, 0.7491749174917492, 0.821782178217822, 0.8415841584158416, 0.8019801980198021, 0.8415841584158416, 0.6567656765676567, 0.8283828382838285, 0.811881188118812, 0.811881188118812, 0.8085808580858087, 0.8514851485148515]}, {\"categories\": [\"0\", \"1\", \"2\", \"3\", \"4\", \"5\", \"6\", \"7\", \"8\", \"9\", \"10\", \"11\", \"12\", \"13\", \"14\", \"15\", \"16\", \"17\", \"18\", \"19\", \"20\", \"21\", \"22\", \"23\", \"24\", \"25\", \"26\", \"27\", \"28\", \"29\", \"30\", \"31\", \"32\", \"33\", \"34\", \"37\"], \"mode\": \"lines\", \"name\": \"recall_score_micro_max\", \"stepped\": true, \"type\": \"scatter\", \"data\": [0.811881188118812, 0.8151815181518153, 0.834983498349835, 0.834983498349835, 0.834983498349835, 0.834983498349835, 0.834983498349835, 0.8448844884488449, 0.8448844884488449, 0.8547854785478548, 0.8547854785478548, 0.8547854785478548, 0.8547854785478548, 0.8547854785478548, 0.8547854785478548, 0.8547854785478548, 0.8547854785478548, 0.8547854785478548, 0.8547854785478548, 0.8547854785478548, 0.8547854785478548, 0.8547854785478548, 0.8547854785478548, 0.8547854785478548, 0.8547854785478548, 0.8547854785478548, 0.8547854785478548, 0.8547854785478548, 0.8547854785478548, 0.8547854785478548, 0.8547854785478548, 0.8547854785478548, 0.8547854785478548, 0.8547854785478548, 0.8547854785478548, 0.8547854785478548]}], \"average_precision_score_macro\": [{\"categories\": [\"0\", \"1\", \"2\", \"3\", \"4\", \"5\", \"6\", \"7\", \"8\", \"9\", \"10\", \"11\", \"12\", \"13\", \"14\", \"15\", \"16\", \"17\", \"18\", \"19\", \"20\", \"21\", \"22\", \"23\", \"24\", \"25\", \"26\", \"27\", \"28\", \"29\", \"30\", \"31\", \"32\", \"33\", \"34\", \"37\"], \"mode\": \"markers\", \"name\": \"average_precision_score_macro\", \"stepped\": false, \"type\": \"scatter\", \"data\": [0.8824710132031789, 0.8881740894407318, 0.9036520913989706, 0.9024727417930706, 0.8995946267971645, 0.8828899613632042, 0.9136649706035064, 0.9136741240167984, 0.8992779783473687, 0.9149648910328105, 0.8954038169208299, 0.8808510619306901, 0.9132061457277142, 0.8905375385155322, 0.8904458868375476, 0.8690040442310497, 0.891926680087988, 0.9248760462465372, 0.9001556526825972, 0.8985097747795381, 0.8956475007187423, 0.9078294615284328, 0.911220216366357, 0.9056226104557532, 0.9036743168696919, 0.8764980116308783, 0.9079041788215022, 0.9054816890190912, 0.8931875190597668, 0.918293838054487, 0.7762188040623391, 0.8970728355283892, 0.8984592422301102, 0.8757622917321607, 0.8767385415733046, 0.9224472846956662]}, {\"categories\": [\"0\", \"1\", \"2\", \"3\", \"4\", \"5\", \"6\", \"7\", \"8\", \"9\", \"10\", \"11\", \"12\", \"13\", \"14\", \"15\", \"16\", \"17\", \"18\", \"19\", \"20\", \"21\", \"22\", \"23\", \"24\", \"25\", \"26\", \"27\", \"28\", \"29\", \"30\", \"31\", \"32\", \"33\", \"34\", \"37\"], \"mode\": \"lines\", \"name\": \"average_precision_score_macro_max\", \"stepped\": true, \"type\": \"scatter\", \"data\": [0.8824710132031789, 0.8881740894407318, 0.9036520913989706, 0.9036520913989706, 0.9036520913989706, 0.9036520913989706, 0.9136649706035064, 0.9136741240167984, 0.9136741240167984, 0.9149648910328105, 0.9149648910328105, 0.9149648910328105, 0.9149648910328105, 0.9149648910328105, 0.9149648910328105, 0.9149648910328105, 0.9149648910328105, 0.9248760462465372, 0.9248760462465372, 0.9248760462465372, 0.9248760462465372, 0.9248760462465372, 0.9248760462465372, 0.9248760462465372, 0.9248760462465372, 0.9248760462465372, 0.9248760462465372, 0.9248760462465372, 0.9248760462465372, 0.9248760462465372, 0.9248760462465372, 0.9248760462465372, 0.9248760462465372, 0.9248760462465372, 0.9248760462465372, 0.9248760462465372]}], \"f1_score_weighted\": [{\"categories\": [\"0\", \"1\", \"2\", \"3\", \"4\", \"5\", \"6\", \"7\", \"8\", \"9\", \"10\", \"11\", \"12\", \"13\", \"14\", \"15\", \"16\", \"17\", \"18\", \"19\", \"20\", \"21\", \"22\", \"23\", \"24\", \"25\", \"26\", \"27\", \"28\", \"29\", \"30\", \"31\", \"32\", \"33\", \"34\", \"37\"], \"mode\": \"markers\", \"name\": \"f1_score_weighted\", \"stepped\": false, \"type\": \"scatter\", \"data\": [0.8107818678217337, 0.8147944449057807, 0.8337691183399004, 0.8240927032339015, 0.8113947226806638, 0.8136021654174107, 0.8347024444905493, 0.8439735955636517, 0.8144304274332382, 0.8544418388266749, 0.8152709412684453, 0.775123800166356, 0.8380916042933889, 0.8084543446121067, 0.79045924582439, 0.8123954255037313, 0.825227883856846, 0.8448081849503781, 0.8285799483356703, 0.8212987486169855, 0.7951495511870027, 0.81796307213191, 0.8279385509720837, 0.8177523441357085, 0.8311157615959542, 0.7494556133373309, 0.8221410235508633, 0.8414935215793166, 0.8021415970233273, 0.8414225133456107, 0.6246289499789365, 0.8278330685973705, 0.8117268709628241, 0.8107192192555456, 0.8070313724449972, 0.8512773316312141]}, {\"categories\": [\"0\", \"1\", \"2\", \"3\", \"4\", \"5\", \"6\", \"7\", \"8\", \"9\", \"10\", \"11\", \"12\", \"13\", \"14\", \"15\", \"16\", \"17\", \"18\", \"19\", \"20\", \"21\", \"22\", \"23\", \"24\", \"25\", \"26\", \"27\", \"28\", \"29\", \"30\", \"31\", \"32\", \"33\", \"34\", \"37\"], \"mode\": \"lines\", \"name\": \"f1_score_weighted_max\", \"stepped\": true, \"type\": \"scatter\", \"data\": [0.8107818678217337, 0.8147944449057807, 0.8337691183399004, 0.8337691183399004, 0.8337691183399004, 0.8337691183399004, 0.8347024444905493, 0.8439735955636517, 0.8439735955636517, 0.8544418388266749, 0.8544418388266749, 0.8544418388266749, 0.8544418388266749, 0.8544418388266749, 0.8544418388266749, 0.8544418388266749, 0.8544418388266749, 0.8544418388266749, 0.8544418388266749, 0.8544418388266749, 0.8544418388266749, 0.8544418388266749, 0.8544418388266749, 0.8544418388266749, 0.8544418388266749, 0.8544418388266749, 0.8544418388266749, 0.8544418388266749, 0.8544418388266749, 0.8544418388266749, 0.8544418388266749, 0.8544418388266749, 0.8544418388266749, 0.8544418388266749, 0.8544418388266749, 0.8544418388266749]}], \"balanced_accuracy\": [{\"categories\": [\"0\", \"1\", \"2\", \"3\", \"4\", \"5\", \"6\", \"7\", \"8\", \"9\", \"10\", \"11\", \"12\", \"13\", \"14\", \"15\", \"16\", \"17\", \"18\", \"19\", \"20\", \"21\", \"22\", \"23\", \"24\", \"25\", \"26\", \"27\", \"28\", \"29\", \"30\", \"31\", \"32\", \"33\", \"34\", \"37\"], \"mode\": \"markers\", \"name\": \"balanced_accuracy\", \"stepped\": false, \"type\": \"scatter\", \"data\": [0.8063610997275813, 0.812058602707693, 0.8296038479741842, 0.8205880238296211, 0.8082845473070573, 0.8089909453847165, 0.8322041854457827, 0.8402807793957963, 0.8107138055295625, 0.8522227806455374, 0.8150867235857984, 0.7720367763653302, 0.8361249215203888, 0.8063365862047638, 0.7860643922893383, 0.8072161826478816, 0.8249474670496871, 0.8431664337307261, 0.8285773928735692, 0.8182744882714047, 0.7925766612129547, 0.8150049642571998, 0.8250943257071842, 0.8147601071282847, 0.82794605193233, 0.7491676192493338, 0.8240137580524568, 0.839798911245103, 0.8034144452468533, 0.8398892694028371, 0.6345160987583128, 0.824851793488087, 0.8098846896642148, 0.8066618158739652, 0.8033163040178151, 0.8491959037981239]}, {\"categories\": [\"0\", \"1\", \"2\", \"3\", \"4\", \"5\", \"6\", \"7\", \"8\", \"9\", \"10\", \"11\", \"12\", \"13\", \"14\", \"15\", \"16\", \"17\", \"18\", \"19\", \"20\", \"21\", \"22\", \"23\", \"24\", \"25\", \"26\", \"27\", \"28\", \"29\", \"30\", \"31\", \"32\", \"33\", \"34\", \"37\"], \"mode\": \"lines\", \"name\": \"balanced_accuracy_max\", \"stepped\": true, \"type\": \"scatter\", \"data\": [0.8063610997275813, 0.812058602707693, 0.8296038479741842, 0.8296038479741842, 0.8296038479741842, 0.8296038479741842, 0.8322041854457827, 0.8402807793957963, 0.8402807793957963, 0.8522227806455374, 0.8522227806455374, 0.8522227806455374, 0.8522227806455374, 0.8522227806455374, 0.8522227806455374, 0.8522227806455374, 0.8522227806455374, 0.8522227806455374, 0.8522227806455374, 0.8522227806455374, 0.8522227806455374, 0.8522227806455374, 0.8522227806455374, 0.8522227806455374, 0.8522227806455374, 0.8522227806455374, 0.8522227806455374, 0.8522227806455374, 0.8522227806455374, 0.8522227806455374, 0.8522227806455374, 0.8522227806455374, 0.8522227806455374, 0.8522227806455374, 0.8522227806455374, 0.8522227806455374]}], \"accuracy\": [{\"categories\": [\"0\", \"1\", \"2\", \"3\", \"4\", \"5\", \"6\", \"7\", \"8\", \"9\", \"10\", \"11\", \"12\", \"13\", \"14\", \"15\", \"16\", \"17\", \"18\", \"19\", \"20\", \"21\", \"22\", \"23\", \"24\", \"25\", \"26\", \"27\", \"28\", \"29\", \"30\", \"31\", \"32\", \"33\", \"34\", \"37\"], \"mode\": \"markers\", \"name\": \"accuracy\", \"stepped\": false, \"type\": \"scatter\", \"data\": [0.811881188118812, 0.8151815181518153, 0.834983498349835, 0.8250825082508251, 0.8118811881188118, 0.8151815181518152, 0.834983498349835, 0.8448844884488449, 0.8151815181518152, 0.8547854785478548, 0.8151815181518152, 0.7755775577557755, 0.8382838283828384, 0.8085808580858087, 0.7920792079207922, 0.8151815181518152, 0.8250825082508251, 0.8448844884488449, 0.8283828382838285, 0.821782178217822, 0.7953795379537955, 0.8184818481848186, 0.8283828382838285, 0.8184818481848186, 0.8316831683168316, 0.7491749174917492, 0.821782178217822, 0.8415841584158416, 0.8019801980198021, 0.8415841584158416, 0.6567656765676567, 0.8283828382838285, 0.811881188118812, 0.811881188118812, 0.8085808580858087, 0.8514851485148515]}, {\"categories\": [\"0\", \"1\", \"2\", \"3\", \"4\", \"5\", \"6\", \"7\", \"8\", \"9\", \"10\", \"11\", \"12\", \"13\", \"14\", \"15\", \"16\", \"17\", \"18\", \"19\", \"20\", \"21\", \"22\", \"23\", \"24\", \"25\", \"26\", \"27\", \"28\", \"29\", \"30\", \"31\", \"32\", \"33\", \"34\", \"37\"], \"mode\": \"lines\", \"name\": \"accuracy_max\", \"stepped\": true, \"type\": \"scatter\", \"data\": [0.811881188118812, 0.8151815181518153, 0.834983498349835, 0.834983498349835, 0.834983498349835, 0.834983498349835, 0.834983498349835, 0.8448844884488449, 0.8448844884488449, 0.8547854785478548, 0.8547854785478548, 0.8547854785478548, 0.8547854785478548, 0.8547854785478548, 0.8547854785478548, 0.8547854785478548, 0.8547854785478548, 0.8547854785478548, 0.8547854785478548, 0.8547854785478548, 0.8547854785478548, 0.8547854785478548, 0.8547854785478548, 0.8547854785478548, 0.8547854785478548, 0.8547854785478548, 0.8547854785478548, 0.8547854785478548, 0.8547854785478548, 0.8547854785478548, 0.8547854785478548, 0.8547854785478548, 0.8547854785478548, 0.8547854785478548, 0.8547854785478548, 0.8547854785478548]}], \"recall_score_weighted\": [{\"categories\": [\"0\", \"1\", \"2\", \"3\", \"4\", \"5\", \"6\", \"7\", \"8\", \"9\", \"10\", \"11\", \"12\", \"13\", \"14\", \"15\", \"16\", \"17\", \"18\", \"19\", \"20\", \"21\", \"22\", \"23\", \"24\", \"25\", \"26\", \"27\", \"28\", \"29\", \"30\", \"31\", \"32\", \"33\", \"34\", \"37\"], \"mode\": \"markers\", \"name\": \"recall_score_weighted\", \"stepped\": false, \"type\": \"scatter\", \"data\": [0.811881188118812, 0.8151815181518153, 0.834983498349835, 0.8250825082508251, 0.8118811881188118, 0.8151815181518152, 0.834983498349835, 0.8448844884488449, 0.8151815181518152, 0.8547854785478548, 0.8151815181518152, 0.7755775577557755, 0.8382838283828384, 0.8085808580858087, 0.7920792079207922, 0.8151815181518152, 0.8250825082508251, 0.8448844884488449, 0.8283828382838285, 0.821782178217822, 0.7953795379537955, 0.8184818481848186, 0.8283828382838285, 0.8184818481848186, 0.8316831683168316, 0.7491749174917492, 0.821782178217822, 0.8415841584158416, 0.8019801980198021, 0.8415841584158416, 0.6567656765676567, 0.8283828382838285, 0.811881188118812, 0.811881188118812, 0.8085808580858087, 0.8514851485148515]}, {\"categories\": [\"0\", \"1\", \"2\", \"3\", \"4\", \"5\", \"6\", \"7\", \"8\", \"9\", \"10\", \"11\", \"12\", \"13\", \"14\", \"15\", \"16\", \"17\", \"18\", \"19\", \"20\", \"21\", \"22\", \"23\", \"24\", \"25\", \"26\", \"27\", \"28\", \"29\", \"30\", \"31\", \"32\", \"33\", \"34\", \"37\"], \"mode\": \"lines\", \"name\": \"recall_score_weighted_max\", \"stepped\": true, \"type\": \"scatter\", \"data\": [0.811881188118812, 0.8151815181518153, 0.834983498349835, 0.834983498349835, 0.834983498349835, 0.834983498349835, 0.834983498349835, 0.8448844884488449, 0.8448844884488449, 0.8547854785478548, 0.8547854785478548, 0.8547854785478548, 0.8547854785478548, 0.8547854785478548, 0.8547854785478548, 0.8547854785478548, 0.8547854785478548, 0.8547854785478548, 0.8547854785478548, 0.8547854785478548, 0.8547854785478548, 0.8547854785478548, 0.8547854785478548, 0.8547854785478548, 0.8547854785478548, 0.8547854785478548, 0.8547854785478548, 0.8547854785478548, 0.8547854785478548, 0.8547854785478548, 0.8547854785478548, 0.8547854785478548, 0.8547854785478548, 0.8547854785478548, 0.8547854785478548, 0.8547854785478548]}], \"f1_score_macro\": [{\"categories\": [\"0\", \"1\", \"2\", \"3\", \"4\", \"5\", \"6\", \"7\", \"8\", \"9\", \"10\", \"11\", \"12\", \"13\", \"14\", \"15\", \"16\", \"17\", \"18\", \"19\", \"20\", \"21\", \"22\", \"23\", \"24\", \"25\", \"26\", \"27\", \"28\", \"29\", \"30\", \"31\", \"32\", \"33\", \"34\", \"37\"], \"mode\": \"markers\", \"name\": \"f1_score_macro\", \"stepped\": false, \"type\": \"scatter\", \"data\": [0.8084318246707981, 0.8129650425688012, 0.8315846249700969, 0.8219636976177204, 0.8094086073846194, 0.8110741283919846, 0.8331635183157958, 0.8421869551957482, 0.8123073324095916, 0.8530110751878626, 0.8140793906486454, 0.772916924201747, 0.8365935052938699, 0.8067522699270672, 0.7876828526140782, 0.8093258875941389, 0.8240375115137489, 0.843457692183438, 0.827407037475035, 0.8194676033317142, 0.793213710605015, 0.8160416055152897, 0.8261373813097951, 0.8157407626237596, 0.8292159469907698, 0.7478968167551091, 0.8213363959600685, 0.8401533095525401, 0.8011998918314603, 0.8400695421468539, 0.6139959049811817, 0.8260324944114842, 0.8100367142803376, 0.8085008443747679, 0.8046485261032325, 0.8499116173699095]}, {\"categories\": [\"0\", \"1\", \"2\", \"3\", \"4\", \"5\", \"6\", \"7\", \"8\", \"9\", \"10\", \"11\", \"12\", \"13\", \"14\", \"15\", \"16\", \"17\", \"18\", \"19\", \"20\", \"21\", \"22\", \"23\", \"24\", \"25\", \"26\", \"27\", \"28\", \"29\", \"30\", \"31\", \"32\", \"33\", \"34\", \"37\"], \"mode\": \"lines\", \"name\": \"f1_score_macro_max\", \"stepped\": true, \"type\": \"scatter\", \"data\": [0.8084318246707981, 0.8129650425688012, 0.8315846249700969, 0.8315846249700969, 0.8315846249700969, 0.8315846249700969, 0.8331635183157958, 0.8421869551957482, 0.8421869551957482, 0.8530110751878626, 0.8530110751878626, 0.8530110751878626, 0.8530110751878626, 0.8530110751878626, 0.8530110751878626, 0.8530110751878626, 0.8530110751878626, 0.8530110751878626, 0.8530110751878626, 0.8530110751878626, 0.8530110751878626, 0.8530110751878626, 0.8530110751878626, 0.8530110751878626, 0.8530110751878626, 0.8530110751878626, 0.8530110751878626, 0.8530110751878626, 0.8530110751878626, 0.8530110751878626, 0.8530110751878626, 0.8530110751878626, 0.8530110751878626, 0.8530110751878626, 0.8530110751878626, 0.8530110751878626]}], \"norm_macro_recall\": [{\"categories\": [\"0\", \"1\", \"2\", \"3\", \"4\", \"5\", \"6\", \"7\", \"8\", \"9\", \"10\", \"11\", \"12\", \"13\", \"14\", \"15\", \"16\", \"17\", \"18\", \"19\", \"20\", \"21\", \"22\", \"23\", \"24\", \"25\", \"26\", \"27\", \"28\", \"29\", \"30\", \"31\", \"32\", \"33\", \"34\", \"37\"], \"mode\": \"markers\", \"name\": \"norm_macro_recall\", \"stepped\": false, \"type\": \"scatter\", \"data\": [0.6127221994551627, 0.6241172054153862, 0.6592076959483681, 0.6411760476592423, 0.6165690946141146, 0.6179818907694332, 0.6644083708915653, 0.6805615587915925, 0.6214276110591251, 0.7044455612910747, 0.630173447171597, 0.5440735527306604, 0.6722498430407774, 0.6126731724095276, 0.5721287845786767, 0.6144323652957634, 0.6498949340993744, 0.6863328674614521, 0.6571547857471385, 0.6365489765428093, 0.5851533224259095, 0.6300099285143995, 0.6501886514143683, 0.6295202142565695, 0.65589210386466, 0.49833523849866745, 0.6480275161049137, 0.679597822490206, 0.6068288904937069, 0.6797785388056742, 0.2690321975166256, 0.649703586976174, 0.6197693793284295, 0.6133236317479303, 0.6066326080356299, 0.698391807596248]}, {\"categories\": [\"0\", \"1\", \"2\", \"3\", \"4\", \"5\", \"6\", \"7\", \"8\", \"9\", \"10\", \"11\", \"12\", \"13\", \"14\", \"15\", \"16\", \"17\", \"18\", \"19\", \"20\", \"21\", \"22\", \"23\", \"24\", \"25\", \"26\", \"27\", \"28\", \"29\", \"30\", \"31\", \"32\", \"33\", \"34\", \"37\"], \"mode\": \"lines\", \"name\": \"norm_macro_recall_max\", \"stepped\": true, \"type\": \"scatter\", \"data\": [0.6127221994551627, 0.6241172054153862, 0.6592076959483681, 0.6592076959483681, 0.6592076959483681, 0.6592076959483681, 0.6644083708915653, 0.6805615587915925, 0.6805615587915925, 0.7044455612910747, 0.7044455612910747, 0.7044455612910747, 0.7044455612910747, 0.7044455612910747, 0.7044455612910747, 0.7044455612910747, 0.7044455612910747, 0.7044455612910747, 0.7044455612910747, 0.7044455612910747, 0.7044455612910747, 0.7044455612910747, 0.7044455612910747, 0.7044455612910747, 0.7044455612910747, 0.7044455612910747, 0.7044455612910747, 0.7044455612910747, 0.7044455612910747, 0.7044455612910747, 0.7044455612910747, 0.7044455612910747, 0.7044455612910747, 0.7044455612910747, 0.7044455612910747, 0.7044455612910747]}], \"precision_score_weighted\": [{\"categories\": [\"0\", \"1\", \"2\", \"3\", \"4\", \"5\", \"6\", \"7\", \"8\", \"9\", \"10\", \"11\", \"12\", \"13\", \"14\", \"15\", \"16\", \"17\", \"18\", \"19\", \"20\", \"21\", \"22\", \"23\", \"24\", \"25\", \"26\", \"27\", \"28\", \"29\", \"30\", \"31\", \"32\", \"33\", \"34\", \"37\"], \"mode\": \"markers\", \"name\": \"precision_score_weighted\", \"stepped\": false, \"type\": \"scatter\", \"data\": [0.8130497621196704, 0.8153873336939063, 0.8365379361210524, 0.8259659048611628, 0.8125256660393102, 0.8171860715009819, 0.8352056214701974, 0.8475266072174751, 0.8155235628181944, 0.8551147713714938, 0.8177167494268748, 0.7770619269643676, 0.8381641923590855, 0.8084374853525453, 0.792803322685138, 0.8196717912371166, 0.8260643778029301, 0.844898679291961, 0.829537001449023, 0.821907107270419, 0.7953534701841112, 0.8185602100707264, 0.8282382879127299, 0.8188823148954637, 0.8316722195186533, 0.7510230413332315, 0.8251886365107098, 0.8415136648240393, 0.8062958902681974, 0.8422372486500893, 0.7058787059721214, 0.8289190872700116, 0.8118366398794725, 0.8133773848038525, 0.8110574478382251, 0.8515810418814279]}, {\"categories\": [\"0\", \"1\", \"2\", \"3\", \"4\", \"5\", \"6\", \"7\", \"8\", \"9\", \"10\", \"11\", \"12\", \"13\", \"14\", \"15\", \"16\", \"17\", \"18\", \"19\", \"20\", \"21\", \"22\", \"23\", \"24\", \"25\", \"26\", \"27\", \"28\", \"29\", \"30\", \"31\", \"32\", \"33\", \"34\", \"37\"], \"mode\": \"lines\", \"name\": \"precision_score_weighted_max\", \"stepped\": true, \"type\": \"scatter\", \"data\": [0.8130497621196704, 0.8153873336939063, 0.8365379361210524, 0.8365379361210524, 0.8365379361210524, 0.8365379361210524, 0.8365379361210524, 0.8475266072174751, 0.8475266072174751, 0.8551147713714938, 0.8551147713714938, 0.8551147713714938, 0.8551147713714938, 0.8551147713714938, 0.8551147713714938, 0.8551147713714938, 0.8551147713714938, 0.8551147713714938, 0.8551147713714938, 0.8551147713714938, 0.8551147713714938, 0.8551147713714938, 0.8551147713714938, 0.8551147713714938, 0.8551147713714938, 0.8551147713714938, 0.8551147713714938, 0.8551147713714938, 0.8551147713714938, 0.8551147713714938, 0.8551147713714938, 0.8551147713714938, 0.8551147713714938, 0.8551147713714938, 0.8551147713714938, 0.8551147713714938]}], \"precision_score_macro\": [{\"categories\": [\"0\", \"1\", \"2\", \"3\", \"4\", \"5\", \"6\", \"7\", \"8\", \"9\", \"10\", \"11\", \"12\", \"13\", \"14\", \"15\", \"16\", \"17\", \"18\", \"19\", \"20\", \"21\", \"22\", \"23\", \"24\", \"25\", \"26\", \"27\", \"28\", \"29\", \"30\", \"31\", \"32\", \"33\", \"34\", \"37\"], \"mode\": \"markers\", \"name\": \"precision_score_macro\", \"stepped\": false, \"type\": \"scatter\", \"data\": [0.8139487719000651, 0.8148668700783249, 0.8376839138352296, 0.8262952341327626, 0.8121838301716351, 0.8185017342395048, 0.8349254191299492, 0.8487090001904126, 0.8157790157232888, 0.8548440768983326, 0.8154552765334545, 0.7762415961230053, 0.8373304390752904, 0.8072797241330276, 0.7933890584865425, 0.8218676228417223, 0.8238234853689903, 0.8439183919633274, 0.8270026137210547, 0.8217814017841786, 0.7942909673172832, 0.8182114853426, 0.8279403192538787, 0.8186276990404723, 0.8316380583194224, 0.7479255969919726, 0.8213725490196078, 0.8406199677938808, 0.8030037005600915, 0.8412422285186602, 0.7118856144226702, 0.8288741563719263, 0.810458628420318, 0.8142935731393969, 0.8117741317033769, 0.851153127365517]}, {\"categories\": [\"0\", \"1\", \"2\", \"3\", \"4\", \"5\", \"6\", \"7\", \"8\", \"9\", \"10\", \"11\", \"12\", \"13\", \"14\", \"15\", \"16\", \"17\", \"18\", \"19\", \"20\", \"21\", \"22\", \"23\", \"24\", \"25\", \"26\", \"27\", \"28\", \"29\", \"30\", \"31\", \"32\", \"33\", \"34\", \"37\"], \"mode\": \"lines\", \"name\": \"precision_score_macro_max\", \"stepped\": true, \"type\": \"scatter\", \"data\": [0.8139487719000651, 0.8148668700783249, 0.8376839138352296, 0.8376839138352296, 0.8376839138352296, 0.8376839138352296, 0.8376839138352296, 0.8487090001904126, 0.8487090001904126, 0.8548440768983326, 0.8548440768983326, 0.8548440768983326, 0.8548440768983326, 0.8548440768983326, 0.8548440768983326, 0.8548440768983326, 0.8548440768983326, 0.8548440768983326, 0.8548440768983326, 0.8548440768983326, 0.8548440768983326, 0.8548440768983326, 0.8548440768983326, 0.8548440768983326, 0.8548440768983326, 0.8548440768983326, 0.8548440768983326, 0.8548440768983326, 0.8548440768983326, 0.8548440768983326, 0.8548440768983326, 0.8548440768983326, 0.8548440768983326, 0.8548440768983326, 0.8548440768983326, 0.8548440768983326]}], \"average_precision_score_weighted\": [{\"categories\": [\"0\", \"1\", \"2\", \"3\", \"4\", \"5\", \"6\", \"7\", \"8\", \"9\", \"10\", \"11\", \"12\", \"13\", \"14\", \"15\", \"16\", \"17\", \"18\", \"19\", \"20\", \"21\", \"22\", \"23\", \"24\", \"25\", \"26\", \"27\", \"28\", \"29\", \"30\", \"31\", \"32\", \"33\", \"34\", \"37\"], \"mode\": \"markers\", \"name\": \"average_precision_score_weighted\", \"stepped\": false, \"type\": \"scatter\", \"data\": [0.8832012313331054, 0.8891062841680775, 0.9033381176099441, 0.9027918031975183, 0.900291605491187, 0.8837755510658787, 0.9141089450771359, 0.9140849417026464, 0.8996568993439696, 0.9151127396614788, 0.8955175754365312, 0.8815496138620681, 0.9136501294061228, 0.8903309869925456, 0.8906770694801233, 0.8696267884103381, 0.892581250305069, 0.9255048096373649, 0.9006154301931012, 0.8988726412841045, 0.8970157896213594, 0.908087694938442, 0.9116802911442674, 0.9058697383520151, 0.903978570047574, 0.877380884178436, 0.9082906984624387, 0.9058769383126778, 0.8937244662227783, 0.9188420960811318, 0.7792598173247179, 0.8981308931787924, 0.8994646407880663, 0.8769555803934246, 0.8781108046751648, 0.9229090445116658]}, {\"categories\": [\"0\", \"1\", \"2\", \"3\", \"4\", \"5\", \"6\", \"7\", \"8\", \"9\", \"10\", \"11\", \"12\", \"13\", \"14\", \"15\", \"16\", \"17\", \"18\", \"19\", \"20\", \"21\", \"22\", \"23\", \"24\", \"25\", \"26\", \"27\", \"28\", \"29\", \"30\", \"31\", \"32\", \"33\", \"34\", \"37\"], \"mode\": \"lines\", \"name\": \"average_precision_score_weighted_max\", \"stepped\": true, \"type\": \"scatter\", \"data\": [0.8832012313331054, 0.8891062841680775, 0.9033381176099441, 0.9033381176099441, 0.9033381176099441, 0.9033381176099441, 0.9141089450771359, 0.9141089450771359, 0.9141089450771359, 0.9151127396614788, 0.9151127396614788, 0.9151127396614788, 0.9151127396614788, 0.9151127396614788, 0.9151127396614788, 0.9151127396614788, 0.9151127396614788, 0.9255048096373649, 0.9255048096373649, 0.9255048096373649, 0.9255048096373649, 0.9255048096373649, 0.9255048096373649, 0.9255048096373649, 0.9255048096373649, 0.9255048096373649, 0.9255048096373649, 0.9255048096373649, 0.9255048096373649, 0.9255048096373649, 0.9255048096373649, 0.9255048096373649, 0.9255048096373649, 0.9255048096373649, 0.9255048096373649, 0.9255048096373649]}], \"average_precision_score_micro\": [{\"categories\": [\"0\", \"1\", \"2\", \"3\", \"4\", \"5\", \"6\", \"7\", \"8\", \"9\", \"10\", \"11\", \"12\", \"13\", \"14\", \"15\", \"16\", \"17\", \"18\", \"19\", \"20\", \"21\", \"22\", \"23\", \"24\", \"25\", \"26\", \"27\", \"28\", \"29\", \"30\", \"31\", \"32\", \"33\", \"34\", \"37\"], \"mode\": \"markers\", \"name\": \"average_precision_score_micro\", \"stepped\": false, \"type\": \"scatter\", \"data\": [0.8840556499408257, 0.8862057054362292, 0.9056005027325545, 0.9026970414863564, 0.8981606745440764, 0.8849732732564716, 0.9133883982094204, 0.9123863324944441, 0.894932375227409, 0.91175067144224, 0.8940622720153432, 0.8831940835912224, 0.9141370146024261, 0.8878679195594198, 0.8909295625067931, 0.8806385645753613, 0.888506794494841, 0.9237073968696499, 0.8983468865925376, 0.8989760449532566, 0.8967446675033415, 0.9091510714909349, 0.9125641064205311, 0.9074009111137804, 0.9045943293693343, 0.8634643703703109, 0.9005329535836714, 0.907184129330478, 0.8819355739551522, 0.9197147023452262, 0.7325224102957332, 0.8979215332278573, 0.8962237751341385, 0.8743286145296398, 0.8754715621799901, 0.9192548559308912]}, {\"categories\": [\"0\", \"1\", \"2\", \"3\", \"4\", \"5\", \"6\", \"7\", \"8\", \"9\", \"10\", \"11\", \"12\", \"13\", \"14\", \"15\", \"16\", \"17\", \"18\", \"19\", \"20\", \"21\", \"22\", \"23\", \"24\", \"25\", \"26\", \"27\", \"28\", \"29\", \"30\", \"31\", \"32\", \"33\", \"34\", \"37\"], \"mode\": \"lines\", \"name\": \"average_precision_score_micro_max\", \"stepped\": true, \"type\": \"scatter\", \"data\": [0.8840556499408257, 0.8862057054362292, 0.9056005027325545, 0.9056005027325545, 0.9056005027325545, 0.9056005027325545, 0.9133883982094204, 0.9133883982094204, 0.9133883982094204, 0.9133883982094204, 0.9133883982094204, 0.9133883982094204, 0.9141370146024261, 0.9141370146024261, 0.9141370146024261, 0.9141370146024261, 0.9141370146024261, 0.9237073968696499, 0.9237073968696499, 0.9237073968696499, 0.9237073968696499, 0.9237073968696499, 0.9237073968696499, 0.9237073968696499, 0.9237073968696499, 0.9237073968696499, 0.9237073968696499, 0.9237073968696499, 0.9237073968696499, 0.9237073968696499, 0.9237073968696499, 0.9237073968696499, 0.9237073968696499, 0.9237073968696499, 0.9237073968696499, 0.9237073968696499]}]}, \"metricName\": null, \"primaryMetricName\": \"AUC_weighted\", \"showLegend\": false}, \"run_metrics\": [{\"name\": \"experiment_status\", \"run_id\": \"AutoML_3c71c4ea-e591-4b72-8a0a-c6e0139a277c\", \"categories\": [0, 1, 2, 3, 4, 5, 6, 7, 8, 9, 10, 11, 12, 13], \"series\": [{\"data\": [\"DatasetEvaluation\", \"FeaturesGeneration\", \"DatasetFeaturization\", \"DatasetFeaturizationCompleted\", \"DatasetCrossValidationSplit\", \"ModelSelection\", \"BestRunExplainModel\", \"ModelExplanationDataSetSetup\", \"PickSurrogateModel\", \"EngineeredFeatureExplanations\", \"EngineeredFeatureExplanations\", \"RawFeaturesExplanations\", \"RawFeaturesExplanations\", \"BestRunExplainModel\"]}]}, {\"name\": \"experiment_status_description\", \"run_id\": \"AutoML_3c71c4ea-e591-4b72-8a0a-c6e0139a277c\", \"categories\": [0, 1, 2, 3, 4, 5, 6, 7, 8, 9, 10, 11, 12, 13], \"series\": [{\"data\": [\"Gathering dataset statistics.\", \"Generating features for the dataset.\", \"Beginning to fit featurizers and featurize the dataset.\", \"Completed fit featurizers and featurizing the dataset.\", \"Generating individually featurized CV splits.\", \"Beginning model selection.\", \"Best run model explanations started\", \"Model explanations data setup completed\", \"Choosing LightGBM as the surrogate model for explanations\", \"Computation of engineered features started\", \"Computation of engineered features completed\", \"Computation of raw features started\", \"Computation of raw features completed\", \"Best run model explanations completed\"]}]}, {\"name\": \"weighted_accuracy\", \"run_id\": \"AutoML_3c71c4ea-e591-4b72-8a0a-c6e0139a277c\", \"categories\": [0], \"series\": [{\"data\": [0.8537271401715225]}]}, {\"name\": \"norm_macro_recall\", \"run_id\": \"AutoML_3c71c4ea-e591-4b72-8a0a-c6e0139a277c\", \"categories\": [0], \"series\": [{\"data\": [0.698391807596248]}]}, {\"name\": \"precision_score_weighted\", \"run_id\": \"AutoML_3c71c4ea-e591-4b72-8a0a-c6e0139a277c\", \"categories\": [0], \"series\": [{\"data\": [0.8515810418814279]}]}, {\"name\": \"precision_score_micro\", \"run_id\": \"AutoML_3c71c4ea-e591-4b72-8a0a-c6e0139a277c\", \"categories\": [0], \"series\": [{\"data\": [0.8514851485148515]}]}, {\"name\": \"recall_score_macro\", \"run_id\": \"AutoML_3c71c4ea-e591-4b72-8a0a-c6e0139a277c\", \"categories\": [0], \"series\": [{\"data\": [0.8491959037981239]}]}, {\"name\": \"balanced_accuracy\", \"run_id\": \"AutoML_3c71c4ea-e591-4b72-8a0a-c6e0139a277c\", \"categories\": [0], \"series\": [{\"data\": [0.8491959037981239]}]}, {\"name\": \"recall_score_micro\", \"run_id\": \"AutoML_3c71c4ea-e591-4b72-8a0a-c6e0139a277c\", \"categories\": [0], \"series\": [{\"data\": [0.8514851485148515]}]}, {\"name\": \"AUC_micro\", \"run_id\": \"AutoML_3c71c4ea-e591-4b72-8a0a-c6e0139a277c\", \"categories\": [0], \"series\": [{\"data\": [0.9235695846812403]}]}, {\"name\": \"matthews_correlation\", \"run_id\": \"AutoML_3c71c4ea-e591-4b72-8a0a-c6e0139a277c\", \"categories\": [0], \"series\": [{\"data\": [0.7003408073900205]}]}, {\"name\": \"log_loss\", \"run_id\": \"AutoML_3c71c4ea-e591-4b72-8a0a-c6e0139a277c\", \"categories\": [0], \"series\": [{\"data\": [0.4842443804841232]}]}, {\"name\": \"f1_score_micro\", \"run_id\": \"AutoML_3c71c4ea-e591-4b72-8a0a-c6e0139a277c\", \"categories\": [0], \"series\": [{\"data\": [0.8514851485148515]}]}, {\"name\": \"AUC_macro\", \"run_id\": \"AutoML_3c71c4ea-e591-4b72-8a0a-c6e0139a277c\", \"categories\": [0], \"series\": [{\"data\": [0.9236949432061982]}]}, {\"name\": \"f1_score_macro\", \"run_id\": \"AutoML_3c71c4ea-e591-4b72-8a0a-c6e0139a277c\", \"categories\": [0], \"series\": [{\"data\": [0.8499116173699095]}]}, {\"name\": \"f1_score_weighted\", \"run_id\": \"AutoML_3c71c4ea-e591-4b72-8a0a-c6e0139a277c\", \"categories\": [0], \"series\": [{\"data\": [0.8512773316312141]}]}, {\"name\": \"AUC_weighted\", \"run_id\": \"AutoML_3c71c4ea-e591-4b72-8a0a-c6e0139a277c\", \"categories\": [0], \"series\": [{\"data\": [0.9236949432061983]}]}, {\"name\": \"average_precision_score_weighted\", \"run_id\": \"AutoML_3c71c4ea-e591-4b72-8a0a-c6e0139a277c\", \"categories\": [0], \"series\": [{\"data\": [0.9229090445116658]}]}, {\"name\": \"average_precision_score_macro\", \"run_id\": \"AutoML_3c71c4ea-e591-4b72-8a0a-c6e0139a277c\", \"categories\": [0], \"series\": [{\"data\": [0.9224472846956662]}]}, {\"name\": \"average_precision_score_micro\", \"run_id\": \"AutoML_3c71c4ea-e591-4b72-8a0a-c6e0139a277c\", \"categories\": [0], \"series\": [{\"data\": [0.9192548559308912]}]}, {\"name\": \"precision_score_macro\", \"run_id\": \"AutoML_3c71c4ea-e591-4b72-8a0a-c6e0139a277c\", \"categories\": [0], \"series\": [{\"data\": [0.851153127365517]}]}, {\"name\": \"recall_score_weighted\", \"run_id\": \"AutoML_3c71c4ea-e591-4b72-8a0a-c6e0139a277c\", \"categories\": [0], \"series\": [{\"data\": [0.8514851485148515]}]}, {\"name\": \"accuracy\", \"run_id\": \"AutoML_3c71c4ea-e591-4b72-8a0a-c6e0139a277c\", \"categories\": [0], \"series\": [{\"data\": [0.8514851485148515]}]}], \"run_logs\": \"\\nRun is completed.\", \"graph\": {}, \"widget_settings\": {\"childWidgetDisplay\": \"popup\", \"send_telemetry\": false, \"log_level\": \"INFO\", \"sdk_version\": \"1.20.0\"}, \"loading\": false}"
          },
          "metadata": {}
        },
        {
          "output_type": "stream",
          "name": "stdout",
          "text": [
            "\n",
            "\n",
            "****************************************************************************************************\n",
            "DATA GUARDRAILS: \n",
            "\n",
            "TYPE:         Class balancing detection\n",
            "STATUS:       PASSED\n",
            "DESCRIPTION:  Your inputs were analyzed, and all classes are balanced in your training data.\n",
            "              Learn more about imbalanced data: https://aka.ms/AutomatedMLImbalancedData\n",
            "\n",
            "****************************************************************************************************\n",
            "\n",
            "TYPE:         Missing feature values imputation\n",
            "STATUS:       PASSED\n",
            "DESCRIPTION:  No feature missing values were detected in the training data.\n",
            "              Learn more about missing value imputation: https://aka.ms/AutomatedMLFeaturization\n",
            "\n",
            "****************************************************************************************************\n",
            "\n",
            "TYPE:         High cardinality feature detection\n",
            "STATUS:       PASSED\n",
            "DESCRIPTION:  Your inputs were analyzed, and no high cardinality features were detected.\n",
            "              Learn more about high cardinality feature handling: https://aka.ms/AutomatedMLFeaturization\n",
            "\n",
            "****************************************************************************************************\n",
            "\n",
            "****************************************************************************************************\n",
            "ITERATION: The iteration being evaluated.\n",
            "PIPELINE: A summary description of the pipeline being evaluated.\n",
            "DURATION: Time taken for the current iteration.\n",
            "METRIC: The result of computing score on the fitted pipeline.\n",
            "BEST: The best observed score thus far.\n",
            "****************************************************************************************************\n",
            "\n",
            " ITERATION   PIPELINE                                       DURATION      METRIC      BEST\n",
            "         0   MaxAbsScaler LightGBM                          0:00:58       0.8800    0.8800\n",
            "         1   MaxAbsScaler XGBoostClassifier                 0:00:53       0.8852    0.8852\n",
            "         2   MaxAbsScaler RandomForest                      0:00:56       0.9042    0.9042\n",
            "         3   MaxAbsScaler RandomForest                      0:00:54       0.8996    0.9042\n",
            "         4   MaxAbsScaler RandomForest                      0:04:37       0.8936    0.9042\n",
            "         5   MaxAbsScaler ExtremeRandomTrees                0:05:18       0.8858    0.9042\n",
            "         6   MaxAbsScaler ExtremeRandomTrees                0:04:03       0.9137    0.9137\n",
            "         7   MaxAbsScaler ExtremeRandomTrees                0:00:50       0.9141    0.9141\n",
            "         8   MaxAbsScaler RandomForest                      0:00:53       0.9013    0.9141\n",
            "         9   MaxAbsScaler ExtremeRandomTrees                0:00:55       0.9204    0.9204\n",
            "        10   MaxAbsScaler RandomForest                      0:01:13       0.8926    0.9204\n",
            "        11   MaxAbsScaler RandomForest                      0:00:54       0.8764    0.9204\n",
            "        12   MaxAbsScaler RandomForest                      0:01:05       0.9135    0.9204\n",
            "        13   StandardScalerWrapper XGBoostClassifier        0:00:52       0.8901    0.9204\n",
            "        14   MaxAbsScaler RandomForest                      0:01:05       0.8864    0.9204\n",
            "        15   StandardScalerWrapper ExtremeRandomTrees       0:00:52       0.8754    0.9204\n",
            "        16   MaxAbsScaler ExtremeRandomTrees                0:00:59       0.8900    0.9204\n",
            "        17   MaxAbsScaler ExtremeRandomTrees                0:01:03       0.9235    0.9235\n",
            "        18   MaxAbsScaler RandomForest                      0:00:54       0.8965    0.9235\n",
            "        19   StandardScalerWrapper LogisticRegression       0:00:49       0.8972    0.9235\n",
            "        20   SparseNormalizer XGBoostClassifier             0:00:55       0.8905    0.9235\n",
            "        21   MaxAbsScaler LightGBM                          0:00:52       0.9069    0.9235\n",
            "        22   MaxAbsScaler LightGBM                          0:00:52       0.9117    0.9235\n",
            "        23   MaxAbsScaler LightGBM                          0:00:48       0.9055    0.9235\n",
            "        24   MaxAbsScaler LightGBM                          0:00:53       0.9010    0.9235\n",
            "        25   MaxAbsScaler ExtremeRandomTrees                0:00:53       0.8696    0.9235\n",
            "        26   MaxAbsScaler ExtremeRandomTrees                0:00:54       0.9078    0.9235\n",
            "        27   MaxAbsScaler ExtremeRandomTrees                0:00:52       0.9051    0.9235\n",
            "        28   StandardScalerWrapper ExtremeRandomTrees       0:00:55       0.8940    0.9235\n",
            "        29   StandardScalerWrapper LogisticRegression       0:00:52       0.9183    0.9235\n",
            "        30   TruncatedSVDWrapper ExtremeRandomTrees         0:00:57       0.7660    0.9235\n",
            "        31   StandardScalerWrapper XGBoostClassifier        0:00:50       0.8940    0.9235\n",
            "        32   SparseNormalizer XGBoostClassifier             0:00:54       0.8932    0.9235\n",
            "        33   TruncatedSVDWrapper XGBoostClassifier          0:01:00       0.8802    0.9235\n",
            "        34   TruncatedSVDWrapper XGBoostClassifier          0:00:41       0.8766    0.9235\n",
            "        35                                                  0:00:21          nan    0.9235\n",
            "        36                                                  0:00:22          nan    0.9235\n",
            "        37    VotingEnsemble                                0:01:36       0.9237    0.9237\n"
          ]
        },
        {
          "output_type": "execute_result",
          "execution_count": 13,
          "data": {
            "text/plain": "{'runId': 'AutoML_3c71c4ea-e591-4b72-8a0a-c6e0139a277c',\n 'target': 'cluster-automl',\n 'status': 'Completed',\n 'startTimeUtc': '2021-02-18T17:10:14.606789Z',\n 'endTimeUtc': '2021-02-18T17:33:04.441136Z',\n 'properties': {'num_iterations': '1000',\n  'training_type': 'TrainFull',\n  'acquisition_function': 'EI',\n  'primary_metric': 'AUC_weighted',\n  'train_split': '0',\n  'acquisition_parameter': '0',\n  'num_cross_validation': '3',\n  'target': 'cluster-automl',\n  'AMLSettingsJsonString': '{\"path\":null,\"name\":\"capstone-automl-exp\",\"subscription_id\":\"3d1a56d2-7c81-4118-9790-f85d1acf0c77\",\"resource_group\":\"aml-quickstarts-139132\",\"workspace_name\":\"quick-starts-ws-139132\",\"region\":\"southcentralus\",\"compute_target\":\"cluster-automl\",\"spark_service\":null,\"azure_service\":\"remote\",\"many_models\":false,\"pipeline_fetch_max_batch_size\":1,\"iterations\":1000,\"primary_metric\":\"AUC_weighted\",\"task_type\":\"classification\",\"data_script\":null,\"validation_size\":0.0,\"n_cross_validations\":3,\"y_min\":null,\"y_max\":null,\"num_classes\":null,\"featurization\":\"auto\",\"_ignore_package_version_incompatibilities\":false,\"is_timeseries\":false,\"max_cores_per_iteration\":1,\"max_concurrent_iterations\":5,\"iteration_timeout_minutes\":null,\"mem_in_mb\":null,\"enforce_time_on_windows\":false,\"experiment_timeout_minutes\":20,\"experiment_exit_score\":null,\"whitelist_models\":null,\"blacklist_algos\":[\"TensorFlowLinearClassifier\",\"TensorFlowDNN\"],\"supported_models\":[\"SGD\",\"LogisticRegression\",\"SVM\",\"LightGBM\",\"TensorFlowDNN\",\"LinearSVM\",\"TensorFlowLinearClassifier\",\"GradientBoosting\",\"BernoulliNaiveBayes\",\"XGBoostClassifier\",\"RandomForest\",\"ExtremeRandomTrees\",\"AveragedPerceptronClassifier\",\"DecisionTree\",\"KNN\",\"MultinomialNaiveBayes\"],\"auto_blacklist\":true,\"blacklist_samples_reached\":false,\"exclude_nan_labels\":true,\"verbosity\":20,\"_debug_log\":\"azureml_automl.log\",\"show_warnings\":false,\"model_explainability\":true,\"service_url\":null,\"sdk_url\":null,\"sdk_packages\":null,\"enable_onnx_compatible_models\":true,\"enable_split_onnx_featurizer_estimator_models\":false,\"vm_type\":\"STANDARD_D2_V2\",\"telemetry_verbosity\":20,\"send_telemetry\":true,\"enable_dnn\":false,\"scenario\":\"SDK-1.13.0\",\"environment_label\":null,\"force_text_dnn\":false,\"enable_feature_sweeping\":false,\"enable_early_stopping\":true,\"early_stopping_n_iters\":10,\"metrics\":null,\"enable_ensembling\":true,\"enable_stack_ensembling\":false,\"ensemble_iterations\":15,\"enable_tf\":false,\"enable_subsampling\":null,\"subsample_seed\":null,\"enable_nimbusml\":false,\"enable_streaming\":false,\"force_streaming\":false,\"track_child_runs\":true,\"allowed_private_models\":[],\"label_column_name\":\"target\",\"weight_column_name\":null,\"cv_split_column_names\":null,\"enable_local_managed\":false,\"_local_managed_run_id\":null,\"cost_mode\":1,\"lag_length\":0,\"metric_operation\":\"maximize\",\"preprocess\":true}',\n  'DataPrepJsonString': '{\\\\\"training_data\\\\\": \\\\\"{\\\\\\\\\\\\\"blocks\\\\\\\\\\\\\": [{\\\\\\\\\\\\\"id\\\\\\\\\\\\\": \\\\\\\\\\\\\"b27b4ab2-689b-4fad-8d4d-1aeebacbfeb3\\\\\\\\\\\\\", \\\\\\\\\\\\\"type\\\\\\\\\\\\\": \\\\\\\\\\\\\"Microsoft.DPrep.GetFilesBlock\\\\\\\\\\\\\", \\\\\\\\\\\\\"arguments\\\\\\\\\\\\\": {\\\\\\\\\\\\\"isArchive\\\\\\\\\\\\\": false, \\\\\\\\\\\\\"path\\\\\\\\\\\\\": {\\\\\\\\\\\\\"target\\\\\\\\\\\\\": 4, \\\\\\\\\\\\\"resourceDetails\\\\\\\\\\\\\": [{\\\\\\\\\\\\\"path\\\\\\\\\\\\\": \\\\\\\\\\\\\"https://raw.githubusercontent.com/Daniel-car1/nd00333-capstone/main/heart.csv\\\\\\\\\\\\\"}]}}, \\\\\\\\\\\\\"localData\\\\\\\\\\\\\": {}, \\\\\\\\\\\\\"isEnabled\\\\\\\\\\\\\": true, \\\\\\\\\\\\\"name\\\\\\\\\\\\\": null, \\\\\\\\\\\\\"annotation\\\\\\\\\\\\\": null}, {\\\\\\\\\\\\\"id\\\\\\\\\\\\\": \\\\\\\\\\\\\"f1b5af16-6b1e-44cb-802c-d090cbb77428\\\\\\\\\\\\\", \\\\\\\\\\\\\"type\\\\\\\\\\\\\": \\\\\\\\\\\\\"Microsoft.DPrep.ParseDelimitedBlock\\\\\\\\\\\\\", \\\\\\\\\\\\\"arguments\\\\\\\\\\\\\": {\\\\\\\\\\\\\"columnHeadersMode\\\\\\\\\\\\\": 3, \\\\\\\\\\\\\"fileEncoding\\\\\\\\\\\\\": 0, \\\\\\\\\\\\\"handleQuotedLineBreaks\\\\\\\\\\\\\": false, \\\\\\\\\\\\\"preview\\\\\\\\\\\\\": false, \\\\\\\\\\\\\"separator\\\\\\\\\\\\\": \\\\\\\\\\\\\",\\\\\\\\\\\\\", \\\\\\\\\\\\\"skipRows\\\\\\\\\\\\\": 0, \\\\\\\\\\\\\"skipRowsMode\\\\\\\\\\\\\": 0}, \\\\\\\\\\\\\"localData\\\\\\\\\\\\\": {}, \\\\\\\\\\\\\"isEnabled\\\\\\\\\\\\\": true, \\\\\\\\\\\\\"name\\\\\\\\\\\\\": null, \\\\\\\\\\\\\"annotation\\\\\\\\\\\\\": null}, {\\\\\\\\\\\\\"id\\\\\\\\\\\\\": \\\\\\\\\\\\\"b5a3cbb4-e893-4b63-8af1-c11d0f6f263e\\\\\\\\\\\\\", \\\\\\\\\\\\\"type\\\\\\\\\\\\\": \\\\\\\\\\\\\"Microsoft.DPrep.DropColumnsBlock\\\\\\\\\\\\\", \\\\\\\\\\\\\"arguments\\\\\\\\\\\\\": {\\\\\\\\\\\\\"columns\\\\\\\\\\\\\": {\\\\\\\\\\\\\"type\\\\\\\\\\\\\": 0, \\\\\\\\\\\\\"details\\\\\\\\\\\\\": {\\\\\\\\\\\\\"selectedColumns\\\\\\\\\\\\\": [\\\\\\\\\\\\\"Path\\\\\\\\\\\\\"]}}}, \\\\\\\\\\\\\"localData\\\\\\\\\\\\\": {}, \\\\\\\\\\\\\"isEnabled\\\\\\\\\\\\\": true, \\\\\\\\\\\\\"name\\\\\\\\\\\\\": null, \\\\\\\\\\\\\"annotation\\\\\\\\\\\\\": null}, {\\\\\\\\\\\\\"id\\\\\\\\\\\\\": \\\\\\\\\\\\\"637d64b8-118c-4120-8b5b-49f7b3bb8b04\\\\\\\\\\\\\", \\\\\\\\\\\\\"type\\\\\\\\\\\\\": \\\\\\\\\\\\\"Microsoft.DPrep.SetColumnTypesBlock\\\\\\\\\\\\\", \\\\\\\\\\\\\"arguments\\\\\\\\\\\\\": {\\\\\\\\\\\\\"columnConversion\\\\\\\\\\\\\": [{\\\\\\\\\\\\\"column\\\\\\\\\\\\\": {\\\\\\\\\\\\\"type\\\\\\\\\\\\\": 2, \\\\\\\\\\\\\"details\\\\\\\\\\\\\": {\\\\\\\\\\\\\"selectedColumn\\\\\\\\\\\\\": \\\\\\\\\\\\\"age\\\\\\\\\\\\\"}}, \\\\\\\\\\\\\"typeProperty\\\\\\\\\\\\\": 2}, {\\\\\\\\\\\\\"column\\\\\\\\\\\\\": {\\\\\\\\\\\\\"type\\\\\\\\\\\\\": 2, \\\\\\\\\\\\\"details\\\\\\\\\\\\\": {\\\\\\\\\\\\\"selectedColumn\\\\\\\\\\\\\": \\\\\\\\\\\\\"sex\\\\\\\\\\\\\"}}, \\\\\\\\\\\\\"typeProperty\\\\\\\\\\\\\": 2}, {\\\\\\\\\\\\\"column\\\\\\\\\\\\\": {\\\\\\\\\\\\\"type\\\\\\\\\\\\\": 2, \\\\\\\\\\\\\"details\\\\\\\\\\\\\": {\\\\\\\\\\\\\"selectedColumn\\\\\\\\\\\\\": \\\\\\\\\\\\\"cp\\\\\\\\\\\\\"}}, \\\\\\\\\\\\\"typeProperty\\\\\\\\\\\\\": 2}, {\\\\\\\\\\\\\"column\\\\\\\\\\\\\": {\\\\\\\\\\\\\"type\\\\\\\\\\\\\": 2, \\\\\\\\\\\\\"details\\\\\\\\\\\\\": {\\\\\\\\\\\\\"selectedColumn\\\\\\\\\\\\\": \\\\\\\\\\\\\"trestbps\\\\\\\\\\\\\"}}, \\\\\\\\\\\\\"typeProperty\\\\\\\\\\\\\": 2}, {\\\\\\\\\\\\\"column\\\\\\\\\\\\\": {\\\\\\\\\\\\\"type\\\\\\\\\\\\\": 2, \\\\\\\\\\\\\"details\\\\\\\\\\\\\": {\\\\\\\\\\\\\"selectedColumn\\\\\\\\\\\\\": \\\\\\\\\\\\\"chol\\\\\\\\\\\\\"}}, \\\\\\\\\\\\\"typeProperty\\\\\\\\\\\\\": 2}, {\\\\\\\\\\\\\"column\\\\\\\\\\\\\": {\\\\\\\\\\\\\"type\\\\\\\\\\\\\": 2, \\\\\\\\\\\\\"details\\\\\\\\\\\\\": {\\\\\\\\\\\\\"selectedColumn\\\\\\\\\\\\\": \\\\\\\\\\\\\"fbs\\\\\\\\\\\\\"}}, \\\\\\\\\\\\\"typeProperty\\\\\\\\\\\\\": 2}, {\\\\\\\\\\\\\"column\\\\\\\\\\\\\": {\\\\\\\\\\\\\"type\\\\\\\\\\\\\": 2, \\\\\\\\\\\\\"details\\\\\\\\\\\\\": {\\\\\\\\\\\\\"selectedColumn\\\\\\\\\\\\\": \\\\\\\\\\\\\"restecg\\\\\\\\\\\\\"}}, \\\\\\\\\\\\\"typeProperty\\\\\\\\\\\\\": 2}, {\\\\\\\\\\\\\"column\\\\\\\\\\\\\": {\\\\\\\\\\\\\"type\\\\\\\\\\\\\": 2, \\\\\\\\\\\\\"details\\\\\\\\\\\\\": {\\\\\\\\\\\\\"selectedColumn\\\\\\\\\\\\\": \\\\\\\\\\\\\"thalach\\\\\\\\\\\\\"}}, \\\\\\\\\\\\\"typeProperty\\\\\\\\\\\\\": 2}, {\\\\\\\\\\\\\"column\\\\\\\\\\\\\": {\\\\\\\\\\\\\"type\\\\\\\\\\\\\": 2, \\\\\\\\\\\\\"details\\\\\\\\\\\\\": {\\\\\\\\\\\\\"selectedColumn\\\\\\\\\\\\\": \\\\\\\\\\\\\"exang\\\\\\\\\\\\\"}}, \\\\\\\\\\\\\"typeProperty\\\\\\\\\\\\\": 2}, {\\\\\\\\\\\\\"column\\\\\\\\\\\\\": {\\\\\\\\\\\\\"type\\\\\\\\\\\\\": 2, \\\\\\\\\\\\\"details\\\\\\\\\\\\\": {\\\\\\\\\\\\\"selectedColumn\\\\\\\\\\\\\": \\\\\\\\\\\\\"oldpeak\\\\\\\\\\\\\"}}, \\\\\\\\\\\\\"typeProperty\\\\\\\\\\\\\": 3}, {\\\\\\\\\\\\\"column\\\\\\\\\\\\\": {\\\\\\\\\\\\\"type\\\\\\\\\\\\\": 2, \\\\\\\\\\\\\"details\\\\\\\\\\\\\": {\\\\\\\\\\\\\"selectedColumn\\\\\\\\\\\\\": \\\\\\\\\\\\\"slope\\\\\\\\\\\\\"}}, \\\\\\\\\\\\\"typeProperty\\\\\\\\\\\\\": 2}, {\\\\\\\\\\\\\"column\\\\\\\\\\\\\": {\\\\\\\\\\\\\"type\\\\\\\\\\\\\": 2, \\\\\\\\\\\\\"details\\\\\\\\\\\\\": {\\\\\\\\\\\\\"selectedColumn\\\\\\\\\\\\\": \\\\\\\\\\\\\"ca\\\\\\\\\\\\\"}}, \\\\\\\\\\\\\"typeProperty\\\\\\\\\\\\\": 2}, {\\\\\\\\\\\\\"column\\\\\\\\\\\\\": {\\\\\\\\\\\\\"type\\\\\\\\\\\\\": 2, \\\\\\\\\\\\\"details\\\\\\\\\\\\\": {\\\\\\\\\\\\\"selectedColumn\\\\\\\\\\\\\": \\\\\\\\\\\\\"thal\\\\\\\\\\\\\"}}, \\\\\\\\\\\\\"typeProperty\\\\\\\\\\\\\": 2}, {\\\\\\\\\\\\\"column\\\\\\\\\\\\\": {\\\\\\\\\\\\\"type\\\\\\\\\\\\\": 2, \\\\\\\\\\\\\"details\\\\\\\\\\\\\": {\\\\\\\\\\\\\"selectedColumn\\\\\\\\\\\\\": \\\\\\\\\\\\\"target\\\\\\\\\\\\\"}}, \\\\\\\\\\\\\"typeProperty\\\\\\\\\\\\\": 2}]}, \\\\\\\\\\\\\"localData\\\\\\\\\\\\\": {}, \\\\\\\\\\\\\"isEnabled\\\\\\\\\\\\\": true, \\\\\\\\\\\\\"name\\\\\\\\\\\\\": null, \\\\\\\\\\\\\"annotation\\\\\\\\\\\\\": null}], \\\\\\\\\\\\\"inspectors\\\\\\\\\\\\\": [], \\\\\\\\\\\\\"meta\\\\\\\\\\\\\": {\\\\\\\\\\\\\"savedDatasetId\\\\\\\\\\\\\": \\\\\\\\\\\\\"8e1c8737-43f2-45b9-a03d-fa3d90a99f42\\\\\\\\\\\\\", \\\\\\\\\\\\\"datasetType\\\\\\\\\\\\\": \\\\\\\\\\\\\"tabular\\\\\\\\\\\\\", \\\\\\\\\\\\\"subscriptionId\\\\\\\\\\\\\": \\\\\\\\\\\\\"3d1a56d2-7c81-4118-9790-f85d1acf0c77\\\\\\\\\\\\\", \\\\\\\\\\\\\"workspaceId\\\\\\\\\\\\\": \\\\\\\\\\\\\"1121b8e1-460e-4393-8db8-5a81d1ee4256\\\\\\\\\\\\\", \\\\\\\\\\\\\"workspaceLocation\\\\\\\\\\\\\": \\\\\\\\\\\\\"southcentralus\\\\\\\\\\\\\"}}\\\\\", \\\\\"activities\\\\\": 0}',\n  'EnableSubsampling': None,\n  'runTemplate': 'AutoML',\n  'azureml.runsource': 'automl',\n  'display_task_type': 'classification',\n  'dependencies_versions': '{\"azureml-widgets\": \"1.20.0\", \"azureml-train\": \"1.20.0\", \"azureml-train-restclients-hyperdrive\": \"1.20.0\", \"azureml-train-core\": \"1.20.0\", \"azureml-train-automl\": \"1.20.0\", \"azureml-train-automl-runtime\": \"1.20.0\", \"azureml-train-automl-client\": \"1.20.0\", \"azureml-tensorboard\": \"1.20.0\", \"azureml-telemetry\": \"1.20.0\", \"azureml-sdk\": \"1.20.0\", \"azureml-samples\": \"0+unknown\", \"azureml-pipeline\": \"1.20.0\", \"azureml-pipeline-steps\": \"1.20.0\", \"azureml-pipeline-core\": \"1.20.0\", \"azureml-opendatasets\": \"1.20.0\", \"azureml-model-management-sdk\": \"1.0.1b6.post1\", \"azureml-mlflow\": \"1.20.0.post1\", \"azureml-interpret\": \"1.20.0\", \"azureml-explain-model\": \"1.20.0\", \"azureml-defaults\": \"1.20.0\", \"azureml-dataset-runtime\": \"1.20.0\", \"azureml-dataprep\": \"2.7.3\", \"azureml-dataprep-rslex\": \"1.5.0\", \"azureml-dataprep-native\": \"27.0.0\", \"azureml-datadrift\": \"1.20.0\", \"azureml-core\": \"1.20.0\", \"azureml-contrib-services\": \"1.20.0\", \"azureml-contrib-server\": \"1.20.0\", \"azureml-contrib-reinforcementlearning\": \"1.20.0\", \"azureml-contrib-pipeline-steps\": \"1.20.0\", \"azureml-contrib-notebook\": \"1.20.0\", \"azureml-contrib-interpret\": \"1.20.0\", \"azureml-contrib-gbdt\": \"1.20.0\", \"azureml-contrib-fairness\": \"1.20.0\", \"azureml-contrib-dataset\": \"1.20.0\", \"azureml-cli-common\": \"1.20.0\", \"azureml-automl-runtime\": \"1.20.0\", \"azureml-automl-core\": \"1.20.0\", \"azureml-accel-models\": \"1.20.0\"}',\n  '_aml_system_scenario_identification': 'Remote.Parent',\n  'ClientType': 'SDK',\n  'environment_cpu_name': 'AzureML-AutoML',\n  'environment_cpu_label': 'prod',\n  'environment_gpu_name': 'AzureML-AutoML-GPU',\n  'environment_gpu_label': 'prod',\n  'root_attribution': 'automl',\n  'attribution': 'AutoML',\n  'Orchestrator': 'AutoML',\n  'CancelUri': 'https://southcentralus.experiments.azureml.net/jasmine/v1.0/subscriptions/3d1a56d2-7c81-4118-9790-f85d1acf0c77/resourceGroups/aml-quickstarts-139132/providers/Microsoft.MachineLearningServices/workspaces/quick-starts-ws-139132/experimentids/2c841029-109f-4303-97a4-04cf255a8b73/cancel/AutoML_3c71c4ea-e591-4b72-8a0a-c6e0139a277c',\n  'ClientSdkVersion': '1.21.0',\n  'snapshotId': '00000000-0000-0000-0000-000000000000',\n  'SetupRunId': 'AutoML_3c71c4ea-e591-4b72-8a0a-c6e0139a277c_setup',\n  'SetupRunContainerId': 'dcid.AutoML_3c71c4ea-e591-4b72-8a0a-c6e0139a277c_setup',\n  'FeaturizationRunJsonPath': 'featurizer_container.json',\n  'FeaturizationRunId': 'AutoML_3c71c4ea-e591-4b72-8a0a-c6e0139a277c_featurize',\n  'ProblemInfoJsonString': '{\"dataset_num_categorical\": 0, \"is_sparse\": true, \"subsampling\": false, \"dataset_classes\": 2, \"dataset_features\": 27, \"dataset_samples\": 303, \"single_frequency_class_detected\": false}',\n  'ModelExplainRunId': 'AutoML_3c71c4ea-e591-4b72-8a0a-c6e0139a277c_ModelExplain'},\n 'inputDatasets': [{'dataset': {'id': '8e1c8737-43f2-45b9-a03d-fa3d90a99f42'}, 'consumptionDetails': {'type': 'RunInput', 'inputName': 'training_data', 'mechanism': 'Direct'}}],\n 'outputDatasets': [],\n 'logFiles': {},\n 'submittedBy': 'ODL_User 139132'}"
          },
          "metadata": {}
        }
      ],
      "execution_count": 13,
      "metadata": {
        "gather": {
          "logged": 1613669779651
        }
      }
    },
    {
      "cell_type": "code",
      "source": [
        "best_model, fitted_model = remote_run.get_output()"
      ],
      "outputs": [
        {
          "output_type": "stream",
          "name": "stderr",
          "text": [
            "WARNING:root:The version of the SDK does not match the version the model was trained on.\n",
            "WARNING:root:The consistency in the result may not be guaranteed.\n",
            "WARNING:root:Package:azureml-automl-core, training version:1.21.0, current version:1.20.0\n",
            "Package:azureml-automl-runtime, training version:1.21.0, current version:1.20.0\n",
            "Package:azureml-core, training version:1.21.0.post1, current version:1.20.0\n",
            "Package:azureml-dataprep, training version:2.8.2, current version:2.7.3\n",
            "Package:azureml-dataprep-native, training version:28.0.0, current version:27.0.0\n",
            "Package:azureml-dataprep-rslex, training version:1.6.0, current version:1.5.0\n",
            "Package:azureml-dataset-runtime, training version:1.21.0, current version:1.20.0\n",
            "Package:azureml-defaults, training version:1.21.0, current version:1.20.0\n",
            "Package:azureml-interpret, training version:1.21.0, current version:1.20.0\n",
            "Package:azureml-pipeline-core, training version:1.21.0, current version:1.20.0\n",
            "Package:azureml-telemetry, training version:1.21.0, current version:1.20.0\n",
            "Package:azureml-train-automl-client, training version:1.21.0, current version:1.20.0\n",
            "Package:azureml-train-automl-runtime, training version:1.21.0, current version:1.20.0\n",
            "WARNING:root:Please ensure the version of your local conda dependencies match the version on which your model was trained in order to properly retrieve your model.\n"
          ]
        }
      ],
      "execution_count": 14,
      "metadata": {
        "gather": {
          "logged": 1613669805148
        }
      }
    },
    {
      "cell_type": "code",
      "source": [
        "print(best_model)"
      ],
      "outputs": [
        {
          "output_type": "stream",
          "name": "stdout",
          "text": [
            "Run(Experiment: capstone-automl-exp,\n",
            "Id: AutoML_3c71c4ea-e591-4b72-8a0a-c6e0139a277c_37,\n",
            "Type: azureml.scriptrun,\n",
            "Status: Completed)\n"
          ]
        }
      ],
      "execution_count": 15,
      "metadata": {
        "gather": {
          "logged": 1613669805467
        }
      }
    },
    {
      "cell_type": "code",
      "source": [
        "print(fitted_model)"
      ],
      "outputs": [
        {
          "output_type": "stream",
          "name": "stdout",
          "text": [
            "Pipeline(memory=None,\n",
            "         steps=[('datatransformer',\n",
            "                 DataTransformer(enable_dnn=None, enable_feature_sweeping=None,\n",
            "                                 feature_sweeping_config=None,\n",
            "                                 feature_sweeping_timeout=None,\n",
            "                                 featurization_config=None, force_text_dnn=None,\n",
            "                                 is_cross_validation=None,\n",
            "                                 is_onnx_compatible=None, logger=None,\n",
            "                                 observer=None, task=None, working_dir=None)),\n",
            "                ('prefittedsoftvotingclassifier',...\n",
            "                                                                                                  min_impurity_split=None,\n",
            "                                                                                                  min_samples_leaf=0.01,\n",
            "                                                                                                  min_samples_split=0.056842105263157895,\n",
            "                                                                                                  min_weight_fraction_leaf=0.0,\n",
            "                                                                                                  n_estimators=25,\n",
            "                                                                                                  n_jobs=1,\n",
            "                                                                                                  oob_score=True,\n",
            "                                                                                                  random_state=None,\n",
            "                                                                                                  verbose=0,\n",
            "                                                                                                  warm_start=False))],\n",
            "                                                                     verbose=False))],\n",
            "                                               flatten_transform=None,\n",
            "                                               weights=[0.08333333333333333,\n",
            "                                                        0.25,\n",
            "                                                        0.4166666666666667,\n",
            "                                                        0.08333333333333333,\n",
            "                                                        0.16666666666666666]))],\n",
            "         verbose=False)\n"
          ]
        }
      ],
      "execution_count": 16,
      "metadata": {
        "gather": {
          "logged": 1613669805753
        }
      }
    },
    {
      "cell_type": "code",
      "source": [
        "best_model.download_file('outputs/model.pkl', 'outputs/automl_hearth.pkl')\n",
        "best_model.download_file('outputs/scoring_file_v_1_0_0.py', 'outputs/score_aml.py')\n",
        "best_model.download_file('automl_driver.py', 'outputs/automl_driver.py')\n",
        "\n",
        "########\n",
        "##########Weitermachen bei Model Deployment"
      ],
      "outputs": [],
      "execution_count": 17,
      "metadata": {
        "gather": {
          "logged": 1613669806172
        }
      }
    },
    {
      "cell_type": "markdown",
      "source": [
        "## Run Details\n",
        "\n",
        "OPTIONAL: Write about the different models trained and their performance. Why do you think some models did better than others?\n",
        "\n",
        "TODO: In the cell below, use the `RunDetails` widget to show the different experiments."
      ],
      "metadata": {}
    },
    {
      "cell_type": "code",
      "source": [
        "#from azureml.widgets import RunDetails\n",
        "#RunDetails(remote_run).show()\n",
        "#remote_run.wait_for_completion()"
      ],
      "outputs": [],
      "execution_count": 18,
      "metadata": {
        "gather": {
          "logged": 1613669806484
        },
        "jupyter": {
          "outputs_hidden": false,
          "source_hidden": false
        },
        "nteract": {
          "transient": {
            "deleting": false
          }
        }
      }
    },
    {
      "cell_type": "markdown",
      "source": [
        "## Best Model\n",
        "\n",
        "TODO: In the cell below, get the best model from the automl experiments and display all the properties of the model.\n",
        "\n"
      ],
      "metadata": {}
    },
    {
      "cell_type": "code",
      "source": [
        "# Wait for the best model explanation run to complete\n",
        "#from azureml.core.run import Run\n",
        "#model_explainability_run_id = remote_run.id + \"_\" + \"ModelExplain\"\n",
        "#print(model_explainability_run_id)\n",
        "#model_explainability_run = Run(experiment=experiment, run_id=model_explainability_run_id)\n",
        "#model_explainability_run.wait_for_completion()\n",
        "\n",
        "# Get the best run object\n",
        "#best_run, fitted_model = remote_run.get_output() #  <--- vielleicht braucht man das doch??"
      ],
      "outputs": [],
      "execution_count": 19,
      "metadata": {
        "gather": {
          "logged": 1613669806772
        },
        "jupyter": {
          "outputs_hidden": false,
          "source_hidden": false
        },
        "nteract": {
          "transient": {
            "deleting": false
          }
        }
      }
    },
    {
      "cell_type": "code",
      "source": [],
      "outputs": [],
      "execution_count": null,
      "metadata": {}
    },
    {
      "cell_type": "code",
      "source": [
        "#os.makedirs('outputs', exist_ok=True)\n",
        "\n",
        "#joblib.dump(fitted_model, filename=\"outputs/automl-model.pkl\")\n",
        "\n",
        "model = best_model.register_model(model_name='best_automl_model', \n",
        "                                        model_path='outputs/model.pkl',\n",
        "                                        tags= {'Training context':'Auto ML'}#,\n",
        "                                        #properties={\n",
        "                                        #     'AUC_weighted':\n",
        "                                        #     get_best_automl_metrics['AUC_weighted']\n",
        "                                        # }\n",
        "                                        # description=\"Training context : AutoML\")\n",
        "                                        )\n",
        "print(model)"
      ],
      "outputs": [
        {
          "output_type": "stream",
          "name": "stdout",
          "text": [
            "Model(workspace=Workspace.create(name='quick-starts-ws-139132', subscription_id='3d1a56d2-7c81-4118-9790-f85d1acf0c77', resource_group='aml-quickstarts-139132'), name=best_automl_model, id=best_automl_model:1, version=1, tags={'Training context': 'Auto ML'}, properties={})\n"
          ]
        }
      ],
      "execution_count": 61,
      "metadata": {
        "gather": {
          "logged": 1613670097849
        }
      }
    },
    {
      "cell_type": "code",
      "source": [],
      "outputs": [],
      "execution_count": null,
      "metadata": {}
    },
    {
      "cell_type": "code",
      "source": [],
      "outputs": [],
      "execution_count": null,
      "metadata": {}
    },
    {
      "cell_type": "code",
      "source": [],
      "outputs": [],
      "execution_count": null,
      "metadata": {}
    },
    {
      "cell_type": "code",
      "source": [
        "import onnxruntime"
      ],
      "outputs": [],
      "execution_count": 62,
      "metadata": {
        "collapsed": true,
        "gather": {
          "logged": 1613670112741
        },
        "jupyter": {
          "outputs_hidden": false,
          "source_hidden": false
        },
        "nteract": {
          "transient": {
            "deleting": false
          }
        }
      }
    },
    {
      "cell_type": "code",
      "source": [
        "best_run, onnx_mdl = remote_run.get_output(return_onnx_model=True)"
      ],
      "outputs": [],
      "execution_count": 63,
      "metadata": {
        "gather": {
          "logged": 1613670267000
        }
      }
    },
    {
      "cell_type": "code",
      "source": [
        "from azureml.automl.runtime.onnx_convert import OnnxConverter\n",
        "onnx_fl_path = \"./best_model.onnx\"\n",
        "OnnxConverter.save_onnx_model(onnx_mdl, onnx_fl_path)\n"
      ],
      "outputs": [],
      "execution_count": 64,
      "metadata": {
        "gather": {
          "logged": 1613670267453
        }
      }
    },
    {
      "cell_type": "code",
      "source": [
        "# Get the best run object\n",
        "#best_run, fitted_model = remote_run.get_output()"
      ],
      "outputs": [],
      "execution_count": 65,
      "metadata": {
        "gather": {
          "logged": 1613670267758
        }
      }
    },
    {
      "cell_type": "code",
      "source": [
        "model_name = best_run.properties['model_name']\n",
        "print(best_run)"
      ],
      "outputs": [
        {
          "output_type": "stream",
          "name": "stdout",
          "text": [
            "Run(Experiment: capstone-automl-exp,\n",
            "Id: AutoML_3c71c4ea-e591-4b72-8a0a-c6e0139a277c_37,\n",
            "Type: azureml.scriptrun,\n",
            "Status: Completed)\n"
          ]
        }
      ],
      "execution_count": 66,
      "metadata": {
        "gather": {
          "logged": 1613670268061
        }
      }
    },
    {
      "cell_type": "code",
      "source": [
        "print(fitted_model[-1])"
      ],
      "outputs": [
        {
          "output_type": "stream",
          "name": "stdout",
          "text": [
            "PreFittedSoftVotingClassifier(classification_labels=None,\n",
            "                              estimators=[('17',\n",
            "                                           Pipeline(memory=None,\n",
            "                                                    steps=[('maxabsscaler',\n",
            "                                                            MaxAbsScaler(copy=True)),\n",
            "                                                           ('extratreesclassifier',\n",
            "                                                            ExtraTreesClassifier(bootstrap=True,\n",
            "                                                                                 ccp_alpha=0.0,\n",
            "                                                                                 class_weight='balanced',\n",
            "                                                                                 criterion='gini',\n",
            "                                                                                 max_depth=None,\n",
            "                                                                                 max_features='log2',\n",
            "                                                                                 max_leaf_nodes=None,\n",
            "                                                                                 max_samples=None,\n",
            "                                                                                 min_impurity_decrea...\n",
            "                                                                                 min_impurity_decrease=0.0,\n",
            "                                                                                 min_impurity_split=None,\n",
            "                                                                                 min_samples_leaf=0.01,\n",
            "                                                                                 min_samples_split=0.056842105263157895,\n",
            "                                                                                 min_weight_fraction_leaf=0.0,\n",
            "                                                                                 n_estimators=25,\n",
            "                                                                                 n_jobs=1,\n",
            "                                                                                 oob_score=True,\n",
            "                                                                                 random_state=None,\n",
            "                                                                                 verbose=0,\n",
            "                                                                                 warm_start=False))],\n",
            "                                                    verbose=False))],\n",
            "                              flatten_transform=None,\n",
            "                              weights=[0.08333333333333333, 0.25,\n",
            "                                       0.4166666666666667, 0.08333333333333333,\n",
            "                                       0.16666666666666666])\n"
          ]
        }
      ],
      "execution_count": 67,
      "metadata": {
        "gather": {
          "logged": 1613670268589
        }
      }
    },
    {
      "cell_type": "code",
      "source": [
        "best_run.get_metrics()"
      ],
      "outputs": [
        {
          "output_type": "execute_result",
          "execution_count": 68,
          "data": {
            "text/plain": "{'accuracy': 0.8514851485148515,\n 'recall_score_micro': 0.8514851485148515,\n 'f1_score_macro': 0.8499116173699095,\n 'log_loss': 0.4842443804841232,\n 'average_precision_score_macro': 0.9224472846956662,\n 'recall_score_weighted': 0.8514851485148515,\n 'precision_score_micro': 0.8514851485148515,\n 'weighted_accuracy': 0.8537271401715225,\n 'AUC_weighted': 0.9236949432061983,\n 'average_precision_score_micro': 0.9192548559308912,\n 'average_precision_score_weighted': 0.9229090445116658,\n 'recall_score_macro': 0.8491959037981239,\n 'precision_score_weighted': 0.8515810418814279,\n 'AUC_micro': 0.9235695846812403,\n 'precision_score_macro': 0.851153127365517,\n 'norm_macro_recall': 0.698391807596248,\n 'matthews_correlation': 0.7003408073900205,\n 'f1_score_weighted': 0.8512773316312141,\n 'balanced_accuracy': 0.8491959037981239,\n 'AUC_macro': 0.9236949432061982,\n 'f1_score_micro': 0.8514851485148515,\n 'confusion_matrix': 'aml://artifactId/ExperimentRun/dcid.AutoML_3c71c4ea-e591-4b72-8a0a-c6e0139a277c_37/confusion_matrix',\n 'accuracy_table': 'aml://artifactId/ExperimentRun/dcid.AutoML_3c71c4ea-e591-4b72-8a0a-c6e0139a277c_37/accuracy_table'}"
          },
          "metadata": {}
        }
      ],
      "execution_count": 68,
      "metadata": {
        "gather": {
          "logged": 1613670269945
        }
      }
    },
    {
      "cell_type": "code",
      "source": [
        "script_file_name = 'inference/score.py'\n",
        "\n",
        "best_run.download_file('outputs/scoring_file_v_1_0_0.py', 'inference/score.py')"
      ],
      "outputs": [],
      "execution_count": 69,
      "metadata": {
        "gather": {
          "logged": 1613670270246
        }
      }
    },
    {
      "cell_type": "code",
      "source": [],
      "outputs": [],
      "execution_count": null,
      "metadata": {}
    },
    {
      "cell_type": "code",
      "source": [],
      "outputs": [],
      "execution_count": null,
      "metadata": {}
    },
    {
      "cell_type": "code",
      "source": [],
      "outputs": [],
      "execution_count": null,
      "metadata": {}
    },
    {
      "cell_type": "code",
      "source": [
        "#TODO: Save the best model"
      ],
      "outputs": [],
      "execution_count": 70,
      "metadata": {
        "gather": {
          "logged": 1613670270551
        },
        "jupyter": {
          "outputs_hidden": false,
          "source_hidden": false
        },
        "nteract": {
          "transient": {
            "deleting": false
          }
        }
      }
    },
    {
      "cell_type": "code",
      "source": [],
      "outputs": [],
      "execution_count": null,
      "metadata": {}
    },
    {
      "cell_type": "markdown",
      "source": [
        "## Model Deployment\n",
        "\n",
        "Remember you have to deploy only one of the two models you trained.. Perform the steps in the rest of this notebook only if you wish to deploy this model.\n",
        "\n",
        "TODO: In the cell below, register the model, create an inference config and deploy the model as a web service."
      ],
      "metadata": {}
    },
    {
      "cell_type": "code",
      "source": [
        "from azureml.core.model import InferenceConfig\n",
        "from azureml.core.webservice import LocalWebservice, AciWebservice\n",
        "from azureml.core.webservice import Webservice\n",
        "from azureml.core.model import Model\n",
        "from azureml.core.environment import Environment\n",
        "from azureml.core.conda_dependencies import CondaDependencies\n",
        "from azureml.automl.core.shared import constants"
      ],
      "outputs": [],
      "execution_count": 71,
      "metadata": {
        "gather": {
          "logged": 1613670270972
        }
      }
    },
    {
      "cell_type": "code",
      "source": [
        "#Deploy model and check service state\n",
        "deployment_config = AciWebservice.deploy_configuration(\n",
        "    cpu_cores=1,\n",
        "    memory_gb=1,\n",
        "    description='Heart failure prediction', #vielleicht den Text ändern\n",
        "    auth_enabled=True\n",
        ")"
      ],
      "outputs": [],
      "execution_count": 72,
      "metadata": {
        "gather": {
          "logged": 1613670271270
        }
      }
    },
    {
      "cell_type": "code",
      "source": [],
      "outputs": [],
      "execution_count": 107,
      "metadata": {
        "collapsed": true,
        "jupyter": {
          "source_hidden": false,
          "outputs_hidden": false
        },
        "nteract": {
          "transient": {
            "deleting": false
          }
        },
        "gather": {
          "logged": 1613670694372
        }
      }
    },
    {
      "cell_type": "code",
      "source": [
        "model = Model(workspace = ws,\r\n",
        "                       model_path='outputs/model.pkl',\r\n",
        "                       name='best_automl_model')"
      ],
      "outputs": [],
      "execution_count": 108,
      "metadata": {
        "gather": {
          "logged": 1613670731697
        }
      }
    },
    {
      "cell_type": "code",
      "source": [],
      "outputs": [],
      "execution_count": null,
      "metadata": {
        "collapsed": true,
        "jupyter": {
          "source_hidden": false,
          "outputs_hidden": false
        },
        "nteract": {
          "transient": {
            "deleting": false
          }
        }
      }
    },
    {
      "cell_type": "code",
      "source": [
        "myenv = best_model.get_environment()\n",
        "best_model.download_file('outputs/scoring_file_v_1_0_0.py', 'score.py')\n",
        "best_model.download_file(constants.CONDA_ENV_FILE_PATH, 'myenv.yml')\n",
        "\n",
        "inference_config = InferenceConfig(entry_script='score.py', environment=myenv)\n",
        "\n",
        "service = Model.deploy(workspace=ws, \n",
        "                       name='aciservice', \n",
        "                       models=[model], \n",
        "                       inference_config=inference_config, \n",
        "                       deployment_config=deployment_config)\n",
        "        \n",
        "# model = Model.register(model_path = \"./models/automl_hearth.pkl\",\n",
        "#                       model_name = \"automl_hearth.pkl\",\n",
        "#                       description = \"Best model trained with AutoML\",\n",
        "#                       workspace = ws, model_framework=Model.Framework.SCIKITLEARN)\n",
        "service.wait_for_deployment(show_output=True)"
      ],
      "outputs": [
        {
          "output_type": "stream",
          "name": "stdout",
          "text": [
            "Tips: You can try get_logs(): https://aka.ms/debugimage#dockerlog or local deployment: https://aka.ms/debugimage#debug-locally to debug if deployment takes longer than 10 minutes.\n",
            "Running..................................\n",
            "Succeeded\n",
            "ACI service creation operation finished, operation \"Succeeded\"\n"
          ]
        }
      ],
      "execution_count": 110,
      "metadata": {
        "gather": {
          "logged": 1613670975513
        }
      }
    },
    {
      "cell_type": "code",
      "source": [
        "#Enable application insights\n",
        "service.update(enable_app_insights = True)"
      ],
      "outputs": [],
      "execution_count": 111,
      "metadata": {
        "gather": {
          "logged": 1613670988088
        }
      }
    },
    {
      "cell_type": "code",
      "source": [
        "print(\"State : \"+service.state)\n",
        "print(\"Key \" + service.get_keys()[0])\n",
        "print(\"Swagger URI : \"+service.swagger_uri)\n",
        "print(\"Scoring URI : \"+service.scoring_uri)"
      ],
      "outputs": [
        {
          "output_type": "stream",
          "name": "stdout",
          "text": [
            "State : Healthy\n",
            "Key bwZFjahGNmYj3YRaXpiG0SlKcg0Fv7tn\n",
            "Swagger URI : http://0406bf0a-f5bb-405c-80f9-6bb997ac9151.southcentralus.azurecontainer.io/swagger.json\n",
            "Scoring URI : http://0406bf0a-f5bb-405c-80f9-6bb997ac9151.southcentralus.azurecontainer.io/score\n"
          ]
        }
      ],
      "execution_count": 112,
      "metadata": {
        "gather": {
          "logged": 1613670992285
        }
      }
    },
    {
      "cell_type": "code",
      "source": [],
      "outputs": [],
      "execution_count": null,
      "metadata": {}
    },
    {
      "cell_type": "code",
      "source": [],
      "outputs": [],
      "execution_count": null,
      "metadata": {}
    },
    {
      "cell_type": "code",
      "source": [
        "#from azureml.core.environment import Environment\n",
        "#from azureml.core.model import InferenceConfig\n",
        "\n",
        "#env = Environment.get(workspace=ws,name='AzureML_AutoML')"
      ],
      "outputs": [],
      "execution_count": null,
      "metadata": {
        "gather": {
          "logged": 1613415957745
        }
      }
    },
    {
      "cell_type": "code",
      "source": [
        "#inferencefinal = InferenceConfig(entry_script='inference/score.py',environment=env) "
      ],
      "outputs": [],
      "execution_count": null,
      "metadata": {
        "gather": {
          "logged": 1613418157668
        }
      }
    },
    {
      "cell_type": "code",
      "source": [],
      "outputs": [],
      "execution_count": null,
      "metadata": {
        "gather": {
          "logged": 1613418162305
        }
      }
    },
    {
      "cell_type": "code",
      "source": [
        "#svcs = Model.deploy(workspace=ws,name='hear',models=[model],inference_config=inferencefinal,deployment_config=deployfinal)\n"
      ],
      "outputs": [],
      "execution_count": null,
      "metadata": {
        "collapsed": true,
        "gather": {
          "logged": 1613418170794
        },
        "jupyter": {
          "outputs_hidden": false,
          "source_hidden": false
        },
        "nteract": {
          "transient": {
            "deleting": false
          }
        }
      }
    },
    {
      "cell_type": "code",
      "source": [
        "#svcs.wait_for_deployment(show_output=True)"
      ],
      "outputs": [],
      "execution_count": null,
      "metadata": {
        "collapsed": true,
        "jupyter": {
          "outputs_hidden": false,
          "source_hidden": false
        },
        "nteract": {
          "transient": {
            "deleting": false
          }
        }
      }
    },
    {
      "cell_type": "code",
      "source": [
        "print(service.get_logs())"
      ],
      "outputs": [
        {
          "output_type": "stream",
          "name": "stdout",
          "text": [
            "2021-02-18T17:55:54,575606900+00:00 - gunicorn/run \n",
            "2021-02-18T17:55:54,583295200+00:00 - iot-server/run \n",
            "2021-02-18T17:55:54,582323900+00:00 - rsyslog/run \n",
            "2021-02-18T17:55:54,606855900+00:00 - nginx/run \n",
            "/usr/sbin/nginx: /azureml-envs/azureml_20a8278aa8b20dd48cc50f56a6d2586c/lib/libcrypto.so.1.0.0: no version information available (required by /usr/sbin/nginx)\n",
            "/usr/sbin/nginx: /azureml-envs/azureml_20a8278aa8b20dd48cc50f56a6d2586c/lib/libcrypto.so.1.0.0: no version information available (required by /usr/sbin/nginx)\n",
            "/usr/sbin/nginx: /azureml-envs/azureml_20a8278aa8b20dd48cc50f56a6d2586c/lib/libssl.so.1.0.0: no version information available (required by /usr/sbin/nginx)\n",
            "/usr/sbin/nginx: /azureml-envs/azureml_20a8278aa8b20dd48cc50f56a6d2586c/lib/libssl.so.1.0.0: no version information available (required by /usr/sbin/nginx)\n",
            "/usr/sbin/nginx: /azureml-envs/azureml_20a8278aa8b20dd48cc50f56a6d2586c/lib/libssl.so.1.0.0: no version information available (required by /usr/sbin/nginx)\n",
            "rsyslogd: /azureml-envs/azureml_20a8278aa8b20dd48cc50f56a6d2586c/lib/libuuid.so.1: no version information available (required by rsyslogd)\n",
            "EdgeHubConnectionString and IOTEDGE_IOTHUBHOSTNAME are not set. Exiting...\n",
            "2021-02-18T17:55:56,170901300+00:00 - iot-server/finish 1 0\n",
            "2021-02-18T17:55:56,181594500+00:00 - Exit code 1 is normal. Not restarting iot-server.\n",
            "Starting gunicorn 19.9.0\n",
            "Listening at: http://127.0.0.1:31311 (71)\n",
            "Using worker: sync\n",
            "worker timeout is set to 300\n",
            "Booting worker with pid: 98\n",
            "SPARK_HOME not set. Skipping PySpark Initialization.\n",
            "Generating new fontManager, this may take some time...\n",
            "Initializing logger\n",
            "2021-02-18 17:56:01,290 | root | INFO | Starting up app insights client\n",
            "2021-02-18 17:56:01,290 | root | INFO | Starting up request id generator\n",
            "2021-02-18 17:56:01,290 | root | INFO | Starting up app insight hooks\n",
            "2021-02-18 17:56:01,290 | root | INFO | Invoking user's init function\n",
            "2021-02-18 17:56:11,371 | root | INFO | Users's init has completed successfully\n",
            "2021-02-18 17:56:11,379 | root | INFO | Skipping middleware: dbg_model_info as it's not enabled.\n",
            "2021-02-18 17:56:11,379 | root | INFO | Skipping middleware: dbg_resource_usage as it's not enabled.\n",
            "2021-02-18 17:56:11,382 | root | INFO | Scoring timeout is found from os.environ: 60000 ms\n",
            "2021-02-18 17:56:11,395 | root | INFO | 200\n",
            "127.0.0.1 - - [18/Feb/2021:17:56:11 +0000] \"GET /swagger.json HTTP/1.0\" 200 2741 \"-\" \"Go-http-client/1.1\"\n",
            "2021-02-18 17:56:15,207 | root | INFO | 200\n",
            "127.0.0.1 - - [18/Feb/2021:17:56:15 +0000] \"GET /swagger.json HTTP/1.0\" 200 2741 \"-\" \"Go-http-client/1.1\"\n",
            "2021-02-18 17:56:27,701 | root | INFO | 200\n",
            "127.0.0.1 - - [18/Feb/2021:17:56:27 +0000] \"GET /swagger.json HTTP/1.0\" 200 2741 \"-\" \"Go-http-client/1.1\"\n",
            "2021-02-18 17:56:45,571 | root | INFO | 200\n",
            "127.0.0.1 - - [18/Feb/2021:17:56:45 +0000] \"GET /swagger.json HTTP/1.0\" 200 2741 \"-\" \"Mozilla/5.0 (Windows NT 10.0; Win64; x64) AppleWebKit/537.36 (KHTML, like Gecko) Chrome/86.0.4240.75 Safari/537.36\"\n",
            "2021-02-18 17:56:57,418 | root | INFO | 200\n",
            "127.0.0.1 - - [18/Feb/2021:17:56:57 +0000] \"GET /swagger.json HTTP/1.0\" 200 2741 \"-\" \"Mozilla/5.0 (Windows NT 10.0; Win64; x64) AppleWebKit/537.36 (KHTML, like Gecko) Chrome/86.0.4240.75 Safari/537.36\"\n",
            "\n"
          ]
        }
      ],
      "execution_count": 113,
      "metadata": {
        "collapsed": true,
        "gather": {
          "logged": 1613671069967
        },
        "jupyter": {
          "outputs_hidden": false,
          "source_hidden": false
        },
        "nteract": {
          "transient": {
            "deleting": false
          }
        }
      }
    },
    {
      "cell_type": "markdown",
      "source": [],
      "metadata": {
        "nteract": {
          "transient": {
            "deleting": false
          }
        }
      }
    },
    {
      "cell_type": "code",
      "source": [
        "#Deploy model and check service state\n",
        "print(service.state)"
      ],
      "outputs": [
        {
          "output_type": "stream",
          "name": "stdout",
          "text": [
            "Healthy\n"
          ]
        }
      ],
      "execution_count": 118,
      "metadata": {
        "gather": {
          "logged": 1613671175586
        }
      }
    },
    {
      "cell_type": "code",
      "source": [
        "print(service.scoring_uri)"
      ],
      "outputs": [
        {
          "output_type": "stream",
          "name": "stdout",
          "text": [
            "http://0406bf0a-f5bb-405c-80f9-6bb997ac9151.southcentralus.azurecontainer.io/score\n"
          ]
        }
      ],
      "execution_count": 114,
      "metadata": {
        "gather": {
          "logged": 1613671082458
        }
      }
    },
    {
      "cell_type": "code",
      "source": [
        "import json\n",
        "import requests\n",
        "\n",
        "scoring_uri = 'http://0406bf0a-f5bb-405c-80f9-6bb997ac9151.southcentralus.azurecontainer.io/score' \n",
        "#key=''\n",
        "headers = {'Content-Type': 'application/json'}\n",
        "# If authentication is enabled, set the authorization header\n",
        "#headers['Authorization'] = f'Bearer {key}'\n",
        "headers['Authorization'] = f'Bearer {service.get_keys()[0]}'\n",
        "\n",
        "data = {\"data\":\n",
        "        [\n",
        "          {\n",
        "            \"age\":37,\n",
        "            \"sex\": 1,\n",
        "            \"cp\": 2,\n",
        "            \"trestbps\": 130,\n",
        "            \"chol\": 250,\n",
        "            \"fbs\": 0,\n",
        "            \"restecg\": 1,\n",
        "            \"thalach\": 187,\n",
        "            \"exang\": 0,\n",
        "            \"oldpeak\": 3.5,\n",
        "            \"slope\": 0,\n",
        "            \"ca\": 0,\n",
        "            \"thal\": 2,\n",
        "          }\n",
        "      ]\n",
        "    }\n",
        "test_sample = json.dumps(data)\n",
        "\n",
        "\n",
        "resp = requests.post(scoring_uri, test_sample, headers=headers)"
      ],
      "outputs": [],
      "execution_count": 116,
      "metadata": {
        "gather": {
          "logged": 1613671132881
        }
      }
    },
    {
      "cell_type": "code",
      "source": [
        "myenv.save_to_directory('./training',overwrite=True)"
      ],
      "outputs": [],
      "execution_count": 121,
      "metadata": {
        "gather": {
          "logged": 1613671295486
        }
      }
    },
    {
      "cell_type": "code",
      "source": [
        "print(resp)"
      ],
      "outputs": [
        {
          "output_type": "stream",
          "name": "stdout",
          "text": [
            "<Response [200]>\n"
          ]
        }
      ],
      "execution_count": 122,
      "metadata": {
        "gather": {
          "logged": 1613671299037
        }
      }
    },
    {
      "cell_type": "code",
      "source": [
        "print(resp.status_code)\n",
        "print(resp.elapsed)\n",
        "print(resp.json())"
      ],
      "outputs": [
        {
          "output_type": "stream",
          "name": "stdout",
          "text": [
            "200\n",
            "0:00:00.201534\n",
            "{\"result\": [1]}\n"
          ]
        }
      ],
      "execution_count": 123,
      "metadata": {
        "gather": {
          "logged": 1613671303848
        }
      }
    },
    {
      "cell_type": "code",
      "source": [
        "print('expected result: ', df['target'][1])"
      ],
      "outputs": [
        {
          "output_type": "stream",
          "name": "stdout",
          "text": [
            "expected result:  1\n"
          ]
        }
      ],
      "execution_count": 132,
      "metadata": {
        "collapsed": true,
        "jupyter": {
          "source_hidden": false,
          "outputs_hidden": false
        },
        "nteract": {
          "transient": {
            "deleting": false
          }
        },
        "gather": {
          "logged": 1613671683399
        }
      }
    },
    {
      "cell_type": "code",
      "source": [
        "print(service.get_logs())"
      ],
      "outputs": [
        {
          "output_type": "stream",
          "name": "stdout",
          "text": [
            "2021-02-18T18:01:04,182213000+00:00 - rsyslog/run \n",
            "2021-02-18T18:01:04,183724400+00:00 - gunicorn/run \n",
            "2021-02-18T18:01:04,187107100+00:00 - nginx/run \n",
            "/usr/sbin/nginx: /azureml-envs/azureml_20a8278aa8b20dd48cc50f56a6d2586c/lib/libcrypto.so.1.0.0: no version information available (required by /usr/sbin/nginx)\n",
            "/usr/sbin/nginx: /azureml-envs/azureml_20a8278aa8b20dd48cc50f56a6d2586c/lib/libcrypto.so.1.0.0: no version information available (required by /usr/sbin/nginx)\n",
            "/usr/sbin/nginx: /azureml-envs/azureml_20a8278aa8b20dd48cc50f56a6d2586c/lib/libssl.so.1.0.0: no version information available (required by /usr/sbin/nginx)\n",
            "/usr/sbin/nginx: /azureml-envs/azureml_20a8278aa8b20dd48cc50f56a6d2586c/lib/libssl.so.1.0.0: no version information available (required by /usr/sbin/nginx)\n",
            "/usr/sbin/nginx: /azureml-envs/azureml_20a8278aa8b20dd48cc50f56a6d2586c/lib/libssl.so.1.0.0: no version information available (required by /usr/sbin/nginx)\n",
            "2021-02-18T18:01:04,200324000+00:00 - iot-server/run \n",
            "rsyslogd: /azureml-envs/azureml_20a8278aa8b20dd48cc50f56a6d2586c/lib/libuuid.so.1: no version information available (required by rsyslogd)\n",
            "EdgeHubConnectionString and IOTEDGE_IOTHUBHOSTNAME are not set. Exiting...\n",
            "2021-02-18T18:01:05,923668900+00:00 - iot-server/finish 1 0\n",
            "2021-02-18T18:01:05,924981000+00:00 - Exit code 1 is normal. Not restarting iot-server.\n",
            "Starting gunicorn 19.9.0\n",
            "Listening at: http://127.0.0.1:31311 (67)\n",
            "Using worker: sync\n",
            "worker timeout is set to 300\n",
            "Booting worker with pid: 96\n",
            "SPARK_HOME not set. Skipping PySpark Initialization.\n",
            "Generating new fontManager, this may take some time...\n",
            "Initializing logger\n",
            "2021-02-18 18:01:10,203 | root | INFO | Starting up app insights client\n",
            "2021-02-18 18:01:10,203 | root | INFO | Starting up request id generator\n",
            "2021-02-18 18:01:10,203 | root | INFO | Starting up app insight hooks\n",
            "2021-02-18 18:01:10,204 | root | INFO | Invoking user's init function\n",
            "2021-02-18 18:01:19,156 | root | INFO | Users's init has completed successfully\n",
            "2021-02-18 18:01:19,166 | root | INFO | Skipping middleware: dbg_model_info as it's not enabled.\n",
            "2021-02-18 18:01:19,166 | root | INFO | Skipping middleware: dbg_resource_usage as it's not enabled.\n",
            "2021-02-18 18:01:19,169 | root | INFO | Scoring timeout is found from os.environ: 60000 ms\n",
            "2021-02-18 18:01:28,510 | root | INFO | 200\n",
            "127.0.0.1 - - [18/Feb/2021:18:01:28 +0000] \"GET /swagger.json HTTP/1.0\" 200 2741 \"-\" \"Go-http-client/1.1\"\n",
            "\n"
          ]
        }
      ],
      "execution_count": 124,
      "metadata": {
        "gather": {
          "logged": 1613671311175
        }
      }
    },
    {
      "cell_type": "code",
      "source": [
        "#service.delete()"
      ],
      "outputs": [],
      "execution_count": 125,
      "metadata": {
        "gather": {
          "logged": 1613671321701
        }
      }
    },
    {
      "cell_type": "code",
      "source": [
        "#compute_target.delete()"
      ],
      "outputs": [],
      "execution_count": null,
      "metadata": {}
    },
    {
      "cell_type": "code",
      "source": [
        "print(finished)"
      ],
      "outputs": [],
      "execution_count": null,
      "metadata": {}
    },
    {
      "cell_type": "code",
      "source": [
        "#Bis hier hin"
      ],
      "outputs": [],
      "execution_count": null,
      "metadata": {}
    },
    {
      "cell_type": "code",
      "source": [],
      "outputs": [],
      "execution_count": null,
      "metadata": {}
    },
    {
      "cell_type": "code",
      "source": [],
      "outputs": [],
      "execution_count": null,
      "metadata": {}
    },
    {
      "cell_type": "code",
      "source": [],
      "outputs": [],
      "execution_count": null,
      "metadata": {}
    },
    {
      "cell_type": "code",
      "source": [],
      "outputs": [],
      "execution_count": null,
      "metadata": {
        "gather": {
          "logged": 1613244524207
        }
      }
    },
    {
      "cell_type": "code",
      "source": [
        "#conda activate myenv"
      ],
      "outputs": [],
      "execution_count": null,
      "metadata": {
        "collapsed": true,
        "gather": {
          "logged": 1613245005642
        },
        "jupyter": {
          "outputs_hidden": false,
          "source_hidden": false
        },
        "nteract": {
          "transient": {
            "deleting": false
          }
        }
      }
    },
    {
      "cell_type": "code",
      "source": [
        "#conda env export > env.yml"
      ],
      "outputs": [],
      "execution_count": null,
      "metadata": {
        "collapsed": true,
        "gather": {
          "logged": 1613245011308
        },
        "jupyter": {
          "outputs_hidden": false,
          "source_hidden": false
        },
        "nteract": {
          "transient": {
            "deleting": false
          }
        }
      }
    },
    {
      "cell_type": "code",
      "source": [
        "#from azureml.automl.core.shared import constants\n",
        "#best_run.download_file(constants.CONDA_ENV_FILE_PATH, 'myenv.yml')"
      ],
      "outputs": [],
      "execution_count": null,
      "metadata": {}
    },
    {
      "cell_type": "code",
      "source": [
        "#from azureml.core import Environment\n",
        "#env = Environment.from_conda_specification(name='myenv',file_path = 'env.yml')\n",
        "\n",
        "\n",
        "\n",
        "#inference_config = InferenceConfig(entry_script='./score.py',\n",
        "#                                    environment=env)\n",
        "\n",
        "#f = open(\"envnew.yml\", \"w\")\n",
        "#f.write(env.python.conda_dependencies.serialize_to_string())\n",
        "#f.close()\n",
        "\n",
        "#print(\"packages\", env.python.conda_dependencies.serialize_to_string())"
      ],
      "outputs": [],
      "execution_count": null,
      "metadata": {}
    },
    {
      "cell_type": "code",
      "source": [
        "#service_name = 'heart_service'\n",
        "\n",
        "#service = Model.deploy(ws, service_name, [model], inference_config, deployment_config=aci_config)"
      ],
      "outputs": [],
      "execution_count": null,
      "metadata": {}
    },
    {
      "cell_type": "code",
      "source": [
        "#service.wait_for_deployment(True)\n",
        "#print(service.state)"
      ],
      "outputs": [],
      "execution_count": null,
      "metadata": {}
    },
    {
      "cell_type": "code",
      "source": [
        "#print(\"scoring URI: \" + service.scoring_uri)"
      ],
      "outputs": [],
      "execution_count": null,
      "metadata": {}
    },
    {
      "cell_type": "code",
      "source": [],
      "outputs": [],
      "execution_count": null,
      "metadata": {}
    },
    {
      "cell_type": "markdown",
      "source": [
        "print(\"Result:\",response.text)"
      ],
      "metadata": {}
    },
    {
      "cell_type": "markdown",
      "source": [
        "print(service.get_logs())"
      ],
      "metadata": {}
    },
    {
      "cell_type": "markdown",
      "source": [
        "print(response.status_code)\n",
        "print(response.elapsed)\n",
        "print(response.json())"
      ],
      "metadata": {}
    },
    {
      "cell_type": "code",
      "source": [],
      "outputs": [],
      "execution_count": null,
      "metadata": {}
    },
    {
      "cell_type": "markdown",
      "source": [
        "service.delete()"
      ],
      "metadata": {}
    },
    {
      "cell_type": "markdown",
      "source": [
        "compute_target.delete()"
      ],
      "metadata": {}
    },
    {
      "cell_type": "code",
      "source": [
        "#Ende"
      ],
      "outputs": [],
      "execution_count": null,
      "metadata": {}
    },
    {
      "cell_type": "code",
      "source": [],
      "outputs": [],
      "execution_count": null,
      "metadata": {}
    },
    {
      "cell_type": "code",
      "source": [],
      "outputs": [],
      "execution_count": null,
      "metadata": {}
    },
    {
      "cell_type": "code",
      "source": [],
      "outputs": [],
      "execution_count": null,
      "metadata": {}
    },
    {
      "cell_type": "code",
      "source": [],
      "outputs": [],
      "execution_count": null,
      "metadata": {}
    },
    {
      "cell_type": "code",
      "source": [
        "# The following cells were changed from code -> markdown"
      ],
      "outputs": [],
      "execution_count": null,
      "metadata": {}
    },
    {
      "cell_type": "markdown",
      "source": [
        "#Register the Fitted Model for Deployment\n",
        "model_name = best_run.properties['model_name']\n",
        "description = 'AutoML Model trained on heart data'\n",
        "tags = None\n",
        "model = remote_run.register_model(model_name = model_name, description = description, tags = tags)\n",
        "\n",
        "print(remote_run.model_id) # This will be written to the script file later in the notebook.  "
      ],
      "metadata": {
        "gather": {
          "logged": 1612987968413
        },
        "jupyter": {
          "outputs_hidden": false,
          "source_hidden": false
        },
        "nteract": {
          "transient": {
            "deleting": false
          }
        }
      }
    },
    {
      "cell_type": "code",
      "source": [],
      "outputs": [],
      "execution_count": null,
      "metadata": {}
    },
    {
      "cell_type": "markdown",
      "source": [
        "from azureml.core.model import InferenceConfig\n",
        "from azureml.core.webservice import AciWebservice\n",
        "from azureml.core.webservice import Webservice\n",
        "from azureml.core.model import Model\n",
        "from azureml.core.environment import Environment\n",
        "from azureml.core.conda_dependencies import CondaDependencies\n",
        "\n",
        "myenv = CondaDependencies.create(pip_packages=[\"numpy\",\"onnxruntime\",\"azureml-core\",\"azrueml-defaults\"])\n",
        "with open(\"myenv.yml\",\"w\") as f:\n",
        "    f.write(myenv.serialize_to_string())\n",
        "\n"
      ],
      "metadata": {
        "gather": {
          "logged": 1612989885633
        }
      }
    },
    {
      "cell_type": "markdown",
      "source": [
        "myenv = Environment.from_conda_specification(name=\"myenv\", file_path=\"myenv.yml\")\n",
        "inference_config = InferenceConfig(entry_script=script_file_name, environment=myenv)\n",
        "\n",
        "aciconfig = AciWebservice.deploy_configuration(cpu_cores = 1, \n",
        "                                               memory_gb = 2, \n",
        "                                               enable_app_insights=True, \n",
        "                                               auth_enabled=True,\n",
        "                                               tags = {'area': \"haData\", 'type': \"automl_classification\"},\n",
        "                                               description = 'service for Automl Classification')\n",
        "\n"
      ],
      "metadata": {
        "collapsed": true,
        "gather": {
          "logged": 1612990168198
        },
        "jupyter": {
          "outputs_hidden": false,
          "source_hidden": false
        },
        "nteract": {
          "transient": {
            "deleting": false
          }
        }
      }
    },
    {
      "cell_type": "markdown",
      "source": [
        "aci_service_name = 'automlheartendpoint2'\n",
        "print(aci_service_name)\n",
        "aci_service = Model.deploy(ws, aci_service_name, [model], inference_config, aciconfig) #,overwrite=True\n",
        "aci_service.wait_for_deployment(show_output=True)\n",
        "print(aci_service.state)"
      ],
      "metadata": {
        "collapsed": true,
        "jupyter": {
          "outputs_hidden": false,
          "source_hidden": false
        },
        "nteract": {
          "transient": {
            "deleting": false
          }
        }
      }
    },
    {
      "cell_type": "markdown",
      "source": [
        "#logging\n",
        "from azureml.core import Workspace\n",
        "from azureml.core.webservice import Webservice\n",
        "#ws = Workspace.from_config()\n",
        "service = Webservice(name=aci_service_name, workspace=ws)\n",
        "logs = service.get_logs()\n",
        "\n",
        "for line in logs.split('\\n'):\n",
        "    print(line)"
      ],
      "metadata": {
        "gather": {
          "logged": 1612990208487
        }
      }
    },
    {
      "cell_type": "code",
      "source": [],
      "outputs": [],
      "execution_count": null,
      "metadata": {}
    },
    {
      "cell_type": "markdown",
      "source": [
        "TODO: In the cell below, send a request to the web service you deployed to test it."
      ],
      "metadata": {
        "collapsed": true,
        "gather": {
          "logged": 1598431657736
        },
        "jupyter": {
          "outputs_hidden": false,
          "source_hidden": false
        },
        "nteract": {
          "transient": {
            "deleting": false
          }
        }
      }
    },
    {
      "cell_type": "code",
      "source": [
        "#den absatz vielleicht wegwerfen?!\n",
        "\n",
        "#import json\n",
        "#import requests\n",
        "\n",
        "#X_test_json = X_test.to_json(orient='records')\n",
        "#data = \"{\\\"data\\\": \" + X_test_json +\"}\"\n",
        "#headers = {'Content-Type': 'application/json'}\n",
        "\n",
        "#resp = requests.post(aci_service.scoring_uri, data, headers=headers)\n",
        "\n",
        "#y_pred = json.loads(json.loads(resp.text))['result']"
      ],
      "outputs": [],
      "execution_count": null,
      "metadata": {
        "gather": {
          "logged": 1612990534958
        },
        "jupyter": {
          "outputs_hidden": false,
          "source_hidden": false
        },
        "nteract": {
          "transient": {
            "deleting": false
          }
        }
      }
    },
    {
      "cell_type": "code",
      "source": [],
      "outputs": [],
      "execution_count": null,
      "metadata": {}
    },
    {
      "cell_type": "markdown",
      "source": [
        "import json\n",
        "import requests\n",
        "\n",
        "scoring_uri = aci_service.scoring_uri() \n",
        "#key=''\n",
        "headers = {'Content-Type': 'application/json'}\n",
        "# If authentication is enabled, set the authorization header\n",
        "#headers['Authorization'] = f'Bearer {key}'\n",
        "data = {\"data\":\n",
        "        [\n",
        "          {\n",
        "            \"age\":37,\n",
        "            \"sex\": 1,\n",
        "            \"cp\": 2,\n",
        "            \"trestbps\": 130,\n",
        "            \"chol\": 250,\n",
        "            \"fbs\": 0,\n",
        "            \"restecg\": 1,\n",
        "            \"thalach\": 187,\n",
        "            \"exang\": 0,\n",
        "            \"oldpeak\": 3.5,\n",
        "            \"slope\": 0,\n",
        "            \"ca\": 0,\n",
        "            \"thal\": 2,\n",
        "          }\n",
        "      ]\n",
        "    }\n",
        "test_sample = json.dumps(data)\n",
        "\n",
        "\n",
        "resp = requests.post(scoring_uri, test_sample, headers=headers)\n"
      ],
      "metadata": {}
    },
    {
      "cell_type": "markdown",
      "source": [
        "print(\"prediction \", resp.json())"
      ],
      "metadata": {}
    },
    {
      "cell_type": "markdown",
      "source": [
        "y_pred = json.loads(json.loads(resp.text))['result']\n",
        "print(\"prediction \", y_pred)"
      ],
      "metadata": {}
    },
    {
      "cell_type": "markdown",
      "source": [
        "print(\"expected result: 1\")"
      ],
      "metadata": {}
    },
    {
      "cell_type": "markdown",
      "source": [
        "TODO: In the cell below, print the logs of the web service and delete the service"
      ],
      "metadata": {
        "collapsed": true,
        "gather": {
          "logged": 1598432765711
        },
        "jupyter": {
          "outputs_hidden": false,
          "source_hidden": false
        },
        "nteract": {
          "transient": {
            "deleting": false
          }
        }
      }
    },
    {
      "cell_type": "markdown",
      "source": [
        "logs = service.get_logs()\n",
        "for line in logs.split('\\n'):\n",
        "    print(line)"
      ],
      "metadata": {
        "jupyter": {
          "outputs_hidden": false,
          "source_hidden": false
        },
        "nteract": {
          "transient": {
            "deleting": false
          }
        }
      }
    },
    {
      "cell_type": "markdown",
      "source": [
        "service.delete()"
      ],
      "metadata": {}
    },
    {
      "cell_type": "markdown",
      "source": [
        "compute_target.delete()"
      ],
      "metadata": {}
    },
    {
      "cell_type": "code",
      "source": [],
      "outputs": [],
      "execution_count": null,
      "metadata": {}
    },
    {
      "cell_type": "markdown",
      "source": [
        "print('finished')"
      ],
      "metadata": {}
    }
  ],
  "metadata": {
    "kernel_info": {
      "name": "python3"
    },
    "kernelspec": {
      "name": "python3",
      "language": "python",
      "display_name": "Python 3"
    },
    "language_info": {
      "name": "python",
      "version": "3.6.9",
      "mimetype": "text/x-python",
      "codemirror_mode": {
        "name": "ipython",
        "version": 3
      },
      "pygments_lexer": "ipython3",
      "nbconvert_exporter": "python",
      "file_extension": ".py"
    },
    "nteract": {
      "version": "nteract-front-end@1.0.0"
    }
  },
  "nbformat": 4,
  "nbformat_minor": 2
}