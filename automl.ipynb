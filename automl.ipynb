{
  "cells": [
    {
      "cell_type": "markdown",
      "source": [
        "# Automated ML\n",
        "\n",
        "TODO: Import Dependencies. In the cell below, import all the dependencies that you will need to complete the project."
      ],
      "metadata": {}
    },
    {
      "cell_type": "code",
      "source": [
        "import logging\n",
        "import os\n",
        "import csv\n",
        "import joblib \n",
        "\n",
        "from matplotlib import pyplot as plt\n",
        "import numpy as np\n",
        "import pandas as pd\n",
        "from azureml.data.datapath import DataPath\n",
        "from sklearn import datasets\n",
        "import pkg_resources\n",
        "\n",
        "import azureml.core\n",
        "from azureml.core.experiment import Experiment\n",
        "from azureml.core.workspace import Workspace\n",
        "from azureml.train.automl import AutoMLConfig\n",
        "from azureml.core.dataset import Dataset\n",
        "from azureml.data.dataset_factory import TabularDatasetFactory\n",
        "from sklearn.model_selection import train_test_split\n",
        "from azureml.pipeline.steps import AutoMLStep\n",
        "from azureml.widgets import RunDetails\n",
        "\n",
        "# Check core SDK version number\n",
        "print(\"SDK version:\", azureml.core.VERSION)"
      ],
      "outputs": [
        {
          "output_type": "stream",
          "name": "stdout",
          "text": [
            "SDK version: 1.20.0\n"
          ]
        }
      ],
      "execution_count": 1,
      "metadata": {
        "gather": {
          "logged": 1614112197873
        },
        "jupyter": {
          "outputs_hidden": false,
          "source_hidden": false
        },
        "nteract": {
          "transient": {
            "deleting": false
          }
        }
      }
    },
    {
      "cell_type": "code",
      "source": [
        "#import pandas as pd\n",
        "#import numpy as np\n",
        "\n",
        "#https://github.com/Azure/MachineLearningNotebooks/blob/master/how-to-use-azureml/automated-machine-learning/classification-bank-marketing-all-features/auto-ml-classification-bank-marketing-all-features.ipynb"
      ],
      "outputs": [],
      "execution_count": 2,
      "metadata": {
        "gather": {
          "logged": 1614112198449
        }
      }
    },
    {
      "cell_type": "markdown",
      "source": [
        "## Dataset\n",
        "\n",
        "### Overview\n",
        "TODO: In this markdown cell, give an overview of the dataset you are using. Also mention the task you will be performing.\n",
        "\n",
        "In the Automated ML run a classification task ............ is done using the .........dataset.\n",
        "\n",
        "\n",
        "TODO: Get data. In the cell below, write code to access the data you will be using in this project. Remember that the dataset needs to be external."
      ],
      "metadata": {}
    },
    {
      "cell_type": "code",
      "source": [
        "ws = Workspace.from_config()\n",
        "print(ws.name, ws.resource_group, ws.location, ws.subscription_id, sep = '\\n')\n",
        "\n",
        "# choose a name for experiment\n",
        "experiment_name = 'capstone-automl-exp'\n",
        "project_folder = './pipeline-project'  #kann vielleicht entfallen\n",
        "\n",
        "experiment=Experiment(ws, experiment_name)\n",
        "experiment"
      ],
      "outputs": [
        {
          "output_type": "stream",
          "name": "stdout",
          "text": [
            "Performing interactive authentication. Please follow the instructions on the terminal.\n",
            "To sign in, use a web browser to open the page https://microsoft.com/devicelogin and enter the code AKP2KTPWL to authenticate.\n",
            "You have logged in. Now let us find all the subscriptions to which you have access...\n",
            "Interactive authentication successfully completed.\n",
            "quick-starts-ws-139398\n",
            "aml-quickstarts-139398\n",
            "southcentralus\n",
            "3e42d11f-d64d-4173-af9b-12ecaa1030b3\n"
          ]
        },
        {
          "output_type": "execute_result",
          "execution_count": 3,
          "data": {
            "text/plain": "Experiment(Name: capstone-automl-exp,\nWorkspace: quick-starts-ws-139398)",
            "text/html": "<table style=\"width:100%\"><tr><th>Name</th><th>Workspace</th><th>Report Page</th><th>Docs Page</th></tr><tr><td>capstone-automl-exp</td><td>quick-starts-ws-139398</td><td><a href=\"https://ml.azure.com/experiments/capstone-automl-exp?wsid=/subscriptions/3e42d11f-d64d-4173-af9b-12ecaa1030b3/resourcegroups/aml-quickstarts-139398/workspaces/quick-starts-ws-139398\" target=\"_blank\" rel=\"noopener\">Link to Azure Machine Learning studio</a></td><td><a href=\"https://docs.microsoft.com/en-us/python/api/azureml-core/azureml.core.experiment.Experiment?view=azure-ml-py\" target=\"_blank\" rel=\"noopener\">Link to Documentation</a></td></tr></table>"
          },
          "metadata": {}
        }
      ],
      "execution_count": 3,
      "metadata": {
        "gather": {
          "logged": 1614112223432
        },
        "jupyter": {
          "outputs_hidden": false,
          "source_hidden": false
        },
        "nteract": {
          "transient": {
            "deleting": false
          }
        }
      }
    },
    {
      "cell_type": "markdown",
      "source": [
        "Create compute cluster"
      ],
      "metadata": {}
    },
    {
      "cell_type": "code",
      "source": [
        "from azureml.core.compute import AmlCompute\n",
        "from azureml.core.compute import ComputeTarget\n",
        "from azureml.core.compute_target import ComputeTargetException\n",
        "\n",
        "amlcompute_cluster_name = \"cluster-automl\"\n",
        "\n",
        "try:\n",
        "    compute_target = ComputeTarget(workspace=ws, name=amlcompute_cluster_name)\n",
        "    print('Found existing cluster, use it.')\n",
        "except ComputeTargetException:\n",
        "    compute_config = AmlCompute.provisioning_configuration(vm_size='STANDARD_D2_V2',# for GPU, use \"STANDARD_NC6\"\n",
        "                                                           #vm_priority = 'lowpriority', # optional\n",
        "                                                           max_nodes=4,\n",
        "                                                           min_nodes=1)\n",
        "    compute_target = ComputeTarget.create(ws, amlcompute_cluster_name, compute_config)\n",
        "\n",
        "compute_target.wait_for_completion(show_output=True, min_node_count = 1, timeout_in_minutes = 5) #timeout_in_minutes = 10"
      ],
      "outputs": [
        {
          "output_type": "stream",
          "name": "stdout",
          "text": [
            "Creating\n",
            "Succeeded.......................\n",
            "AmlCompute wait for completion finished\n",
            "\n",
            "Minimum number of nodes requested have been provisioned\n"
          ]
        }
      ],
      "execution_count": 4,
      "metadata": {
        "gather": {
          "logged": 1614112365504
        }
      }
    },
    {
      "cell_type": "markdown",
      "source": [
        "Embed the dataset"
      ],
      "metadata": {}
    },
    {
      "cell_type": "code",
      "source": [
        "found = False\n",
        "key = \"heart-db\" #rename->chose dataset\n",
        "description_text = \"Kaggle heard data database\" #rename\n",
        "\n",
        "if key in ws.datasets.keys(): \n",
        "        found = True\n",
        "        dataset = ws.datasets[key] \n",
        "        #print(\"found!\")\n",
        "\n",
        "if not found: \n",
        "        # Create AML Dataset and register it into Workspace\n",
        "        #print(\"not found!\") #\n",
        "        example_data = 'https://raw.githubusercontent.com/Daniel-car1/nd00333-capstone/main/heart.csv'  \n",
        "        dataset = Dataset.Tabular.from_delimited_files(example_data, header=True)        \n",
        "        #Register Dataset in Workspace\n",
        "        dataset = dataset.register(workspace=ws,\n",
        "                                   name=key,\n",
        "                                   description=description_text)\n",
        "\n",
        "\n",
        "df = dataset.to_pandas_dataframe()\n",
        "df.describe()"
      ],
      "outputs": [
        {
          "output_type": "execute_result",
          "execution_count": 5,
          "data": {
            "text/plain": "              age         sex          cp    trestbps        chol         fbs  \\\ncount  303.000000  303.000000  303.000000  303.000000  303.000000  303.000000   \nmean    54.366337    0.683168    0.966997  131.623762  246.264026    0.148515   \nstd      9.082101    0.466011    1.032052   17.538143   51.830751    0.356198   \nmin     29.000000    0.000000    0.000000   94.000000  126.000000    0.000000   \n25%     47.500000    0.000000    0.000000  120.000000  211.000000    0.000000   \n50%     55.000000    1.000000    1.000000  130.000000  240.000000    0.000000   \n75%     61.000000    1.000000    2.000000  140.000000  274.500000    0.000000   \nmax     77.000000    1.000000    3.000000  200.000000  564.000000    1.000000   \n\n          restecg     thalach       exang     oldpeak       slope          ca  \\\ncount  303.000000  303.000000  303.000000  303.000000  303.000000  303.000000   \nmean     0.528053  149.646865    0.326733    1.039604    1.399340    0.729373   \nstd      0.525860   22.905161    0.469794    1.161075    0.616226    1.022606   \nmin      0.000000   71.000000    0.000000    0.000000    0.000000    0.000000   \n25%      0.000000  133.500000    0.000000    0.000000    1.000000    0.000000   \n50%      1.000000  153.000000    0.000000    0.800000    1.000000    0.000000   \n75%      1.000000  166.000000    1.000000    1.600000    2.000000    1.000000   \nmax      2.000000  202.000000    1.000000    6.200000    2.000000    4.000000   \n\n             thal      target  \ncount  303.000000  303.000000  \nmean     2.313531    0.544554  \nstd      0.612277    0.498835  \nmin      0.000000    0.000000  \n25%      2.000000    0.000000  \n50%      2.000000    1.000000  \n75%      3.000000    1.000000  \nmax      3.000000    1.000000  ",
            "text/html": "<div>\n<style scoped>\n    .dataframe tbody tr th:only-of-type {\n        vertical-align: middle;\n    }\n\n    .dataframe tbody tr th {\n        vertical-align: top;\n    }\n\n    .dataframe thead th {\n        text-align: right;\n    }\n</style>\n<table border=\"1\" class=\"dataframe\">\n  <thead>\n    <tr style=\"text-align: right;\">\n      <th></th>\n      <th>age</th>\n      <th>sex</th>\n      <th>cp</th>\n      <th>trestbps</th>\n      <th>chol</th>\n      <th>fbs</th>\n      <th>restecg</th>\n      <th>thalach</th>\n      <th>exang</th>\n      <th>oldpeak</th>\n      <th>slope</th>\n      <th>ca</th>\n      <th>thal</th>\n      <th>target</th>\n    </tr>\n  </thead>\n  <tbody>\n    <tr>\n      <th>count</th>\n      <td>303.000000</td>\n      <td>303.000000</td>\n      <td>303.000000</td>\n      <td>303.000000</td>\n      <td>303.000000</td>\n      <td>303.000000</td>\n      <td>303.000000</td>\n      <td>303.000000</td>\n      <td>303.000000</td>\n      <td>303.000000</td>\n      <td>303.000000</td>\n      <td>303.000000</td>\n      <td>303.000000</td>\n      <td>303.000000</td>\n    </tr>\n    <tr>\n      <th>mean</th>\n      <td>54.366337</td>\n      <td>0.683168</td>\n      <td>0.966997</td>\n      <td>131.623762</td>\n      <td>246.264026</td>\n      <td>0.148515</td>\n      <td>0.528053</td>\n      <td>149.646865</td>\n      <td>0.326733</td>\n      <td>1.039604</td>\n      <td>1.399340</td>\n      <td>0.729373</td>\n      <td>2.313531</td>\n      <td>0.544554</td>\n    </tr>\n    <tr>\n      <th>std</th>\n      <td>9.082101</td>\n      <td>0.466011</td>\n      <td>1.032052</td>\n      <td>17.538143</td>\n      <td>51.830751</td>\n      <td>0.356198</td>\n      <td>0.525860</td>\n      <td>22.905161</td>\n      <td>0.469794</td>\n      <td>1.161075</td>\n      <td>0.616226</td>\n      <td>1.022606</td>\n      <td>0.612277</td>\n      <td>0.498835</td>\n    </tr>\n    <tr>\n      <th>min</th>\n      <td>29.000000</td>\n      <td>0.000000</td>\n      <td>0.000000</td>\n      <td>94.000000</td>\n      <td>126.000000</td>\n      <td>0.000000</td>\n      <td>0.000000</td>\n      <td>71.000000</td>\n      <td>0.000000</td>\n      <td>0.000000</td>\n      <td>0.000000</td>\n      <td>0.000000</td>\n      <td>0.000000</td>\n      <td>0.000000</td>\n    </tr>\n    <tr>\n      <th>25%</th>\n      <td>47.500000</td>\n      <td>0.000000</td>\n      <td>0.000000</td>\n      <td>120.000000</td>\n      <td>211.000000</td>\n      <td>0.000000</td>\n      <td>0.000000</td>\n      <td>133.500000</td>\n      <td>0.000000</td>\n      <td>0.000000</td>\n      <td>1.000000</td>\n      <td>0.000000</td>\n      <td>2.000000</td>\n      <td>0.000000</td>\n    </tr>\n    <tr>\n      <th>50%</th>\n      <td>55.000000</td>\n      <td>1.000000</td>\n      <td>1.000000</td>\n      <td>130.000000</td>\n      <td>240.000000</td>\n      <td>0.000000</td>\n      <td>1.000000</td>\n      <td>153.000000</td>\n      <td>0.000000</td>\n      <td>0.800000</td>\n      <td>1.000000</td>\n      <td>0.000000</td>\n      <td>2.000000</td>\n      <td>1.000000</td>\n    </tr>\n    <tr>\n      <th>75%</th>\n      <td>61.000000</td>\n      <td>1.000000</td>\n      <td>2.000000</td>\n      <td>140.000000</td>\n      <td>274.500000</td>\n      <td>0.000000</td>\n      <td>1.000000</td>\n      <td>166.000000</td>\n      <td>1.000000</td>\n      <td>1.600000</td>\n      <td>2.000000</td>\n      <td>1.000000</td>\n      <td>3.000000</td>\n      <td>1.000000</td>\n    </tr>\n    <tr>\n      <th>max</th>\n      <td>77.000000</td>\n      <td>1.000000</td>\n      <td>3.000000</td>\n      <td>200.000000</td>\n      <td>564.000000</td>\n      <td>1.000000</td>\n      <td>2.000000</td>\n      <td>202.000000</td>\n      <td>1.000000</td>\n      <td>6.200000</td>\n      <td>2.000000</td>\n      <td>4.000000</td>\n      <td>3.000000</td>\n      <td>1.000000</td>\n    </tr>\n  </tbody>\n</table>\n</div>"
          },
          "metadata": {}
        }
      ],
      "execution_count": 5,
      "metadata": {
        "gather": {
          "logged": 1614112373889
        }
      }
    },
    {
      "cell_type": "code",
      "source": [
        "dataset.take(5).to_pandas_dataframe()"
      ],
      "outputs": [
        {
          "output_type": "execute_result",
          "execution_count": 6,
          "data": {
            "text/plain": "   age  sex  cp  trestbps  chol  fbs  restecg  thalach  exang  oldpeak  slope  \\\n0   63    1   3       145   233    1        0      150      0      2.3      0   \n1   37    1   2       130   250    0        1      187      0      3.5      0   \n2   41    0   1       130   204    0        0      172      0      1.4      2   \n3   56    1   1       120   236    0        1      178      0      0.8      2   \n4   57    0   0       120   354    0        1      163      1      0.6      2   \n\n   ca  thal  target  \n0   0     1       1  \n1   0     2       1  \n2   0     2       1  \n3   0     2       1  \n4   0     2       1  ",
            "text/html": "<div>\n<style scoped>\n    .dataframe tbody tr th:only-of-type {\n        vertical-align: middle;\n    }\n\n    .dataframe tbody tr th {\n        vertical-align: top;\n    }\n\n    .dataframe thead th {\n        text-align: right;\n    }\n</style>\n<table border=\"1\" class=\"dataframe\">\n  <thead>\n    <tr style=\"text-align: right;\">\n      <th></th>\n      <th>age</th>\n      <th>sex</th>\n      <th>cp</th>\n      <th>trestbps</th>\n      <th>chol</th>\n      <th>fbs</th>\n      <th>restecg</th>\n      <th>thalach</th>\n      <th>exang</th>\n      <th>oldpeak</th>\n      <th>slope</th>\n      <th>ca</th>\n      <th>thal</th>\n      <th>target</th>\n    </tr>\n  </thead>\n  <tbody>\n    <tr>\n      <th>0</th>\n      <td>63</td>\n      <td>1</td>\n      <td>3</td>\n      <td>145</td>\n      <td>233</td>\n      <td>1</td>\n      <td>0</td>\n      <td>150</td>\n      <td>0</td>\n      <td>2.3</td>\n      <td>0</td>\n      <td>0</td>\n      <td>1</td>\n      <td>1</td>\n    </tr>\n    <tr>\n      <th>1</th>\n      <td>37</td>\n      <td>1</td>\n      <td>2</td>\n      <td>130</td>\n      <td>250</td>\n      <td>0</td>\n      <td>1</td>\n      <td>187</td>\n      <td>0</td>\n      <td>3.5</td>\n      <td>0</td>\n      <td>0</td>\n      <td>2</td>\n      <td>1</td>\n    </tr>\n    <tr>\n      <th>2</th>\n      <td>41</td>\n      <td>0</td>\n      <td>1</td>\n      <td>130</td>\n      <td>204</td>\n      <td>0</td>\n      <td>0</td>\n      <td>172</td>\n      <td>0</td>\n      <td>1.4</td>\n      <td>2</td>\n      <td>0</td>\n      <td>2</td>\n      <td>1</td>\n    </tr>\n    <tr>\n      <th>3</th>\n      <td>56</td>\n      <td>1</td>\n      <td>1</td>\n      <td>120</td>\n      <td>236</td>\n      <td>0</td>\n      <td>1</td>\n      <td>178</td>\n      <td>0</td>\n      <td>0.8</td>\n      <td>2</td>\n      <td>0</td>\n      <td>2</td>\n      <td>1</td>\n    </tr>\n    <tr>\n      <th>4</th>\n      <td>57</td>\n      <td>0</td>\n      <td>0</td>\n      <td>120</td>\n      <td>354</td>\n      <td>0</td>\n      <td>1</td>\n      <td>163</td>\n      <td>1</td>\n      <td>0.6</td>\n      <td>2</td>\n      <td>0</td>\n      <td>2</td>\n      <td>1</td>\n    </tr>\n  </tbody>\n</table>\n</div>"
          },
          "metadata": {}
        }
      ],
      "execution_count": 6,
      "metadata": {
        "gather": {
          "logged": 1614112374317
        }
      }
    },
    {
      "cell_type": "code",
      "source": [
        "train, test = train_test_split(df, test_size=0.2, random_state=1 )"
      ],
      "outputs": [],
      "execution_count": 7,
      "metadata": {
        "gather": {
          "logged": 1614112374699
        }
      }
    },
    {
      "cell_type": "code",
      "source": [
        "if \"training\" not in os.listdir():\n",
        "    os.mkdir(\"./training\")\n",
        "\n",
        "if \"models\" not in os.listdir():\n",
        "    os.mkdir(\"./models\")\n",
        "if \"outputs\" not in os.listdir():\n",
        "    os.mkdir(\"./outputs\")\n",
        "\n",
        "train.to_csv(\"training/train_data.csv\", index = False)"
      ],
      "outputs": [],
      "execution_count": 8,
      "metadata": {
        "gather": {
          "logged": 1614112375079
        }
      }
    },
    {
      "cell_type": "code",
      "source": [
        "data_store = ws.get_default_datastore()\n",
        "data_store.upload(src_dir = \"./training\", target_path = 'udacity-project', overwrite = True,  show_progress = True)"
      ],
      "outputs": [
        {
          "output_type": "stream",
          "name": "stdout",
          "text": [
            "Uploading an estimated of 1 files\n",
            "Uploading ./training/train_data.csv\n",
            "Uploaded ./training/train_data.csv, 1 files out of an estimated total of 1\n",
            "Uploaded 1 files\n"
          ]
        },
        {
          "output_type": "execute_result",
          "execution_count": 9,
          "data": {
            "text/plain": "$AZUREML_DATAREFERENCE_0664bb510e3f4f058fa263e3cb08bcea"
          },
          "metadata": {}
        }
      ],
      "execution_count": 9,
      "metadata": {
        "gather": {
          "logged": 1614112375466
        }
      }
    },
    {
      "cell_type": "code",
      "source": [
        "train_data = Dataset.Tabular.from_delimited_files(path=data_store.path(\"udacity-project/train_data.csv\"))"
      ],
      "outputs": [],
      "execution_count": 10,
      "metadata": {
        "gather": {
          "logged": 1614112376262
        }
      }
    },
    {
      "cell_type": "markdown",
      "source": [
        "## AutoML Configuration\n",
        "\n",
        "TODO: Explain why you chose the automl settings and cofiguration you used below."
      ],
      "metadata": {}
    },
    {
      "cell_type": "code",
      "source": [
        "# TODO: Put your automl settings here\n",
        "automl_settings = {\n",
        "    \"experiment_timeout_minutes\": 20,\n",
        "    \"n_cross_validations\": 3,\n",
        "    \"max_concurrent_iterations\": 5,\n",
        "    \"primary_metric\" : 'AUC_weighted'\n",
        "}\n",
        "\n",
        "# TODO: Put your automl config here\n",
        "automl_config = AutoMLConfig(compute_target=compute_target,\n",
        "                             task = \"classification\",\n",
        "                             training_data=dataset,\n",
        "                             label_column_name=\"target\",    \n",
        "                             path = project_folder,\n",
        "                             enable_onnx_compatible_models=True,\n",
        "                             enable_early_stopping= True,\n",
        "                             featurization= 'off', #auto\n",
        "                             debug_log = \"automl_errors.log\",\n",
        "                             **automl_settings\n",
        "                            )"
      ],
      "outputs": [],
      "execution_count": 63,
      "metadata": {
        "gather": {
          "logged": 1614113926215
        },
        "jupyter": {
          "outputs_hidden": false,
          "source_hidden": false
        },
        "nteract": {
          "transient": {
            "deleting": false
          }
        }
      }
    },
    {
      "cell_type": "code",
      "source": [
        "# TODO: Submit your experiment\n",
        "remote_run = experiment.submit(automl_config, show_output= True)"
      ],
      "outputs": [
        {
          "output_type": "stream",
          "name": "stdout",
          "text": [
            "Running on remote.\n",
            "No run_configuration provided, running on cluster-automl with default configuration\n",
            "Running on remote compute: cluster-automl\n",
            "Parent Run ID: AutoML_b7a4272f-660c-4072-a222-af6fe4a1878d\n",
            "\n",
            "Current status: ModelSelection. Beginning model selection.\n",
            "\n",
            "****************************************************************************************************\n",
            "DATA GUARDRAILS: \n",
            "\n",
            "TYPE:         Class balancing detection\n",
            "STATUS:       PASSED\n",
            "DESCRIPTION:  Your inputs were analyzed, and all classes are balanced in your training data.\n",
            "              Learn more about imbalanced data: https://aka.ms/AutomatedMLImbalancedData\n",
            "\n",
            "****************************************************************************************************\n",
            "\n",
            "****************************************************************************************************\n",
            "ITERATION: The iteration being evaluated.\n",
            "PIPELINE: A summary description of the pipeline being evaluated.\n",
            "DURATION: Time taken for the current iteration.\n",
            "METRIC: The result of computing score on the fitted pipeline.\n",
            "BEST: The best observed score thus far.\n",
            "****************************************************************************************************\n",
            "\n",
            " ITERATION   PIPELINE                                       DURATION      METRIC      BEST\n",
            "         3   RobustScaler ExtremeRandomTrees                0:00:57       0.9161    0.9161\n",
            "         4   MinMaxScaler RandomForest                      0:00:49       0.8970    0.9161\n",
            "         2   MinMaxScaler RandomForest                      0:00:57       0.8952    0.9161\n",
            "         6   StandardScalerWrapper RandomForest             0:00:52       0.8991    0.9161\n",
            "         7   MinMaxScaler ExtremeRandomTrees                0:00:52       0.9043    0.9161\n",
            "         0   MaxAbsScaler LightGBM                          0:03:19       0.8750    0.9161\n",
            "         1   MaxAbsScaler XGBoostClassifier                 0:03:13       0.8844    0.9161\n",
            "         5   MinMaxScaler RandomForest                      0:03:20       0.9005    0.9161\n",
            "         8   MinMaxScaler ExtremeRandomTrees                0:00:55       0.9126    0.9161\n",
            "         9   SparseNormalizer KNN                           0:00:53       0.7100    0.9161\n",
            "        10   MinMaxScaler ExtremeRandomTrees                0:00:51       0.9148    0.9161\n",
            "        11   RobustScaler ExtremeRandomTrees                0:00:50       0.9080    0.9161\n",
            "        12   StandardScalerWrapper RandomForest             0:00:58       0.9039    0.9161\n",
            "        13   StandardScalerWrapper SGD                      0:00:51       0.8940    0.9161\n",
            "        14   RobustScaler RandomForest                      0:00:48       0.8899    0.9161\n",
            "        15   StandardScalerWrapper KNN                      0:00:51       0.7270    0.9161\n",
            "        16   MinMaxScaler RandomForest                      0:00:48       0.9099    0.9161\n",
            "        17   MinMaxScaler ExtremeRandomTrees                0:00:54       0.9044    0.9161\n",
            "        18   MaxAbsScaler RandomForest                      0:00:46       0.9054    0.9161\n",
            "        19   StandardScalerWrapper XGBoostClassifier        0:00:57       0.8858    0.9161\n",
            "        20   MaxAbsScaler RandomForest                      0:00:55       0.8995    0.9161\n",
            "        21   MaxAbsScaler ExtremeRandomTrees                0:00:55       0.8967    0.9161\n",
            "        22   MaxAbsScaler ExtremeRandomTrees                0:00:48       0.9173    0.9173\n",
            "        23   StandardScalerWrapper XGBoostClassifier        0:00:54       0.8938    0.9173\n",
            "        24   MaxAbsScaler LogisticRegression                0:00:53       0.8970    0.9173\n",
            "        25   StandardScalerWrapper ExtremeRandomTrees       0:00:57       0.8900    0.9173\n",
            "        26   StandardScalerWrapper XGBoostClassifier        0:00:52       0.8955    0.9173\n",
            "        27   RobustScaler LightGBM                          0:00:59       0.9102    0.9173\n",
            "        28   StandardScalerWrapper LightGBM                 0:00:49       0.9060    0.9173\n",
            "        29   StandardScalerWrapper ExtremeRandomTrees       0:01:00       0.9077    0.9173\n",
            "        30   TruncatedSVDWrapper ExtremeRandomTrees         0:00:54       0.6365    0.9173\n",
            "        31   RobustScaler LightGBM                          0:00:54       0.9029    0.9173\n",
            "        32   StandardScalerWrapper RandomForest             0:00:54       0.9073    0.9173\n",
            "        33   RobustScaler GradientBoosting                  0:00:47       0.9047    0.9173\n",
            "        34   StandardScalerWrapper LogisticRegression       0:00:54       0.8983    0.9173\n",
            "        35   TruncatedSVDWrapper ExtremeRandomTrees         0:00:58       0.5597    0.9173\n",
            "        36   RobustScaler LightGBM                          0:00:48       0.9129    0.9173\n",
            "        37   MaxAbsScaler LightGBM                          0:00:36       0.9138    0.9173\n",
            "        38   RobustScaler LightGBM                          0:00:29       0.9067    0.9173\n",
            "        39                                                  0:00:10          nan    0.9173\n",
            "        40                                                  0:00:07          nan    0.9173\n",
            "        41    VotingEnsemble                                0:01:07       0.9246    0.9246\n"
          ]
        }
      ],
      "execution_count": 64,
      "metadata": {
        "gather": {
          "logged": 1614115962102
        },
        "jupyter": {
          "outputs_hidden": false,
          "source_hidden": false
        },
        "nteract": {
          "transient": {
            "deleting": false
          }
        }
      }
    },
    {
      "cell_type": "code",
      "source": [
        "from azureml.widgets import RunDetails\n",
        "RunDetails(remote_run).show()\n",
        "remote_run.wait_for_completion(show_output=True)"
      ],
      "outputs": [
        {
          "output_type": "display_data",
          "data": {
            "text/plain": "_AutoMLWidget(widget_settings={'childWidgetDisplay': 'popup', 'send_telemetry': False, 'log_level': 'INFO', 's…",
            "application/vnd.jupyter.widget-view+json": {
              "version_major": 2,
              "version_minor": 0,
              "model_id": "725544ffecab4f23883c67afb4ef57ff"
            }
          },
          "metadata": {}
        },
        {
          "output_type": "display_data",
          "data": {
            "application/aml.mini.widget.v1": "{\"status\": \"Completed\", \"workbench_run_details_uri\": \"https://ml.azure.com/experiments/capstone-automl-exp/runs/AutoML_b7a4272f-660c-4072-a222-af6fe4a1878d?wsid=/subscriptions/3e42d11f-d64d-4173-af9b-12ecaa1030b3/resourcegroups/aml-quickstarts-139398/workspaces/quick-starts-ws-139398\", \"run_id\": \"AutoML_b7a4272f-660c-4072-a222-af6fe4a1878d\", \"run_properties\": {\"run_id\": \"AutoML_b7a4272f-660c-4072-a222-af6fe4a1878d\", \"created_utc\": \"2021-02-23T20:58:48.662828Z\", \"properties\": {\"num_iterations\": \"1000\", \"training_type\": \"TrainFull\", \"acquisition_function\": \"EI\", \"primary_metric\": \"AUC_weighted\", \"train_split\": \"0\", \"acquisition_parameter\": \"0\", \"num_cross_validation\": \"3\", \"target\": \"cluster-automl\", \"AMLSettingsJsonString\": \"{\\\"path\\\":null,\\\"name\\\":\\\"capstone-automl-exp\\\",\\\"subscription_id\\\":\\\"3e42d11f-d64d-4173-af9b-12ecaa1030b3\\\",\\\"resource_group\\\":\\\"aml-quickstarts-139398\\\",\\\"workspace_name\\\":\\\"quick-starts-ws-139398\\\",\\\"region\\\":\\\"southcentralus\\\",\\\"compute_target\\\":\\\"cluster-automl\\\",\\\"spark_service\\\":null,\\\"azure_service\\\":\\\"remote\\\",\\\"many_models\\\":false,\\\"pipeline_fetch_max_batch_size\\\":1,\\\"iterations\\\":1000,\\\"primary_metric\\\":\\\"AUC_weighted\\\",\\\"task_type\\\":\\\"classification\\\",\\\"data_script\\\":null,\\\"validation_size\\\":0.0,\\\"n_cross_validations\\\":3,\\\"y_min\\\":null,\\\"y_max\\\":null,\\\"num_classes\\\":null,\\\"featurization\\\":\\\"off\\\",\\\"_ignore_package_version_incompatibilities\\\":false,\\\"is_timeseries\\\":false,\\\"max_cores_per_iteration\\\":1,\\\"max_concurrent_iterations\\\":5,\\\"iteration_timeout_minutes\\\":null,\\\"mem_in_mb\\\":null,\\\"enforce_time_on_windows\\\":false,\\\"experiment_timeout_minutes\\\":20,\\\"experiment_exit_score\\\":null,\\\"whitelist_models\\\":null,\\\"blacklist_algos\\\":[\\\"TensorFlowLinearClassifier\\\",\\\"TensorFlowDNN\\\"],\\\"supported_models\\\":[\\\"ExtremeRandomTrees\\\",\\\"XGBoostClassifier\\\",\\\"SGD\\\",\\\"LightGBM\\\",\\\"SVM\\\",\\\"MultinomialNaiveBayes\\\",\\\"KNN\\\",\\\"RandomForest\\\",\\\"TensorFlowLinearClassifier\\\",\\\"GradientBoosting\\\",\\\"AveragedPerceptronClassifier\\\",\\\"LogisticRegression\\\",\\\"BernoulliNaiveBayes\\\",\\\"LinearSVM\\\",\\\"DecisionTree\\\",\\\"TensorFlowDNN\\\"],\\\"auto_blacklist\\\":true,\\\"blacklist_samples_reached\\\":false,\\\"exclude_nan_labels\\\":true,\\\"verbosity\\\":20,\\\"_debug_log\\\":\\\"azureml_automl.log\\\",\\\"show_warnings\\\":false,\\\"model_explainability\\\":true,\\\"service_url\\\":null,\\\"sdk_url\\\":null,\\\"sdk_packages\\\":null,\\\"enable_onnx_compatible_models\\\":true,\\\"enable_split_onnx_featurizer_estimator_models\\\":false,\\\"vm_type\\\":\\\"STANDARD_D2_V2\\\",\\\"telemetry_verbosity\\\":20,\\\"send_telemetry\\\":true,\\\"enable_dnn\\\":false,\\\"scenario\\\":\\\"SDK-1.13.0\\\",\\\"environment_label\\\":null,\\\"force_text_dnn\\\":false,\\\"enable_feature_sweeping\\\":false,\\\"enable_early_stopping\\\":true,\\\"early_stopping_n_iters\\\":10,\\\"metrics\\\":null,\\\"enable_ensembling\\\":true,\\\"enable_stack_ensembling\\\":false,\\\"ensemble_iterations\\\":15,\\\"enable_tf\\\":false,\\\"enable_subsampling\\\":null,\\\"subsample_seed\\\":null,\\\"enable_nimbusml\\\":false,\\\"enable_streaming\\\":false,\\\"force_streaming\\\":false,\\\"track_child_runs\\\":true,\\\"allowed_private_models\\\":[],\\\"label_column_name\\\":\\\"target\\\",\\\"weight_column_name\\\":null,\\\"cv_split_column_names\\\":null,\\\"enable_local_managed\\\":false,\\\"_local_managed_run_id\\\":null,\\\"cost_mode\\\":1,\\\"lag_length\\\":0,\\\"metric_operation\\\":\\\"maximize\\\",\\\"preprocess\\\":false}\", \"DataPrepJsonString\": \"{\\\\\\\"training_data\\\\\\\": \\\\\\\"{\\\\\\\\\\\\\\\"blocks\\\\\\\\\\\\\\\": [{\\\\\\\\\\\\\\\"id\\\\\\\\\\\\\\\": \\\\\\\\\\\\\\\"400d49c9-0784-421c-a6f2-4e29c5bafd6c\\\\\\\\\\\\\\\", \\\\\\\\\\\\\\\"type\\\\\\\\\\\\\\\": \\\\\\\\\\\\\\\"Microsoft.DPrep.GetFilesBlock\\\\\\\\\\\\\\\", \\\\\\\\\\\\\\\"arguments\\\\\\\\\\\\\\\": {\\\\\\\\\\\\\\\"isArchive\\\\\\\\\\\\\\\": false, \\\\\\\\\\\\\\\"path\\\\\\\\\\\\\\\": {\\\\\\\\\\\\\\\"target\\\\\\\\\\\\\\\": 4, \\\\\\\\\\\\\\\"resourceDetails\\\\\\\\\\\\\\\": [{\\\\\\\\\\\\\\\"path\\\\\\\\\\\\\\\": \\\\\\\\\\\\\\\"https://raw.githubusercontent.com/Daniel-car1/nd00333-capstone/main/heart.csv\\\\\\\\\\\\\\\"}]}}, \\\\\\\\\\\\\\\"localData\\\\\\\\\\\\\\\": {}, \\\\\\\\\\\\\\\"isEnabled\\\\\\\\\\\\\\\": true, \\\\\\\\\\\\\\\"name\\\\\\\\\\\\\\\": null, \\\\\\\\\\\\\\\"annotation\\\\\\\\\\\\\\\": null}, {\\\\\\\\\\\\\\\"id\\\\\\\\\\\\\\\": \\\\\\\\\\\\\\\"8178f491-2c59-4edb-8d3e-913b405a4503\\\\\\\\\\\\\\\", \\\\\\\\\\\\\\\"type\\\\\\\\\\\\\\\": \\\\\\\\\\\\\\\"Microsoft.DPrep.ParseDelimitedBlock\\\\\\\\\\\\\\\", \\\\\\\\\\\\\\\"arguments\\\\\\\\\\\\\\\": {\\\\\\\\\\\\\\\"columnHeadersMode\\\\\\\\\\\\\\\": 3, \\\\\\\\\\\\\\\"fileEncoding\\\\\\\\\\\\\\\": 0, \\\\\\\\\\\\\\\"handleQuotedLineBreaks\\\\\\\\\\\\\\\": false, \\\\\\\\\\\\\\\"preview\\\\\\\\\\\\\\\": false, \\\\\\\\\\\\\\\"separator\\\\\\\\\\\\\\\": \\\\\\\\\\\\\\\",\\\\\\\\\\\\\\\", \\\\\\\\\\\\\\\"skipRows\\\\\\\\\\\\\\\": 0, \\\\\\\\\\\\\\\"skipRowsMode\\\\\\\\\\\\\\\": 0}, \\\\\\\\\\\\\\\"localData\\\\\\\\\\\\\\\": {}, \\\\\\\\\\\\\\\"isEnabled\\\\\\\\\\\\\\\": true, \\\\\\\\\\\\\\\"name\\\\\\\\\\\\\\\": null, \\\\\\\\\\\\\\\"annotation\\\\\\\\\\\\\\\": null}, {\\\\\\\\\\\\\\\"id\\\\\\\\\\\\\\\": \\\\\\\\\\\\\\\"1e3714f8-abf8-4a5e-b508-22848ccbdeed\\\\\\\\\\\\\\\", \\\\\\\\\\\\\\\"type\\\\\\\\\\\\\\\": \\\\\\\\\\\\\\\"Microsoft.DPrep.DropColumnsBlock\\\\\\\\\\\\\\\", \\\\\\\\\\\\\\\"arguments\\\\\\\\\\\\\\\": {\\\\\\\\\\\\\\\"columns\\\\\\\\\\\\\\\": {\\\\\\\\\\\\\\\"type\\\\\\\\\\\\\\\": 0, \\\\\\\\\\\\\\\"details\\\\\\\\\\\\\\\": {\\\\\\\\\\\\\\\"selectedColumns\\\\\\\\\\\\\\\": [\\\\\\\\\\\\\\\"Path\\\\\\\\\\\\\\\"]}}}, \\\\\\\\\\\\\\\"localData\\\\\\\\\\\\\\\": {}, \\\\\\\\\\\\\\\"isEnabled\\\\\\\\\\\\\\\": true, \\\\\\\\\\\\\\\"name\\\\\\\\\\\\\\\": null, \\\\\\\\\\\\\\\"annotation\\\\\\\\\\\\\\\": null}, {\\\\\\\\\\\\\\\"id\\\\\\\\\\\\\\\": \\\\\\\\\\\\\\\"2e9bc922-32ef-4954-9c24-d306476cc8c3\\\\\\\\\\\\\\\", \\\\\\\\\\\\\\\"type\\\\\\\\\\\\\\\": \\\\\\\\\\\\\\\"Microsoft.DPrep.SetColumnTypesBlock\\\\\\\\\\\\\\\", \\\\\\\\\\\\\\\"arguments\\\\\\\\\\\\\\\": {\\\\\\\\\\\\\\\"columnConversion\\\\\\\\\\\\\\\": [{\\\\\\\\\\\\\\\"column\\\\\\\\\\\\\\\": {\\\\\\\\\\\\\\\"type\\\\\\\\\\\\\\\": 2, \\\\\\\\\\\\\\\"details\\\\\\\\\\\\\\\": {\\\\\\\\\\\\\\\"selectedColumn\\\\\\\\\\\\\\\": \\\\\\\\\\\\\\\"age\\\\\\\\\\\\\\\"}}, \\\\\\\\\\\\\\\"typeProperty\\\\\\\\\\\\\\\": 2}, {\\\\\\\\\\\\\\\"column\\\\\\\\\\\\\\\": {\\\\\\\\\\\\\\\"type\\\\\\\\\\\\\\\": 2, \\\\\\\\\\\\\\\"details\\\\\\\\\\\\\\\": {\\\\\\\\\\\\\\\"selectedColumn\\\\\\\\\\\\\\\": \\\\\\\\\\\\\\\"sex\\\\\\\\\\\\\\\"}}, \\\\\\\\\\\\\\\"typeProperty\\\\\\\\\\\\\\\": 2}, {\\\\\\\\\\\\\\\"column\\\\\\\\\\\\\\\": {\\\\\\\\\\\\\\\"type\\\\\\\\\\\\\\\": 2, \\\\\\\\\\\\\\\"details\\\\\\\\\\\\\\\": {\\\\\\\\\\\\\\\"selectedColumn\\\\\\\\\\\\\\\": \\\\\\\\\\\\\\\"cp\\\\\\\\\\\\\\\"}}, \\\\\\\\\\\\\\\"typeProperty\\\\\\\\\\\\\\\": 2}, {\\\\\\\\\\\\\\\"column\\\\\\\\\\\\\\\": {\\\\\\\\\\\\\\\"type\\\\\\\\\\\\\\\": 2, \\\\\\\\\\\\\\\"details\\\\\\\\\\\\\\\": {\\\\\\\\\\\\\\\"selectedColumn\\\\\\\\\\\\\\\": \\\\\\\\\\\\\\\"trestbps\\\\\\\\\\\\\\\"}}, \\\\\\\\\\\\\\\"typeProperty\\\\\\\\\\\\\\\": 2}, {\\\\\\\\\\\\\\\"column\\\\\\\\\\\\\\\": {\\\\\\\\\\\\\\\"type\\\\\\\\\\\\\\\": 2, \\\\\\\\\\\\\\\"details\\\\\\\\\\\\\\\": {\\\\\\\\\\\\\\\"selectedColumn\\\\\\\\\\\\\\\": \\\\\\\\\\\\\\\"chol\\\\\\\\\\\\\\\"}}, \\\\\\\\\\\\\\\"typeProperty\\\\\\\\\\\\\\\": 2}, {\\\\\\\\\\\\\\\"column\\\\\\\\\\\\\\\": {\\\\\\\\\\\\\\\"type\\\\\\\\\\\\\\\": 2, \\\\\\\\\\\\\\\"details\\\\\\\\\\\\\\\": {\\\\\\\\\\\\\\\"selectedColumn\\\\\\\\\\\\\\\": \\\\\\\\\\\\\\\"fbs\\\\\\\\\\\\\\\"}}, \\\\\\\\\\\\\\\"typeProperty\\\\\\\\\\\\\\\": 2}, {\\\\\\\\\\\\\\\"column\\\\\\\\\\\\\\\": {\\\\\\\\\\\\\\\"type\\\\\\\\\\\\\\\": 2, \\\\\\\\\\\\\\\"details\\\\\\\\\\\\\\\": {\\\\\\\\\\\\\\\"selectedColumn\\\\\\\\\\\\\\\": \\\\\\\\\\\\\\\"restecg\\\\\\\\\\\\\\\"}}, \\\\\\\\\\\\\\\"typeProperty\\\\\\\\\\\\\\\": 2}, {\\\\\\\\\\\\\\\"column\\\\\\\\\\\\\\\": {\\\\\\\\\\\\\\\"type\\\\\\\\\\\\\\\": 2, \\\\\\\\\\\\\\\"details\\\\\\\\\\\\\\\": {\\\\\\\\\\\\\\\"selectedColumn\\\\\\\\\\\\\\\": \\\\\\\\\\\\\\\"thalach\\\\\\\\\\\\\\\"}}, \\\\\\\\\\\\\\\"typeProperty\\\\\\\\\\\\\\\": 2}, {\\\\\\\\\\\\\\\"column\\\\\\\\\\\\\\\": {\\\\\\\\\\\\\\\"type\\\\\\\\\\\\\\\": 2, \\\\\\\\\\\\\\\"details\\\\\\\\\\\\\\\": {\\\\\\\\\\\\\\\"selectedColumn\\\\\\\\\\\\\\\": \\\\\\\\\\\\\\\"exang\\\\\\\\\\\\\\\"}}, \\\\\\\\\\\\\\\"typeProperty\\\\\\\\\\\\\\\": 2}, {\\\\\\\\\\\\\\\"column\\\\\\\\\\\\\\\": {\\\\\\\\\\\\\\\"type\\\\\\\\\\\\\\\": 2, \\\\\\\\\\\\\\\"details\\\\\\\\\\\\\\\": {\\\\\\\\\\\\\\\"selectedColumn\\\\\\\\\\\\\\\": \\\\\\\\\\\\\\\"oldpeak\\\\\\\\\\\\\\\"}}, \\\\\\\\\\\\\\\"typeProperty\\\\\\\\\\\\\\\": 3}, {\\\\\\\\\\\\\\\"column\\\\\\\\\\\\\\\": {\\\\\\\\\\\\\\\"type\\\\\\\\\\\\\\\": 2, \\\\\\\\\\\\\\\"details\\\\\\\\\\\\\\\": {\\\\\\\\\\\\\\\"selectedColumn\\\\\\\\\\\\\\\": \\\\\\\\\\\\\\\"slope\\\\\\\\\\\\\\\"}}, \\\\\\\\\\\\\\\"typeProperty\\\\\\\\\\\\\\\": 2}, {\\\\\\\\\\\\\\\"column\\\\\\\\\\\\\\\": {\\\\\\\\\\\\\\\"type\\\\\\\\\\\\\\\": 2, \\\\\\\\\\\\\\\"details\\\\\\\\\\\\\\\": {\\\\\\\\\\\\\\\"selectedColumn\\\\\\\\\\\\\\\": \\\\\\\\\\\\\\\"ca\\\\\\\\\\\\\\\"}}, \\\\\\\\\\\\\\\"typeProperty\\\\\\\\\\\\\\\": 2}, {\\\\\\\\\\\\\\\"column\\\\\\\\\\\\\\\": {\\\\\\\\\\\\\\\"type\\\\\\\\\\\\\\\": 2, \\\\\\\\\\\\\\\"details\\\\\\\\\\\\\\\": {\\\\\\\\\\\\\\\"selectedColumn\\\\\\\\\\\\\\\": \\\\\\\\\\\\\\\"thal\\\\\\\\\\\\\\\"}}, \\\\\\\\\\\\\\\"typeProperty\\\\\\\\\\\\\\\": 2}, {\\\\\\\\\\\\\\\"column\\\\\\\\\\\\\\\": {\\\\\\\\\\\\\\\"type\\\\\\\\\\\\\\\": 2, \\\\\\\\\\\\\\\"details\\\\\\\\\\\\\\\": {\\\\\\\\\\\\\\\"selectedColumn\\\\\\\\\\\\\\\": \\\\\\\\\\\\\\\"target\\\\\\\\\\\\\\\"}}, \\\\\\\\\\\\\\\"typeProperty\\\\\\\\\\\\\\\": 2}]}, \\\\\\\\\\\\\\\"localData\\\\\\\\\\\\\\\": {}, \\\\\\\\\\\\\\\"isEnabled\\\\\\\\\\\\\\\": true, \\\\\\\\\\\\\\\"name\\\\\\\\\\\\\\\": null, \\\\\\\\\\\\\\\"annotation\\\\\\\\\\\\\\\": null}], \\\\\\\\\\\\\\\"inspectors\\\\\\\\\\\\\\\": [], \\\\\\\\\\\\\\\"meta\\\\\\\\\\\\\\\": {\\\\\\\\\\\\\\\"savedDatasetId\\\\\\\\\\\\\\\": \\\\\\\\\\\\\\\"fd112a9e-1324-4d8d-9649-abc7b4eee6bd\\\\\\\\\\\\\\\", \\\\\\\\\\\\\\\"datasetType\\\\\\\\\\\\\\\": \\\\\\\\\\\\\\\"tabular\\\\\\\\\\\\\\\", \\\\\\\\\\\\\\\"subscriptionId\\\\\\\\\\\\\\\": \\\\\\\\\\\\\\\"3e42d11f-d64d-4173-af9b-12ecaa1030b3\\\\\\\\\\\\\\\", \\\\\\\\\\\\\\\"workspaceId\\\\\\\\\\\\\\\": \\\\\\\\\\\\\\\"5da732ee-2a3a-4828-856b-0832c50fe14f\\\\\\\\\\\\\\\", \\\\\\\\\\\\\\\"workspaceLocation\\\\\\\\\\\\\\\": \\\\\\\\\\\\\\\"southcentralus\\\\\\\\\\\\\\\"}}\\\\\\\", \\\\\\\"activities\\\\\\\": 0}\", \"EnableSubsampling\": null, \"runTemplate\": \"AutoML\", \"azureml.runsource\": \"automl\", \"display_task_type\": \"classification\", \"dependencies_versions\": \"{\\\"azureml-widgets\\\": \\\"1.20.0\\\", \\\"azureml-train\\\": \\\"1.20.0\\\", \\\"azureml-train-restclients-hyperdrive\\\": \\\"1.20.0\\\", \\\"azureml-train-core\\\": \\\"1.20.0\\\", \\\"azureml-train-automl\\\": \\\"1.20.0\\\", \\\"azureml-train-automl-runtime\\\": \\\"1.20.0\\\", \\\"azureml-train-automl-client\\\": \\\"1.20.0\\\", \\\"azureml-tensorboard\\\": \\\"1.20.0\\\", \\\"azureml-telemetry\\\": \\\"1.20.0\\\", \\\"azureml-sdk\\\": \\\"1.20.0\\\", \\\"azureml-samples\\\": \\\"0+unknown\\\", \\\"azureml-pipeline\\\": \\\"1.20.0\\\", \\\"azureml-pipeline-steps\\\": \\\"1.20.0\\\", \\\"azureml-pipeline-core\\\": \\\"1.20.0\\\", \\\"azureml-opendatasets\\\": \\\"1.20.0\\\", \\\"azureml-model-management-sdk\\\": \\\"1.0.1b6.post1\\\", \\\"azureml-mlflow\\\": \\\"1.20.0.post1\\\", \\\"azureml-interpret\\\": \\\"1.20.0\\\", \\\"azureml-explain-model\\\": \\\"1.20.0\\\", \\\"azureml-defaults\\\": \\\"1.20.0\\\", \\\"azureml-dataset-runtime\\\": \\\"1.20.0\\\", \\\"azureml-dataprep\\\": \\\"2.7.3\\\", \\\"azureml-dataprep-rslex\\\": \\\"1.5.0\\\", \\\"azureml-dataprep-native\\\": \\\"27.0.0\\\", \\\"azureml-datadrift\\\": \\\"1.20.0\\\", \\\"azureml-core\\\": \\\"1.20.0\\\", \\\"azureml-contrib-services\\\": \\\"1.20.0\\\", \\\"azureml-contrib-server\\\": \\\"1.20.0\\\", \\\"azureml-contrib-reinforcementlearning\\\": \\\"1.20.0\\\", \\\"azureml-contrib-pipeline-steps\\\": \\\"1.20.0\\\", \\\"azureml-contrib-notebook\\\": \\\"1.20.0\\\", \\\"azureml-contrib-interpret\\\": \\\"1.20.0\\\", \\\"azureml-contrib-gbdt\\\": \\\"1.20.0\\\", \\\"azureml-contrib-fairness\\\": \\\"1.20.0\\\", \\\"azureml-contrib-dataset\\\": \\\"1.20.0\\\", \\\"azureml-cli-common\\\": \\\"1.20.0\\\", \\\"azureml-automl-runtime\\\": \\\"1.20.0\\\", \\\"azureml-automl-core\\\": \\\"1.20.0\\\", \\\"azureml-accel-models\\\": \\\"1.20.0\\\"}\", \"_aml_system_scenario_identification\": \"Remote.Parent\", \"ClientType\": \"SDK\", \"environment_cpu_name\": \"AzureML-AutoML\", \"environment_cpu_label\": \"prod\", \"environment_gpu_name\": \"AzureML-AutoML-GPU\", \"environment_gpu_label\": \"prod\", \"root_attribution\": \"automl\", \"attribution\": \"AutoML\", \"Orchestrator\": \"AutoML\", \"CancelUri\": \"https://southcentralus.experiments.azureml.net/jasmine/v1.0/subscriptions/3e42d11f-d64d-4173-af9b-12ecaa1030b3/resourceGroups/aml-quickstarts-139398/providers/Microsoft.MachineLearningServices/workspaces/quick-starts-ws-139398/experimentids/c588b6ce-410b-4d70-b0d7-8e2884c56313/cancel/AutoML_b7a4272f-660c-4072-a222-af6fe4a1878d\", \"ClientSdkVersion\": \"1.22.0\", \"snapshotId\": \"00000000-0000-0000-0000-000000000000\", \"SetupRunId\": \"AutoML_b7a4272f-660c-4072-a222-af6fe4a1878d_setup\", \"SetupRunContainerId\": \"dcid.AutoML_b7a4272f-660c-4072-a222-af6fe4a1878d_setup\", \"ProblemInfoJsonString\": \"{\\\"dataset_num_categorical\\\": 0, \\\"is_sparse\\\": false, \\\"subsampling\\\": false, \\\"dataset_classes\\\": 2, \\\"dataset_features\\\": 13, \\\"dataset_samples\\\": 303, \\\"single_frequency_class_detected\\\": false}\", \"ModelExplainRunId\": \"AutoML_b7a4272f-660c-4072-a222-af6fe4a1878d_ModelExplain\"}, \"tags\": {\"model_explain_run\": \"best_run\", \"_aml_system_azureml.automlComponent\": \"AutoML\", \"pipeline_id\": \"\", \"score\": \"\", \"predicted_cost\": \"\", \"fit_time\": \"\", \"training_percent\": \"\", \"iteration\": \"\", \"run_preprocessor\": \"\", \"run_algorithm\": \"\", \"dynamic_whitelisting_iterations\": \"<25>;<30>;<35>;<40>;\", \"automl_best_child_run_id\": \"AutoML_b7a4272f-660c-4072-a222-af6fe4a1878d_41\", \"model_explain_best_run_child_id\": \"AutoML_b7a4272f-660c-4072-a222-af6fe4a1878d_41\"}, \"end_time_utc\": \"2021-02-23T21:32:35.242139Z\", \"status\": \"Completed\", \"log_files\": {}, \"log_groups\": [], \"run_duration\": \"0:33:46\"}, \"child_runs\": [{\"run_id\": \"AutoML_b7a4272f-660c-4072-a222-af6fe4a1878d_0\", \"run_number\": 5, \"metric\": null, \"status\": \"Completed\", \"run_type\": \"azureml.scriptrun\", \"training_percent\": \"100\", \"start_time\": \"2021-02-23T21:20:11.706833Z\", \"end_time\": \"2021-02-23T21:23:30.245823Z\", \"created_time\": \"2021-02-23T21:17:33.73539Z\", \"created_time_dt\": \"2021-02-23T21:17:33.73539Z\", \"duration\": \"0:05:56\", \"iteration\": \"0\", \"goal\": \"AUC_weighted_max\", \"run_name\": \"MaxAbsScaler, LightGBM\", \"run_properties\": \"boosting_type='gbdt', class_weight=None,\\n                   colsample_bytree=1.0, importance_type='split',\\n                   learning_rate=0.1, max_depth=-1, min_child_samples=20,\\n                   min_child_weight=0.001, min_split_gain=0.0, n_estimators=100,\\n                   n_jobs=1, num_leaves=31, objective=None, random_state=None,\\n                   reg_alpha=0.0, reg_lambda=0.0, silent=True, subsample=1.0,\\n                   subsample_for_bin=200000, subsample_freq=0, verbose=-10\", \"primary_metric\": 0.87500917, \"best_metric\": 0.87500917}, {\"run_id\": \"AutoML_b7a4272f-660c-4072-a222-af6fe4a1878d_1\", \"run_number\": 6, \"metric\": null, \"status\": \"Completed\", \"run_type\": \"azureml.scriptrun\", \"training_percent\": \"100\", \"start_time\": \"2021-02-23T21:20:15.019107Z\", \"end_time\": \"2021-02-23T21:23:28.062091Z\", \"created_time\": \"2021-02-23T21:17:33.751271Z\", \"created_time_dt\": \"2021-02-23T21:17:33.751271Z\", \"duration\": \"0:05:54\", \"iteration\": \"1\", \"goal\": \"AUC_weighted_max\", \"run_name\": \"MaxAbsScaler, XGBoostClassifier\", \"run_properties\": \"base_score=0.5, booster='gbtree', colsample_bylevel=1,\\n                  colsample_bynode=1, colsample_bytree=1, gamma=0,\\n                  learning_rate=0.1, max_delta_step=0, max_depth=3,\\n                  min_child_weight=1, missing=None, n_estimators=100, n_jobs=1,\\n                  nthread=None, objective='binary:logistic', random_state=0,\\n                  reg_alpha=0, reg_lambda=1, scale_pos_weight=1, seed=None,\\n                  silent=None, subsample=1, tree_method='auto', verbose=-10,\\n                  verbosity=0\", \"primary_metric\": 0.88437914, \"best_metric\": 0.88437914}, {\"run_id\": \"AutoML_b7a4272f-660c-4072-a222-af6fe4a1878d_2\", \"run_number\": 7, \"metric\": null, \"status\": \"Completed\", \"run_type\": \"azureml.scriptrun\", \"training_percent\": \"100\", \"start_time\": \"2021-02-23T21:19:40.269756Z\", \"end_time\": \"2021-02-23T21:20:37.739021Z\", \"created_time\": \"2021-02-23T21:17:33.752837Z\", \"created_time_dt\": \"2021-02-23T21:17:33.752837Z\", \"duration\": \"0:03:03\", \"iteration\": \"2\", \"goal\": \"AUC_weighted_max\", \"run_name\": \"MinMaxScaler, RandomForest\", \"run_properties\": \"bootstrap=False, ccp_alpha=0.0, class_weight=None,\\n                       criterion='gini', max_depth=None, max_features='sqrt',\\n                       max_leaf_nodes=None, max_samples=None,\\n                       min_impurity_decrease=0.0, min_impurity_split=None,\\n                       min_samples_leaf=0.01,\\n                       min_samples_split=0.10368421052631578,\\n                       min_weight_fraction_leaf=0.0, n_estimators=10, n_jobs=1,\\n                       oob_score=False, random_state=None, verbose=0,\\n                       warm_start=False\", \"primary_metric\": 0.89515125, \"best_metric\": 0.89515125}, {\"run_id\": \"AutoML_b7a4272f-660c-4072-a222-af6fe4a1878d_4\", \"run_number\": 8, \"metric\": null, \"status\": \"Completed\", \"run_type\": \"azureml.scriptrun\", \"training_percent\": \"100\", \"start_time\": \"2021-02-23T21:18:47.034545Z\", \"end_time\": \"2021-02-23T21:19:35.933082Z\", \"created_time\": \"2021-02-23T21:17:33.809408Z\", \"created_time_dt\": \"2021-02-23T21:17:33.809408Z\", \"duration\": \"0:02:02\", \"iteration\": \"4\", \"goal\": \"AUC_weighted_max\", \"run_name\": \"MinMaxScaler, RandomForest\", \"run_properties\": \"bootstrap=True, ccp_alpha=0.0, class_weight='balanced',\\n                       criterion='gini', max_depth=None, max_features='log2',\\n                       max_leaf_nodes=None, max_samples=None,\\n                       min_impurity_decrease=0.0, min_impurity_split=None,\\n                       min_samples_leaf=0.01, min_samples_split=0.01,\\n                       min_weight_fraction_leaf=0.0, n_estimators=25, n_jobs=1,\\n                       oob_score=True, random_state=None, verbose=0,\\n                       warm_start=False\", \"primary_metric\": 0.89700464, \"best_metric\": 0.91612349}, {\"run_id\": \"AutoML_b7a4272f-660c-4072-a222-af6fe4a1878d_3\", \"run_number\": 9, \"metric\": null, \"status\": \"Completed\", \"run_type\": \"azureml.scriptrun\", \"training_percent\": \"100\", \"start_time\": \"2021-02-23T21:17:44.434061Z\", \"end_time\": \"2021-02-23T21:18:40.947959Z\", \"created_time\": \"2021-02-23T21:17:33.868713Z\", \"created_time_dt\": \"2021-02-23T21:17:33.868713Z\", \"duration\": \"0:01:07\", \"iteration\": \"3\", \"goal\": \"AUC_weighted_max\", \"run_name\": \"RobustScaler, ExtremeRandomTrees\", \"run_properties\": \"bootstrap=False, ccp_alpha=0.0, class_weight=None,\\n                     criterion='entropy', max_depth=None, max_features='log2',\\n                     max_leaf_nodes=None, max_samples=None,\\n                     min_impurity_decrease=0.0, min_impurity_split=None,\\n                     min_samples_leaf=0.01,\\n                     min_samples_split=0.10368421052631578,\\n                     min_weight_fraction_leaf=0.0, n_estimators=50, n_jobs=1,\\n                     oob_score=False, random_state=None, verbose=0,\\n                     warm_start=False\", \"primary_metric\": 0.91612349, \"best_metric\": 0.91612349}, {\"run_id\": \"AutoML_b7a4272f-660c-4072-a222-af6fe4a1878d_5\", \"run_number\": 10, \"metric\": null, \"status\": \"Completed\", \"run_type\": \"azureml.scriptrun\", \"training_percent\": \"100\", \"start_time\": \"2021-02-23T21:20:15.003158Z\", \"end_time\": \"2021-02-23T21:23:34.586813Z\", \"created_time\": \"2021-02-23T21:18:44.725611Z\", \"created_time_dt\": \"2021-02-23T21:18:44.725611Z\", \"duration\": \"0:04:49\", \"iteration\": \"5\", \"goal\": \"AUC_weighted_max\", \"run_name\": \"MinMaxScaler, RandomForest\", \"run_properties\": \"bootstrap=True, ccp_alpha=0.0, class_weight=None,\\n                       criterion='gini', max_depth=None, max_features='sqrt',\\n                       max_leaf_nodes=None, max_samples=None,\\n                       min_impurity_decrease=0.0, min_impurity_split=None,\\n                       min_samples_leaf=0.035789473684210524,\\n                       min_samples_split=0.01, min_weight_fraction_leaf=0.0,\\n                       n_estimators=10, n_jobs=1, oob_score=True,\\n                       random_state=None, verbose=0, warm_start=False\", \"primary_metric\": 0.90053824, \"best_metric\": 0.91612349}, {\"run_id\": \"AutoML_b7a4272f-660c-4072-a222-af6fe4a1878d_6\", \"run_number\": 11, \"metric\": null, \"status\": \"Completed\", \"run_type\": \"azureml.scriptrun\", \"training_percent\": \"100\", \"start_time\": \"2021-02-23T21:20:46.078667Z\", \"end_time\": \"2021-02-23T21:21:38.113432Z\", \"created_time\": \"2021-02-23T21:19:39.432936Z\", \"created_time_dt\": \"2021-02-23T21:19:39.432936Z\", \"duration\": \"0:01:58\", \"iteration\": \"6\", \"goal\": \"AUC_weighted_max\", \"run_name\": \"StandardScalerWrapper, RandomForest\", \"run_properties\": \"bootstrap=False, ccp_alpha=0.0, class_weight=None,\\n                       criterion='entropy', max_depth=None, max_features='log2',\\n                       max_leaf_nodes=None, max_samples=None,\\n                       min_impurity_decrease=0.0, min_impurity_split=None,\\n                       min_samples_leaf=0.01, min_samples_split=0.01,\\n                       min_weight_fraction_leaf=0.0, n_estimators=10, n_jobs=1,\\n                       oob_score=False, random_state=None, verbose=0,\\n                       warm_start=False\", \"primary_metric\": 0.89913536, \"best_metric\": 0.91612349}, {\"run_id\": \"AutoML_b7a4272f-660c-4072-a222-af6fe4a1878d_7\", \"run_number\": 12, \"metric\": null, \"status\": \"Completed\", \"run_type\": \"azureml.scriptrun\", \"training_percent\": \"100\", \"start_time\": \"2021-02-23T21:21:41.809558Z\", \"end_time\": \"2021-02-23T21:22:34.296541Z\", \"created_time\": \"2021-02-23T21:20:43.058157Z\", \"created_time_dt\": \"2021-02-23T21:20:43.058157Z\", \"duration\": \"0:01:51\", \"iteration\": \"7\", \"goal\": \"AUC_weighted_max\", \"run_name\": \"MinMaxScaler, ExtremeRandomTrees\", \"run_properties\": \"bootstrap=True, ccp_alpha=0.0, class_weight=None,\\n                     criterion='gini', max_depth=None, max_features=0.9,\\n                     max_leaf_nodes=None, max_samples=None,\\n                     min_impurity_decrease=0.0, min_impurity_split=None,\\n                     min_samples_leaf=0.01,\\n                     min_samples_split=0.15052631578947367,\\n                     min_weight_fraction_leaf=0.0, n_estimators=10, n_jobs=1,\\n                     oob_score=True, random_state=None, verbose=0,\\n                     warm_start=False\", \"primary_metric\": 0.90425183, \"best_metric\": 0.91612349}, {\"run_id\": \"AutoML_b7a4272f-660c-4072-a222-af6fe4a1878d_8\", \"run_number\": 13, \"metric\": null, \"status\": \"Completed\", \"run_type\": \"azureml.scriptrun\", \"training_percent\": \"100\", \"start_time\": \"2021-02-23T21:22:37.198584Z\", \"end_time\": \"2021-02-23T21:23:32.412514Z\", \"created_time\": \"2021-02-23T21:21:42.29739Z\", \"created_time_dt\": \"2021-02-23T21:21:42.29739Z\", \"duration\": \"0:01:50\", \"iteration\": \"8\", \"goal\": \"AUC_weighted_max\", \"run_name\": \"MinMaxScaler, ExtremeRandomTrees\", \"run_properties\": \"bootstrap=True, ccp_alpha=0.0, class_weight=None,\\n                     criterion='entropy', max_depth=None, max_features=0.3,\\n                     max_leaf_nodes=None, max_samples=None,\\n                     min_impurity_decrease=0.0, min_impurity_split=None,\\n                     min_samples_leaf=0.01,\\n                     min_samples_split=0.056842105263157895,\\n                     min_weight_fraction_leaf=0.0, n_estimators=25, n_jobs=1,\\n                     oob_score=True, random_state=None, verbose=0,\\n                     warm_start=False\", \"primary_metric\": 0.91256742, \"best_metric\": 0.91612349}, {\"run_id\": \"AutoML_b7a4272f-660c-4072-a222-af6fe4a1878d_9\", \"run_number\": 14, \"metric\": null, \"status\": \"Completed\", \"run_type\": \"azureml.scriptrun\", \"training_percent\": \"100\", \"start_time\": \"2021-02-23T21:23:27.104465Z\", \"end_time\": \"2021-02-23T21:24:20.362394Z\", \"created_time\": \"2021-02-23T21:22:38.433143Z\", \"created_time_dt\": \"2021-02-23T21:22:38.433143Z\", \"duration\": \"0:01:41\", \"iteration\": \"9\", \"goal\": \"AUC_weighted_max\", \"run_name\": \"SparseNormalizer, KNN\", \"run_properties\": \"algorithm='auto', leaf_size=30, metric='l1',\\n                     metric_params=None, n_jobs=1, n_neighbors=9, p=2,\\n                     weights='distance'\", \"primary_metric\": 0.71004816, \"best_metric\": 0.91612349}, {\"run_id\": \"AutoML_b7a4272f-660c-4072-a222-af6fe4a1878d_10\", \"run_number\": 15, \"metric\": null, \"status\": \"Completed\", \"run_type\": \"azureml.scriptrun\", \"training_percent\": \"100\", \"start_time\": \"2021-02-23T21:23:45.743468Z\", \"end_time\": \"2021-02-23T21:24:36.588818Z\", \"created_time\": \"2021-02-23T21:23:31.929328Z\", \"created_time_dt\": \"2021-02-23T21:23:31.929328Z\", \"duration\": \"0:01:04\", \"iteration\": \"10\", \"goal\": \"AUC_weighted_max\", \"run_name\": \"MinMaxScaler, ExtremeRandomTrees\", \"run_properties\": \"bootstrap=False, ccp_alpha=0.0, class_weight=None,\\n                     criterion='entropy', max_depth=None, max_features='sqrt',\\n                     max_leaf_nodes=None, max_samples=None,\\n                     min_impurity_decrease=0.0, min_impurity_split=None,\\n                     min_samples_leaf=0.01,\\n                     min_samples_split=0.15052631578947367,\\n                     min_weight_fraction_leaf=0.0, n_estimators=25, n_jobs=1,\\n                     oob_score=False, random_state=None, verbose=0,\\n                     warm_start=False\", \"primary_metric\": 0.91483295, \"best_metric\": 0.91612349}, {\"run_id\": \"AutoML_b7a4272f-660c-4072-a222-af6fe4a1878d_11\", \"run_number\": 16, \"metric\": null, \"status\": \"Completed\", \"run_type\": \"azureml.scriptrun\", \"training_percent\": \"100\", \"start_time\": \"2021-02-23T21:23:48.118318Z\", \"end_time\": \"2021-02-23T21:24:38.529164Z\", \"created_time\": \"2021-02-23T21:23:37.624939Z\", \"created_time_dt\": \"2021-02-23T21:23:37.624939Z\", \"duration\": \"0:01:00\", \"iteration\": \"11\", \"goal\": \"AUC_weighted_max\", \"run_name\": \"RobustScaler, ExtremeRandomTrees\", \"run_properties\": \"bootstrap=True, ccp_alpha=0.0, class_weight=None,\\n                     criterion='entropy', max_depth=None, max_features=0.5,\\n                     max_leaf_nodes=None, max_samples=None,\\n                     min_impurity_decrease=0.0, min_impurity_split=None,\\n                     min_samples_leaf=0.01,\\n                     min_samples_split=0.15052631578947367,\\n                     min_weight_fraction_leaf=0.0, n_estimators=25, n_jobs=1,\\n                     oob_score=False, random_state=None, verbose=0,\\n                     warm_start=False\", \"primary_metric\": 0.90796967, \"best_metric\": 0.91612349}, {\"run_id\": \"AutoML_b7a4272f-660c-4072-a222-af6fe4a1878d_12\", \"run_number\": 17, \"metric\": null, \"status\": \"Completed\", \"run_type\": \"azureml.scriptrun\", \"training_percent\": \"100\", \"start_time\": \"2021-02-23T21:23:46.154516Z\", \"end_time\": \"2021-02-23T21:24:44.568788Z\", \"created_time\": \"2021-02-23T21:23:37.771078Z\", \"created_time_dt\": \"2021-02-23T21:23:37.771078Z\", \"duration\": \"0:01:06\", \"iteration\": \"12\", \"goal\": \"AUC_weighted_max\", \"run_name\": \"StandardScalerWrapper, RandomForest\", \"run_properties\": \"bootstrap=False, ccp_alpha=0.0, class_weight='balanced',\\n                       criterion='entropy', max_depth=None, max_features='log2',\\n                       max_leaf_nodes=None, max_samples=None,\\n                       min_impurity_decrease=0.0, min_impurity_split=None,\\n                       min_samples_leaf=0.01,\\n                       min_samples_split=0.29105263157894734,\\n                       min_weight_fraction_leaf=0.0, n_estimators=25, n_jobs=1,\\n                       oob_score=False, random_state=None, verbose=0,\\n                       warm_start=False\", \"primary_metric\": 0.90389623, \"best_metric\": 0.91612349}, {\"run_id\": \"AutoML_b7a4272f-660c-4072-a222-af6fe4a1878d_13\", \"run_number\": 18, \"metric\": null, \"status\": \"Completed\", \"run_type\": \"azureml.scriptrun\", \"training_percent\": \"100\", \"start_time\": \"2021-02-23T21:24:25.14672Z\", \"end_time\": \"2021-02-23T21:25:16.348349Z\", \"created_time\": \"2021-02-23T21:23:43.563649Z\", \"created_time_dt\": \"2021-02-23T21:23:43.563649Z\", \"duration\": \"0:01:32\", \"iteration\": \"13\", \"goal\": \"AUC_weighted_max\", \"run_name\": \"StandardScalerWrapper, SGD\", \"run_properties\": \"alpha=10, class_weight=None, eta0=0.01, fit_intercept=True,\\n                     l1_ratio=0.7959183673469387, learning_rate='constant',\\n                     loss='log', max_iter=1000, n_jobs=1, penalty='none',\\n                     power_t=0.4444444444444444, random_state=None, tol=0.01\", \"primary_metric\": 0.89398492, \"best_metric\": 0.91612349}, {\"run_id\": \"AutoML_b7a4272f-660c-4072-a222-af6fe4a1878d_14\", \"run_number\": 19, \"metric\": null, \"status\": \"Completed\", \"run_type\": \"azureml.scriptrun\", \"training_percent\": \"100\", \"start_time\": \"2021-02-23T21:24:39.174009Z\", \"end_time\": \"2021-02-23T21:25:27.648412Z\", \"created_time\": \"2021-02-23T21:24:23.820204Z\", \"created_time_dt\": \"2021-02-23T21:24:23.820204Z\", \"duration\": \"0:01:03\", \"iteration\": \"14\", \"goal\": \"AUC_weighted_max\", \"run_name\": \"RobustScaler, RandomForest\", \"run_properties\": \"bootstrap=True, ccp_alpha=0.0, class_weight='balanced',\\n                       criterion='entropy', max_depth=None, max_features=0.2,\\n                       max_leaf_nodes=None, max_samples=None,\\n                       min_impurity_decrease=0.0, min_impurity_split=None,\\n                       min_samples_leaf=0.01,\\n                       min_samples_split=0.10368421052631578,\\n                       min_weight_fraction_leaf=0.0, n_estimators=10, n_jobs=1,\\n                       oob_score=True, random_state=None, verbose=0,\\n                       warm_start=False\", \"primary_metric\": 0.88991099, \"best_metric\": 0.91612349}, {\"run_id\": \"AutoML_b7a4272f-660c-4072-a222-af6fe4a1878d_15\", \"run_number\": 20, \"metric\": null, \"status\": \"Completed\", \"run_type\": \"azureml.scriptrun\", \"training_percent\": \"100\", \"start_time\": \"2021-02-23T21:24:50.031498Z\", \"end_time\": \"2021-02-23T21:25:40.689549Z\", \"created_time\": \"2021-02-23T21:24:40.267584Z\", \"created_time_dt\": \"2021-02-23T21:24:40.267584Z\", \"duration\": \"0:01:00\", \"iteration\": \"15\", \"goal\": \"AUC_weighted_max\", \"run_name\": \"StandardScalerWrapper, KNN\", \"run_properties\": \"algorithm='auto', leaf_size=30, metric='cityblock',\\n                     metric_params=None, n_jobs=1, n_neighbors=11, p=2,\\n                     weights='distance'\", \"primary_metric\": 0.7269595, \"best_metric\": 0.91612349}, {\"run_id\": \"AutoML_b7a4272f-660c-4072-a222-af6fe4a1878d_16\", \"run_number\": 21, \"metric\": null, \"status\": \"Completed\", \"run_type\": \"azureml.scriptrun\", \"training_percent\": \"100\", \"start_time\": \"2021-02-23T21:24:56.605281Z\", \"end_time\": \"2021-02-23T21:25:44.496755Z\", \"created_time\": \"2021-02-23T21:24:46.066601Z\", \"created_time_dt\": \"2021-02-23T21:24:46.066601Z\", \"duration\": \"0:00:58\", \"iteration\": \"16\", \"goal\": \"AUC_weighted_max\", \"run_name\": \"MinMaxScaler, RandomForest\", \"run_properties\": \"bootstrap=True, ccp_alpha=0.0, class_weight=None,\\n                       criterion='gini', max_depth=None, max_features=0.05,\\n                       max_leaf_nodes=None, max_samples=None,\\n                       min_impurity_decrease=0.0, min_impurity_split=None,\\n                       min_samples_leaf=0.01,\\n                       min_samples_split=0.10368421052631578,\\n                       min_weight_fraction_leaf=0.0, n_estimators=25, n_jobs=1,\\n                       oob_score=False, random_state=None, verbose=0,\\n                       warm_start=False\", \"primary_metric\": 0.9099462, \"best_metric\": 0.91612349}, {\"run_id\": \"AutoML_b7a4272f-660c-4072-a222-af6fe4a1878d_17\", \"run_number\": 22, \"metric\": null, \"status\": \"Completed\", \"run_type\": \"azureml.scriptrun\", \"training_percent\": \"100\", \"start_time\": \"2021-02-23T21:25:19.861071Z\", \"end_time\": \"2021-02-23T21:26:13.856017Z\", \"created_time\": \"2021-02-23T21:24:51.739906Z\", \"created_time_dt\": \"2021-02-23T21:24:51.739906Z\", \"duration\": \"0:01:22\", \"iteration\": \"17\", \"goal\": \"AUC_weighted_max\", \"run_name\": \"MinMaxScaler, ExtremeRandomTrees\", \"run_properties\": \"bootstrap=True, ccp_alpha=0.0, class_weight='balanced',\\n                     criterion='gini', max_depth=None, max_features=0.1,\\n                     max_leaf_nodes=None, max_samples=None,\\n                     min_impurity_decrease=0.0, min_impurity_split=None,\\n                     min_samples_leaf=0.01,\\n                     min_samples_split=0.15052631578947367,\\n                     min_weight_fraction_leaf=0.0, n_estimators=50, n_jobs=1,\\n                     oob_score=False, random_state=None, verbose=0,\\n                     warm_start=False\", \"primary_metric\": 0.9043908, \"best_metric\": 0.91612349}, {\"run_id\": \"AutoML_b7a4272f-660c-4072-a222-af6fe4a1878d_18\", \"run_number\": 23, \"metric\": null, \"status\": \"Completed\", \"run_type\": \"azureml.scriptrun\", \"training_percent\": \"100\", \"start_time\": \"2021-02-23T21:25:35.204153Z\", \"end_time\": \"2021-02-23T21:26:21.642948Z\", \"created_time\": \"2021-02-23T21:25:19.913573Z\", \"created_time_dt\": \"2021-02-23T21:25:19.913573Z\", \"duration\": \"0:01:01\", \"iteration\": \"18\", \"goal\": \"AUC_weighted_max\", \"run_name\": \"MaxAbsScaler, RandomForest\", \"run_properties\": \"bootstrap=False, ccp_alpha=0.0, class_weight='balanced',\\n                       criterion='gini', max_depth=None, max_features=0.05,\\n                       max_leaf_nodes=None, max_samples=None,\\n                       min_impurity_decrease=0.0, min_impurity_split=None,\\n                       min_samples_leaf=0.06157894736842105,\\n                       min_samples_split=0.056842105263157895,\\n                       min_weight_fraction_leaf=0.0, n_estimators=50, n_jobs=1,\\n                       oob_score=False, random_state=None, verbose=0,\\n                       warm_start=False\", \"primary_metric\": 0.90543102, \"best_metric\": 0.91612349}, {\"run_id\": \"AutoML_b7a4272f-660c-4072-a222-af6fe4a1878d_19\", \"run_number\": 24, \"metric\": null, \"status\": \"Completed\", \"run_type\": \"azureml.scriptrun\", \"training_percent\": \"100\", \"start_time\": \"2021-02-23T21:25:45.705698Z\", \"end_time\": \"2021-02-23T21:26:43.181893Z\", \"created_time\": \"2021-02-23T21:25:31.379434Z\", \"created_time_dt\": \"2021-02-23T21:25:31.379434Z\", \"duration\": \"0:01:11\", \"iteration\": \"19\", \"goal\": \"AUC_weighted_max\", \"run_name\": \"StandardScalerWrapper, XGBoostClassifier\", \"run_properties\": \"base_score=0.5, booster='gbtree', colsample_bylevel=1,\\n                  colsample_bynode=1, colsample_bytree=0.7, eta=0.001, gamma=0,\\n                  learning_rate=0.1, max_delta_step=0, max_depth=5,\\n                  max_leaves=0, min_child_weight=1, missing=None,\\n                  n_estimators=10, n_jobs=1, nthread=None,\\n                  objective='reg:logistic', random_state=0,\\n                  reg_alpha=1.1458333333333335, reg_lambda=1.3541666666666667,\\n                  scale_pos_weight=1, seed=None, silent=None, subsample=0.6,\\n                  tree_method='auto', verbose=-10, verbosity=0\", \"primary_metric\": 0.8857951, \"best_metric\": 0.91612349}, {\"run_id\": \"AutoML_b7a4272f-660c-4072-a222-af6fe4a1878d_20\", \"run_number\": 25, \"metric\": null, \"status\": \"Completed\", \"run_type\": \"azureml.scriptrun\", \"training_percent\": \"100\", \"start_time\": \"2021-02-23T21:25:55.500052Z\", \"end_time\": \"2021-02-23T21:26:50.859618Z\", \"created_time\": \"2021-02-23T21:25:44.763856Z\", \"created_time_dt\": \"2021-02-23T21:25:44.763856Z\", \"duration\": \"0:01:06\", \"iteration\": \"20\", \"goal\": \"AUC_weighted_max\", \"run_name\": \"MaxAbsScaler, RandomForest\", \"run_properties\": \"bootstrap=True, ccp_alpha=0.0, class_weight=None,\\n                       criterion='gini', max_depth=None, max_features='log2',\\n                       max_leaf_nodes=None, max_samples=None,\\n                       min_impurity_decrease=0.0, min_impurity_split=None,\\n                       min_samples_leaf=0.01, min_samples_split=0.01,\\n                       min_weight_fraction_leaf=0.0, n_estimators=10, n_jobs=1,\\n                       oob_score=False, random_state=None, verbose=0,\\n                       warm_start=False\", \"primary_metric\": 0.8995118, \"best_metric\": 0.91612349}, {\"run_id\": \"AutoML_b7a4272f-660c-4072-a222-af6fe4a1878d_21\", \"run_number\": 26, \"metric\": null, \"status\": \"Completed\", \"run_type\": \"azureml.scriptrun\", \"training_percent\": \"100\", \"start_time\": \"2021-02-23T21:26:17.366664Z\", \"end_time\": \"2021-02-23T21:27:12.851044Z\", \"created_time\": \"2021-02-23T21:25:52.88936Z\", \"created_time_dt\": \"2021-02-23T21:25:52.88936Z\", \"duration\": \"0:01:19\", \"iteration\": \"21\", \"goal\": \"AUC_weighted_max\", \"run_name\": \"MaxAbsScaler, ExtremeRandomTrees\", \"run_properties\": \"bootstrap=True, ccp_alpha=0.0, class_weight='balanced',\\n                     criterion='gini', max_depth=None, max_features=0.4,\\n                     max_leaf_nodes=None, max_samples=None,\\n                     min_impurity_decrease=0.0, min_impurity_split=None,\\n                     min_samples_leaf=0.01,\\n                     min_samples_split=0.15052631578947367,\\n                     min_weight_fraction_leaf=0.0, n_estimators=10, n_jobs=1,\\n                     oob_score=True, random_state=None, verbose=0,\\n                     warm_start=False\", \"primary_metric\": 0.89670726, \"best_metric\": 0.91612349}, {\"run_id\": \"AutoML_b7a4272f-660c-4072-a222-af6fe4a1878d_22\", \"run_number\": 27, \"metric\": null, \"status\": \"Completed\", \"run_type\": \"azureml.scriptrun\", \"training_percent\": \"100\", \"start_time\": \"2021-02-23T21:26:29.617572Z\", \"end_time\": \"2021-02-23T21:27:17.734206Z\", \"created_time\": \"2021-02-23T21:26:17.702517Z\", \"created_time_dt\": \"2021-02-23T21:26:17.702517Z\", \"duration\": \"0:01:00\", \"iteration\": \"22\", \"goal\": \"AUC_weighted_max\", \"run_name\": \"MaxAbsScaler, ExtremeRandomTrees\", \"run_properties\": \"bootstrap=True, ccp_alpha=0.0, class_weight='balanced',\\n                     criterion='gini', max_depth=None, max_features='log2',\\n                     max_leaf_nodes=None, max_samples=None,\\n                     min_impurity_decrease=0.0, min_impurity_split=None,\\n                     min_samples_leaf=0.01, min_samples_split=0.01,\\n                     min_weight_fraction_leaf=0.0, n_estimators=50, n_jobs=1,\\n                     oob_score=True, random_state=None, verbose=0,\\n                     warm_start=False\", \"primary_metric\": 0.91730787, \"best_metric\": 0.91730787}, {\"run_id\": \"AutoML_b7a4272f-660c-4072-a222-af6fe4a1878d_23\", \"run_number\": 28, \"metric\": null, \"status\": \"Completed\", \"run_type\": \"azureml.scriptrun\", \"training_percent\": \"100\", \"start_time\": \"2021-02-23T21:26:46.039292Z\", \"end_time\": \"2021-02-23T21:27:40.473888Z\", \"created_time\": \"2021-02-23T21:26:25.107133Z\", \"created_time_dt\": \"2021-02-23T21:26:25.107133Z\", \"duration\": \"0:01:15\", \"iteration\": \"23\", \"goal\": \"AUC_weighted_max\", \"run_name\": \"StandardScalerWrapper, XGBoostClassifier\", \"run_properties\": \"base_score=0.5, booster='gbtree', colsample_bylevel=1,\\n                  colsample_bynode=1, colsample_bytree=0.7, eta=0.4, gamma=5,\\n                  learning_rate=0.1, max_delta_step=0, max_depth=6,\\n                  max_leaves=0, min_child_weight=1, missing=None,\\n                  n_estimators=100, n_jobs=1, nthread=None,\\n                  objective='reg:logistic', random_state=0,\\n                  reg_alpha=1.7708333333333335, reg_lambda=1.5625,\\n                  scale_pos_weight=1, seed=None, silent=None, subsample=0.5,\\n                  tree_method='auto', verbose=-10, verbosity=0\", \"primary_metric\": 0.89384635, \"best_metric\": 0.91730787}, {\"run_id\": \"AutoML_b7a4272f-660c-4072-a222-af6fe4a1878d_24\", \"run_number\": 29, \"metric\": null, \"status\": \"Completed\", \"run_type\": \"azureml.scriptrun\", \"training_percent\": \"100\", \"start_time\": \"2021-02-23T21:26:56.59783Z\", \"end_time\": \"2021-02-23T21:27:49.940904Z\", \"created_time\": \"2021-02-23T21:26:46.382634Z\", \"created_time_dt\": \"2021-02-23T21:26:46.382634Z\", \"duration\": \"0:01:03\", \"iteration\": \"24\", \"goal\": \"AUC_weighted_max\", \"run_name\": \"MaxAbsScaler, LogisticRegression\", \"run_properties\": \"C=5.428675439323859, class_weight=None, dual=False,\\n                   fit_intercept=True, intercept_scaling=1, l1_ratio=None,\\n                   max_iter=100, multi_class='ovr', n_jobs=1, penalty='l2',\\n                   random_state=None, solver='saga', tol=0.0001, verbose=0,\\n                   warm_start=False\", \"primary_metric\": 0.89702747, \"best_metric\": 0.91730787}, {\"run_id\": \"AutoML_b7a4272f-660c-4072-a222-af6fe4a1878d_25\", \"run_number\": 30, \"metric\": null, \"status\": \"Completed\", \"run_type\": \"azureml.scriptrun\", \"training_percent\": \"100\", \"start_time\": \"2021-02-23T21:27:16.273497Z\", \"end_time\": \"2021-02-23T21:28:13.249434Z\", \"created_time\": \"2021-02-23T21:26:55.273316Z\", \"created_time_dt\": \"2021-02-23T21:26:55.273316Z\", \"duration\": \"0:01:17\", \"iteration\": \"25\", \"goal\": \"AUC_weighted_max\", \"run_name\": \"StandardScalerWrapper, ExtremeRandomTrees\", \"run_properties\": \"bootstrap=False, ccp_alpha=0.0, class_weight=None,\\n                     criterion='gini', max_depth=None, max_features=None,\\n                     max_leaf_nodes=None, max_samples=None,\\n                     min_impurity_decrease=0.0, min_impurity_split=None,\\n                     min_samples_leaf=0.06157894736842105,\\n                     min_samples_split=0.15052631578947367,\\n                     min_weight_fraction_leaf=0.0, n_estimators=10, n_jobs=1,\\n                     oob_score=False, random_state=None, verbose=0,\\n                     warm_start=False\", \"primary_metric\": 0.89003688, \"best_metric\": 0.91730787}, {\"run_id\": \"AutoML_b7a4272f-660c-4072-a222-af6fe4a1878d_26\", \"run_number\": 31, \"metric\": null, \"status\": \"Completed\", \"run_type\": \"azureml.scriptrun\", \"training_percent\": \"100\", \"start_time\": \"2021-02-23T21:27:23.969992Z\", \"end_time\": \"2021-02-23T21:28:15.902471Z\", \"created_time\": \"2021-02-23T21:27:15.871372Z\", \"created_time_dt\": \"2021-02-23T21:27:15.871372Z\", \"duration\": \"0:01:00\", \"iteration\": \"26\", \"goal\": \"AUC_weighted_max\", \"run_name\": \"StandardScalerWrapper, XGBoostClassifier\", \"run_properties\": \"base_score=0.5, booster='gbtree', colsample_bylevel=1,\\n                  colsample_bynode=1, colsample_bytree=0.8, eta=0.1, gamma=5,\\n                  learning_rate=0.1, max_delta_step=0, max_depth=6,\\n                  max_leaves=15, min_child_weight=1, missing=None,\\n                  n_estimators=100, n_jobs=1, nthread=None,\\n                  objective='reg:logistic', random_state=0,\\n                  reg_alpha=2.3958333333333335, reg_lambda=1.0416666666666667,\\n                  scale_pos_weight=1, seed=None, silent=None, subsample=0.7,\\n                  tree_method='auto', verbose=-10, verbosity=0\", \"primary_metric\": 0.89551904, \"best_metric\": 0.91730787}, {\"run_id\": \"AutoML_b7a4272f-660c-4072-a222-af6fe4a1878d_27\", \"run_number\": 32, \"metric\": null, \"status\": \"Completed\", \"run_type\": \"azureml.scriptrun\", \"training_percent\": \"100\", \"start_time\": \"2021-02-23T21:27:43.879929Z\", \"end_time\": \"2021-02-23T21:28:42.920896Z\", \"created_time\": \"2021-02-23T21:27:20.518649Z\", \"created_time_dt\": \"2021-02-23T21:27:20.518649Z\", \"duration\": \"0:01:22\", \"iteration\": \"27\", \"goal\": \"AUC_weighted_max\", \"run_name\": \"RobustScaler, LightGBM\", \"run_properties\": \"boosting_type='goss', class_weight=None,\\n                   colsample_bytree=0.2977777777777778, importance_type='split',\\n                   learning_rate=0.06316157894736842, max_bin=120, max_depth=10,\\n                   min_child_samples=29, min_child_weight=1,\\n                   min_split_gain=0.15789473684210525, n_estimators=100,\\n                   n_jobs=1, num_leaves=143, objective=None, random_state=None,\\n                   reg_alpha=0.631578947368421, reg_lambda=0.3157894736842105,\\n                   silent=True, subsample=1, subsample_for_bin=200000,\\n                   subsample_freq=0, verbose=-10\", \"primary_metric\": 0.91023114, \"best_metric\": 0.91730787}, {\"run_id\": \"AutoML_b7a4272f-660c-4072-a222-af6fe4a1878d_28\", \"run_number\": 33, \"metric\": null, \"status\": \"Completed\", \"run_type\": \"azureml.scriptrun\", \"training_percent\": \"100\", \"start_time\": \"2021-02-23T21:27:57.010136Z\", \"end_time\": \"2021-02-23T21:28:46.131419Z\", \"created_time\": \"2021-02-23T21:27:42.712494Z\", \"created_time_dt\": \"2021-02-23T21:27:42.712494Z\", \"duration\": \"0:01:03\", \"iteration\": \"28\", \"goal\": \"AUC_weighted_max\", \"run_name\": \"StandardScalerWrapper, LightGBM\", \"run_properties\": \"boosting_type='gbdt', class_weight=None,\\n                   colsample_bytree=0.1988888888888889, importance_type='split',\\n                   learning_rate=0.05263631578947369, max_bin=60, max_depth=10,\\n                   min_child_samples=10, min_child_weight=1,\\n                   min_split_gain=0.631578947368421, n_estimators=25, n_jobs=1,\\n                   num_leaves=11, objective=None, random_state=None,\\n                   reg_alpha=0.631578947368421, reg_lambda=0.3157894736842105,\\n                   silent=True, subsample=0.6436842105263159,\\n                   subsample_for_bin=200000, subsample_freq=0, verbose=-10\", \"primary_metric\": 0.90596057, \"best_metric\": 0.91730787}, {\"run_id\": \"AutoML_b7a4272f-660c-4072-a222-af6fe4a1878d_29\", \"run_number\": 34, \"metric\": null, \"status\": \"Completed\", \"run_type\": \"azureml.scriptrun\", \"training_percent\": \"100\", \"start_time\": \"2021-02-23T21:28:18.594992Z\", \"end_time\": \"2021-02-23T21:29:18.263682Z\", \"created_time\": \"2021-02-23T21:27:52.361207Z\", \"created_time_dt\": \"2021-02-23T21:27:52.361207Z\", \"duration\": \"0:01:25\", \"iteration\": \"29\", \"goal\": \"AUC_weighted_max\", \"run_name\": \"StandardScalerWrapper, ExtremeRandomTrees\", \"run_properties\": \"bootstrap=False, ccp_alpha=0.0, class_weight='balanced',\\n                     criterion='gini', max_depth=None, max_features=0.3,\\n                     max_leaf_nodes=None, max_samples=None,\\n                     min_impurity_decrease=0.0, min_impurity_split=None,\\n                     min_samples_leaf=0.01,\\n                     min_samples_split=0.38473684210526315,\\n                     min_weight_fraction_leaf=0.0, n_estimators=200, n_jobs=1,\\n                     oob_score=False, random_state=None, verbose=0,\\n                     warm_start=False\", \"primary_metric\": 0.90769091, \"best_metric\": 0.91730787}, {\"run_id\": \"AutoML_b7a4272f-660c-4072-a222-af6fe4a1878d_30\", \"run_number\": 35, \"metric\": null, \"status\": \"Completed\", \"run_type\": \"azureml.scriptrun\", \"training_percent\": \"100\", \"start_time\": \"2021-02-23T21:28:31.427291Z\", \"end_time\": \"2021-02-23T21:29:25.89951Z\", \"created_time\": \"2021-02-23T21:28:16.924569Z\", \"created_time_dt\": \"2021-02-23T21:28:16.924569Z\", \"duration\": \"0:01:08\", \"iteration\": \"30\", \"goal\": \"AUC_weighted_max\", \"run_name\": \"TruncatedSVDWrapper, ExtremeRandomTrees\", \"run_properties\": \"bootstrap=True, ccp_alpha=0.0, class_weight=None,\\n                     criterion='entropy', max_depth=None, max_features=0.9,\\n                     max_leaf_nodes=None, max_samples=None,\\n                     min_impurity_decrease=0.0, min_impurity_split=None,\\n                     min_samples_leaf=0.01,\\n                     min_samples_split=0.38473684210526315,\\n                     min_weight_fraction_leaf=0.0, n_estimators=400, n_jobs=1,\\n                     oob_score=True, random_state=None, verbose=0,\\n                     warm_start=False\", \"primary_metric\": 0.63645414, \"best_metric\": 0.91730787}, {\"run_id\": \"AutoML_b7a4272f-660c-4072-a222-af6fe4a1878d_31\", \"run_number\": 36, \"metric\": null, \"status\": \"Completed\", \"run_type\": \"azureml.scriptrun\", \"training_percent\": \"100\", \"start_time\": \"2021-02-23T21:28:48.595729Z\", \"end_time\": \"2021-02-23T21:29:42.179745Z\", \"created_time\": \"2021-02-23T21:28:22.30004Z\", \"created_time_dt\": \"2021-02-23T21:28:22.30004Z\", \"duration\": \"0:01:19\", \"iteration\": \"31\", \"goal\": \"AUC_weighted_max\", \"run_name\": \"RobustScaler, LightGBM\", \"run_properties\": \"boosting_type='goss', class_weight=None,\\n                   colsample_bytree=0.1988888888888889, importance_type='split',\\n                   learning_rate=0.07894947368421053, max_bin=10, max_depth=8,\\n                   min_child_samples=7, min_child_weight=1,\\n                   min_split_gain=0.15789473684210525, n_estimators=25,\\n                   n_jobs=1, num_leaves=128, objective=None, random_state=None,\\n                   reg_alpha=0.2631578947368421, reg_lambda=0.10526315789473684,\\n                   silent=True, subsample=1, subsample_for_bin=200000,\\n                   subsample_freq=0, verbose=-10\", \"primary_metric\": 0.90294668, \"best_metric\": 0.91730787}, {\"run_id\": \"AutoML_b7a4272f-660c-4072-a222-af6fe4a1878d_32\", \"run_number\": 37, \"metric\": null, \"status\": \"Completed\", \"run_type\": \"azureml.scriptrun\", \"training_percent\": \"100\", \"start_time\": \"2021-02-23T21:28:55.040854Z\", \"end_time\": \"2021-02-23T21:29:49.21971Z\", \"created_time\": \"2021-02-23T21:28:45.6505Z\", \"created_time_dt\": \"2021-02-23T21:28:45.6505Z\", \"duration\": \"0:01:03\", \"iteration\": \"32\", \"goal\": \"AUC_weighted_max\", \"run_name\": \"StandardScalerWrapper, RandomForest\", \"run_properties\": \"bootstrap=True, ccp_alpha=0.0, class_weight='balanced',\\n                       criterion='entropy', max_depth=None, max_features='log2',\\n                       max_leaf_nodes=None, max_samples=None,\\n                       min_impurity_decrease=0.0, min_impurity_split=None,\\n                       min_samples_leaf=0.035789473684210524,\\n                       min_samples_split=0.10368421052631578,\\n                       min_weight_fraction_leaf=0.0, n_estimators=200, n_jobs=1,\\n                       oob_score=True, random_state=None, verbose=0,\\n                       warm_start=False\", \"primary_metric\": 0.90729078, \"best_metric\": 0.91730787}, {\"run_id\": \"AutoML_b7a4272f-660c-4072-a222-af6fe4a1878d_33\", \"run_number\": 38, \"metric\": null, \"status\": \"Completed\", \"run_type\": \"azureml.scriptrun\", \"training_percent\": \"100\", \"start_time\": \"2021-02-23T21:29:25.793845Z\", \"end_time\": \"2021-02-23T21:30:13.002177Z\", \"created_time\": \"2021-02-23T21:28:50.528612Z\", \"created_time_dt\": \"2021-02-23T21:28:50.528612Z\", \"duration\": \"0:01:22\", \"iteration\": \"33\", \"goal\": \"AUC_weighted_max\", \"run_name\": \"RobustScaler, GradientBoosting\", \"run_properties\": \"ccp_alpha=0.0, criterion='mse', init=None,\\n                           learning_rate=0.046415888336127774, loss='deviance',\\n                           max_depth=2, max_features=0.3, max_leaf_nodes=None,\\n                           min_impurity_decrease=0.0, min_impurity_split=None,\\n                           min_samples_leaf=0.1131578947368421,\\n                           min_samples_split=0.19736842105263158,\\n                           min_weight_fraction_leaf=0.0, n_estimators=100,\\n                           n_iter_no_change=None, presort='deprecated',\\n                           random_state=None, subsample=0.5736842105263158,\\n                           tol=0.0001, validation_fraction=0.1, verbose=0,\\n                           warm_start=False\", \"primary_metric\": 0.90465699, \"best_metric\": 0.91730787}, {\"run_id\": \"AutoML_b7a4272f-660c-4072-a222-af6fe4a1878d_34\", \"run_number\": 39, \"metric\": null, \"status\": \"Completed\", \"run_type\": \"azureml.scriptrun\", \"training_percent\": \"100\", \"start_time\": \"2021-02-23T21:29:30.855827Z\", \"end_time\": \"2021-02-23T21:30:25.078587Z\", \"created_time\": \"2021-02-23T21:29:20.785697Z\", \"created_time_dt\": \"2021-02-23T21:29:20.785697Z\", \"duration\": \"0:01:04\", \"iteration\": \"34\", \"goal\": \"AUC_weighted_max\", \"run_name\": \"StandardScalerWrapper, LogisticRegression\", \"run_properties\": \"C=0.02811768697974228, class_weight='balanced', dual=False,\\n                   fit_intercept=True, intercept_scaling=1, l1_ratio=None,\\n                   max_iter=100, multi_class='multinomial', n_jobs=1,\\n                   penalty='l2', random_state=None, solver='lbfgs', tol=0.0001,\\n                   verbose=0, warm_start=False\", \"primary_metric\": 0.89832538, \"best_metric\": 0.91730787}, {\"run_id\": \"AutoML_b7a4272f-660c-4072-a222-af6fe4a1878d_35\", \"run_number\": 40, \"metric\": null, \"status\": \"Completed\", \"run_type\": \"azureml.scriptrun\", \"training_percent\": \"100\", \"start_time\": \"2021-02-23T21:29:44.55772Z\", \"end_time\": \"2021-02-23T21:30:42.802442Z\", \"created_time\": \"2021-02-23T21:29:29.219446Z\", \"created_time_dt\": \"2021-02-23T21:29:29.219446Z\", \"duration\": \"0:01:13\", \"iteration\": \"35\", \"goal\": \"AUC_weighted_max\", \"run_name\": \"TruncatedSVDWrapper, ExtremeRandomTrees\", \"run_properties\": \"bootstrap=True, ccp_alpha=0.0, class_weight=None,\\n                     criterion='gini', max_depth=None, max_features=0.6,\\n                     max_leaf_nodes=None, max_samples=None,\\n                     min_impurity_decrease=0.0, min_impurity_split=None,\\n                     min_samples_leaf=0.19052631578947368,\\n                     min_samples_split=0.6657894736842105,\\n                     min_weight_fraction_leaf=0.0, n_estimators=25, n_jobs=1,\\n                     oob_score=False, random_state=None, verbose=0,\\n                     warm_start=False\", \"primary_metric\": 0.55974967, \"best_metric\": 0.91730787}, {\"run_id\": \"AutoML_b7a4272f-660c-4072-a222-af6fe4a1878d_36\", \"run_number\": 41, \"metric\": null, \"status\": \"Completed\", \"run_type\": \"azureml.scriptrun\", \"training_percent\": \"100\", \"start_time\": \"2021-02-23T21:29:56.689762Z\", \"end_time\": \"2021-02-23T21:30:44.443143Z\", \"created_time\": \"2021-02-23T21:29:46.156343Z\", \"created_time_dt\": \"2021-02-23T21:29:46.156343Z\", \"duration\": \"0:00:58\", \"iteration\": \"36\", \"goal\": \"AUC_weighted_max\", \"run_name\": \"RobustScaler, LightGBM\", \"run_properties\": \"boosting_type='gbdt', class_weight=None,\\n                   colsample_bytree=0.3966666666666666, importance_type='split',\\n                   learning_rate=0.05263631578947369, max_bin=310, max_depth=-1,\\n                   min_child_samples=5, min_child_weight=7,\\n                   min_split_gain=0.47368421052631576, n_estimators=400,\\n                   n_jobs=1, num_leaves=221, objective=None, random_state=None,\\n                   reg_alpha=0.5789473684210527, reg_lambda=0.8421052631578947,\\n                   silent=True, subsample=0.6436842105263159,\\n                   subsample_for_bin=200000, subsample_freq=0, verbose=-10\", \"primary_metric\": 0.91290825, \"best_metric\": 0.91730787}, {\"run_id\": \"AutoML_b7a4272f-660c-4072-a222-af6fe4a1878d_37\", \"run_number\": 42, \"metric\": null, \"status\": \"Canceled\", \"run_type\": \"azureml.scriptrun\", \"training_percent\": \"100\", \"start_time\": \"2021-02-23T21:30:19.456717Z\", \"end_time\": \"2021-02-23T21:30:55.661033Z\", \"created_time\": \"2021-02-23T21:29:53.195132Z\", \"created_time_dt\": \"2021-02-23T21:29:53.195132Z\", \"duration\": \"0:01:02\", \"iteration\": \"37\", \"goal\": \"AUC_weighted_max\", \"run_name\": \"MaxAbsScaler, LightGBM\", \"run_properties\": \"boosting_type='goss', class_weight=None,\\n                   colsample_bytree=0.3966666666666666, importance_type='split',\\n                   learning_rate=0.026323157894736843, max_bin=190,\\n                   max_depth=10, min_child_samples=11, min_child_weight=7,\\n                   min_split_gain=0.10526315789473684, n_estimators=200,\\n                   n_jobs=1, num_leaves=41, objective=None, random_state=None,\\n                   reg_alpha=0.631578947368421, reg_lambda=0.631578947368421,\\n                   silent=True, subsample=1, subsample_for_bin=200000,\\n                   subsample_freq=0, verbose=-10\", \"primary_metric\": 0.91377927, \"best_metric\": 0.91730787}, {\"run_id\": \"AutoML_b7a4272f-660c-4072-a222-af6fe4a1878d_38\", \"run_number\": 43, \"metric\": null, \"status\": \"Canceled\", \"run_type\": \"azureml.scriptrun\", \"training_percent\": \"100\", \"start_time\": \"2021-02-23T21:30:28.687811Z\", \"end_time\": \"2021-02-23T21:30:57.712183Z\", \"created_time\": \"2021-02-23T21:30:15.742717Z\", \"created_time_dt\": \"2021-02-23T21:30:15.742717Z\", \"duration\": \"0:00:41\", \"iteration\": \"38\", \"goal\": \"AUC_weighted_max\", \"run_name\": \"RobustScaler, LightGBM\", \"run_properties\": \"boosting_type='goss', class_weight=None,\\n                   colsample_bytree=0.3966666666666666, importance_type='split',\\n                   learning_rate=0.07894947368421053, max_bin=360, max_depth=7,\\n                   min_child_samples=5, min_child_weight=6,\\n                   min_split_gain=0.6842105263157894, n_estimators=100,\\n                   n_jobs=1, num_leaves=197, objective=None, random_state=None,\\n                   reg_alpha=0.6842105263157894, reg_lambda=0.894736842105263,\\n                   silent=True, subsample=1, subsample_for_bin=200000,\\n                   subsample_freq=0, verbose=-10\", \"primary_metric\": 0.90665004, \"best_metric\": 0.91730787}, {\"run_id\": \"AutoML_b7a4272f-660c-4072-a222-af6fe4a1878d_39\", \"run_number\": 44, \"metric\": null, \"status\": \"Canceled\", \"run_type\": \"azureml.scriptrun\", \"training_percent\": \"100\", \"start_time\": \"2021-02-23T21:30:46.682931Z\", \"end_time\": \"2021-02-23T21:30:56.792052Z\", \"created_time\": \"2021-02-23T21:30:27.654808Z\", \"created_time_dt\": \"2021-02-23T21:30:27.654808Z\", \"duration\": \"0:00:29\", \"iteration\": \"39\", \"goal\": null, \"run_name\": \"Canceled\", \"run_properties\": null}, {\"run_id\": \"AutoML_b7a4272f-660c-4072-a222-af6fe4a1878d_40\", \"run_number\": 45, \"metric\": null, \"status\": \"Canceled\", \"run_type\": \"azureml.scriptrun\", \"training_percent\": \"100\", \"start_time\": \"2021-02-23T21:30:55.919177Z\", \"end_time\": \"2021-02-23T21:31:03.327457Z\", \"created_time\": \"2021-02-23T21:30:45.823681Z\", \"created_time_dt\": \"2021-02-23T21:30:45.823681Z\", \"duration\": \"0:00:17\", \"iteration\": \"40\", \"goal\": null, \"run_name\": \"Canceled\", \"run_properties\": null}, {\"run_id\": \"AutoML_b7a4272f-660c-4072-a222-af6fe4a1878d_41\", \"run_number\": 46, \"metric\": null, \"status\": \"Completed\", \"run_type\": \"azureml.scriptrun\", \"training_percent\": \"100\", \"start_time\": \"2021-02-23T21:31:12.417802Z\", \"end_time\": \"2021-02-23T21:32:19.397165Z\", \"created_time\": \"2021-02-23T21:31:04.541345Z\", \"created_time_dt\": \"2021-02-23T21:31:04.541345Z\", \"duration\": \"0:01:14\", \"iteration\": \"41\", \"goal\": \"AUC_weighted_max\", \"run_name\": \"VotingEnsemble\", \"run_properties\": \"\", \"primary_metric\": 0.92457092, \"best_metric\": 0.92457092}], \"children_metrics\": {\"categories\": [0], \"series\": {\"f1_score_weighted\": [{\"categories\": [\"0\", \"1\", \"2\", \"3\", \"4\", \"5\", \"6\", \"7\", \"8\", \"9\", \"10\", \"11\", \"12\", \"13\", \"14\", \"15\", \"16\", \"17\", \"18\", \"19\", \"20\", \"21\", \"22\", \"23\", \"24\", \"25\", \"26\", \"27\", \"28\", \"29\", \"30\", \"31\", \"32\", \"33\", \"34\", \"35\", \"36\", \"37\", \"38\", \"41\"], \"mode\": \"markers\", \"name\": \"f1_score_weighted\", \"stepped\": false, \"type\": \"scatter\", \"data\": [0.7945019024504257, 0.8111482144352945, 0.8072977492172249, 0.8437408656496643, 0.8174636959529381, 0.8176340310843003, 0.8265881832764584, 0.8312267301549888, 0.8439444109818591, 0.6787257025434862, 0.840901979179055, 0.8341158336186574, 0.8280567185016618, 0.8034953346246488, 0.8279722709113014, 0.6529694513990713, 0.8169521074180937, 0.8311542968951958, 0.8311157615959542, 0.7991878252409842, 0.8311775384829527, 0.8072628081674041, 0.8513113900441681, 0.8198329851053058, 0.8173794594457545, 0.8009065481877368, 0.8106916546790256, 0.8212699362119356, 0.825801250865576, 0.8409694202118186, 0.5170982666032171, 0.8230544677477506, 0.824179826061134, 0.8269939614337294, 0.8074116763466818, 0.38401617927277704, 0.8174215395477272, 0.8304676833820198, 0.8405490547326444, 0.8469276841884055]}, {\"categories\": [\"0\", \"1\", \"2\", \"3\", \"4\", \"5\", \"6\", \"7\", \"8\", \"9\", \"10\", \"11\", \"12\", \"13\", \"14\", \"15\", \"16\", \"17\", \"18\", \"19\", \"20\", \"21\", \"22\", \"23\", \"24\", \"25\", \"26\", \"27\", \"28\", \"29\", \"30\", \"31\", \"32\", \"33\", \"34\", \"35\", \"36\", \"37\", \"38\", \"41\"], \"mode\": \"lines\", \"name\": \"f1_score_weighted_max\", \"stepped\": true, \"type\": \"scatter\", \"data\": [0.7945019024504257, 0.8111482144352945, 0.8111482144352945, 0.8437408656496643, 0.8437408656496643, 0.8437408656496643, 0.8437408656496643, 0.8437408656496643, 0.8439444109818591, 0.8439444109818591, 0.8439444109818591, 0.8439444109818591, 0.8439444109818591, 0.8439444109818591, 0.8439444109818591, 0.8439444109818591, 0.8439444109818591, 0.8439444109818591, 0.8439444109818591, 0.8439444109818591, 0.8439444109818591, 0.8439444109818591, 0.8513113900441681, 0.8513113900441681, 0.8513113900441681, 0.8513113900441681, 0.8513113900441681, 0.8513113900441681, 0.8513113900441681, 0.8513113900441681, 0.8513113900441681, 0.8513113900441681, 0.8513113900441681, 0.8513113900441681, 0.8513113900441681, 0.8513113900441681, 0.8513113900441681, 0.8513113900441681, 0.8513113900441681, 0.8513113900441681]}], \"AUC_micro\": [{\"categories\": [\"0\", \"1\", \"2\", \"3\", \"4\", \"5\", \"6\", \"7\", \"8\", \"9\", \"10\", \"11\", \"12\", \"13\", \"14\", \"15\", \"16\", \"17\", \"18\", \"19\", \"20\", \"21\", \"22\", \"23\", \"24\", \"25\", \"26\", \"27\", \"28\", \"29\", \"30\", \"31\", \"32\", \"33\", \"34\", \"35\", \"36\", \"37\", \"38\", \"41\"], \"mode\": \"markers\", \"name\": \"AUC_micro\", \"stepped\": false, \"type\": \"scatter\", \"data\": [0.8777897591739371, 0.8842270365650426, 0.8987027415612848, 0.9159232754958664, 0.9014802470346045, 0.903408162598438, 0.9006796719275889, 0.9073620233310461, 0.9135052119073293, 0.7143417312028233, 0.9142567722118747, 0.9084403489853935, 0.9075254060059471, 0.8968401790674116, 0.8893572525569389, 0.7327059438617128, 0.9088651439401366, 0.9038983106231414, 0.9074273764010065, 0.8888997810672157, 0.9011534816848021, 0.8916772865405352, 0.9195830474136523, 0.8988988007711662, 0.9008267163349998, 0.8915139038656341, 0.9005326275201778, 0.9135378884423094, 0.9014475704996242, 0.9084403489853936, 0.6227167271182564, 0.8995196549357907, 0.9111525013887527, 0.908767114335196, 0.9000751560304545, 0.5741920726726139, 0.9154984805411234, 0.9176878083847989, 0.9100741757344051, 0.9227526713067347]}, {\"categories\": [\"0\", \"1\", \"2\", \"3\", \"4\", \"5\", \"6\", \"7\", \"8\", \"9\", \"10\", \"11\", \"12\", \"13\", \"14\", \"15\", \"16\", \"17\", \"18\", \"19\", \"20\", \"21\", \"22\", \"23\", \"24\", \"25\", \"26\", \"27\", \"28\", \"29\", \"30\", \"31\", \"32\", \"33\", \"34\", \"35\", \"36\", \"37\", \"38\", \"41\"], \"mode\": \"lines\", \"name\": \"AUC_micro_max\", \"stepped\": true, \"type\": \"scatter\", \"data\": [0.8777897591739371, 0.8842270365650426, 0.8987027415612848, 0.9159232754958664, 0.9159232754958664, 0.9159232754958664, 0.9159232754958664, 0.9159232754958664, 0.9159232754958664, 0.9159232754958664, 0.9159232754958664, 0.9159232754958664, 0.9159232754958664, 0.9159232754958664, 0.9159232754958664, 0.9159232754958664, 0.9159232754958664, 0.9159232754958664, 0.9159232754958664, 0.9159232754958664, 0.9159232754958664, 0.9159232754958664, 0.9195830474136523, 0.9195830474136523, 0.9195830474136523, 0.9195830474136523, 0.9195830474136523, 0.9195830474136523, 0.9195830474136523, 0.9195830474136523, 0.9195830474136523, 0.9195830474136523, 0.9195830474136523, 0.9195830474136523, 0.9195830474136523, 0.9195830474136523, 0.9195830474136523, 0.9195830474136523, 0.9195830474136523, 0.9227526713067347]}], \"log_loss\": [{\"categories\": [\"0\", \"1\", \"2\", \"3\", \"4\", \"5\", \"6\", \"7\", \"8\", \"9\", \"10\", \"11\", \"12\", \"13\", \"14\", \"15\", \"16\", \"17\", \"18\", \"19\", \"20\", \"21\", \"22\", \"23\", \"24\", \"25\", \"26\", \"27\", \"28\", \"29\", \"30\", \"31\", \"32\", \"33\", \"34\", \"35\", \"36\", \"37\", \"38\", \"41\"], \"mode\": \"markers\", \"name\": \"log_loss\", \"stepped\": false, \"type\": \"scatter\", \"data\": [0.5211729238826991, 0.45939310131447203, 0.41069950420360263, 0.42259969840384354, 0.4070809855061636, 0.42001607958121606, 0.4933268601824028, 0.4186745053022738, 0.4270700592864452, 1.3775220173814222, 0.4318349902828535, 0.42527151064446844, 0.4443711319019539, 0.4086334160204392, 0.44743987106737043, 0.8313730558461487, 0.46021311216879773, 0.5545904935565716, 0.481963762711848, 0.5142811566927395, 0.5035904776839298, 0.452418515793908, 0.41159023034397824, 0.4449598507121458, 0.4009820244983337, 0.42235422451700866, 0.43992856790146706, 0.38535391410405867, 0.49919610064865944, 0.49370405498840625, 0.6776993623179169, 0.46174329631328187, 0.4220021757253358, 0.39185580889999333, 0.4127810726385912, 0.6874681439815983, 0.3728641428745536, 0.3781902335673937, 0.3801365893703889, 0.45872283236951455]}, {\"categories\": [\"0\", \"1\", \"2\", \"3\", \"4\", \"5\", \"6\", \"7\", \"8\", \"9\", \"10\", \"11\", \"12\", \"13\", \"14\", \"15\", \"16\", \"17\", \"18\", \"19\", \"20\", \"21\", \"22\", \"23\", \"24\", \"25\", \"26\", \"27\", \"28\", \"29\", \"30\", \"31\", \"32\", \"33\", \"34\", \"35\", \"36\", \"37\", \"38\", \"41\"], \"mode\": \"lines\", \"name\": \"log_loss_min\", \"stepped\": true, \"type\": \"scatter\", \"data\": [0.5211729238826991, 0.45939310131447203, 0.41069950420360263, 0.41069950420360263, 0.4070809855061636, 0.4070809855061636, 0.4070809855061636, 0.4070809855061636, 0.4070809855061636, 0.4070809855061636, 0.4070809855061636, 0.4070809855061636, 0.4070809855061636, 0.4070809855061636, 0.4070809855061636, 0.4070809855061636, 0.4070809855061636, 0.4070809855061636, 0.4070809855061636, 0.4070809855061636, 0.4070809855061636, 0.4070809855061636, 0.4070809855061636, 0.4070809855061636, 0.4009820244983337, 0.4009820244983337, 0.4009820244983337, 0.38535391410405867, 0.38535391410405867, 0.38535391410405867, 0.38535391410405867, 0.38535391410405867, 0.38535391410405867, 0.38535391410405867, 0.38535391410405867, 0.38535391410405867, 0.3728641428745536, 0.3728641428745536, 0.3728641428745536, 0.3728641428745536]}], \"precision_score_weighted\": [{\"categories\": [\"0\", \"1\", \"2\", \"3\", \"4\", \"5\", \"6\", \"7\", \"8\", \"9\", \"10\", \"11\", \"12\", \"13\", \"14\", \"15\", \"16\", \"17\", \"18\", \"19\", \"20\", \"21\", \"22\", \"23\", \"24\", \"25\", \"26\", \"27\", \"28\", \"29\", \"30\", \"31\", \"32\", \"33\", \"34\", \"35\", \"36\", \"37\", \"38\", \"41\"], \"mode\": \"markers\", \"name\": \"precision_score_weighted\", \"stepped\": false, \"type\": \"scatter\", \"data\": [0.7958485955451747, 0.8123380782381747, 0.8099155027978898, 0.8472510552716453, 0.8190821205145586, 0.8190362408261205, 0.831912448230288, 0.8317084803081217, 0.8468549658205573, 0.679929633973917, 0.841835934178898, 0.8362498758151221, 0.8286992055009974, 0.8071444861006868, 0.8286953290726063, 0.655838698771522, 0.8207812688829366, 0.8346277521989304, 0.8316722195186533, 0.805773954165257, 0.8322233991420348, 0.8175134121530809, 0.8517494988842254, 0.8253280238866566, 0.819362750811422, 0.8058724995345717, 0.813021150281025, 0.8218386793749978, 0.8350105691018596, 0.8419752682286314, 0.6458742311478112, 0.8291439969136686, 0.8257463369221586, 0.8303625948731389, 0.809313042054216, 0.29660490801555406, 0.8190455944907993, 0.8330216897377353, 0.8432419713427667, 0.8505326860569458]}, {\"categories\": [\"0\", \"1\", \"2\", \"3\", \"4\", \"5\", \"6\", \"7\", \"8\", \"9\", \"10\", \"11\", \"12\", \"13\", \"14\", \"15\", \"16\", \"17\", \"18\", \"19\", \"20\", \"21\", \"22\", \"23\", \"24\", \"25\", \"26\", \"27\", \"28\", \"29\", \"30\", \"31\", \"32\", \"33\", \"34\", \"35\", \"36\", \"37\", \"38\", \"41\"], \"mode\": \"lines\", \"name\": \"precision_score_weighted_max\", \"stepped\": true, \"type\": \"scatter\", \"data\": [0.7958485955451747, 0.8123380782381747, 0.8123380782381747, 0.8472510552716453, 0.8472510552716453, 0.8472510552716453, 0.8472510552716453, 0.8472510552716453, 0.8472510552716453, 0.8472510552716453, 0.8472510552716453, 0.8472510552716453, 0.8472510552716453, 0.8472510552716453, 0.8472510552716453, 0.8472510552716453, 0.8472510552716453, 0.8472510552716453, 0.8472510552716453, 0.8472510552716453, 0.8472510552716453, 0.8472510552716453, 0.8517494988842254, 0.8517494988842254, 0.8517494988842254, 0.8517494988842254, 0.8517494988842254, 0.8517494988842254, 0.8517494988842254, 0.8517494988842254, 0.8517494988842254, 0.8517494988842254, 0.8517494988842254, 0.8517494988842254, 0.8517494988842254, 0.8517494988842254, 0.8517494988842254, 0.8517494988842254, 0.8517494988842254, 0.8517494988842254]}], \"average_precision_score_micro\": [{\"categories\": [\"0\", \"1\", \"2\", \"3\", \"4\", \"5\", \"6\", \"7\", \"8\", \"9\", \"10\", \"11\", \"12\", \"13\", \"14\", \"15\", \"16\", \"17\", \"18\", \"19\", \"20\", \"21\", \"22\", \"23\", \"24\", \"25\", \"26\", \"27\", \"28\", \"29\", \"30\", \"31\", \"32\", \"33\", \"34\", \"35\", \"36\", \"37\", \"38\", \"41\"], \"mode\": \"markers\", \"name\": \"average_precision_score_micro\", \"stepped\": false, \"type\": \"scatter\", \"data\": [0.8807585199089679, 0.885154798631198, 0.9013730436213266, 0.9159788133730616, 0.9020187194721933, 0.9028219994258664, 0.8965751167278277, 0.906480914430826, 0.9111808938903176, 0.6935618745634803, 0.912018546332613, 0.9052021852392645, 0.907893020816827, 0.8985002481876115, 0.8883792817910265, 0.7266140993527452, 0.9088308112881518, 0.9043053645578283, 0.9100427526193432, 0.8909999383333232, 0.8988760986362703, 0.8940801375019977, 0.9190272818116908, 0.8905940490870684, 0.9024551445629162, 0.8940723686234868, 0.8951223890534038, 0.9129839350997621, 0.9008772655778735, 0.9071310834411861, 0.6281256252160384, 0.9041830556590993, 0.9116373507217362, 0.9060314770631838, 0.901854565572222, 0.5578033871454111, 0.9162328289353027, 0.9178901144049566, 0.9095909836261393, 0.9222358786022634]}, {\"categories\": [\"0\", \"1\", \"2\", \"3\", \"4\", \"5\", \"6\", \"7\", \"8\", \"9\", \"10\", \"11\", \"12\", \"13\", \"14\", \"15\", \"16\", \"17\", \"18\", \"19\", \"20\", \"21\", \"22\", \"23\", \"24\", \"25\", \"26\", \"27\", \"28\", \"29\", \"30\", \"31\", \"32\", \"33\", \"34\", \"35\", \"36\", \"37\", \"38\", \"41\"], \"mode\": \"lines\", \"name\": \"average_precision_score_micro_max\", \"stepped\": true, \"type\": \"scatter\", \"data\": [0.8807585199089679, 0.885154798631198, 0.9013730436213266, 0.9159788133730616, 0.9159788133730616, 0.9159788133730616, 0.9159788133730616, 0.9159788133730616, 0.9159788133730616, 0.9159788133730616, 0.9159788133730616, 0.9159788133730616, 0.9159788133730616, 0.9159788133730616, 0.9159788133730616, 0.9159788133730616, 0.9159788133730616, 0.9159788133730616, 0.9159788133730616, 0.9159788133730616, 0.9159788133730616, 0.9159788133730616, 0.9190272818116908, 0.9190272818116908, 0.9190272818116908, 0.9190272818116908, 0.9190272818116908, 0.9190272818116908, 0.9190272818116908, 0.9190272818116908, 0.9190272818116908, 0.9190272818116908, 0.9190272818116908, 0.9190272818116908, 0.9190272818116908, 0.9190272818116908, 0.9190272818116908, 0.9190272818116908, 0.9190272818116908, 0.9222358786022634]}], \"recall_score_weighted\": [{\"categories\": [\"0\", \"1\", \"2\", \"3\", \"4\", \"5\", \"6\", \"7\", \"8\", \"9\", \"10\", \"11\", \"12\", \"13\", \"14\", \"15\", \"16\", \"17\", \"18\", \"19\", \"20\", \"21\", \"22\", \"23\", \"24\", \"25\", \"26\", \"27\", \"28\", \"29\", \"30\", \"31\", \"32\", \"33\", \"34\", \"35\", \"36\", \"37\", \"38\", \"41\"], \"mode\": \"markers\", \"name\": \"recall_score_weighted\", \"stepped\": false, \"type\": \"scatter\", \"data\": [0.7953795379537955, 0.811881188118812, 0.8085808580858086, 0.8448844884488449, 0.8184818481848186, 0.8184818481848186, 0.8283828382838284, 0.8316831683168316, 0.8448844884488449, 0.6798679867986799, 0.8415841584158416, 0.834983498349835, 0.8283828382838285, 0.8052805280528054, 0.8283828382838284, 0.6567656765676567, 0.8184818481848186, 0.8316831683168319, 0.8316831683168316, 0.8019801980198019, 0.8316831683168316, 0.8085808580858087, 0.8514851485148515, 0.8217821782178217, 0.8184818481848186, 0.8019801980198021, 0.8118811881188118, 0.8217821782178217, 0.8283828382838284, 0.8415841584158416, 0.5874587458745874, 0.8250825082508251, 0.8250825082508251, 0.8283828382838284, 0.8085808580858086, 0.5445544554455446, 0.8184818481848186, 0.8316831683168316, 0.8415841584158416, 0.8481848184818482]}, {\"categories\": [\"0\", \"1\", \"2\", \"3\", \"4\", \"5\", \"6\", \"7\", \"8\", \"9\", \"10\", \"11\", \"12\", \"13\", \"14\", \"15\", \"16\", \"17\", \"18\", \"19\", \"20\", \"21\", \"22\", \"23\", \"24\", \"25\", \"26\", \"27\", \"28\", \"29\", \"30\", \"31\", \"32\", \"33\", \"34\", \"35\", \"36\", \"37\", \"38\", \"41\"], \"mode\": \"lines\", \"name\": \"recall_score_weighted_max\", \"stepped\": true, \"type\": \"scatter\", \"data\": [0.7953795379537955, 0.811881188118812, 0.811881188118812, 0.8448844884488449, 0.8448844884488449, 0.8448844884488449, 0.8448844884488449, 0.8448844884488449, 0.8448844884488449, 0.8448844884488449, 0.8448844884488449, 0.8448844884488449, 0.8448844884488449, 0.8448844884488449, 0.8448844884488449, 0.8448844884488449, 0.8448844884488449, 0.8448844884488449, 0.8448844884488449, 0.8448844884488449, 0.8448844884488449, 0.8448844884488449, 0.8514851485148515, 0.8514851485148515, 0.8514851485148515, 0.8514851485148515, 0.8514851485148515, 0.8514851485148515, 0.8514851485148515, 0.8514851485148515, 0.8514851485148515, 0.8514851485148515, 0.8514851485148515, 0.8514851485148515, 0.8514851485148515, 0.8514851485148515, 0.8514851485148515, 0.8514851485148515, 0.8514851485148515, 0.8514851485148515]}], \"recall_score_macro\": [{\"categories\": [\"0\", \"1\", \"2\", \"3\", \"4\", \"5\", \"6\", \"7\", \"8\", \"9\", \"10\", \"11\", \"12\", \"13\", \"14\", \"15\", \"16\", \"17\", \"18\", \"19\", \"20\", \"21\", \"22\", \"23\", \"24\", \"25\", \"26\", \"27\", \"28\", \"29\", \"30\", \"31\", \"32\", \"33\", \"34\", \"35\", \"36\", \"37\", \"38\", \"41\"], \"mode\": \"markers\", \"name\": \"recall_score_macro\", \"stepped\": false, \"type\": \"scatter\", \"data\": [0.7908836299947924, 0.8074941799386758, 0.8029858738924419, 0.8389064740321293, 0.8134167319643731, 0.8136284489314091, 0.8211946769725061, 0.8281564618328418, 0.8397199329091096, 0.6748108739628936, 0.8376108781751705, 0.8306808114624951, 0.8260156889512423, 0.7987088351912588, 0.8250206627750569, 0.6481802129928865, 0.8118538011422686, 0.83034451529672, 0.82794605193233, 0.7937178730464268, 0.8288674151763883, 0.8081521220011815, 0.8496852973148069, 0.8142281866726826, 0.8133626194102606, 0.7982833970885158, 0.8064225318542309, 0.8182325434869374, 0.8194754488040026, 0.8380144409900808, 0.5544576604629025, 0.8179012735017978, 0.8201297663061462, 0.8220621334559045, 0.8034982439700293, 0.5, 0.8138520129269434, 0.8261679779602998, 0.8360128030225162, 0.8420016353719714]}, {\"categories\": [\"0\", \"1\", \"2\", \"3\", \"4\", \"5\", \"6\", \"7\", \"8\", \"9\", \"10\", \"11\", \"12\", \"13\", \"14\", \"15\", \"16\", \"17\", \"18\", \"19\", \"20\", \"21\", \"22\", \"23\", \"24\", \"25\", \"26\", \"27\", \"28\", \"29\", \"30\", \"31\", \"32\", \"33\", \"34\", \"35\", \"36\", \"37\", \"38\", \"41\"], \"mode\": \"lines\", \"name\": \"recall_score_macro_max\", \"stepped\": true, \"type\": \"scatter\", \"data\": [0.7908836299947924, 0.8074941799386758, 0.8074941799386758, 0.8389064740321293, 0.8389064740321293, 0.8389064740321293, 0.8389064740321293, 0.8389064740321293, 0.8397199329091096, 0.8397199329091096, 0.8397199329091096, 0.8397199329091096, 0.8397199329091096, 0.8397199329091096, 0.8397199329091096, 0.8397199329091096, 0.8397199329091096, 0.8397199329091096, 0.8397199329091096, 0.8397199329091096, 0.8397199329091096, 0.8397199329091096, 0.8496852973148069, 0.8496852973148069, 0.8496852973148069, 0.8496852973148069, 0.8496852973148069, 0.8496852973148069, 0.8496852973148069, 0.8496852973148069, 0.8496852973148069, 0.8496852973148069, 0.8496852973148069, 0.8496852973148069, 0.8496852973148069, 0.8496852973148069, 0.8496852973148069, 0.8496852973148069, 0.8496852973148069, 0.8496852973148069]}], \"balanced_accuracy\": [{\"categories\": [\"0\", \"1\", \"2\", \"3\", \"4\", \"5\", \"6\", \"7\", \"8\", \"9\", \"10\", \"11\", \"12\", \"13\", \"14\", \"15\", \"16\", \"17\", \"18\", \"19\", \"20\", \"21\", \"22\", \"23\", \"24\", \"25\", \"26\", \"27\", \"28\", \"29\", \"30\", \"31\", \"32\", \"33\", \"34\", \"35\", \"36\", \"37\", \"38\", \"41\"], \"mode\": \"markers\", \"name\": \"balanced_accuracy\", \"stepped\": false, \"type\": \"scatter\", \"data\": [0.7908836299947924, 0.8074941799386758, 0.8029858738924419, 0.8389064740321293, 0.8134167319643731, 0.8136284489314091, 0.8211946769725061, 0.8281564618328418, 0.8397199329091096, 0.6748108739628936, 0.8376108781751705, 0.8306808114624951, 0.8260156889512423, 0.7987088351912588, 0.8250206627750569, 0.6481802129928865, 0.8118538011422686, 0.83034451529672, 0.82794605193233, 0.7937178730464268, 0.8288674151763883, 0.8081521220011815, 0.8496852973148069, 0.8142281866726826, 0.8133626194102606, 0.7982833970885158, 0.8064225318542309, 0.8182325434869374, 0.8194754488040026, 0.8380144409900808, 0.5544576604629025, 0.8179012735017978, 0.8201297663061462, 0.8220621334559045, 0.8034982439700293, 0.5, 0.8138520129269434, 0.8261679779602998, 0.8360128030225162, 0.8420016353719714]}, {\"categories\": [\"0\", \"1\", \"2\", \"3\", \"4\", \"5\", \"6\", \"7\", \"8\", \"9\", \"10\", \"11\", \"12\", \"13\", \"14\", \"15\", \"16\", \"17\", \"18\", \"19\", \"20\", \"21\", \"22\", \"23\", \"24\", \"25\", \"26\", \"27\", \"28\", \"29\", \"30\", \"31\", \"32\", \"33\", \"34\", \"35\", \"36\", \"37\", \"38\", \"41\"], \"mode\": \"lines\", \"name\": \"balanced_accuracy_max\", \"stepped\": true, \"type\": \"scatter\", \"data\": [0.7908836299947924, 0.8074941799386758, 0.8074941799386758, 0.8389064740321293, 0.8389064740321293, 0.8389064740321293, 0.8389064740321293, 0.8389064740321293, 0.8397199329091096, 0.8397199329091096, 0.8397199329091096, 0.8397199329091096, 0.8397199329091096, 0.8397199329091096, 0.8397199329091096, 0.8397199329091096, 0.8397199329091096, 0.8397199329091096, 0.8397199329091096, 0.8397199329091096, 0.8397199329091096, 0.8397199329091096, 0.8496852973148069, 0.8496852973148069, 0.8496852973148069, 0.8496852973148069, 0.8496852973148069, 0.8496852973148069, 0.8496852973148069, 0.8496852973148069, 0.8496852973148069, 0.8496852973148069, 0.8496852973148069, 0.8496852973148069, 0.8496852973148069, 0.8496852973148069, 0.8496852973148069, 0.8496852973148069, 0.8496852973148069, 0.8496852973148069]}], \"matthews_correlation\": [{\"categories\": [\"0\", \"1\", \"2\", \"3\", \"4\", \"5\", \"6\", \"7\", \"8\", \"9\", \"10\", \"11\", \"12\", \"13\", \"14\", \"15\", \"16\", \"17\", \"18\", \"19\", \"20\", \"21\", \"22\", \"23\", \"24\", \"25\", \"26\", \"27\", \"28\", \"29\", \"30\", \"31\", \"32\", \"33\", \"34\", \"35\", \"36\", \"37\", \"38\", \"41\"], \"mode\": \"markers\", \"name\": \"matthews_correlation\", \"stepped\": false, \"type\": \"scatter\", \"data\": [0.586605136774647, 0.6199953269100514, 0.6136091494367774, 0.6880091112868159, 0.6331072505487972, 0.6332508737790576, 0.655322600894621, 0.6598963579653093, 0.6879145830811727, 0.35312111677961067, 0.6796440677925718, 0.6673767928595707, 0.653781795201577, 0.6070093802856532, 0.6535544419520728, 0.3026622289998566, 0.6343342704988436, 0.6633579412300382, 0.6595679406816202, 0.6013406814802503, 0.6603668900045024, 0.6236542501783892, 0.7005347784852796, 0.6415761580738912, 0.6333663298748099, 0.6041401885183803, 0.6200091179815338, 0.6398386510335063, 0.6575983280129453, 0.6799367724300356, 0.1786463194532358, 0.6489339094725979, 0.6465814220789513, 0.6539674228017752, 0.6131033321418513, 0.0, 0.6330548129261893, 0.6602442483060743, 0.6807478022411674, 0.6943820577562994]}, {\"categories\": [\"0\", \"1\", \"2\", \"3\", \"4\", \"5\", \"6\", \"7\", \"8\", \"9\", \"10\", \"11\", \"12\", \"13\", \"14\", \"15\", \"16\", \"17\", \"18\", \"19\", \"20\", \"21\", \"22\", \"23\", \"24\", \"25\", \"26\", \"27\", \"28\", \"29\", \"30\", \"31\", \"32\", \"33\", \"34\", \"35\", \"36\", \"37\", \"38\", \"41\"], \"mode\": \"lines\", \"name\": \"matthews_correlation_max\", \"stepped\": true, \"type\": \"scatter\", \"data\": [0.586605136774647, 0.6199953269100514, 0.6199953269100514, 0.6880091112868159, 0.6880091112868159, 0.6880091112868159, 0.6880091112868159, 0.6880091112868159, 0.6880091112868159, 0.6880091112868159, 0.6880091112868159, 0.6880091112868159, 0.6880091112868159, 0.6880091112868159, 0.6880091112868159, 0.6880091112868159, 0.6880091112868159, 0.6880091112868159, 0.6880091112868159, 0.6880091112868159, 0.6880091112868159, 0.6880091112868159, 0.7005347784852796, 0.7005347784852796, 0.7005347784852796, 0.7005347784852796, 0.7005347784852796, 0.7005347784852796, 0.7005347784852796, 0.7005347784852796, 0.7005347784852796, 0.7005347784852796, 0.7005347784852796, 0.7005347784852796, 0.7005347784852796, 0.7005347784852796, 0.7005347784852796, 0.7005347784852796, 0.7005347784852796, 0.7005347784852796]}], \"AUC_macro\": [{\"categories\": [\"0\", \"1\", \"2\", \"3\", \"4\", \"5\", \"6\", \"7\", \"8\", \"9\", \"10\", \"11\", \"12\", \"13\", \"14\", \"15\", \"16\", \"17\", \"18\", \"19\", \"20\", \"21\", \"22\", \"23\", \"24\", \"25\", \"26\", \"27\", \"28\", \"29\", \"30\", \"31\", \"32\", \"33\", \"34\", \"35\", \"36\", \"37\", \"38\", \"41\"], \"mode\": \"markers\", \"name\": \"AUC_macro\", \"stepped\": false, \"type\": \"scatter\", \"data\": [0.8750091661516269, 0.8843791422884855, 0.8951512541090093, 0.9161234868990032, 0.8970046447767693, 0.9005382351628112, 0.8991330811751718, 0.9042518280762191, 0.912567420530726, 0.7100481564095502, 0.9148329543025812, 0.9079696722003229, 0.9038962262597785, 0.893984924350327, 0.8899109852470938, 0.7269595022216052, 0.9099462015126524, 0.9043908016926826, 0.9054310227066934, 0.8857950976514036, 0.899511798602147, 0.8967072621135217, 0.9173078745696692, 0.8938463511967983, 0.8970274674560829, 0.8900368807823327, 0.8955190366730608, 0.9102311420149842, 0.9059605681946108, 0.9076909129175549, 0.6364541372789908, 0.9029466767286687, 0.9072907799935243, 0.9046569945968651, 0.8983253826608744, 0.5597496706192359, 0.9129082515684427, 0.9137792732843613, 0.9066500430052696, 0.9245709187969441]}, {\"categories\": [\"0\", \"1\", \"2\", \"3\", \"4\", \"5\", \"6\", \"7\", \"8\", \"9\", \"10\", \"11\", \"12\", \"13\", \"14\", \"15\", \"16\", \"17\", \"18\", \"19\", \"20\", \"21\", \"22\", \"23\", \"24\", \"25\", \"26\", \"27\", \"28\", \"29\", \"30\", \"31\", \"32\", \"33\", \"34\", \"35\", \"36\", \"37\", \"38\", \"41\"], \"mode\": \"lines\", \"name\": \"AUC_macro_max\", \"stepped\": true, \"type\": \"scatter\", \"data\": [0.8750091661516269, 0.8843791422884855, 0.8951512541090093, 0.9161234868990032, 0.9161234868990032, 0.9161234868990032, 0.9161234868990032, 0.9161234868990032, 0.9161234868990032, 0.9161234868990032, 0.9161234868990032, 0.9161234868990032, 0.9161234868990032, 0.9161234868990032, 0.9161234868990032, 0.9161234868990032, 0.9161234868990032, 0.9161234868990032, 0.9161234868990032, 0.9161234868990032, 0.9161234868990032, 0.9161234868990032, 0.9173078745696692, 0.9173078745696692, 0.9173078745696692, 0.9173078745696692, 0.9173078745696692, 0.9173078745696692, 0.9173078745696692, 0.9173078745696692, 0.9173078745696692, 0.9173078745696692, 0.9173078745696692, 0.9173078745696692, 0.9173078745696692, 0.9173078745696692, 0.9173078745696692, 0.9173078745696692, 0.9173078745696692, 0.9245709187969441]}], \"precision_score_macro\": [{\"categories\": [\"0\", \"1\", \"2\", \"3\", \"4\", \"5\", \"6\", \"7\", \"8\", \"9\", \"10\", \"11\", \"12\", \"13\", \"14\", \"15\", \"16\", \"17\", \"18\", \"19\", \"20\", \"21\", \"22\", \"23\", \"24\", \"25\", \"26\", \"27\", \"28\", \"29\", \"30\", \"31\", \"32\", \"33\", \"34\", \"35\", \"36\", \"37\", \"38\", \"41\"], \"mode\": \"markers\", \"name\": \"precision_score_macro\", \"stepped\": false, \"type\": \"scatter\", \"data\": [0.7957564244493724, 0.8125298837877697, 0.8106980005691146, 0.8491930590987063, 0.8197377779300199, 0.8196530087165627, 0.8343115202153166, 0.8317511592712306, 0.8482666628835084, 0.6783400766352381, 0.842060239396305, 0.8367663578376091, 0.82778101889476, 0.8084374116153777, 0.8285494136178403, 0.6545668491831013, 0.8225751725217303, 0.8330387939386893, 0.8316380583194224, 0.8078930348316341, 0.8315249585970491, 0.8155650967126377, 0.8508577074370853, 0.8274878909477702, 0.8200706944127997, 0.8059369550882322, 0.8136380269795325, 0.8216227290797798, 0.8384486041265702, 0.8419499543927728, 0.6534917421759527, 0.8312483753786478, 0.8264910079372431, 0.8319847187681138, 0.8096696544947711, 0.2722772277227723, 0.8192624595084549, 0.8341506768468318, 0.8447948393484093, 0.8524634683497982]}, {\"categories\": [\"0\", \"1\", \"2\", \"3\", \"4\", \"5\", \"6\", \"7\", \"8\", \"9\", \"10\", \"11\", \"12\", \"13\", \"14\", \"15\", \"16\", \"17\", \"18\", \"19\", \"20\", \"21\", \"22\", \"23\", \"24\", \"25\", \"26\", \"27\", \"28\", \"29\", \"30\", \"31\", \"32\", \"33\", \"34\", \"35\", \"36\", \"37\", \"38\", \"41\"], \"mode\": \"lines\", \"name\": \"precision_score_macro_max\", \"stepped\": true, \"type\": \"scatter\", \"data\": [0.7957564244493724, 0.8125298837877697, 0.8125298837877697, 0.8491930590987063, 0.8491930590987063, 0.8491930590987063, 0.8491930590987063, 0.8491930590987063, 0.8491930590987063, 0.8491930590987063, 0.8491930590987063, 0.8491930590987063, 0.8491930590987063, 0.8491930590987063, 0.8491930590987063, 0.8491930590987063, 0.8491930590987063, 0.8491930590987063, 0.8491930590987063, 0.8491930590987063, 0.8491930590987063, 0.8491930590987063, 0.8508577074370853, 0.8508577074370853, 0.8508577074370853, 0.8508577074370853, 0.8508577074370853, 0.8508577074370853, 0.8508577074370853, 0.8508577074370853, 0.8508577074370853, 0.8508577074370853, 0.8508577074370853, 0.8508577074370853, 0.8508577074370853, 0.8508577074370853, 0.8508577074370853, 0.8508577074370853, 0.8508577074370853, 0.8524634683497982]}], \"average_precision_score_weighted\": [{\"categories\": [\"0\", \"1\", \"2\", \"3\", \"4\", \"5\", \"6\", \"7\", \"8\", \"9\", \"10\", \"11\", \"12\", \"13\", \"14\", \"15\", \"16\", \"17\", \"18\", \"19\", \"20\", \"21\", \"22\", \"23\", \"24\", \"25\", \"26\", \"27\", \"28\", \"29\", \"30\", \"31\", \"32\", \"33\", \"34\", \"35\", \"36\", \"37\", \"38\", \"41\"], \"mode\": \"markers\", \"name\": \"average_precision_score_weighted\", \"stepped\": false, \"type\": \"scatter\", \"data\": [0.8819977176509961, 0.8895882546358006, 0.902036441677393, 0.9184601615855684, 0.9015665752693883, 0.9038171699997601, 0.8970230945206866, 0.9064663222289422, 0.9127598971276969, 0.6936341929646267, 0.9164061769202375, 0.9090331789898766, 0.9068476194632084, 0.8984692645249431, 0.8934506595809992, 0.7342143318576452, 0.9121989151433, 0.9071349030516194, 0.9096086027696688, 0.8916941194384985, 0.9011185253611752, 0.9015553560911832, 0.9195394394269928, 0.8914461288841933, 0.9014450709694947, 0.8948419868444056, 0.8956045375992919, 0.911619770311948, 0.9070680830181296, 0.9094081554489702, 0.6563078013440803, 0.9081465564159084, 0.910934937327148, 0.9069223611837297, 0.9028622375650754, 0.5479133304314961, 0.9165692779850417, 0.9167672691610479, 0.9080645360025795, 0.9273000554605774]}, {\"categories\": [\"0\", \"1\", \"2\", \"3\", \"4\", \"5\", \"6\", \"7\", \"8\", \"9\", \"10\", \"11\", \"12\", \"13\", \"14\", \"15\", \"16\", \"17\", \"18\", \"19\", \"20\", \"21\", \"22\", \"23\", \"24\", \"25\", \"26\", \"27\", \"28\", \"29\", \"30\", \"31\", \"32\", \"33\", \"34\", \"35\", \"36\", \"37\", \"38\", \"41\"], \"mode\": \"lines\", \"name\": \"average_precision_score_weighted_max\", \"stepped\": true, \"type\": \"scatter\", \"data\": [0.8819977176509961, 0.8895882546358006, 0.902036441677393, 0.9184601615855684, 0.9184601615855684, 0.9184601615855684, 0.9184601615855684, 0.9184601615855684, 0.9184601615855684, 0.9184601615855684, 0.9184601615855684, 0.9184601615855684, 0.9184601615855684, 0.9184601615855684, 0.9184601615855684, 0.9184601615855684, 0.9184601615855684, 0.9184601615855684, 0.9184601615855684, 0.9184601615855684, 0.9184601615855684, 0.9184601615855684, 0.9195394394269928, 0.9195394394269928, 0.9195394394269928, 0.9195394394269928, 0.9195394394269928, 0.9195394394269928, 0.9195394394269928, 0.9195394394269928, 0.9195394394269928, 0.9195394394269928, 0.9195394394269928, 0.9195394394269928, 0.9195394394269928, 0.9195394394269928, 0.9195394394269928, 0.9195394394269928, 0.9195394394269928, 0.9273000554605774]}], \"recall_score_micro\": [{\"categories\": [\"0\", \"1\", \"2\", \"3\", \"4\", \"5\", \"6\", \"7\", \"8\", \"9\", \"10\", \"11\", \"12\", \"13\", \"14\", \"15\", \"16\", \"17\", \"18\", \"19\", \"20\", \"21\", \"22\", \"23\", \"24\", \"25\", \"26\", \"27\", \"28\", \"29\", \"30\", \"31\", \"32\", \"33\", \"34\", \"35\", \"36\", \"37\", \"38\", \"41\"], \"mode\": \"markers\", \"name\": \"recall_score_micro\", \"stepped\": false, \"type\": \"scatter\", \"data\": [0.7953795379537955, 0.811881188118812, 0.8085808580858086, 0.8448844884488449, 0.8184818481848186, 0.8184818481848186, 0.8283828382838284, 0.8316831683168316, 0.8448844884488449, 0.6798679867986799, 0.8415841584158416, 0.834983498349835, 0.8283828382838285, 0.8052805280528054, 0.8283828382838284, 0.6567656765676567, 0.8184818481848186, 0.8316831683168319, 0.8316831683168316, 0.8019801980198019, 0.8316831683168316, 0.8085808580858087, 0.8514851485148515, 0.8217821782178217, 0.8184818481848186, 0.8019801980198021, 0.8118811881188118, 0.8217821782178217, 0.8283828382838284, 0.8415841584158416, 0.5874587458745874, 0.8250825082508251, 0.8250825082508251, 0.8283828382838284, 0.8085808580858086, 0.5445544554455446, 0.8184818481848186, 0.8316831683168316, 0.8415841584158416, 0.8481848184818482]}, {\"categories\": [\"0\", \"1\", \"2\", \"3\", \"4\", \"5\", \"6\", \"7\", \"8\", \"9\", \"10\", \"11\", \"12\", \"13\", \"14\", \"15\", \"16\", \"17\", \"18\", \"19\", \"20\", \"21\", \"22\", \"23\", \"24\", \"25\", \"26\", \"27\", \"28\", \"29\", \"30\", \"31\", \"32\", \"33\", \"34\", \"35\", \"36\", \"37\", \"38\", \"41\"], \"mode\": \"lines\", \"name\": \"recall_score_micro_max\", \"stepped\": true, \"type\": \"scatter\", \"data\": [0.7953795379537955, 0.811881188118812, 0.811881188118812, 0.8448844884488449, 0.8448844884488449, 0.8448844884488449, 0.8448844884488449, 0.8448844884488449, 0.8448844884488449, 0.8448844884488449, 0.8448844884488449, 0.8448844884488449, 0.8448844884488449, 0.8448844884488449, 0.8448844884488449, 0.8448844884488449, 0.8448844884488449, 0.8448844884488449, 0.8448844884488449, 0.8448844884488449, 0.8448844884488449, 0.8448844884488449, 0.8514851485148515, 0.8514851485148515, 0.8514851485148515, 0.8514851485148515, 0.8514851485148515, 0.8514851485148515, 0.8514851485148515, 0.8514851485148515, 0.8514851485148515, 0.8514851485148515, 0.8514851485148515, 0.8514851485148515, 0.8514851485148515, 0.8514851485148515, 0.8514851485148515, 0.8514851485148515, 0.8514851485148515, 0.8514851485148515]}], \"norm_macro_recall\": [{\"categories\": [\"0\", \"1\", \"2\", \"3\", \"4\", \"5\", \"6\", \"7\", \"8\", \"9\", \"10\", \"11\", \"12\", \"13\", \"14\", \"15\", \"16\", \"17\", \"18\", \"19\", \"20\", \"21\", \"22\", \"23\", \"24\", \"25\", \"26\", \"27\", \"28\", \"29\", \"30\", \"31\", \"32\", \"33\", \"34\", \"35\", \"36\", \"37\", \"38\", \"41\"], \"mode\": \"markers\", \"name\": \"norm_macro_recall\", \"stepped\": false, \"type\": \"scatter\", \"data\": [0.581767259989585, 0.6149883598773516, 0.6059717477848837, 0.6778129480642585, 0.626833463928746, 0.6272568978628184, 0.6423893539450123, 0.6563129236656834, 0.6794398658182192, 0.3496217479257873, 0.675221756350341, 0.6613616229249901, 0.6520313779024848, 0.5974176703825177, 0.6500413255501137, 0.2963604259857729, 0.6237076022845373, 0.6606890305934401, 0.65589210386466, 0.5874357460928538, 0.6577348303527767, 0.616304244002363, 0.699370594629614, 0.6284563733453651, 0.6267252388205209, 0.5965667941770317, 0.6128450637084618, 0.636465086973875, 0.6389508976080052, 0.6760288819801618, 0.10891532092580498, 0.6358025470035954, 0.6402595326122925, 0.6441242669118092, 0.6069964879400587, 0.0, 0.6277040258538871, 0.6523359559205997, 0.6720256060450325, 0.6840032707439428]}, {\"categories\": [\"0\", \"1\", \"2\", \"3\", \"4\", \"5\", \"6\", \"7\", \"8\", \"9\", \"10\", \"11\", \"12\", \"13\", \"14\", \"15\", \"16\", \"17\", \"18\", \"19\", \"20\", \"21\", \"22\", \"23\", \"24\", \"25\", \"26\", \"27\", \"28\", \"29\", \"30\", \"31\", \"32\", \"33\", \"34\", \"35\", \"36\", \"37\", \"38\", \"41\"], \"mode\": \"lines\", \"name\": \"norm_macro_recall_max\", \"stepped\": true, \"type\": \"scatter\", \"data\": [0.581767259989585, 0.6149883598773516, 0.6149883598773516, 0.6778129480642585, 0.6778129480642585, 0.6778129480642585, 0.6778129480642585, 0.6778129480642585, 0.6794398658182192, 0.6794398658182192, 0.6794398658182192, 0.6794398658182192, 0.6794398658182192, 0.6794398658182192, 0.6794398658182192, 0.6794398658182192, 0.6794398658182192, 0.6794398658182192, 0.6794398658182192, 0.6794398658182192, 0.6794398658182192, 0.6794398658182192, 0.699370594629614, 0.699370594629614, 0.699370594629614, 0.699370594629614, 0.699370594629614, 0.699370594629614, 0.699370594629614, 0.699370594629614, 0.699370594629614, 0.699370594629614, 0.699370594629614, 0.699370594629614, 0.699370594629614, 0.699370594629614, 0.699370594629614, 0.699370594629614, 0.699370594629614, 0.699370594629614]}], \"f1_score_micro\": [{\"categories\": [\"0\", \"1\", \"2\", \"3\", \"4\", \"5\", \"6\", \"7\", \"8\", \"9\", \"10\", \"11\", \"12\", \"13\", \"14\", \"15\", \"16\", \"17\", \"18\", \"19\", \"20\", \"21\", \"22\", \"23\", \"24\", \"25\", \"26\", \"27\", \"28\", \"29\", \"30\", \"31\", \"32\", \"33\", \"34\", \"35\", \"36\", \"37\", \"38\", \"41\"], \"mode\": \"markers\", \"name\": \"f1_score_micro\", \"stepped\": false, \"type\": \"scatter\", \"data\": [0.7953795379537955, 0.811881188118812, 0.8085808580858086, 0.8448844884488449, 0.8184818481848186, 0.8184818481848186, 0.8283828382838284, 0.8316831683168316, 0.8448844884488449, 0.6798679867986799, 0.8415841584158416, 0.834983498349835, 0.8283828382838285, 0.8052805280528054, 0.8283828382838284, 0.6567656765676567, 0.8184818481848186, 0.8316831683168319, 0.8316831683168316, 0.8019801980198019, 0.8316831683168316, 0.8085808580858087, 0.8514851485148515, 0.8217821782178217, 0.8184818481848186, 0.8019801980198021, 0.8118811881188118, 0.8217821782178217, 0.8283828382838284, 0.8415841584158416, 0.5874587458745874, 0.8250825082508251, 0.8250825082508251, 0.8283828382838284, 0.8085808580858086, 0.5445544554455446, 0.8184818481848186, 0.8316831683168316, 0.8415841584158416, 0.8481848184818482]}, {\"categories\": [\"0\", \"1\", \"2\", \"3\", \"4\", \"5\", \"6\", \"7\", \"8\", \"9\", \"10\", \"11\", \"12\", \"13\", \"14\", \"15\", \"16\", \"17\", \"18\", \"19\", \"20\", \"21\", \"22\", \"23\", \"24\", \"25\", \"26\", \"27\", \"28\", \"29\", \"30\", \"31\", \"32\", \"33\", \"34\", \"35\", \"36\", \"37\", \"38\", \"41\"], \"mode\": \"lines\", \"name\": \"f1_score_micro_max\", \"stepped\": true, \"type\": \"scatter\", \"data\": [0.7953795379537955, 0.811881188118812, 0.811881188118812, 0.8448844884488449, 0.8448844884488449, 0.8448844884488449, 0.8448844884488449, 0.8448844884488449, 0.8448844884488449, 0.8448844884488449, 0.8448844884488449, 0.8448844884488449, 0.8448844884488449, 0.8448844884488449, 0.8448844884488449, 0.8448844884488449, 0.8448844884488449, 0.8448844884488449, 0.8448844884488449, 0.8448844884488449, 0.8448844884488449, 0.8448844884488449, 0.8514851485148515, 0.8514851485148515, 0.8514851485148515, 0.8514851485148515, 0.8514851485148515, 0.8514851485148515, 0.8514851485148515, 0.8514851485148515, 0.8514851485148515, 0.8514851485148515, 0.8514851485148515, 0.8514851485148515, 0.8514851485148515, 0.8514851485148515, 0.8514851485148515, 0.8514851485148515, 0.8514851485148515, 0.8514851485148515]}], \"accuracy\": [{\"categories\": [\"0\", \"1\", \"2\", \"3\", \"4\", \"5\", \"6\", \"7\", \"8\", \"9\", \"10\", \"11\", \"12\", \"13\", \"14\", \"15\", \"16\", \"17\", \"18\", \"19\", \"20\", \"21\", \"22\", \"23\", \"24\", \"25\", \"26\", \"27\", \"28\", \"29\", \"30\", \"31\", \"32\", \"33\", \"34\", \"35\", \"36\", \"37\", \"38\", \"41\"], \"mode\": \"markers\", \"name\": \"accuracy\", \"stepped\": false, \"type\": \"scatter\", \"data\": [0.7953795379537955, 0.811881188118812, 0.8085808580858086, 0.8448844884488449, 0.8184818481848186, 0.8184818481848186, 0.8283828382838284, 0.8316831683168316, 0.8448844884488449, 0.6798679867986799, 0.8415841584158416, 0.834983498349835, 0.8283828382838285, 0.8052805280528054, 0.8283828382838284, 0.6567656765676567, 0.8184818481848186, 0.8316831683168319, 0.8316831683168316, 0.8019801980198019, 0.8316831683168316, 0.8085808580858087, 0.8514851485148515, 0.8217821782178217, 0.8184818481848186, 0.8019801980198021, 0.8118811881188118, 0.8217821782178217, 0.8283828382838284, 0.8415841584158416, 0.5874587458745874, 0.8250825082508251, 0.8250825082508251, 0.8283828382838284, 0.8085808580858086, 0.5445544554455446, 0.8184818481848186, 0.8316831683168316, 0.8415841584158416, 0.8481848184818482]}, {\"categories\": [\"0\", \"1\", \"2\", \"3\", \"4\", \"5\", \"6\", \"7\", \"8\", \"9\", \"10\", \"11\", \"12\", \"13\", \"14\", \"15\", \"16\", \"17\", \"18\", \"19\", \"20\", \"21\", \"22\", \"23\", \"24\", \"25\", \"26\", \"27\", \"28\", \"29\", \"30\", \"31\", \"32\", \"33\", \"34\", \"35\", \"36\", \"37\", \"38\", \"41\"], \"mode\": \"lines\", \"name\": \"accuracy_max\", \"stepped\": true, \"type\": \"scatter\", \"data\": [0.7953795379537955, 0.811881188118812, 0.811881188118812, 0.8448844884488449, 0.8448844884488449, 0.8448844884488449, 0.8448844884488449, 0.8448844884488449, 0.8448844884488449, 0.8448844884488449, 0.8448844884488449, 0.8448844884488449, 0.8448844884488449, 0.8448844884488449, 0.8448844884488449, 0.8448844884488449, 0.8448844884488449, 0.8448844884488449, 0.8448844884488449, 0.8448844884488449, 0.8448844884488449, 0.8448844884488449, 0.8514851485148515, 0.8514851485148515, 0.8514851485148515, 0.8514851485148515, 0.8514851485148515, 0.8514851485148515, 0.8514851485148515, 0.8514851485148515, 0.8514851485148515, 0.8514851485148515, 0.8514851485148515, 0.8514851485148515, 0.8514851485148515, 0.8514851485148515, 0.8514851485148515, 0.8514851485148515, 0.8514851485148515, 0.8514851485148515]}], \"weighted_accuracy\": [{\"categories\": [\"0\", \"1\", \"2\", \"3\", \"4\", \"5\", \"6\", \"7\", \"8\", \"9\", \"10\", \"11\", \"12\", \"13\", \"14\", \"15\", \"16\", \"17\", \"18\", \"19\", \"20\", \"21\", \"22\", \"23\", \"24\", \"25\", \"26\", \"27\", \"28\", \"29\", \"30\", \"31\", \"32\", \"33\", \"34\", \"35\", \"36\", \"37\", \"38\", \"41\"], \"mode\": \"markers\", \"name\": \"weighted_accuracy\", \"stepped\": false, \"type\": \"scatter\", \"data\": [0.7997842664263052, 0.8161875862158025, 0.8140659814125003, 0.8507513890509824, 0.8234484969143718, 0.8232472322894918, 0.8354327325247081, 0.8351453629994171, 0.8499598545016557, 0.6848270729241482, 0.8454786834157249, 0.8391932797645912, 0.8306958617869965, 0.8117213204513852, 0.831682129877747, 0.6652044956348991, 0.824991584641034, 0.8329722557332805, 0.8353466150611838, 0.8100785847119999, 0.8344329060448993, 0.8089655010484663, 0.8532433256557602, 0.8292012055785533, 0.823499264455905, 0.8055858863088243, 0.8172423600205403, 0.8252603813594437, 0.8371263047716037, 0.8450773063150058, 0.6198657639231279, 0.8321199964863851, 0.8299414575746861, 0.8345890709382799, 0.8135585823856667, 0.5883389046338355, 0.8230154499401426, 0.8370927603908643, 0.8470552339940354, 0.8542554988104948]}, {\"categories\": [\"0\", \"1\", \"2\", \"3\", \"4\", \"5\", \"6\", \"7\", \"8\", \"9\", \"10\", \"11\", \"12\", \"13\", \"14\", \"15\", \"16\", \"17\", \"18\", \"19\", \"20\", \"21\", \"22\", \"23\", \"24\", \"25\", \"26\", \"27\", \"28\", \"29\", \"30\", \"31\", \"32\", \"33\", \"34\", \"35\", \"36\", \"37\", \"38\", \"41\"], \"mode\": \"lines\", \"name\": \"weighted_accuracy_max\", \"stepped\": true, \"type\": \"scatter\", \"data\": [0.7997842664263052, 0.8161875862158025, 0.8161875862158025, 0.8507513890509824, 0.8507513890509824, 0.8507513890509824, 0.8507513890509824, 0.8507513890509824, 0.8507513890509824, 0.8507513890509824, 0.8507513890509824, 0.8507513890509824, 0.8507513890509824, 0.8507513890509824, 0.8507513890509824, 0.8507513890509824, 0.8507513890509824, 0.8507513890509824, 0.8507513890509824, 0.8507513890509824, 0.8507513890509824, 0.8507513890509824, 0.8532433256557602, 0.8532433256557602, 0.8532433256557602, 0.8532433256557602, 0.8532433256557602, 0.8532433256557602, 0.8532433256557602, 0.8532433256557602, 0.8532433256557602, 0.8532433256557602, 0.8532433256557602, 0.8532433256557602, 0.8532433256557602, 0.8532433256557602, 0.8532433256557602, 0.8532433256557602, 0.8532433256557602, 0.8542554988104948]}], \"average_precision_score_macro\": [{\"categories\": [\"0\", \"1\", \"2\", \"3\", \"4\", \"5\", \"6\", \"7\", \"8\", \"9\", \"10\", \"11\", \"12\", \"13\", \"14\", \"15\", \"16\", \"17\", \"18\", \"19\", \"20\", \"21\", \"22\", \"23\", \"24\", \"25\", \"26\", \"27\", \"28\", \"29\", \"30\", \"31\", \"32\", \"33\", \"34\", \"35\", \"36\", \"37\", \"38\", \"41\"], \"mode\": \"markers\", \"name\": \"average_precision_score_macro\", \"stepped\": false, \"type\": \"scatter\", \"data\": [0.8812698714605025, 0.8887789045686253, 0.9015789799160467, 0.9174955557697363, 0.9009308852974408, 0.9031360316764664, 0.896330835127498, 0.9058917628013092, 0.9122792640770321, 0.6899364327124579, 0.9158754282065914, 0.9083216426363697, 0.9064596098855701, 0.8977674807382616, 0.8923505032950553, 0.732698114680208, 0.9112344660208999, 0.9069543539270963, 0.9086984286167755, 0.8910187320032391, 0.9004275648139933, 0.9008912746021197, 0.9187519430086067, 0.8917123168208851, 0.9008368143892692, 0.8945994498814344, 0.8956947911923264, 0.9110769112638719, 0.905924597118656, 0.9086273044112297, 0.6534643470004203, 0.9068124113165995, 0.9103678354827979, 0.9066072845064239, 0.9021524625021646, 0.5435044261537813, 0.9160269977750911, 0.9160621155613695, 0.9076383297041507, 0.926570537683543]}, {\"categories\": [\"0\", \"1\", \"2\", \"3\", \"4\", \"5\", \"6\", \"7\", \"8\", \"9\", \"10\", \"11\", \"12\", \"13\", \"14\", \"15\", \"16\", \"17\", \"18\", \"19\", \"20\", \"21\", \"22\", \"23\", \"24\", \"25\", \"26\", \"27\", \"28\", \"29\", \"30\", \"31\", \"32\", \"33\", \"34\", \"35\", \"36\", \"37\", \"38\", \"41\"], \"mode\": \"lines\", \"name\": \"average_precision_score_macro_max\", \"stepped\": true, \"type\": \"scatter\", \"data\": [0.8812698714605025, 0.8887789045686253, 0.9015789799160467, 0.9174955557697363, 0.9174955557697363, 0.9174955557697363, 0.9174955557697363, 0.9174955557697363, 0.9174955557697363, 0.9174955557697363, 0.9174955557697363, 0.9174955557697363, 0.9174955557697363, 0.9174955557697363, 0.9174955557697363, 0.9174955557697363, 0.9174955557697363, 0.9174955557697363, 0.9174955557697363, 0.9174955557697363, 0.9174955557697363, 0.9174955557697363, 0.9187519430086067, 0.9187519430086067, 0.9187519430086067, 0.9187519430086067, 0.9187519430086067, 0.9187519430086067, 0.9187519430086067, 0.9187519430086067, 0.9187519430086067, 0.9187519430086067, 0.9187519430086067, 0.9187519430086067, 0.9187519430086067, 0.9187519430086067, 0.9187519430086067, 0.9187519430086067, 0.9187519430086067, 0.926570537683543]}], \"AUC_weighted\": [{\"categories\": [\"0\", \"1\", \"2\", \"3\", \"4\", \"5\", \"6\", \"7\", \"8\", \"9\", \"10\", \"11\", \"12\", \"13\", \"14\", \"15\", \"16\", \"17\", \"18\", \"19\", \"20\", \"21\", \"22\", \"23\", \"24\", \"25\", \"26\", \"27\", \"28\", \"29\", \"30\", \"31\", \"32\", \"33\", \"34\", \"35\", \"36\", \"37\", \"38\", \"41\"], \"mode\": \"markers\", \"name\": \"AUC_weighted\", \"stepped\": false, \"type\": \"scatter\", \"data\": [0.8750091661516267, 0.8843791422884855, 0.8951512541090093, 0.9161234868990035, 0.8970046447767693, 0.9005382351628112, 0.8991353568164474, 0.9042518280762191, 0.912567420530726, 0.7100481564095502, 0.9148329543025812, 0.9079696722003227, 0.9038962262597785, 0.8939849243503267, 0.8899109852470938, 0.7269595022216052, 0.9099462015126524, 0.9043908016926826, 0.9054310227066934, 0.8857950976514036, 0.899511798602147, 0.8967072621135217, 0.9173078745696691, 0.8938463511967983, 0.8970274674560829, 0.8900368807823327, 0.8955190366730607, 0.9102311420149842, 0.9059605681946108, 0.907690912917555, 0.6364541372789908, 0.9029466767286687, 0.9072907799935243, 0.9046569945968651, 0.8983253826608745, 0.5597496706192359, 0.9129082515684427, 0.9137792732843613, 0.9066500430052695, 0.9245709187969441]}, {\"categories\": [\"0\", \"1\", \"2\", \"3\", \"4\", \"5\", \"6\", \"7\", \"8\", \"9\", \"10\", \"11\", \"12\", \"13\", \"14\", \"15\", \"16\", \"17\", \"18\", \"19\", \"20\", \"21\", \"22\", \"23\", \"24\", \"25\", \"26\", \"27\", \"28\", \"29\", \"30\", \"31\", \"32\", \"33\", \"34\", \"35\", \"36\", \"37\", \"38\", \"41\"], \"mode\": \"lines\", \"name\": \"AUC_weighted_max\", \"stepped\": true, \"type\": \"scatter\", \"data\": [0.8750091661516267, 0.8843791422884855, 0.8951512541090093, 0.9161234868990035, 0.9161234868990035, 0.9161234868990035, 0.9161234868990035, 0.9161234868990035, 0.9161234868990035, 0.9161234868990035, 0.9161234868990035, 0.9161234868990035, 0.9161234868990035, 0.9161234868990035, 0.9161234868990035, 0.9161234868990035, 0.9161234868990035, 0.9161234868990035, 0.9161234868990035, 0.9161234868990035, 0.9161234868990035, 0.9161234868990035, 0.9173078745696691, 0.9173078745696691, 0.9173078745696691, 0.9173078745696691, 0.9173078745696691, 0.9173078745696691, 0.9173078745696691, 0.9173078745696691, 0.9173078745696691, 0.9173078745696691, 0.9173078745696691, 0.9173078745696691, 0.9173078745696691, 0.9173078745696691, 0.9173078745696691, 0.9173078745696691, 0.9173078745696691, 0.9245709187969441]}], \"precision_score_micro\": [{\"categories\": [\"0\", \"1\", \"2\", \"3\", \"4\", \"5\", \"6\", \"7\", \"8\", \"9\", \"10\", \"11\", \"12\", \"13\", \"14\", \"15\", \"16\", \"17\", \"18\", \"19\", \"20\", \"21\", \"22\", \"23\", \"24\", \"25\", \"26\", \"27\", \"28\", \"29\", \"30\", \"31\", \"32\", \"33\", \"34\", \"35\", \"36\", \"37\", \"38\", \"41\"], \"mode\": \"markers\", \"name\": \"precision_score_micro\", \"stepped\": false, \"type\": \"scatter\", \"data\": [0.7953795379537955, 0.811881188118812, 0.8085808580858086, 0.8448844884488449, 0.8184818481848186, 0.8184818481848186, 0.8283828382838284, 0.8316831683168316, 0.8448844884488449, 0.6798679867986799, 0.8415841584158416, 0.834983498349835, 0.8283828382838285, 0.8052805280528054, 0.8283828382838284, 0.6567656765676567, 0.8184818481848186, 0.8316831683168319, 0.8316831683168316, 0.8019801980198019, 0.8316831683168316, 0.8085808580858087, 0.8514851485148515, 0.8217821782178217, 0.8184818481848186, 0.8019801980198021, 0.8118811881188118, 0.8217821782178217, 0.8283828382838284, 0.8415841584158416, 0.5874587458745874, 0.8250825082508251, 0.8250825082508251, 0.8283828382838284, 0.8085808580858086, 0.5445544554455446, 0.8184818481848186, 0.8316831683168316, 0.8415841584158416, 0.8481848184818482]}, {\"categories\": [\"0\", \"1\", \"2\", \"3\", \"4\", \"5\", \"6\", \"7\", \"8\", \"9\", \"10\", \"11\", \"12\", \"13\", \"14\", \"15\", \"16\", \"17\", \"18\", \"19\", \"20\", \"21\", \"22\", \"23\", \"24\", \"25\", \"26\", \"27\", \"28\", \"29\", \"30\", \"31\", \"32\", \"33\", \"34\", \"35\", \"36\", \"37\", \"38\", \"41\"], \"mode\": \"lines\", \"name\": \"precision_score_micro_max\", \"stepped\": true, \"type\": \"scatter\", \"data\": [0.7953795379537955, 0.811881188118812, 0.811881188118812, 0.8448844884488449, 0.8448844884488449, 0.8448844884488449, 0.8448844884488449, 0.8448844884488449, 0.8448844884488449, 0.8448844884488449, 0.8448844884488449, 0.8448844884488449, 0.8448844884488449, 0.8448844884488449, 0.8448844884488449, 0.8448844884488449, 0.8448844884488449, 0.8448844884488449, 0.8448844884488449, 0.8448844884488449, 0.8448844884488449, 0.8448844884488449, 0.8514851485148515, 0.8514851485148515, 0.8514851485148515, 0.8514851485148515, 0.8514851485148515, 0.8514851485148515, 0.8514851485148515, 0.8514851485148515, 0.8514851485148515, 0.8514851485148515, 0.8514851485148515, 0.8514851485148515, 0.8514851485148515, 0.8514851485148515, 0.8514851485148515, 0.8514851485148515, 0.8514851485148515, 0.8514851485148515]}], \"f1_score_macro\": [{\"categories\": [\"0\", \"1\", \"2\", \"3\", \"4\", \"5\", \"6\", \"7\", \"8\", \"9\", \"10\", \"11\", \"12\", \"13\", \"14\", \"15\", \"16\", \"17\", \"18\", \"19\", \"20\", \"21\", \"22\", \"23\", \"24\", \"25\", \"26\", \"27\", \"28\", \"29\", \"30\", \"31\", \"32\", \"33\", \"34\", \"35\", \"36\", \"37\", \"38\", \"41\"], \"mode\": \"markers\", \"name\": \"f1_score_macro\", \"stepped\": false, \"type\": \"scatter\", \"data\": [0.792179343819198, 0.8090284343869301, 0.8048372987309738, 0.8416601550325878, 0.8152222350741968, 0.8154909433135069, 0.8240772365499994, 0.829474692668096, 0.8420209329636968, 0.675377861566511, 0.8390055161154906, 0.8321731738589456, 0.826401162103549, 0.800764698818463, 0.8262057868720802, 0.6479769982223149, 0.8144684918970997, 0.8296698953559831, 0.8292159469907698, 0.7959507647380984, 0.8293995489623537, 0.80609429245224, 0.8499581233356367, 0.8170441392302648, 0.8151253869750619, 0.79903365130692, 0.8082338599366464, 0.8193728530596589, 0.8228809459049425, 0.8391493589628771, 0.4980563351991923, 0.8203825149198464, 0.8220445887998721, 0.8245872159570728, 0.8050007521901222, 0.35254636580915605, 0.8151711655820181, 0.8282211478969098, 0.8384956232650033, 0.8447423235148249]}, {\"categories\": [\"0\", \"1\", \"2\", \"3\", \"4\", \"5\", \"6\", \"7\", \"8\", \"9\", \"10\", \"11\", \"12\", \"13\", \"14\", \"15\", \"16\", \"17\", \"18\", \"19\", \"20\", \"21\", \"22\", \"23\", \"24\", \"25\", \"26\", \"27\", \"28\", \"29\", \"30\", \"31\", \"32\", \"33\", \"34\", \"35\", \"36\", \"37\", \"38\", \"41\"], \"mode\": \"lines\", \"name\": \"f1_score_macro_max\", \"stepped\": true, \"type\": \"scatter\", \"data\": [0.792179343819198, 0.8090284343869301, 0.8090284343869301, 0.8416601550325878, 0.8416601550325878, 0.8416601550325878, 0.8416601550325878, 0.8416601550325878, 0.8420209329636968, 0.8420209329636968, 0.8420209329636968, 0.8420209329636968, 0.8420209329636968, 0.8420209329636968, 0.8420209329636968, 0.8420209329636968, 0.8420209329636968, 0.8420209329636968, 0.8420209329636968, 0.8420209329636968, 0.8420209329636968, 0.8420209329636968, 0.8499581233356367, 0.8499581233356367, 0.8499581233356367, 0.8499581233356367, 0.8499581233356367, 0.8499581233356367, 0.8499581233356367, 0.8499581233356367, 0.8499581233356367, 0.8499581233356367, 0.8499581233356367, 0.8499581233356367, 0.8499581233356367, 0.8499581233356367, 0.8499581233356367, 0.8499581233356367, 0.8499581233356367, 0.8499581233356367]}]}, \"metricName\": null, \"primaryMetricName\": \"AUC_weighted\", \"showLegend\": false}, \"run_metrics\": [{\"name\": \"experiment_status\", \"run_id\": \"AutoML_b7a4272f-660c-4072-a222-af6fe4a1878d\", \"categories\": [0, 1, 2, 3, 4, 5, 6, 7, 8, 9], \"series\": [{\"data\": [\"DatasetCrossValidationSplit\", \"ModelSelection\", \"BestRunExplainModel\", \"ModelExplanationDataSetSetup\", \"PickSurrogateModel\", \"EngineeredFeatureExplanations\", \"EngineeredFeatureExplanations\", \"RawFeaturesExplanations\", \"RawFeaturesExplanations\", \"BestRunExplainModel\"]}]}, {\"name\": \"experiment_status_description\", \"run_id\": \"AutoML_b7a4272f-660c-4072-a222-af6fe4a1878d\", \"categories\": [0, 1, 2, 3, 4, 5, 6, 7, 8, 9], \"series\": [{\"data\": [\"Generating CV splits.\", \"Beginning model selection.\", \"Best run model explanations started\", \"Model explanations data setup completed\", \"Choosing LightGBM as the surrogate model for explanations\", \"Computation of engineered features started\", \"Computation of engineered features completed\", \"Computation of raw features started\", \"Computation of raw features completed\", \"Best run model explanations completed\"]}]}, {\"name\": \"average_precision_score_macro\", \"run_id\": \"AutoML_b7a4272f-660c-4072-a222-af6fe4a1878d\", \"categories\": [0], \"series\": [{\"data\": [0.926570537683543]}]}, {\"name\": \"matthews_correlation\", \"run_id\": \"AutoML_b7a4272f-660c-4072-a222-af6fe4a1878d\", \"categories\": [0], \"series\": [{\"data\": [0.6943820577562994]}]}, {\"name\": \"balanced_accuracy\", \"run_id\": \"AutoML_b7a4272f-660c-4072-a222-af6fe4a1878d\", \"categories\": [0], \"series\": [{\"data\": [0.8420016353719714]}]}, {\"name\": \"f1_score_micro\", \"run_id\": \"AutoML_b7a4272f-660c-4072-a222-af6fe4a1878d\", \"categories\": [0], \"series\": [{\"data\": [0.8481848184818482]}]}, {\"name\": \"precision_score_macro\", \"run_id\": \"AutoML_b7a4272f-660c-4072-a222-af6fe4a1878d\", \"categories\": [0], \"series\": [{\"data\": [0.8524634683497982]}]}, {\"name\": \"accuracy\", \"run_id\": \"AutoML_b7a4272f-660c-4072-a222-af6fe4a1878d\", \"categories\": [0], \"series\": [{\"data\": [0.8481848184818482]}]}, {\"name\": \"precision_score_weighted\", \"run_id\": \"AutoML_b7a4272f-660c-4072-a222-af6fe4a1878d\", \"categories\": [0], \"series\": [{\"data\": [0.8505326860569458]}]}, {\"name\": \"f1_score_macro\", \"run_id\": \"AutoML_b7a4272f-660c-4072-a222-af6fe4a1878d\", \"categories\": [0], \"series\": [{\"data\": [0.8447423235148249]}]}, {\"name\": \"AUC_micro\", \"run_id\": \"AutoML_b7a4272f-660c-4072-a222-af6fe4a1878d\", \"categories\": [0], \"series\": [{\"data\": [0.9227526713067347]}]}, {\"name\": \"norm_macro_recall\", \"run_id\": \"AutoML_b7a4272f-660c-4072-a222-af6fe4a1878d\", \"categories\": [0], \"series\": [{\"data\": [0.6840032707439428]}]}, {\"name\": \"AUC_macro\", \"run_id\": \"AutoML_b7a4272f-660c-4072-a222-af6fe4a1878d\", \"categories\": [0], \"series\": [{\"data\": [0.9245709187969441]}]}, {\"name\": \"AUC_weighted\", \"run_id\": \"AutoML_b7a4272f-660c-4072-a222-af6fe4a1878d\", \"categories\": [0], \"series\": [{\"data\": [0.9245709187969441]}]}, {\"name\": \"weighted_accuracy\", \"run_id\": \"AutoML_b7a4272f-660c-4072-a222-af6fe4a1878d\", \"categories\": [0], \"series\": [{\"data\": [0.8542554988104948]}]}, {\"name\": \"f1_score_weighted\", \"run_id\": \"AutoML_b7a4272f-660c-4072-a222-af6fe4a1878d\", \"categories\": [0], \"series\": [{\"data\": [0.8469276841884055]}]}, {\"name\": \"average_precision_score_micro\", \"run_id\": \"AutoML_b7a4272f-660c-4072-a222-af6fe4a1878d\", \"categories\": [0], \"series\": [{\"data\": [0.9222358786022634]}]}, {\"name\": \"precision_score_micro\", \"run_id\": \"AutoML_b7a4272f-660c-4072-a222-af6fe4a1878d\", \"categories\": [0], \"series\": [{\"data\": [0.8481848184818482]}]}, {\"name\": \"average_precision_score_weighted\", \"run_id\": \"AutoML_b7a4272f-660c-4072-a222-af6fe4a1878d\", \"categories\": [0], \"series\": [{\"data\": [0.9273000554605774]}]}, {\"name\": \"recall_score_micro\", \"run_id\": \"AutoML_b7a4272f-660c-4072-a222-af6fe4a1878d\", \"categories\": [0], \"series\": [{\"data\": [0.8481848184818482]}]}, {\"name\": \"recall_score_weighted\", \"run_id\": \"AutoML_b7a4272f-660c-4072-a222-af6fe4a1878d\", \"categories\": [0], \"series\": [{\"data\": [0.8481848184818482]}]}, {\"name\": \"recall_score_macro\", \"run_id\": \"AutoML_b7a4272f-660c-4072-a222-af6fe4a1878d\", \"categories\": [0], \"series\": [{\"data\": [0.8420016353719714]}]}, {\"name\": \"log_loss\", \"run_id\": \"AutoML_b7a4272f-660c-4072-a222-af6fe4a1878d\", \"categories\": [0], \"series\": [{\"data\": [0.45872283236951455]}]}], \"run_logs\": \"\\nRun is completed.\", \"graph\": {}, \"widget_settings\": {\"childWidgetDisplay\": \"popup\", \"send_telemetry\": false, \"log_level\": \"INFO\", \"sdk_version\": \"1.20.0\"}, \"loading\": false}"
          },
          "metadata": {}
        },
        {
          "output_type": "stream",
          "name": "stdout",
          "text": [
            "\n",
            "\n",
            "****************************************************************************************************\n",
            "DATA GUARDRAILS: \n",
            "\n",
            "TYPE:         Class balancing detection\n",
            "STATUS:       PASSED\n",
            "DESCRIPTION:  Your inputs were analyzed, and all classes are balanced in your training data.\n",
            "              Learn more about imbalanced data: https://aka.ms/AutomatedMLImbalancedData\n",
            "\n",
            "****************************************************************************************************\n",
            "\n",
            "****************************************************************************************************\n",
            "ITERATION: The iteration being evaluated.\n",
            "PIPELINE: A summary description of the pipeline being evaluated.\n",
            "DURATION: Time taken for the current iteration.\n",
            "METRIC: The result of computing score on the fitted pipeline.\n",
            "BEST: The best observed score thus far.\n",
            "****************************************************************************************************\n",
            "\n",
            " ITERATION   PIPELINE                                       DURATION      METRIC      BEST\n",
            "         0   MaxAbsScaler LightGBM                          0:03:19       0.8750    0.8750\n",
            "         1   MaxAbsScaler XGBoostClassifier                 0:03:13       0.8844    0.8844\n",
            "         2   MinMaxScaler RandomForest                      0:00:57       0.8952    0.8952\n",
            "         3   RobustScaler ExtremeRandomTrees                0:00:57       0.9161    0.9161\n",
            "         4   MinMaxScaler RandomForest                      0:00:49       0.8970    0.9161\n",
            "         5   MinMaxScaler RandomForest                      0:03:20       0.9005    0.9161\n",
            "         6   StandardScalerWrapper RandomForest             0:00:52       0.8991    0.9161\n",
            "         7   MinMaxScaler ExtremeRandomTrees                0:00:52       0.9043    0.9161\n",
            "         8   MinMaxScaler ExtremeRandomTrees                0:00:55       0.9126    0.9161\n",
            "         9   SparseNormalizer KNN                           0:00:53       0.7100    0.9161\n",
            "        10   MinMaxScaler ExtremeRandomTrees                0:00:51       0.9148    0.9161\n",
            "        11   RobustScaler ExtremeRandomTrees                0:00:50       0.9080    0.9161\n",
            "        12   StandardScalerWrapper RandomForest             0:00:58       0.9039    0.9161\n",
            "        13   StandardScalerWrapper SGD                      0:00:51       0.8940    0.9161\n",
            "        14   RobustScaler RandomForest                      0:00:48       0.8899    0.9161\n",
            "        15   StandardScalerWrapper KNN                      0:00:51       0.7270    0.9161\n",
            "        16   MinMaxScaler RandomForest                      0:00:48       0.9099    0.9161\n",
            "        17   MinMaxScaler ExtremeRandomTrees                0:00:54       0.9044    0.9161\n",
            "        18   MaxAbsScaler RandomForest                      0:00:46       0.9054    0.9161\n",
            "        19   StandardScalerWrapper XGBoostClassifier        0:00:57       0.8858    0.9161\n",
            "        20   MaxAbsScaler RandomForest                      0:00:55       0.8995    0.9161\n",
            "        21   MaxAbsScaler ExtremeRandomTrees                0:00:55       0.8967    0.9161\n",
            "        22   MaxAbsScaler ExtremeRandomTrees                0:00:48       0.9173    0.9173\n",
            "        23   StandardScalerWrapper XGBoostClassifier        0:00:54       0.8938    0.9173\n",
            "        24   MaxAbsScaler LogisticRegression                0:00:53       0.8970    0.9173\n",
            "        25   StandardScalerWrapper ExtremeRandomTrees       0:00:57       0.8900    0.9173\n",
            "        26   StandardScalerWrapper XGBoostClassifier        0:00:52       0.8955    0.9173\n",
            "        27   RobustScaler LightGBM                          0:00:59       0.9102    0.9173\n",
            "        28   StandardScalerWrapper LightGBM                 0:00:49       0.9060    0.9173\n",
            "        29   StandardScalerWrapper ExtremeRandomTrees       0:01:00       0.9077    0.9173\n",
            "        30   TruncatedSVDWrapper ExtremeRandomTrees         0:00:54       0.6365    0.9173\n",
            "        31   RobustScaler LightGBM                          0:00:54       0.9029    0.9173\n",
            "        32   StandardScalerWrapper RandomForest             0:00:54       0.9073    0.9173\n",
            "        33   RobustScaler GradientBoosting                  0:00:47       0.9047    0.9173\n",
            "        34   StandardScalerWrapper LogisticRegression       0:00:54       0.8983    0.9173\n",
            "        35   TruncatedSVDWrapper ExtremeRandomTrees         0:00:58       0.5597    0.9173\n",
            "        36   RobustScaler LightGBM                          0:00:48       0.9129    0.9173\n",
            "        37   MaxAbsScaler LightGBM                          0:00:36       0.9138    0.9173\n",
            "        38   RobustScaler LightGBM                          0:00:29       0.9067    0.9173\n",
            "        39                                                  0:00:10          nan    0.9173\n",
            "        40                                                  0:00:07          nan    0.9173\n",
            "        41    VotingEnsemble                                0:01:07       0.9246    0.9246\n"
          ]
        },
        {
          "output_type": "execute_result",
          "execution_count": 65,
          "data": {
            "text/plain": "{'runId': 'AutoML_b7a4272f-660c-4072-a222-af6fe4a1878d',\n 'target': 'cluster-automl',\n 'status': 'Completed',\n 'startTimeUtc': '2021-02-23T20:59:09.547926Z',\n 'endTimeUtc': '2021-02-23T21:32:35.242139Z',\n 'properties': {'num_iterations': '1000',\n  'training_type': 'TrainFull',\n  'acquisition_function': 'EI',\n  'primary_metric': 'AUC_weighted',\n  'train_split': '0',\n  'acquisition_parameter': '0',\n  'num_cross_validation': '3',\n  'target': 'cluster-automl',\n  'AMLSettingsJsonString': '{\"path\":null,\"name\":\"capstone-automl-exp\",\"subscription_id\":\"3e42d11f-d64d-4173-af9b-12ecaa1030b3\",\"resource_group\":\"aml-quickstarts-139398\",\"workspace_name\":\"quick-starts-ws-139398\",\"region\":\"southcentralus\",\"compute_target\":\"cluster-automl\",\"spark_service\":null,\"azure_service\":\"remote\",\"many_models\":false,\"pipeline_fetch_max_batch_size\":1,\"iterations\":1000,\"primary_metric\":\"AUC_weighted\",\"task_type\":\"classification\",\"data_script\":null,\"validation_size\":0.0,\"n_cross_validations\":3,\"y_min\":null,\"y_max\":null,\"num_classes\":null,\"featurization\":\"off\",\"_ignore_package_version_incompatibilities\":false,\"is_timeseries\":false,\"max_cores_per_iteration\":1,\"max_concurrent_iterations\":5,\"iteration_timeout_minutes\":null,\"mem_in_mb\":null,\"enforce_time_on_windows\":false,\"experiment_timeout_minutes\":20,\"experiment_exit_score\":null,\"whitelist_models\":null,\"blacklist_algos\":[\"TensorFlowLinearClassifier\",\"TensorFlowDNN\"],\"supported_models\":[\"ExtremeRandomTrees\",\"XGBoostClassifier\",\"SGD\",\"LightGBM\",\"SVM\",\"MultinomialNaiveBayes\",\"KNN\",\"RandomForest\",\"TensorFlowLinearClassifier\",\"GradientBoosting\",\"AveragedPerceptronClassifier\",\"LogisticRegression\",\"BernoulliNaiveBayes\",\"LinearSVM\",\"DecisionTree\",\"TensorFlowDNN\"],\"auto_blacklist\":true,\"blacklist_samples_reached\":false,\"exclude_nan_labels\":true,\"verbosity\":20,\"_debug_log\":\"azureml_automl.log\",\"show_warnings\":false,\"model_explainability\":true,\"service_url\":null,\"sdk_url\":null,\"sdk_packages\":null,\"enable_onnx_compatible_models\":true,\"enable_split_onnx_featurizer_estimator_models\":false,\"vm_type\":\"STANDARD_D2_V2\",\"telemetry_verbosity\":20,\"send_telemetry\":true,\"enable_dnn\":false,\"scenario\":\"SDK-1.13.0\",\"environment_label\":null,\"force_text_dnn\":false,\"enable_feature_sweeping\":false,\"enable_early_stopping\":true,\"early_stopping_n_iters\":10,\"metrics\":null,\"enable_ensembling\":true,\"enable_stack_ensembling\":false,\"ensemble_iterations\":15,\"enable_tf\":false,\"enable_subsampling\":null,\"subsample_seed\":null,\"enable_nimbusml\":false,\"enable_streaming\":false,\"force_streaming\":false,\"track_child_runs\":true,\"allowed_private_models\":[],\"label_column_name\":\"target\",\"weight_column_name\":null,\"cv_split_column_names\":null,\"enable_local_managed\":false,\"_local_managed_run_id\":null,\"cost_mode\":1,\"lag_length\":0,\"metric_operation\":\"maximize\",\"preprocess\":false}',\n  'DataPrepJsonString': '{\\\\\"training_data\\\\\": \\\\\"{\\\\\\\\\\\\\"blocks\\\\\\\\\\\\\": [{\\\\\\\\\\\\\"id\\\\\\\\\\\\\": \\\\\\\\\\\\\"400d49c9-0784-421c-a6f2-4e29c5bafd6c\\\\\\\\\\\\\", \\\\\\\\\\\\\"type\\\\\\\\\\\\\": \\\\\\\\\\\\\"Microsoft.DPrep.GetFilesBlock\\\\\\\\\\\\\", \\\\\\\\\\\\\"arguments\\\\\\\\\\\\\": {\\\\\\\\\\\\\"isArchive\\\\\\\\\\\\\": false, \\\\\\\\\\\\\"path\\\\\\\\\\\\\": {\\\\\\\\\\\\\"target\\\\\\\\\\\\\": 4, \\\\\\\\\\\\\"resourceDetails\\\\\\\\\\\\\": [{\\\\\\\\\\\\\"path\\\\\\\\\\\\\": \\\\\\\\\\\\\"https://raw.githubusercontent.com/Daniel-car1/nd00333-capstone/main/heart.csv\\\\\\\\\\\\\"}]}}, \\\\\\\\\\\\\"localData\\\\\\\\\\\\\": {}, \\\\\\\\\\\\\"isEnabled\\\\\\\\\\\\\": true, \\\\\\\\\\\\\"name\\\\\\\\\\\\\": null, \\\\\\\\\\\\\"annotation\\\\\\\\\\\\\": null}, {\\\\\\\\\\\\\"id\\\\\\\\\\\\\": \\\\\\\\\\\\\"8178f491-2c59-4edb-8d3e-913b405a4503\\\\\\\\\\\\\", \\\\\\\\\\\\\"type\\\\\\\\\\\\\": \\\\\\\\\\\\\"Microsoft.DPrep.ParseDelimitedBlock\\\\\\\\\\\\\", \\\\\\\\\\\\\"arguments\\\\\\\\\\\\\": {\\\\\\\\\\\\\"columnHeadersMode\\\\\\\\\\\\\": 3, \\\\\\\\\\\\\"fileEncoding\\\\\\\\\\\\\": 0, \\\\\\\\\\\\\"handleQuotedLineBreaks\\\\\\\\\\\\\": false, \\\\\\\\\\\\\"preview\\\\\\\\\\\\\": false, \\\\\\\\\\\\\"separator\\\\\\\\\\\\\": \\\\\\\\\\\\\",\\\\\\\\\\\\\", \\\\\\\\\\\\\"skipRows\\\\\\\\\\\\\": 0, \\\\\\\\\\\\\"skipRowsMode\\\\\\\\\\\\\": 0}, \\\\\\\\\\\\\"localData\\\\\\\\\\\\\": {}, \\\\\\\\\\\\\"isEnabled\\\\\\\\\\\\\": true, \\\\\\\\\\\\\"name\\\\\\\\\\\\\": null, \\\\\\\\\\\\\"annotation\\\\\\\\\\\\\": null}, {\\\\\\\\\\\\\"id\\\\\\\\\\\\\": \\\\\\\\\\\\\"1e3714f8-abf8-4a5e-b508-22848ccbdeed\\\\\\\\\\\\\", \\\\\\\\\\\\\"type\\\\\\\\\\\\\": \\\\\\\\\\\\\"Microsoft.DPrep.DropColumnsBlock\\\\\\\\\\\\\", \\\\\\\\\\\\\"arguments\\\\\\\\\\\\\": {\\\\\\\\\\\\\"columns\\\\\\\\\\\\\": {\\\\\\\\\\\\\"type\\\\\\\\\\\\\": 0, \\\\\\\\\\\\\"details\\\\\\\\\\\\\": {\\\\\\\\\\\\\"selectedColumns\\\\\\\\\\\\\": [\\\\\\\\\\\\\"Path\\\\\\\\\\\\\"]}}}, \\\\\\\\\\\\\"localData\\\\\\\\\\\\\": {}, \\\\\\\\\\\\\"isEnabled\\\\\\\\\\\\\": true, \\\\\\\\\\\\\"name\\\\\\\\\\\\\": null, \\\\\\\\\\\\\"annotation\\\\\\\\\\\\\": null}, {\\\\\\\\\\\\\"id\\\\\\\\\\\\\": \\\\\\\\\\\\\"2e9bc922-32ef-4954-9c24-d306476cc8c3\\\\\\\\\\\\\", \\\\\\\\\\\\\"type\\\\\\\\\\\\\": \\\\\\\\\\\\\"Microsoft.DPrep.SetColumnTypesBlock\\\\\\\\\\\\\", \\\\\\\\\\\\\"arguments\\\\\\\\\\\\\": {\\\\\\\\\\\\\"columnConversion\\\\\\\\\\\\\": [{\\\\\\\\\\\\\"column\\\\\\\\\\\\\": {\\\\\\\\\\\\\"type\\\\\\\\\\\\\": 2, \\\\\\\\\\\\\"details\\\\\\\\\\\\\": {\\\\\\\\\\\\\"selectedColumn\\\\\\\\\\\\\": \\\\\\\\\\\\\"age\\\\\\\\\\\\\"}}, \\\\\\\\\\\\\"typeProperty\\\\\\\\\\\\\": 2}, {\\\\\\\\\\\\\"column\\\\\\\\\\\\\": {\\\\\\\\\\\\\"type\\\\\\\\\\\\\": 2, \\\\\\\\\\\\\"details\\\\\\\\\\\\\": {\\\\\\\\\\\\\"selectedColumn\\\\\\\\\\\\\": \\\\\\\\\\\\\"sex\\\\\\\\\\\\\"}}, \\\\\\\\\\\\\"typeProperty\\\\\\\\\\\\\": 2}, {\\\\\\\\\\\\\"column\\\\\\\\\\\\\": {\\\\\\\\\\\\\"type\\\\\\\\\\\\\": 2, \\\\\\\\\\\\\"details\\\\\\\\\\\\\": {\\\\\\\\\\\\\"selectedColumn\\\\\\\\\\\\\": \\\\\\\\\\\\\"cp\\\\\\\\\\\\\"}}, \\\\\\\\\\\\\"typeProperty\\\\\\\\\\\\\": 2}, {\\\\\\\\\\\\\"column\\\\\\\\\\\\\": {\\\\\\\\\\\\\"type\\\\\\\\\\\\\": 2, \\\\\\\\\\\\\"details\\\\\\\\\\\\\": {\\\\\\\\\\\\\"selectedColumn\\\\\\\\\\\\\": \\\\\\\\\\\\\"trestbps\\\\\\\\\\\\\"}}, \\\\\\\\\\\\\"typeProperty\\\\\\\\\\\\\": 2}, {\\\\\\\\\\\\\"column\\\\\\\\\\\\\": {\\\\\\\\\\\\\"type\\\\\\\\\\\\\": 2, \\\\\\\\\\\\\"details\\\\\\\\\\\\\": {\\\\\\\\\\\\\"selectedColumn\\\\\\\\\\\\\": \\\\\\\\\\\\\"chol\\\\\\\\\\\\\"}}, \\\\\\\\\\\\\"typeProperty\\\\\\\\\\\\\": 2}, {\\\\\\\\\\\\\"column\\\\\\\\\\\\\": {\\\\\\\\\\\\\"type\\\\\\\\\\\\\": 2, \\\\\\\\\\\\\"details\\\\\\\\\\\\\": {\\\\\\\\\\\\\"selectedColumn\\\\\\\\\\\\\": \\\\\\\\\\\\\"fbs\\\\\\\\\\\\\"}}, \\\\\\\\\\\\\"typeProperty\\\\\\\\\\\\\": 2}, {\\\\\\\\\\\\\"column\\\\\\\\\\\\\": {\\\\\\\\\\\\\"type\\\\\\\\\\\\\": 2, \\\\\\\\\\\\\"details\\\\\\\\\\\\\": {\\\\\\\\\\\\\"selectedColumn\\\\\\\\\\\\\": \\\\\\\\\\\\\"restecg\\\\\\\\\\\\\"}}, \\\\\\\\\\\\\"typeProperty\\\\\\\\\\\\\": 2}, {\\\\\\\\\\\\\"column\\\\\\\\\\\\\": {\\\\\\\\\\\\\"type\\\\\\\\\\\\\": 2, \\\\\\\\\\\\\"details\\\\\\\\\\\\\": {\\\\\\\\\\\\\"selectedColumn\\\\\\\\\\\\\": \\\\\\\\\\\\\"thalach\\\\\\\\\\\\\"}}, \\\\\\\\\\\\\"typeProperty\\\\\\\\\\\\\": 2}, {\\\\\\\\\\\\\"column\\\\\\\\\\\\\": {\\\\\\\\\\\\\"type\\\\\\\\\\\\\": 2, \\\\\\\\\\\\\"details\\\\\\\\\\\\\": {\\\\\\\\\\\\\"selectedColumn\\\\\\\\\\\\\": \\\\\\\\\\\\\"exang\\\\\\\\\\\\\"}}, \\\\\\\\\\\\\"typeProperty\\\\\\\\\\\\\": 2}, {\\\\\\\\\\\\\"column\\\\\\\\\\\\\": {\\\\\\\\\\\\\"type\\\\\\\\\\\\\": 2, \\\\\\\\\\\\\"details\\\\\\\\\\\\\": {\\\\\\\\\\\\\"selectedColumn\\\\\\\\\\\\\": \\\\\\\\\\\\\"oldpeak\\\\\\\\\\\\\"}}, \\\\\\\\\\\\\"typeProperty\\\\\\\\\\\\\": 3}, {\\\\\\\\\\\\\"column\\\\\\\\\\\\\": {\\\\\\\\\\\\\"type\\\\\\\\\\\\\": 2, \\\\\\\\\\\\\"details\\\\\\\\\\\\\": {\\\\\\\\\\\\\"selectedColumn\\\\\\\\\\\\\": \\\\\\\\\\\\\"slope\\\\\\\\\\\\\"}}, \\\\\\\\\\\\\"typeProperty\\\\\\\\\\\\\": 2}, {\\\\\\\\\\\\\"column\\\\\\\\\\\\\": {\\\\\\\\\\\\\"type\\\\\\\\\\\\\": 2, \\\\\\\\\\\\\"details\\\\\\\\\\\\\": {\\\\\\\\\\\\\"selectedColumn\\\\\\\\\\\\\": \\\\\\\\\\\\\"ca\\\\\\\\\\\\\"}}, \\\\\\\\\\\\\"typeProperty\\\\\\\\\\\\\": 2}, {\\\\\\\\\\\\\"column\\\\\\\\\\\\\": {\\\\\\\\\\\\\"type\\\\\\\\\\\\\": 2, \\\\\\\\\\\\\"details\\\\\\\\\\\\\": {\\\\\\\\\\\\\"selectedColumn\\\\\\\\\\\\\": \\\\\\\\\\\\\"thal\\\\\\\\\\\\\"}}, \\\\\\\\\\\\\"typeProperty\\\\\\\\\\\\\": 2}, {\\\\\\\\\\\\\"column\\\\\\\\\\\\\": {\\\\\\\\\\\\\"type\\\\\\\\\\\\\": 2, \\\\\\\\\\\\\"details\\\\\\\\\\\\\": {\\\\\\\\\\\\\"selectedColumn\\\\\\\\\\\\\": \\\\\\\\\\\\\"target\\\\\\\\\\\\\"}}, \\\\\\\\\\\\\"typeProperty\\\\\\\\\\\\\": 2}]}, \\\\\\\\\\\\\"localData\\\\\\\\\\\\\": {}, \\\\\\\\\\\\\"isEnabled\\\\\\\\\\\\\": true, \\\\\\\\\\\\\"name\\\\\\\\\\\\\": null, \\\\\\\\\\\\\"annotation\\\\\\\\\\\\\": null}], \\\\\\\\\\\\\"inspectors\\\\\\\\\\\\\": [], \\\\\\\\\\\\\"meta\\\\\\\\\\\\\": {\\\\\\\\\\\\\"savedDatasetId\\\\\\\\\\\\\": \\\\\\\\\\\\\"fd112a9e-1324-4d8d-9649-abc7b4eee6bd\\\\\\\\\\\\\", \\\\\\\\\\\\\"datasetType\\\\\\\\\\\\\": \\\\\\\\\\\\\"tabular\\\\\\\\\\\\\", \\\\\\\\\\\\\"subscriptionId\\\\\\\\\\\\\": \\\\\\\\\\\\\"3e42d11f-d64d-4173-af9b-12ecaa1030b3\\\\\\\\\\\\\", \\\\\\\\\\\\\"workspaceId\\\\\\\\\\\\\": \\\\\\\\\\\\\"5da732ee-2a3a-4828-856b-0832c50fe14f\\\\\\\\\\\\\", \\\\\\\\\\\\\"workspaceLocation\\\\\\\\\\\\\": \\\\\\\\\\\\\"southcentralus\\\\\\\\\\\\\"}}\\\\\", \\\\\"activities\\\\\": 0}',\n  'EnableSubsampling': None,\n  'runTemplate': 'AutoML',\n  'azureml.runsource': 'automl',\n  'display_task_type': 'classification',\n  'dependencies_versions': '{\"azureml-widgets\": \"1.20.0\", \"azureml-train\": \"1.20.0\", \"azureml-train-restclients-hyperdrive\": \"1.20.0\", \"azureml-train-core\": \"1.20.0\", \"azureml-train-automl\": \"1.20.0\", \"azureml-train-automl-runtime\": \"1.20.0\", \"azureml-train-automl-client\": \"1.20.0\", \"azureml-tensorboard\": \"1.20.0\", \"azureml-telemetry\": \"1.20.0\", \"azureml-sdk\": \"1.20.0\", \"azureml-samples\": \"0+unknown\", \"azureml-pipeline\": \"1.20.0\", \"azureml-pipeline-steps\": \"1.20.0\", \"azureml-pipeline-core\": \"1.20.0\", \"azureml-opendatasets\": \"1.20.0\", \"azureml-model-management-sdk\": \"1.0.1b6.post1\", \"azureml-mlflow\": \"1.20.0.post1\", \"azureml-interpret\": \"1.20.0\", \"azureml-explain-model\": \"1.20.0\", \"azureml-defaults\": \"1.20.0\", \"azureml-dataset-runtime\": \"1.20.0\", \"azureml-dataprep\": \"2.7.3\", \"azureml-dataprep-rslex\": \"1.5.0\", \"azureml-dataprep-native\": \"27.0.0\", \"azureml-datadrift\": \"1.20.0\", \"azureml-core\": \"1.20.0\", \"azureml-contrib-services\": \"1.20.0\", \"azureml-contrib-server\": \"1.20.0\", \"azureml-contrib-reinforcementlearning\": \"1.20.0\", \"azureml-contrib-pipeline-steps\": \"1.20.0\", \"azureml-contrib-notebook\": \"1.20.0\", \"azureml-contrib-interpret\": \"1.20.0\", \"azureml-contrib-gbdt\": \"1.20.0\", \"azureml-contrib-fairness\": \"1.20.0\", \"azureml-contrib-dataset\": \"1.20.0\", \"azureml-cli-common\": \"1.20.0\", \"azureml-automl-runtime\": \"1.20.0\", \"azureml-automl-core\": \"1.20.0\", \"azureml-accel-models\": \"1.20.0\"}',\n  '_aml_system_scenario_identification': 'Remote.Parent',\n  'ClientType': 'SDK',\n  'environment_cpu_name': 'AzureML-AutoML',\n  'environment_cpu_label': 'prod',\n  'environment_gpu_name': 'AzureML-AutoML-GPU',\n  'environment_gpu_label': 'prod',\n  'root_attribution': 'automl',\n  'attribution': 'AutoML',\n  'Orchestrator': 'AutoML',\n  'CancelUri': 'https://southcentralus.experiments.azureml.net/jasmine/v1.0/subscriptions/3e42d11f-d64d-4173-af9b-12ecaa1030b3/resourceGroups/aml-quickstarts-139398/providers/Microsoft.MachineLearningServices/workspaces/quick-starts-ws-139398/experimentids/c588b6ce-410b-4d70-b0d7-8e2884c56313/cancel/AutoML_b7a4272f-660c-4072-a222-af6fe4a1878d',\n  'ClientSdkVersion': '1.22.0',\n  'snapshotId': '00000000-0000-0000-0000-000000000000',\n  'SetupRunId': 'AutoML_b7a4272f-660c-4072-a222-af6fe4a1878d_setup',\n  'SetupRunContainerId': 'dcid.AutoML_b7a4272f-660c-4072-a222-af6fe4a1878d_setup',\n  'ProblemInfoJsonString': '{\"dataset_num_categorical\": 0, \"is_sparse\": false, \"subsampling\": false, \"dataset_classes\": 2, \"dataset_features\": 13, \"dataset_samples\": 303, \"single_frequency_class_detected\": false}',\n  'ModelExplainRunId': 'AutoML_b7a4272f-660c-4072-a222-af6fe4a1878d_ModelExplain'},\n 'inputDatasets': [{'dataset': {'id': 'fd112a9e-1324-4d8d-9649-abc7b4eee6bd'}, 'consumptionDetails': {'type': 'RunInput', 'inputName': 'training_data', 'mechanism': 'Direct'}}],\n 'outputDatasets': [],\n 'logFiles': {},\n 'submittedBy': 'ODL_User 139398'}"
          },
          "metadata": {}
        }
      ],
      "execution_count": 65,
      "metadata": {
        "gather": {
          "logged": 1614116170978
        }
      }
    },
    {
      "cell_type": "code",
      "source": [
        "best_model, fitted_model = remote_run.get_output()"
      ],
      "outputs": [
        {
          "output_type": "stream",
          "name": "stderr",
          "text": [
            "WARNING:root:The version of the SDK does not match the version the model was trained on.\n",
            "WARNING:root:The consistency in the result may not be guaranteed.\n",
            "WARNING:root:Package:azureml-automl-core, training version:1.22.0, current version:1.20.0\n",
            "Package:azureml-automl-runtime, training version:1.22.0, current version:1.20.0\n",
            "Package:azureml-core, training version:1.22.0, current version:1.20.0\n",
            "Package:azureml-dataprep, training version:2.9.1, current version:2.7.3\n",
            "Package:azureml-dataprep-native, training version:29.0.0, current version:27.0.0\n",
            "Package:azureml-dataprep-rslex, training version:1.7.0, current version:1.5.0\n",
            "Package:azureml-dataset-runtime, training version:1.22.0, current version:1.20.0\n",
            "Package:azureml-defaults, training version:1.22.0, current version:1.20.0\n",
            "Package:azureml-interpret, training version:1.22.0, current version:1.20.0\n",
            "Package:azureml-pipeline-core, training version:1.22.0, current version:1.20.0\n",
            "Package:azureml-telemetry, training version:1.22.0, current version:1.20.0\n",
            "Package:azureml-train-automl-client, training version:1.22.0, current version:1.20.0\n",
            "Package:azureml-train-automl-runtime, training version:1.22.0, current version:1.20.0\n",
            "WARNING:root:Please ensure the version of your local conda dependencies match the version on which your model was trained in order to properly retrieve your model.\n"
          ]
        }
      ],
      "execution_count": 66,
      "metadata": {
        "gather": {
          "logged": 1614116172054
        }
      }
    },
    {
      "cell_type": "code",
      "source": [
        "print(best_model)"
      ],
      "outputs": [
        {
          "output_type": "stream",
          "name": "stdout",
          "text": [
            "Run(Experiment: capstone-automl-exp,\n",
            "Id: AutoML_b7a4272f-660c-4072-a222-af6fe4a1878d_41,\n",
            "Type: azureml.scriptrun,\n",
            "Status: Completed)\n"
          ]
        }
      ],
      "execution_count": 67,
      "metadata": {
        "gather": {
          "logged": 1614116172517
        }
      }
    },
    {
      "cell_type": "code",
      "source": [
        "print(fitted_model)"
      ],
      "outputs": [
        {
          "output_type": "stream",
          "name": "stdout",
          "text": [
            "Pipeline(memory=None,\n",
            "         steps=[('prefittedsoftvotingclassifier',\n",
            "                 PreFittedSoftVotingClassifier(classification_labels=None,\n",
            "                                               estimators=[('22',\n",
            "                                                            Pipeline(memory=None,\n",
            "                                                                     steps=[('MaxAbsScaler',\n",
            "                                                                             MaxAbsScaler(copy=True)),\n",
            "                                                                            ('ExtraTreesClassifier',\n",
            "                                                                             ExtraTreesClassifier(bootstrap=True,\n",
            "                                                                                                  ccp_alpha=0.0,\n",
            "                                                                                                  class_weight='balanced',\n",
            "                                                                                                  criterion='gini',\n",
            "                                                                                                  max_depth=None,\n",
            "                                                                                                  max_features='l...\n",
            "                                                                                                    min_samples_split=0.10368421052631578,\n",
            "                                                                                                    min_weight_fraction_leaf=0.0,\n",
            "                                                                                                    n_estimators=25,\n",
            "                                                                                                    n_jobs=1,\n",
            "                                                                                                    oob_score=False,\n",
            "                                                                                                    random_state=None,\n",
            "                                                                                                    verbose=0,\n",
            "                                                                                                    warm_start=False))],\n",
            "                                                                     verbose=False))],\n",
            "                                               flatten_transform=None,\n",
            "                                               weights=[0.07692307692307693,\n",
            "                                                        0.3076923076923077,\n",
            "                                                        0.15384615384615385,\n",
            "                                                        0.07692307692307693,\n",
            "                                                        0.07692307692307693,\n",
            "                                                        0.07692307692307693,\n",
            "                                                        0.15384615384615385,\n",
            "                                                        0.07692307692307693]))],\n",
            "         verbose=False)\n"
          ]
        }
      ],
      "execution_count": 68,
      "metadata": {
        "gather": {
          "logged": 1614116172996
        }
      }
    },
    {
      "cell_type": "code",
      "source": [
        "best_model.download_file('outputs/model.pkl', 'outputs/automl_hearth.pkl')\n",
        "best_model.download_file('outputs/scoring_file_v_1_0_0.py', 'outputs/score_aml.py')\n",
        "best_model.download_file('automl_driver.py', 'outputs/automl_driver.py')\n"
      ],
      "outputs": [],
      "execution_count": 69,
      "metadata": {
        "gather": {
          "logged": 1614116173508
        }
      }
    },
    {
      "cell_type": "markdown",
      "source": [
        "## Run Details\n",
        "\n",
        "OPTIONAL: Write about the different models trained and their performance. Why do you think some models did better than others?\n",
        "\n",
        "TODO: In the cell below, use the `RunDetails` widget to show the different experiments."
      ],
      "metadata": {}
    },
    {
      "cell_type": "code",
      "source": [],
      "outputs": [],
      "execution_count": 70,
      "metadata": {
        "gather": {
          "logged": 1614116174013
        },
        "jupyter": {
          "outputs_hidden": false,
          "source_hidden": false
        },
        "nteract": {
          "transient": {
            "deleting": false
          }
        }
      }
    },
    {
      "cell_type": "markdown",
      "source": [
        "## Best Model\n",
        "\n",
        "TODO: In the cell below, get the best model from the automl experiments and display all the properties of the model.\n",
        "\n"
      ],
      "metadata": {}
    },
    {
      "cell_type": "code",
      "source": [],
      "outputs": [],
      "execution_count": 71,
      "metadata": {
        "gather": {
          "logged": 1614116174491
        },
        "jupyter": {
          "outputs_hidden": false,
          "source_hidden": false
        },
        "nteract": {
          "transient": {
            "deleting": false
          }
        }
      }
    },
    {
      "cell_type": "code",
      "source": [],
      "outputs": [],
      "execution_count": null,
      "metadata": {}
    },
    {
      "cell_type": "code",
      "source": [
        "\n",
        "\n",
        "model = best_model.register_model(model_name='best_automl_model', \n",
        "                                        model_path='outputs/model.pkl',\n",
        "                                        tags= {'Training context':'Auto ML'}#,\n",
        "                                        #properties={\n",
        "                                        #     'AUC_weighted':\n",
        "                                        #     get_best_automl_metrics['AUC_weighted']\n",
        "                                        # }\n",
        "                                        # description=\"Training context : AutoML\")\n",
        "                                        )\n",
        "print(model)"
      ],
      "outputs": [
        {
          "output_type": "stream",
          "name": "stdout",
          "text": [
            "Model(workspace=Workspace.create(name='quick-starts-ws-139398', subscription_id='3e42d11f-d64d-4173-af9b-12ecaa1030b3', resource_group='aml-quickstarts-139398'), name=best_automl_model, id=best_automl_model:1, version=1, tags={'Training context': 'Auto ML'}, properties={})\n"
          ]
        }
      ],
      "execution_count": 72,
      "metadata": {
        "gather": {
          "logged": 1614116175026
        }
      }
    },
    {
      "cell_type": "code",
      "source": [],
      "outputs": [],
      "execution_count": null,
      "metadata": {}
    },
    {
      "cell_type": "code",
      "source": [],
      "outputs": [],
      "execution_count": null,
      "metadata": {}
    },
    {
      "cell_type": "code",
      "source": [],
      "outputs": [],
      "execution_count": null,
      "metadata": {}
    },
    {
      "cell_type": "code",
      "source": [
        "import onnxruntime"
      ],
      "outputs": [],
      "execution_count": 73,
      "metadata": {
        "collapsed": true,
        "gather": {
          "logged": 1614116175531
        },
        "jupyter": {
          "outputs_hidden": false,
          "source_hidden": false
        },
        "nteract": {
          "transient": {
            "deleting": false
          }
        }
      }
    },
    {
      "cell_type": "code",
      "source": [
        "best_run, onnx_mdl = remote_run.get_output(return_onnx_model=True)"
      ],
      "outputs": [],
      "execution_count": 74,
      "metadata": {
        "gather": {
          "logged": 1614116343238
        }
      }
    },
    {
      "cell_type": "code",
      "source": [
        "from azureml.automl.runtime.onnx_convert import OnnxConverter\n",
        "onnx_fl_path = \"./best_model.onnx\"\n",
        "OnnxConverter.save_onnx_model(onnx_mdl, onnx_fl_path)\n"
      ],
      "outputs": [],
      "execution_count": 75,
      "metadata": {
        "gather": {
          "logged": 1614116343740
        }
      }
    },
    {
      "cell_type": "code",
      "source": [],
      "outputs": [],
      "execution_count": 76,
      "metadata": {
        "gather": {
          "logged": 1614116344218
        }
      }
    },
    {
      "cell_type": "code",
      "source": [
        "model_name = best_run.properties['model_name']\n",
        "print(best_run)"
      ],
      "outputs": [
        {
          "output_type": "stream",
          "name": "stdout",
          "text": [
            "Run(Experiment: capstone-automl-exp,\n",
            "Id: AutoML_b7a4272f-660c-4072-a222-af6fe4a1878d_41,\n",
            "Type: azureml.scriptrun,\n",
            "Status: Completed)\n"
          ]
        }
      ],
      "execution_count": 77,
      "metadata": {
        "gather": {
          "logged": 1614116344708
        }
      }
    },
    {
      "cell_type": "code",
      "source": [
        "print(fitted_model[-1])"
      ],
      "outputs": [
        {
          "output_type": "stream",
          "name": "stdout",
          "text": [
            "PreFittedSoftVotingClassifier(classification_labels=None,\n",
            "                              estimators=[('22',\n",
            "                                           Pipeline(memory=None,\n",
            "                                                    steps=[('MaxAbsScaler',\n",
            "                                                            MaxAbsScaler(copy=True)),\n",
            "                                                           ('ExtraTreesClassifier',\n",
            "                                                            ExtraTreesClassifier(bootstrap=True,\n",
            "                                                                                 ccp_alpha=0.0,\n",
            "                                                                                 class_weight='balanced',\n",
            "                                                                                 criterion='gini',\n",
            "                                                                                 max_depth=None,\n",
            "                                                                                 max_features='log2',\n",
            "                                                                                 max_leaf_nodes=None,\n",
            "                                                                                 max_samples=None,\n",
            "                                                                                 min_impurity_decrea...\n",
            "                                                                                   min_samples_split=0.10368421052631578,\n",
            "                                                                                   min_weight_fraction_leaf=0.0,\n",
            "                                                                                   n_estimators=25,\n",
            "                                                                                   n_jobs=1,\n",
            "                                                                                   oob_score=False,\n",
            "                                                                                   random_state=None,\n",
            "                                                                                   verbose=0,\n",
            "                                                                                   warm_start=False))],\n",
            "                                                    verbose=False))],\n",
            "                              flatten_transform=None,\n",
            "                              weights=[0.07692307692307693, 0.3076923076923077,\n",
            "                                       0.15384615384615385, 0.07692307692307693,\n",
            "                                       0.07692307692307693, 0.07692307692307693,\n",
            "                                       0.15384615384615385,\n",
            "                                       0.07692307692307693])\n"
          ]
        }
      ],
      "execution_count": 78,
      "metadata": {
        "gather": {
          "logged": 1614116345281
        }
      }
    },
    {
      "cell_type": "code",
      "source": [
        "best_run.get_metrics()"
      ],
      "outputs": [
        {
          "output_type": "execute_result",
          "execution_count": 79,
          "data": {
            "text/plain": "{'AUC_macro': 0.9245709187969441,\n 'log_loss': 0.45872283236951455,\n 'recall_score_macro': 0.8420016353719714,\n 'precision_score_weighted': 0.8505326860569458,\n 'f1_score_weighted': 0.8469276841884055,\n 'AUC_weighted': 0.9245709187969441,\n 'f1_score_macro': 0.8447423235148249,\n 'precision_score_micro': 0.8481848184818482,\n 'AUC_micro': 0.9227526713067347,\n 'norm_macro_recall': 0.6840032707439428,\n 'recall_score_weighted': 0.8481848184818482,\n 'average_precision_score_macro': 0.926570537683543,\n 'precision_score_macro': 0.8524634683497982,\n 'recall_score_micro': 0.8481848184818482,\n 'weighted_accuracy': 0.8542554988104948,\n 'matthews_correlation': 0.6943820577562994,\n 'average_precision_score_weighted': 0.9273000554605774,\n 'accuracy': 0.8481848184818482,\n 'f1_score_micro': 0.8481848184818482,\n 'balanced_accuracy': 0.8420016353719714,\n 'average_precision_score_micro': 0.9222358786022634,\n 'confusion_matrix': 'aml://artifactId/ExperimentRun/dcid.AutoML_b7a4272f-660c-4072-a222-af6fe4a1878d_41/confusion_matrix',\n 'accuracy_table': 'aml://artifactId/ExperimentRun/dcid.AutoML_b7a4272f-660c-4072-a222-af6fe4a1878d_41/accuracy_table'}"
          },
          "metadata": {}
        }
      ],
      "execution_count": 79,
      "metadata": {
        "gather": {
          "logged": 1614116346536
        }
      }
    },
    {
      "cell_type": "code",
      "source": [
        "script_file_name = 'inference/score.py'\n",
        "\n",
        "best_run.download_file('outputs/scoring_file_v_1_0_0.py', 'inference/score.py')"
      ],
      "outputs": [],
      "execution_count": 80,
      "metadata": {
        "gather": {
          "logged": 1614116346973
        }
      }
    },
    {
      "cell_type": "code",
      "source": [],
      "outputs": [],
      "execution_count": null,
      "metadata": {}
    },
    {
      "cell_type": "code",
      "source": [],
      "outputs": [],
      "execution_count": null,
      "metadata": {}
    },
    {
      "cell_type": "code",
      "source": [],
      "outputs": [],
      "execution_count": null,
      "metadata": {}
    },
    {
      "cell_type": "code",
      "source": [
        "#TODO: Save the best model"
      ],
      "outputs": [],
      "execution_count": 81,
      "metadata": {
        "gather": {
          "logged": 1614116347423
        },
        "jupyter": {
          "outputs_hidden": false,
          "source_hidden": false
        },
        "nteract": {
          "transient": {
            "deleting": false
          }
        }
      }
    },
    {
      "cell_type": "code",
      "source": [],
      "outputs": [],
      "execution_count": null,
      "metadata": {}
    },
    {
      "cell_type": "markdown",
      "source": [
        "## Model Deployment\n",
        "\n",
        "Remember you have to deploy only one of the two models you trained.. Perform the steps in the rest of this notebook only if you wish to deploy this model.\n",
        "\n",
        "TODO: In the cell below, register the model, create an inference config and deploy the model as a web service."
      ],
      "metadata": {}
    },
    {
      "cell_type": "code",
      "source": [
        "from azureml.core.model import InferenceConfig\n",
        "from azureml.core.webservice import LocalWebservice, AciWebservice\n",
        "from azureml.core.webservice import Webservice\n",
        "from azureml.core.model import Model\n",
        "from azureml.core.environment import Environment\n",
        "from azureml.core.conda_dependencies import CondaDependencies\n",
        "from azureml.automl.core.shared import constants"
      ],
      "outputs": [],
      "execution_count": 82,
      "metadata": {
        "gather": {
          "logged": 1614116347858
        }
      }
    },
    {
      "cell_type": "code",
      "source": [
        "#Deploy model and check service state\n",
        "deployment_config = AciWebservice.deploy_configuration(\n",
        "    cpu_cores=1,\n",
        "    memory_gb=1,\n",
        "    description='Heart failure prediction', #vielleicht den Text ändern\n",
        "    auth_enabled=True\n",
        ")"
      ],
      "outputs": [],
      "execution_count": 83,
      "metadata": {
        "gather": {
          "logged": 1614116348285
        }
      }
    },
    {
      "cell_type": "code",
      "source": [],
      "outputs": [],
      "execution_count": null,
      "metadata": {
        "collapsed": true,
        "jupyter": {
          "source_hidden": false,
          "outputs_hidden": false
        },
        "nteract": {
          "transient": {
            "deleting": false
          }
        },
        "gather": {
          "logged": 1613670694372
        }
      }
    },
    {
      "cell_type": "code",
      "source": [
        "model = Model(workspace = ws,\r\n",
        "                       model_path='outputs/model.pkl',\r\n",
        "                       name='best_automl_model')"
      ],
      "outputs": [],
      "execution_count": 84,
      "metadata": {
        "gather": {
          "logged": 1614116348744
        }
      }
    },
    {
      "cell_type": "code",
      "source": [],
      "outputs": [],
      "execution_count": null,
      "metadata": {
        "collapsed": true,
        "jupyter": {
          "source_hidden": false,
          "outputs_hidden": false
        },
        "nteract": {
          "transient": {
            "deleting": false
          }
        }
      }
    },
    {
      "cell_type": "code",
      "source": [
        "myenv = best_model.get_environment()\n",
        "best_model.download_file('outputs/scoring_file_v_1_0_0.py', 'score.py')\n",
        "best_model.download_file(constants.CONDA_ENV_FILE_PATH, 'myenv.yml')\n",
        "\n",
        "inference_config = InferenceConfig(entry_script='score.py', environment=myenv)\n",
        "\n",
        "service = Model.deploy(workspace=ws, \n",
        "                       name='aciservice', \n",
        "                       models=[model], \n",
        "                       inference_config=inference_config, \n",
        "                       deployment_config=deployment_config)\n",
        "        \n",
        "# model = Model.register(model_path = \"./models/automl_hearth.pkl\",\n",
        "#                       model_name = \"automl_hearth.pkl\",\n",
        "#                       description = \"Best model trained with AutoML\",\n",
        "#                       workspace = ws, model_framework=Model.Framework.SCIKITLEARN)\n",
        "service.wait_for_deployment(show_output=True)"
      ],
      "outputs": [
        {
          "output_type": "stream",
          "name": "stdout",
          "text": [
            "Tips: You can try get_logs(): https://aka.ms/debugimage#dockerlog or local deployment: https://aka.ms/debugimage#debug-locally to debug if deployment takes longer than 10 minutes.\n",
            "Running....................................\n",
            "Succeeded\n",
            "ACI service creation operation finished, operation \"Succeeded\"\n"
          ]
        }
      ],
      "execution_count": 85,
      "metadata": {
        "gather": {
          "logged": 1614116534992
        }
      }
    },
    {
      "cell_type": "code",
      "source": [
        "#Enable application insights\n",
        "service.update(enable_app_insights = True)"
      ],
      "outputs": [],
      "execution_count": 86,
      "metadata": {
        "gather": {
          "logged": 1614116536968
        }
      }
    },
    {
      "cell_type": "code",
      "source": [
        "print(\"State : \"+service.state)\n",
        "print(\"Key \" + service.get_keys()[0])\n",
        "print(\"Swagger URI : \"+service.swagger_uri)\n",
        "print(\"Scoring URI : \"+service.scoring_uri)"
      ],
      "outputs": [
        {
          "output_type": "stream",
          "name": "stdout",
          "text": [
            "State : Healthy\n",
            "Key QFUB53kwpCXQTkFSAjUx96wtdeqaRNjS\n",
            "Swagger URI : http://5fd5cea9-e482-4282-b8c7-975a94ccfd91.southcentralus.azurecontainer.io/swagger.json\n",
            "Scoring URI : http://5fd5cea9-e482-4282-b8c7-975a94ccfd91.southcentralus.azurecontainer.io/score\n"
          ]
        }
      ],
      "execution_count": 87,
      "metadata": {
        "gather": {
          "logged": 1614116537521
        }
      }
    },
    {
      "cell_type": "code",
      "source": [],
      "outputs": [],
      "execution_count": null,
      "metadata": {}
    },
    {
      "cell_type": "code",
      "source": [],
      "outputs": [],
      "execution_count": null,
      "metadata": {}
    },
    {
      "cell_type": "code",
      "source": [],
      "outputs": [],
      "execution_count": 88,
      "metadata": {
        "gather": {
          "logged": 1614116538022
        }
      }
    },
    {
      "cell_type": "code",
      "source": [],
      "outputs": [],
      "execution_count": 89,
      "metadata": {
        "gather": {
          "logged": 1614116538479
        }
      }
    },
    {
      "cell_type": "code",
      "source": [],
      "outputs": [],
      "execution_count": null,
      "metadata": {
        "gather": {
          "logged": 1613418162305
        }
      }
    },
    {
      "cell_type": "code",
      "source": [
        "\n"
      ],
      "outputs": [],
      "execution_count": 90,
      "metadata": {
        "collapsed": true,
        "gather": {
          "logged": 1614116538981
        },
        "jupyter": {
          "outputs_hidden": false,
          "source_hidden": false
        },
        "nteract": {
          "transient": {
            "deleting": false
          }
        }
      }
    },
    {
      "cell_type": "code",
      "source": [],
      "outputs": [],
      "execution_count": 91,
      "metadata": {
        "collapsed": true,
        "jupyter": {
          "outputs_hidden": false,
          "source_hidden": false
        },
        "nteract": {
          "transient": {
            "deleting": false
          }
        },
        "gather": {
          "logged": 1614116539481
        }
      }
    },
    {
      "cell_type": "code",
      "source": [
        "print(service.get_logs())"
      ],
      "outputs": [
        {
          "output_type": "stream",
          "name": "stdout",
          "text": [
            "2021-02-23T21:41:56,114545400+00:00 - iot-server/run \n",
            "2021-02-23T21:41:56,117673500+00:00 - nginx/run \n",
            "2021-02-23T21:41:56,118597500+00:00 - rsyslog/run \n",
            "2021-02-23T21:41:56,122369100+00:00 - gunicorn/run \n",
            "/usr/sbin/nginx: /azureml-envs/azureml_09ff55f546b313bb1ab136a466214499/lib/libcrypto.so.1.0.0: no version information available (required by /usr/sbin/nginx)\n",
            "/usr/sbin/nginx: /azureml-envs/azureml_09ff55f546b313bb1ab136a466214499/lib/libcrypto.so.1.0.0: no version information available (required by /usr/sbin/nginx)\n",
            "/usr/sbin/nginx: /azureml-envs/azureml_09ff55f546b313bb1ab136a466214499/lib/libssl.so.1.0.0: no version information available (required by /usr/sbin/nginx)\n",
            "/usr/sbin/nginx: /azureml-envs/azureml_09ff55f546b313bb1ab136a466214499/lib/libssl.so.1.0.0: no version information available (required by /usr/sbin/nginx)\n",
            "/usr/sbin/nginx: /azureml-envs/azureml_09ff55f546b313bb1ab136a466214499/lib/libssl.so.1.0.0: no version information available (required by /usr/sbin/nginx)\n",
            "rsyslogd: /azureml-envs/azureml_09ff55f546b313bb1ab136a466214499/lib/libuuid.so.1: no version information available (required by rsyslogd)\n",
            "EdgeHubConnectionString and IOTEDGE_IOTHUBHOSTNAME are not set. Exiting...\n",
            "2021-02-23T21:41:57,860685600+00:00 - iot-server/finish 1 0\n",
            "2021-02-23T21:41:57,869514700+00:00 - Exit code 1 is normal. Not restarting iot-server.\n",
            "Starting gunicorn 19.9.0\n",
            "Listening at: http://127.0.0.1:31311 (67)\n",
            "Using worker: sync\n",
            "worker timeout is set to 300\n",
            "Booting worker with pid: 96\n",
            "SPARK_HOME not set. Skipping PySpark Initialization.\n",
            "Generating new fontManager, this may take some time...\n",
            "Initializing logger\n",
            "2021-02-23 21:42:03,421 | root | INFO | Starting up app insights client\n",
            "2021-02-23 21:42:03,422 | root | INFO | Starting up request id generator\n",
            "2021-02-23 21:42:03,422 | root | INFO | Starting up app insight hooks\n",
            "2021-02-23 21:42:03,422 | root | INFO | Invoking user's init function\n",
            "2021-02-23 21:42:09,219 | root | INFO | Users's init has completed successfully\n",
            "2021-02-23 21:42:09,278 | root | INFO | Skipping middleware: dbg_model_info as it's not enabled.\n",
            "2021-02-23 21:42:09,278 | root | INFO | Skipping middleware: dbg_resource_usage as it's not enabled.\n",
            "2021-02-23 21:42:09,282 | root | INFO | Scoring timeout is found from os.environ: 60000 ms\n",
            "2021-02-23 21:42:09,370 | root | INFO | 200\n",
            "127.0.0.1 - - [23/Feb/2021:21:42:09 +0000] \"GET /swagger.json HTTP/1.0\" 200 2741 \"-\" \"Go-http-client/1.1\"\n",
            "2021-02-23 21:42:13,909 | root | INFO | 200\n",
            "127.0.0.1 - - [23/Feb/2021:21:42:13 +0000] \"GET /swagger.json HTTP/1.0\" 200 2741 \"-\" \"Go-http-client/1.1\"\n",
            "2021-02-23 21:42:15,391 | root | INFO | 200\n",
            "127.0.0.1 - - [23/Feb/2021:21:42:15 +0000] \"GET /swagger.json HTTP/1.0\" 200 2741 \"-\" \"Go-http-client/1.1\"\n",
            "\n"
          ]
        }
      ],
      "execution_count": 92,
      "metadata": {
        "collapsed": true,
        "gather": {
          "logged": 1614116540187
        },
        "jupyter": {
          "outputs_hidden": false,
          "source_hidden": false
        },
        "nteract": {
          "transient": {
            "deleting": false
          }
        }
      }
    },
    {
      "cell_type": "markdown",
      "source": [],
      "metadata": {
        "nteract": {
          "transient": {
            "deleting": false
          }
        }
      }
    },
    {
      "cell_type": "code",
      "source": [
        "#Deploy model and check service state\n",
        "print(service.state)"
      ],
      "outputs": [
        {
          "output_type": "stream",
          "name": "stdout",
          "text": [
            "Healthy\n"
          ]
        }
      ],
      "execution_count": 93,
      "metadata": {
        "gather": {
          "logged": 1614116540684
        }
      }
    },
    {
      "cell_type": "code",
      "source": [
        "print(service.scoring_uri)"
      ],
      "outputs": [
        {
          "output_type": "stream",
          "name": "stdout",
          "text": [
            "http://5fd5cea9-e482-4282-b8c7-975a94ccfd91.southcentralus.azurecontainer.io/score\n"
          ]
        }
      ],
      "execution_count": 94,
      "metadata": {
        "gather": {
          "logged": 1614116541194
        }
      }
    },
    {
      "cell_type": "code",
      "source": [
        "import json\n",
        "import requests\n",
        "\n",
        "scoring_uri = 'http://5fd5cea9-e482-4282-b8c7-975a94ccfd91.southcentralus.azurecontainer.io/score' \n",
        "#key=''\n",
        "headers = {'Content-Type': 'application/json'}\n",
        "# If authentication is enabled, set the authorization header\n",
        "#headers['Authorization'] = f'Bearer {key}'\n",
        "headers['Authorization'] = f'Bearer {service.get_keys()[0]}'\n",
        "\n",
        "data = {\"data\":\n",
        "        [\n",
        "          {\n",
        "            \"age\":37,\n",
        "            \"sex\": 1,\n",
        "            \"cp\": 2,\n",
        "            \"trestbps\": 130,\n",
        "            \"chol\": 250,\n",
        "            \"fbs\": 0,\n",
        "            \"restecg\": 1,\n",
        "            \"thalach\": 187,\n",
        "            \"exang\": 0,\n",
        "            \"oldpeak\": 3.5,\n",
        "            \"slope\": 0,\n",
        "            \"ca\": 0,\n",
        "            \"thal\": 2,\n",
        "          }\n",
        "      ]\n",
        "    }\n",
        "test_sample = json.dumps(data)\n",
        "\n",
        "\n",
        "resp = requests.post(scoring_uri, test_sample, headers=headers)"
      ],
      "outputs": [],
      "execution_count": 115,
      "metadata": {
        "gather": {
          "logged": 1614116621038
        }
      }
    },
    {
      "cell_type": "code",
      "source": [
        "myenv.save_to_directory('./training',overwrite=True)"
      ],
      "outputs": [],
      "execution_count": 116,
      "metadata": {
        "gather": {
          "logged": 1614116629848
        }
      }
    },
    {
      "cell_type": "code",
      "source": [
        "print(resp)"
      ],
      "outputs": [
        {
          "output_type": "stream",
          "name": "stdout",
          "text": [
            "<Response [200]>\n"
          ]
        }
      ],
      "execution_count": 117,
      "metadata": {
        "gather": {
          "logged": 1614116632605
        }
      }
    },
    {
      "cell_type": "code",
      "source": [
        "print(resp.status_code)\n",
        "print(resp.elapsed)\n",
        "print(resp.json())"
      ],
      "outputs": [
        {
          "output_type": "stream",
          "name": "stdout",
          "text": [
            "200\n",
            "0:00:00.211210\n",
            "{\"result\": [1]}\n"
          ]
        }
      ],
      "execution_count": 118,
      "metadata": {
        "gather": {
          "logged": 1614116635387
        }
      }
    },
    {
      "cell_type": "code",
      "source": [
        "print('expected result: ', df['target'][1])"
      ],
      "outputs": [
        {
          "output_type": "stream",
          "name": "stdout",
          "text": [
            "expected result:  1\n"
          ]
        }
      ],
      "execution_count": 119,
      "metadata": {
        "collapsed": true,
        "jupyter": {
          "source_hidden": false,
          "outputs_hidden": false
        },
        "nteract": {
          "transient": {
            "deleting": false
          }
        },
        "gather": {
          "logged": 1614116643947
        }
      }
    },
    {
      "cell_type": "code",
      "source": [
        "print(service.get_logs())"
      ],
      "outputs": [
        {
          "output_type": "stream",
          "name": "stdout",
          "text": [
            "2021-02-23T21:41:56,114545400+00:00 - iot-server/run \n",
            "2021-02-23T21:41:56,117673500+00:00 - nginx/run \n",
            "2021-02-23T21:41:56,118597500+00:00 - rsyslog/run \n",
            "2021-02-23T21:41:56,122369100+00:00 - gunicorn/run \n",
            "/usr/sbin/nginx: /azureml-envs/azureml_09ff55f546b313bb1ab136a466214499/lib/libcrypto.so.1.0.0: no version information available (required by /usr/sbin/nginx)\n",
            "/usr/sbin/nginx: /azureml-envs/azureml_09ff55f546b313bb1ab136a466214499/lib/libcrypto.so.1.0.0: no version information available (required by /usr/sbin/nginx)\n",
            "/usr/sbin/nginx: /azureml-envs/azureml_09ff55f546b313bb1ab136a466214499/lib/libssl.so.1.0.0: no version information available (required by /usr/sbin/nginx)\n",
            "/usr/sbin/nginx: /azureml-envs/azureml_09ff55f546b313bb1ab136a466214499/lib/libssl.so.1.0.0: no version information available (required by /usr/sbin/nginx)\n",
            "/usr/sbin/nginx: /azureml-envs/azureml_09ff55f546b313bb1ab136a466214499/lib/libssl.so.1.0.0: no version information available (required by /usr/sbin/nginx)\n",
            "rsyslogd: /azureml-envs/azureml_09ff55f546b313bb1ab136a466214499/lib/libuuid.so.1: no version information available (required by rsyslogd)\n",
            "EdgeHubConnectionString and IOTEDGE_IOTHUBHOSTNAME are not set. Exiting...\n",
            "2021-02-23T21:41:57,860685600+00:00 - iot-server/finish 1 0\n",
            "2021-02-23T21:41:57,869514700+00:00 - Exit code 1 is normal. Not restarting iot-server.\n",
            "Starting gunicorn 19.9.0\n",
            "Listening at: http://127.0.0.1:31311 (67)\n",
            "Using worker: sync\n",
            "worker timeout is set to 300\n",
            "Booting worker with pid: 96\n",
            "SPARK_HOME not set. Skipping PySpark Initialization.\n",
            "Generating new fontManager, this may take some time...\n",
            "Initializing logger\n",
            "2021-02-23 21:42:03,421 | root | INFO | Starting up app insights client\n",
            "2021-02-23 21:42:03,422 | root | INFO | Starting up request id generator\n",
            "2021-02-23 21:42:03,422 | root | INFO | Starting up app insight hooks\n",
            "2021-02-23 21:42:03,422 | root | INFO | Invoking user's init function\n",
            "2021-02-23 21:42:09,219 | root | INFO | Users's init has completed successfully\n",
            "2021-02-23 21:42:09,278 | root | INFO | Skipping middleware: dbg_model_info as it's not enabled.\n",
            "2021-02-23 21:42:09,278 | root | INFO | Skipping middleware: dbg_resource_usage as it's not enabled.\n",
            "2021-02-23 21:42:09,282 | root | INFO | Scoring timeout is found from os.environ: 60000 ms\n",
            "2021-02-23 21:42:09,370 | root | INFO | 200\n",
            "127.0.0.1 - - [23/Feb/2021:21:42:09 +0000] \"GET /swagger.json HTTP/1.0\" 200 2741 \"-\" \"Go-http-client/1.1\"\n",
            "2021-02-23 21:42:13,909 | root | INFO | 200\n",
            "127.0.0.1 - - [23/Feb/2021:21:42:13 +0000] \"GET /swagger.json HTTP/1.0\" 200 2741 \"-\" \"Go-http-client/1.1\"\n",
            "2021-02-23 21:42:15,391 | root | INFO | 200\n",
            "127.0.0.1 - - [23/Feb/2021:21:42:15 +0000] \"GET /swagger.json HTTP/1.0\" 200 2741 \"-\" \"Go-http-client/1.1\"\n",
            "2021-02-23 21:43:40,575 | root | INFO | Validation Request Content-Type\n",
            "2021-02-23 21:43:40,576 | root | INFO | Scoring Timer is set to 60.0 seconds\n",
            "2021-02-23 21:43:40,732 | root | INFO | 200\n",
            "127.0.0.1 - - [23/Feb/2021:21:43:40 +0000] \"POST /score HTTP/1.0\" 200 19 \"-\" \"python-requests/2.25.1\"\n",
            "\n"
          ]
        }
      ],
      "execution_count": 120,
      "metadata": {
        "gather": {
          "logged": 1614116646587
        }
      }
    },
    {
      "cell_type": "code",
      "source": [
        "#service.delete()"
      ],
      "outputs": [],
      "execution_count": null,
      "metadata": {
        "gather": {
          "logged": 1613671321701
        }
      }
    },
    {
      "cell_type": "code",
      "source": [
        "#compute_target.delete()"
      ],
      "outputs": [],
      "execution_count": null,
      "metadata": {}
    },
    {
      "cell_type": "code",
      "source": [
        "print(finished)"
      ],
      "outputs": [],
      "execution_count": null,
      "metadata": {}
    },
    {
      "cell_type": "code",
      "source": [],
      "outputs": [],
      "execution_count": null,
      "metadata": {}
    },
    {
      "cell_type": "code",
      "source": [],
      "outputs": [],
      "execution_count": null,
      "metadata": {}
    },
    {
      "cell_type": "code",
      "source": [],
      "outputs": [],
      "execution_count": null,
      "metadata": {}
    },
    {
      "cell_type": "code",
      "source": [],
      "outputs": [],
      "execution_count": null,
      "metadata": {}
    },
    {
      "cell_type": "code",
      "source": [],
      "outputs": [],
      "execution_count": null,
      "metadata": {
        "gather": {
          "logged": 1613244524207
        }
      }
    },
    {
      "cell_type": "code",
      "source": [
        "#conda activate myenv"
      ],
      "outputs": [],
      "execution_count": null,
      "metadata": {
        "collapsed": true,
        "gather": {
          "logged": 1613245005642
        },
        "jupyter": {
          "outputs_hidden": false,
          "source_hidden": false
        },
        "nteract": {
          "transient": {
            "deleting": false
          }
        }
      }
    },
    {
      "cell_type": "code",
      "source": [
        "#conda env export > env.yml"
      ],
      "outputs": [],
      "execution_count": null,
      "metadata": {
        "collapsed": true,
        "gather": {
          "logged": 1613245011308
        },
        "jupyter": {
          "outputs_hidden": false,
          "source_hidden": false
        },
        "nteract": {
          "transient": {
            "deleting": false
          }
        }
      }
    },
    {
      "cell_type": "code",
      "source": [
        "#from azureml.automl.core.shared import constants\n",
        "#best_run.download_file(constants.CONDA_ENV_FILE_PATH, 'myenv.yml')"
      ],
      "outputs": [],
      "execution_count": null,
      "metadata": {}
    },
    {
      "cell_type": "code",
      "source": [
        "#from azureml.core import Environment\n",
        "#env = Environment.from_conda_specification(name='myenv',file_path = 'env.yml')\n",
        "\n",
        "\n",
        "\n",
        "#inference_config = InferenceConfig(entry_script='./score.py',\n",
        "#                                    environment=env)\n",
        "\n",
        "#f = open(\"envnew.yml\", \"w\")\n",
        "#f.write(env.python.conda_dependencies.serialize_to_string())\n",
        "#f.close()\n",
        "\n",
        "#print(\"packages\", env.python.conda_dependencies.serialize_to_string())"
      ],
      "outputs": [],
      "execution_count": null,
      "metadata": {}
    },
    {
      "cell_type": "code",
      "source": [
        "#service_name = 'heart_service'\n",
        "\n",
        "#service = Model.deploy(ws, service_name, [model], inference_config, deployment_config=aci_config)"
      ],
      "outputs": [],
      "execution_count": null,
      "metadata": {}
    },
    {
      "cell_type": "code",
      "source": [
        "#service.wait_for_deployment(True)\n",
        "#print(service.state)"
      ],
      "outputs": [],
      "execution_count": null,
      "metadata": {}
    },
    {
      "cell_type": "code",
      "source": [
        "#print(\"scoring URI: \" + service.scoring_uri)"
      ],
      "outputs": [],
      "execution_count": null,
      "metadata": {}
    },
    {
      "cell_type": "code",
      "source": [],
      "outputs": [],
      "execution_count": null,
      "metadata": {}
    },
    {
      "cell_type": "markdown",
      "source": [
        "print(\"Result:\",response.text)"
      ],
      "metadata": {}
    },
    {
      "cell_type": "markdown",
      "source": [
        "print(service.get_logs())"
      ],
      "metadata": {}
    },
    {
      "cell_type": "markdown",
      "source": [
        "print(response.status_code)\n",
        "print(response.elapsed)\n",
        "print(response.json())"
      ],
      "metadata": {}
    },
    {
      "cell_type": "code",
      "source": [],
      "outputs": [],
      "execution_count": null,
      "metadata": {}
    },
    {
      "cell_type": "markdown",
      "source": [
        "service.delete()"
      ],
      "metadata": {}
    },
    {
      "cell_type": "markdown",
      "source": [
        "compute_target.delete()"
      ],
      "metadata": {}
    },
    {
      "cell_type": "code",
      "source": [
        "#Ende"
      ],
      "outputs": [],
      "execution_count": null,
      "metadata": {}
    },
    {
      "cell_type": "code",
      "source": [],
      "outputs": [],
      "execution_count": null,
      "metadata": {}
    },
    {
      "cell_type": "code",
      "source": [],
      "outputs": [],
      "execution_count": null,
      "metadata": {}
    },
    {
      "cell_type": "code",
      "source": [],
      "outputs": [],
      "execution_count": null,
      "metadata": {}
    },
    {
      "cell_type": "code",
      "source": [],
      "outputs": [],
      "execution_count": null,
      "metadata": {}
    },
    {
      "cell_type": "code",
      "source": [
        "# The following cells were changed from code -> markdown"
      ],
      "outputs": [],
      "execution_count": null,
      "metadata": {}
    },
    {
      "cell_type": "markdown",
      "source": [
        "#Register the Fitted Model for Deployment\n",
        "model_name = best_run.properties['model_name']\n",
        "description = 'AutoML Model trained on heart data'\n",
        "tags = None\n",
        "model = remote_run.register_model(model_name = model_name, description = description, tags = tags)\n",
        "\n",
        "print(remote_run.model_id) # This will be written to the script file later in the notebook.  "
      ],
      "metadata": {
        "gather": {
          "logged": 1612987968413
        },
        "jupyter": {
          "outputs_hidden": false,
          "source_hidden": false
        },
        "nteract": {
          "transient": {
            "deleting": false
          }
        }
      }
    },
    {
      "cell_type": "code",
      "source": [],
      "outputs": [],
      "execution_count": null,
      "metadata": {}
    },
    {
      "cell_type": "markdown",
      "source": [
        "from azureml.core.model import InferenceConfig\n",
        "from azureml.core.webservice import AciWebservice\n",
        "from azureml.core.webservice import Webservice\n",
        "from azureml.core.model import Model\n",
        "from azureml.core.environment import Environment\n",
        "from azureml.core.conda_dependencies import CondaDependencies\n",
        "\n",
        "myenv = CondaDependencies.create(pip_packages=[\"numpy\",\"onnxruntime\",\"azureml-core\",\"azrueml-defaults\"])\n",
        "with open(\"myenv.yml\",\"w\") as f:\n",
        "    f.write(myenv.serialize_to_string())\n",
        "\n"
      ],
      "metadata": {
        "gather": {
          "logged": 1612989885633
        }
      }
    },
    {
      "cell_type": "markdown",
      "source": [
        "myenv = Environment.from_conda_specification(name=\"myenv\", file_path=\"myenv.yml\")\n",
        "inference_config = InferenceConfig(entry_script=script_file_name, environment=myenv)\n",
        "\n",
        "aciconfig = AciWebservice.deploy_configuration(cpu_cores = 1, \n",
        "                                               memory_gb = 2, \n",
        "                                               enable_app_insights=True, \n",
        "                                               auth_enabled=True,\n",
        "                                               tags = {'area': \"haData\", 'type': \"automl_classification\"},\n",
        "                                               description = 'service for Automl Classification')\n",
        "\n"
      ],
      "metadata": {
        "collapsed": true,
        "gather": {
          "logged": 1612990168198
        },
        "jupyter": {
          "outputs_hidden": false,
          "source_hidden": false
        },
        "nteract": {
          "transient": {
            "deleting": false
          }
        }
      }
    },
    {
      "cell_type": "markdown",
      "source": [
        "aci_service_name = 'automlheartendpoint2'\n",
        "print(aci_service_name)\n",
        "aci_service = Model.deploy(ws, aci_service_name, [model], inference_config, aciconfig) #,overwrite=True\n",
        "aci_service.wait_for_deployment(show_output=True)\n",
        "print(aci_service.state)"
      ],
      "metadata": {
        "collapsed": true,
        "jupyter": {
          "outputs_hidden": false,
          "source_hidden": false
        },
        "nteract": {
          "transient": {
            "deleting": false
          }
        }
      }
    },
    {
      "cell_type": "markdown",
      "source": [
        "#logging\n",
        "from azureml.core import Workspace\n",
        "from azureml.core.webservice import Webservice\n",
        "#ws = Workspace.from_config()\n",
        "service = Webservice(name=aci_service_name, workspace=ws)\n",
        "logs = service.get_logs()\n",
        "\n",
        "for line in logs.split('\\n'):\n",
        "    print(line)"
      ],
      "metadata": {
        "gather": {
          "logged": 1612990208487
        }
      }
    },
    {
      "cell_type": "code",
      "source": [],
      "outputs": [],
      "execution_count": null,
      "metadata": {}
    },
    {
      "cell_type": "markdown",
      "source": [
        "TODO: In the cell below, send a request to the web service you deployed to test it."
      ],
      "metadata": {
        "collapsed": true,
        "gather": {
          "logged": 1598431657736
        },
        "jupyter": {
          "outputs_hidden": false,
          "source_hidden": false
        },
        "nteract": {
          "transient": {
            "deleting": false
          }
        }
      }
    },
    {
      "cell_type": "code",
      "source": [
        "#den absatz vielleicht wegwerfen?!\n",
        "\n",
        "#import json\n",
        "#import requests\n",
        "\n",
        "#X_test_json = X_test.to_json(orient='records')\n",
        "#data = \"{\\\"data\\\": \" + X_test_json +\"}\"\n",
        "#headers = {'Content-Type': 'application/json'}\n",
        "\n",
        "#resp = requests.post(aci_service.scoring_uri, data, headers=headers)\n",
        "\n",
        "#y_pred = json.loads(json.loads(resp.text))['result']"
      ],
      "outputs": [],
      "execution_count": null,
      "metadata": {
        "gather": {
          "logged": 1612990534958
        },
        "jupyter": {
          "outputs_hidden": false,
          "source_hidden": false
        },
        "nteract": {
          "transient": {
            "deleting": false
          }
        }
      }
    },
    {
      "cell_type": "code",
      "source": [],
      "outputs": [],
      "execution_count": null,
      "metadata": {}
    },
    {
      "cell_type": "markdown",
      "source": [
        "import json\n",
        "import requests\n",
        "\n",
        "scoring_uri = aci_service.scoring_uri() \n",
        "#key=''\n",
        "headers = {'Content-Type': 'application/json'}\n",
        "# If authentication is enabled, set the authorization header\n",
        "#headers['Authorization'] = f'Bearer {key}'\n",
        "data = {\"data\":\n",
        "        [\n",
        "          {\n",
        "            \"age\":37,\n",
        "            \"sex\": 1,\n",
        "            \"cp\": 2,\n",
        "            \"trestbps\": 130,\n",
        "            \"chol\": 250,\n",
        "            \"fbs\": 0,\n",
        "            \"restecg\": 1,\n",
        "            \"thalach\": 187,\n",
        "            \"exang\": 0,\n",
        "            \"oldpeak\": 3.5,\n",
        "            \"slope\": 0,\n",
        "            \"ca\": 0,\n",
        "            \"thal\": 2,\n",
        "          }\n",
        "      ]\n",
        "    }\n",
        "test_sample = json.dumps(data)\n",
        "\n",
        "\n",
        "resp = requests.post(scoring_uri, test_sample, headers=headers)\n"
      ],
      "metadata": {}
    },
    {
      "cell_type": "markdown",
      "source": [
        "print(\"prediction \", resp.json())"
      ],
      "metadata": {}
    },
    {
      "cell_type": "markdown",
      "source": [
        "y_pred = json.loads(json.loads(resp.text))['result']\n",
        "print(\"prediction \", y_pred)"
      ],
      "metadata": {}
    },
    {
      "cell_type": "markdown",
      "source": [
        "print(\"expected result: 1\")"
      ],
      "metadata": {}
    },
    {
      "cell_type": "markdown",
      "source": [
        "TODO: In the cell below, print the logs of the web service and delete the service"
      ],
      "metadata": {
        "collapsed": true,
        "gather": {
          "logged": 1598432765711
        },
        "jupyter": {
          "outputs_hidden": false,
          "source_hidden": false
        },
        "nteract": {
          "transient": {
            "deleting": false
          }
        }
      }
    },
    {
      "cell_type": "markdown",
      "source": [
        "logs = service.get_logs()\n",
        "for line in logs.split('\\n'):\n",
        "    print(line)"
      ],
      "metadata": {
        "jupyter": {
          "outputs_hidden": false,
          "source_hidden": false
        },
        "nteract": {
          "transient": {
            "deleting": false
          }
        }
      }
    },
    {
      "cell_type": "markdown",
      "source": [
        "service.delete()"
      ],
      "metadata": {}
    },
    {
      "cell_type": "markdown",
      "source": [
        "compute_target.delete()"
      ],
      "metadata": {}
    },
    {
      "cell_type": "code",
      "source": [],
      "outputs": [],
      "execution_count": null,
      "metadata": {}
    },
    {
      "cell_type": "markdown",
      "source": [
        "print('finished')"
      ],
      "metadata": {}
    }
  ],
  "metadata": {
    "kernel_info": {
      "name": "python3"
    },
    "kernelspec": {
      "name": "python3",
      "language": "python",
      "display_name": "Python 3"
    },
    "language_info": {
      "name": "python",
      "version": "3.6.9",
      "mimetype": "text/x-python",
      "codemirror_mode": {
        "name": "ipython",
        "version": 3
      },
      "pygments_lexer": "ipython3",
      "nbconvert_exporter": "python",
      "file_extension": ".py"
    },
    "nteract": {
      "version": "nteract-front-end@1.0.0"
    }
  },
  "nbformat": 4,
  "nbformat_minor": 2
}